{
 "cells": [
  {
   "cell_type": "markdown",
   "metadata": {},
   "source": [
    "# Clustering Crypto"
   ]
  },
  {
   "cell_type": "code",
   "execution_count": 7,
   "metadata": {},
   "outputs": [],
   "source": [
    "# Initial imports\n",
    "import pandas as pd\n",
    "import hvplot.pandas\n",
    "from path import Path\n",
    "import plotly.express as px\n",
    "from sklearn.preprocessing import StandardScaler, MinMaxScaler\n",
    "from sklearn.decomposition import PCA\n",
    "from sklearn.cluster import KMeans"
   ]
  },
  {
   "cell_type": "markdown",
   "metadata": {},
   "source": [
    "### Deliverable 1: Preprocessing the Data for PCA"
   ]
  },
  {
   "cell_type": "code",
   "execution_count": 46,
   "metadata": {},
   "outputs": [
    {
     "data": {
      "text/html": [
       "<div>\n",
       "<style scoped>\n",
       "    .dataframe tbody tr th:only-of-type {\n",
       "        vertical-align: middle;\n",
       "    }\n",
       "\n",
       "    .dataframe tbody tr th {\n",
       "        vertical-align: top;\n",
       "    }\n",
       "\n",
       "    .dataframe thead th {\n",
       "        text-align: right;\n",
       "    }\n",
       "</style>\n",
       "<table border=\"1\" class=\"dataframe\">\n",
       "  <thead>\n",
       "    <tr style=\"text-align: right;\">\n",
       "      <th></th>\n",
       "      <th>CoinName</th>\n",
       "      <th>Algorithm</th>\n",
       "      <th>IsTrading</th>\n",
       "      <th>ProofType</th>\n",
       "      <th>TotalCoinsMined</th>\n",
       "      <th>TotalCoinSupply</th>\n",
       "    </tr>\n",
       "  </thead>\n",
       "  <tbody>\n",
       "    <tr>\n",
       "      <th>42</th>\n",
       "      <td>42 Coin</td>\n",
       "      <td>Scrypt</td>\n",
       "      <td>True</td>\n",
       "      <td>PoW/PoS</td>\n",
       "      <td>4.199995e+01</td>\n",
       "      <td>42</td>\n",
       "    </tr>\n",
       "    <tr>\n",
       "      <th>365</th>\n",
       "      <td>365Coin</td>\n",
       "      <td>X11</td>\n",
       "      <td>True</td>\n",
       "      <td>PoW/PoS</td>\n",
       "      <td>NaN</td>\n",
       "      <td>2300000000</td>\n",
       "    </tr>\n",
       "    <tr>\n",
       "      <th>404</th>\n",
       "      <td>404Coin</td>\n",
       "      <td>Scrypt</td>\n",
       "      <td>True</td>\n",
       "      <td>PoW/PoS</td>\n",
       "      <td>1.055185e+09</td>\n",
       "      <td>532000000</td>\n",
       "    </tr>\n",
       "    <tr>\n",
       "      <th>611</th>\n",
       "      <td>SixEleven</td>\n",
       "      <td>SHA-256</td>\n",
       "      <td>True</td>\n",
       "      <td>PoW</td>\n",
       "      <td>NaN</td>\n",
       "      <td>611000</td>\n",
       "    </tr>\n",
       "    <tr>\n",
       "      <th>808</th>\n",
       "      <td>808</td>\n",
       "      <td>SHA-256</td>\n",
       "      <td>True</td>\n",
       "      <td>PoW/PoS</td>\n",
       "      <td>0.000000e+00</td>\n",
       "      <td>0</td>\n",
       "    </tr>\n",
       "    <tr>\n",
       "      <th>1337</th>\n",
       "      <td>EliteCoin</td>\n",
       "      <td>X13</td>\n",
       "      <td>True</td>\n",
       "      <td>PoW/PoS</td>\n",
       "      <td>2.927942e+10</td>\n",
       "      <td>314159265359</td>\n",
       "    </tr>\n",
       "    <tr>\n",
       "      <th>2015</th>\n",
       "      <td>2015 coin</td>\n",
       "      <td>X11</td>\n",
       "      <td>True</td>\n",
       "      <td>PoW/PoS</td>\n",
       "      <td>NaN</td>\n",
       "      <td>0</td>\n",
       "    </tr>\n",
       "    <tr>\n",
       "      <th>BTC</th>\n",
       "      <td>Bitcoin</td>\n",
       "      <td>SHA-256</td>\n",
       "      <td>True</td>\n",
       "      <td>PoW</td>\n",
       "      <td>1.792718e+07</td>\n",
       "      <td>21000000</td>\n",
       "    </tr>\n",
       "    <tr>\n",
       "      <th>ETH</th>\n",
       "      <td>Ethereum</td>\n",
       "      <td>Ethash</td>\n",
       "      <td>True</td>\n",
       "      <td>PoW</td>\n",
       "      <td>1.076842e+08</td>\n",
       "      <td>0</td>\n",
       "    </tr>\n",
       "    <tr>\n",
       "      <th>LTC</th>\n",
       "      <td>Litecoin</td>\n",
       "      <td>Scrypt</td>\n",
       "      <td>True</td>\n",
       "      <td>PoW</td>\n",
       "      <td>6.303924e+07</td>\n",
       "      <td>84000000</td>\n",
       "    </tr>\n",
       "    <tr>\n",
       "      <th>DASH</th>\n",
       "      <td>Dash</td>\n",
       "      <td>X11</td>\n",
       "      <td>True</td>\n",
       "      <td>PoW/PoS</td>\n",
       "      <td>9.031294e+06</td>\n",
       "      <td>22000000</td>\n",
       "    </tr>\n",
       "    <tr>\n",
       "      <th>XMR</th>\n",
       "      <td>Monero</td>\n",
       "      <td>CryptoNight-V7</td>\n",
       "      <td>True</td>\n",
       "      <td>PoW</td>\n",
       "      <td>1.720114e+07</td>\n",
       "      <td>0</td>\n",
       "    </tr>\n",
       "    <tr>\n",
       "      <th>ETC</th>\n",
       "      <td>Ethereum Classic</td>\n",
       "      <td>Ethash</td>\n",
       "      <td>True</td>\n",
       "      <td>PoW</td>\n",
       "      <td>1.133597e+08</td>\n",
       "      <td>210000000</td>\n",
       "    </tr>\n",
       "    <tr>\n",
       "      <th>ZEC</th>\n",
       "      <td>ZCash</td>\n",
       "      <td>Equihash</td>\n",
       "      <td>True</td>\n",
       "      <td>PoW</td>\n",
       "      <td>7.383056e+06</td>\n",
       "      <td>21000000</td>\n",
       "    </tr>\n",
       "    <tr>\n",
       "      <th>BTS</th>\n",
       "      <td>Bitshares</td>\n",
       "      <td>SHA-512</td>\n",
       "      <td>True</td>\n",
       "      <td>PoS</td>\n",
       "      <td>2.741570e+09</td>\n",
       "      <td>3600570502</td>\n",
       "    </tr>\n",
       "    <tr>\n",
       "      <th>DGB</th>\n",
       "      <td>DigiByte</td>\n",
       "      <td>Multiple</td>\n",
       "      <td>True</td>\n",
       "      <td>PoW</td>\n",
       "      <td>1.140622e+10</td>\n",
       "      <td>21000000000</td>\n",
       "    </tr>\n",
       "    <tr>\n",
       "      <th>BTCD</th>\n",
       "      <td>BitcoinDark</td>\n",
       "      <td>SHA-256</td>\n",
       "      <td>True</td>\n",
       "      <td>PoW/PoS</td>\n",
       "      <td>1.288862e+06</td>\n",
       "      <td>22000000</td>\n",
       "    </tr>\n",
       "    <tr>\n",
       "      <th>CRAIG</th>\n",
       "      <td>CraigsCoin</td>\n",
       "      <td>X11</td>\n",
       "      <td>True</td>\n",
       "      <td>PoS</td>\n",
       "      <td>NaN</td>\n",
       "      <td>30000000</td>\n",
       "    </tr>\n",
       "    <tr>\n",
       "      <th>XBS</th>\n",
       "      <td>Bitstake</td>\n",
       "      <td>X11</td>\n",
       "      <td>True</td>\n",
       "      <td>PoW/PoS</td>\n",
       "      <td>0.000000e+00</td>\n",
       "      <td>1300000</td>\n",
       "    </tr>\n",
       "    <tr>\n",
       "      <th>XPY</th>\n",
       "      <td>PayCoin</td>\n",
       "      <td>SHA-256</td>\n",
       "      <td>True</td>\n",
       "      <td>PoS</td>\n",
       "      <td>1.199533e+07</td>\n",
       "      <td>12500000</td>\n",
       "    </tr>\n",
       "  </tbody>\n",
       "</table>\n",
       "</div>"
      ],
      "text/plain": [
       "               CoinName       Algorithm  IsTrading ProofType  TotalCoinsMined  \\\n",
       "42              42 Coin          Scrypt       True   PoW/PoS     4.199995e+01   \n",
       "365             365Coin             X11       True   PoW/PoS              NaN   \n",
       "404             404Coin          Scrypt       True   PoW/PoS     1.055185e+09   \n",
       "611           SixEleven         SHA-256       True       PoW              NaN   \n",
       "808                 808         SHA-256       True   PoW/PoS     0.000000e+00   \n",
       "1337          EliteCoin             X13       True   PoW/PoS     2.927942e+10   \n",
       "2015          2015 coin             X11       True   PoW/PoS              NaN   \n",
       "BTC             Bitcoin         SHA-256       True       PoW     1.792718e+07   \n",
       "ETH            Ethereum          Ethash       True       PoW     1.076842e+08   \n",
       "LTC            Litecoin          Scrypt       True       PoW     6.303924e+07   \n",
       "DASH               Dash             X11       True   PoW/PoS     9.031294e+06   \n",
       "XMR              Monero  CryptoNight-V7       True       PoW     1.720114e+07   \n",
       "ETC    Ethereum Classic          Ethash       True       PoW     1.133597e+08   \n",
       "ZEC               ZCash        Equihash       True       PoW     7.383056e+06   \n",
       "BTS           Bitshares         SHA-512       True       PoS     2.741570e+09   \n",
       "DGB            DigiByte        Multiple       True       PoW     1.140622e+10   \n",
       "BTCD        BitcoinDark         SHA-256       True   PoW/PoS     1.288862e+06   \n",
       "CRAIG        CraigsCoin             X11       True       PoS              NaN   \n",
       "XBS            Bitstake             X11       True   PoW/PoS     0.000000e+00   \n",
       "XPY             PayCoin         SHA-256       True       PoS     1.199533e+07   \n",
       "\n",
       "      TotalCoinSupply  \n",
       "42                 42  \n",
       "365        2300000000  \n",
       "404         532000000  \n",
       "611            611000  \n",
       "808                 0  \n",
       "1337     314159265359  \n",
       "2015                0  \n",
       "BTC          21000000  \n",
       "ETH                 0  \n",
       "LTC          84000000  \n",
       "DASH         22000000  \n",
       "XMR                 0  \n",
       "ETC         210000000  \n",
       "ZEC          21000000  \n",
       "BTS        3600570502  \n",
       "DGB       21000000000  \n",
       "BTCD         22000000  \n",
       "CRAIG        30000000  \n",
       "XBS           1300000  \n",
       "XPY          12500000  "
      ]
     },
     "execution_count": 46,
     "metadata": {},
     "output_type": "execute_result"
    }
   ],
   "source": [
    "# Load the crypto_data.csv dataset.\n",
    "file_path = ('crypto_data.csv')\n",
    "crypto_df = pd.read_csv(file_path, index_col=0)\n",
    "crypto_df.head(20)"
   ]
  },
  {
   "cell_type": "code",
   "execution_count": 47,
   "metadata": {},
   "outputs": [
    {
     "data": {
      "text/plain": [
       "(1144, 6)"
      ]
     },
     "execution_count": 47,
     "metadata": {},
     "output_type": "execute_result"
    }
   ],
   "source": [
    "# Keep all the cryptocurrencies that are being traded.\n",
    "crypto_df = crypto_df[crypto_df['IsTrading'] == True]\n",
    "crypto_df.shape"
   ]
  },
  {
   "cell_type": "code",
   "execution_count": 48,
   "metadata": {},
   "outputs": [
    {
     "name": "stdout",
     "output_type": "stream",
     "text": [
      "0\n"
     ]
    }
   ],
   "source": [
    "# Keep all the cryptocurrencies that have a working algorithm.\n",
    "print(crypto_df['Algorithm'].isnull().sum())"
   ]
  },
  {
   "cell_type": "code",
   "execution_count": 49,
   "metadata": {},
   "outputs": [
    {
     "data": {
      "text/html": [
       "<div>\n",
       "<style scoped>\n",
       "    .dataframe tbody tr th:only-of-type {\n",
       "        vertical-align: middle;\n",
       "    }\n",
       "\n",
       "    .dataframe tbody tr th {\n",
       "        vertical-align: top;\n",
       "    }\n",
       "\n",
       "    .dataframe thead th {\n",
       "        text-align: right;\n",
       "    }\n",
       "</style>\n",
       "<table border=\"1\" class=\"dataframe\">\n",
       "  <thead>\n",
       "    <tr style=\"text-align: right;\">\n",
       "      <th></th>\n",
       "      <th>CoinName</th>\n",
       "      <th>Algorithm</th>\n",
       "      <th>ProofType</th>\n",
       "      <th>TotalCoinsMined</th>\n",
       "      <th>TotalCoinSupply</th>\n",
       "    </tr>\n",
       "  </thead>\n",
       "  <tbody>\n",
       "    <tr>\n",
       "      <th>42</th>\n",
       "      <td>42 Coin</td>\n",
       "      <td>Scrypt</td>\n",
       "      <td>PoW/PoS</td>\n",
       "      <td>4.199995e+01</td>\n",
       "      <td>42</td>\n",
       "    </tr>\n",
       "    <tr>\n",
       "      <th>365</th>\n",
       "      <td>365Coin</td>\n",
       "      <td>X11</td>\n",
       "      <td>PoW/PoS</td>\n",
       "      <td>NaN</td>\n",
       "      <td>2300000000</td>\n",
       "    </tr>\n",
       "    <tr>\n",
       "      <th>404</th>\n",
       "      <td>404Coin</td>\n",
       "      <td>Scrypt</td>\n",
       "      <td>PoW/PoS</td>\n",
       "      <td>1.055185e+09</td>\n",
       "      <td>532000000</td>\n",
       "    </tr>\n",
       "    <tr>\n",
       "      <th>611</th>\n",
       "      <td>SixEleven</td>\n",
       "      <td>SHA-256</td>\n",
       "      <td>PoW</td>\n",
       "      <td>NaN</td>\n",
       "      <td>611000</td>\n",
       "    </tr>\n",
       "    <tr>\n",
       "      <th>808</th>\n",
       "      <td>808</td>\n",
       "      <td>SHA-256</td>\n",
       "      <td>PoW/PoS</td>\n",
       "      <td>0.000000e+00</td>\n",
       "      <td>0</td>\n",
       "    </tr>\n",
       "    <tr>\n",
       "      <th>1337</th>\n",
       "      <td>EliteCoin</td>\n",
       "      <td>X13</td>\n",
       "      <td>PoW/PoS</td>\n",
       "      <td>2.927942e+10</td>\n",
       "      <td>314159265359</td>\n",
       "    </tr>\n",
       "    <tr>\n",
       "      <th>2015</th>\n",
       "      <td>2015 coin</td>\n",
       "      <td>X11</td>\n",
       "      <td>PoW/PoS</td>\n",
       "      <td>NaN</td>\n",
       "      <td>0</td>\n",
       "    </tr>\n",
       "    <tr>\n",
       "      <th>BTC</th>\n",
       "      <td>Bitcoin</td>\n",
       "      <td>SHA-256</td>\n",
       "      <td>PoW</td>\n",
       "      <td>1.792718e+07</td>\n",
       "      <td>21000000</td>\n",
       "    </tr>\n",
       "    <tr>\n",
       "      <th>ETH</th>\n",
       "      <td>Ethereum</td>\n",
       "      <td>Ethash</td>\n",
       "      <td>PoW</td>\n",
       "      <td>1.076842e+08</td>\n",
       "      <td>0</td>\n",
       "    </tr>\n",
       "    <tr>\n",
       "      <th>LTC</th>\n",
       "      <td>Litecoin</td>\n",
       "      <td>Scrypt</td>\n",
       "      <td>PoW</td>\n",
       "      <td>6.303924e+07</td>\n",
       "      <td>84000000</td>\n",
       "    </tr>\n",
       "  </tbody>\n",
       "</table>\n",
       "</div>"
      ],
      "text/plain": [
       "       CoinName Algorithm ProofType  TotalCoinsMined TotalCoinSupply\n",
       "42      42 Coin    Scrypt   PoW/PoS     4.199995e+01              42\n",
       "365     365Coin       X11   PoW/PoS              NaN      2300000000\n",
       "404     404Coin    Scrypt   PoW/PoS     1.055185e+09       532000000\n",
       "611   SixEleven   SHA-256       PoW              NaN          611000\n",
       "808         808   SHA-256   PoW/PoS     0.000000e+00               0\n",
       "1337  EliteCoin       X13   PoW/PoS     2.927942e+10    314159265359\n",
       "2015  2015 coin       X11   PoW/PoS              NaN               0\n",
       "BTC     Bitcoin   SHA-256       PoW     1.792718e+07        21000000\n",
       "ETH    Ethereum    Ethash       PoW     1.076842e+08               0\n",
       "LTC    Litecoin    Scrypt       PoW     6.303924e+07        84000000"
      ]
     },
     "execution_count": 49,
     "metadata": {},
     "output_type": "execute_result"
    }
   ],
   "source": [
    "# Remove the \"IsTrading\" column. \n",
    "crypto_df = crypto_df.drop(['IsTrading'], axis = 1)\n",
    "crypto_df.head(10)"
   ]
  },
  {
   "cell_type": "code",
   "execution_count": 51,
   "metadata": {},
   "outputs": [
    {
     "name": "stdout",
     "output_type": "stream",
     "text": [
      "Column CoinName has 0 null values\n",
      "Column Algorithm has 0 null values\n",
      "Column ProofType has 0 null values\n",
      "Column TotalCoinsMined has 459 null values\n",
      "Column TotalCoinSupply has 0 null values\n"
     ]
    },
    {
     "data": {
      "text/html": [
       "<div>\n",
       "<style scoped>\n",
       "    .dataframe tbody tr th:only-of-type {\n",
       "        vertical-align: middle;\n",
       "    }\n",
       "\n",
       "    .dataframe tbody tr th {\n",
       "        vertical-align: top;\n",
       "    }\n",
       "\n",
       "    .dataframe thead th {\n",
       "        text-align: right;\n",
       "    }\n",
       "</style>\n",
       "<table border=\"1\" class=\"dataframe\">\n",
       "  <thead>\n",
       "    <tr style=\"text-align: right;\">\n",
       "      <th></th>\n",
       "      <th>CoinName</th>\n",
       "      <th>Algorithm</th>\n",
       "      <th>ProofType</th>\n",
       "      <th>TotalCoinsMined</th>\n",
       "      <th>TotalCoinSupply</th>\n",
       "    </tr>\n",
       "  </thead>\n",
       "  <tbody>\n",
       "    <tr>\n",
       "      <th>42</th>\n",
       "      <td>42 Coin</td>\n",
       "      <td>Scrypt</td>\n",
       "      <td>PoW/PoS</td>\n",
       "      <td>4.199995e+01</td>\n",
       "      <td>42</td>\n",
       "    </tr>\n",
       "    <tr>\n",
       "      <th>404</th>\n",
       "      <td>404Coin</td>\n",
       "      <td>Scrypt</td>\n",
       "      <td>PoW/PoS</td>\n",
       "      <td>1.055185e+09</td>\n",
       "      <td>532000000</td>\n",
       "    </tr>\n",
       "    <tr>\n",
       "      <th>808</th>\n",
       "      <td>808</td>\n",
       "      <td>SHA-256</td>\n",
       "      <td>PoW/PoS</td>\n",
       "      <td>0.000000e+00</td>\n",
       "      <td>0</td>\n",
       "    </tr>\n",
       "    <tr>\n",
       "      <th>1337</th>\n",
       "      <td>EliteCoin</td>\n",
       "      <td>X13</td>\n",
       "      <td>PoW/PoS</td>\n",
       "      <td>2.927942e+10</td>\n",
       "      <td>314159265359</td>\n",
       "    </tr>\n",
       "    <tr>\n",
       "      <th>BTC</th>\n",
       "      <td>Bitcoin</td>\n",
       "      <td>SHA-256</td>\n",
       "      <td>PoW</td>\n",
       "      <td>1.792718e+07</td>\n",
       "      <td>21000000</td>\n",
       "    </tr>\n",
       "    <tr>\n",
       "      <th>...</th>\n",
       "      <td>...</td>\n",
       "      <td>...</td>\n",
       "      <td>...</td>\n",
       "      <td>...</td>\n",
       "      <td>...</td>\n",
       "    </tr>\n",
       "    <tr>\n",
       "      <th>ZEPH</th>\n",
       "      <td>ZEPHYR</td>\n",
       "      <td>SHA-256</td>\n",
       "      <td>DPoS</td>\n",
       "      <td>2.000000e+09</td>\n",
       "      <td>2000000000</td>\n",
       "    </tr>\n",
       "    <tr>\n",
       "      <th>GAP</th>\n",
       "      <td>Gapcoin</td>\n",
       "      <td>Scrypt</td>\n",
       "      <td>PoW/PoS</td>\n",
       "      <td>1.493105e+07</td>\n",
       "      <td>250000000</td>\n",
       "    </tr>\n",
       "    <tr>\n",
       "      <th>BDX</th>\n",
       "      <td>Beldex</td>\n",
       "      <td>CryptoNight</td>\n",
       "      <td>PoW</td>\n",
       "      <td>9.802226e+08</td>\n",
       "      <td>1400222610</td>\n",
       "    </tr>\n",
       "    <tr>\n",
       "      <th>ZEN</th>\n",
       "      <td>Horizen</td>\n",
       "      <td>Equihash</td>\n",
       "      <td>PoW</td>\n",
       "      <td>7.296538e+06</td>\n",
       "      <td>21000000</td>\n",
       "    </tr>\n",
       "    <tr>\n",
       "      <th>XBC</th>\n",
       "      <td>BitcoinPlus</td>\n",
       "      <td>Scrypt</td>\n",
       "      <td>PoS</td>\n",
       "      <td>1.283270e+05</td>\n",
       "      <td>1000000</td>\n",
       "    </tr>\n",
       "  </tbody>\n",
       "</table>\n",
       "<p>685 rows × 5 columns</p>\n",
       "</div>"
      ],
      "text/plain": [
       "         CoinName    Algorithm ProofType  TotalCoinsMined TotalCoinSupply\n",
       "42        42 Coin       Scrypt   PoW/PoS     4.199995e+01              42\n",
       "404       404Coin       Scrypt   PoW/PoS     1.055185e+09       532000000\n",
       "808           808      SHA-256   PoW/PoS     0.000000e+00               0\n",
       "1337    EliteCoin          X13   PoW/PoS     2.927942e+10    314159265359\n",
       "BTC       Bitcoin      SHA-256       PoW     1.792718e+07        21000000\n",
       "...           ...          ...       ...              ...             ...\n",
       "ZEPH       ZEPHYR      SHA-256      DPoS     2.000000e+09      2000000000\n",
       "GAP       Gapcoin       Scrypt   PoW/PoS     1.493105e+07       250000000\n",
       "BDX        Beldex  CryptoNight       PoW     9.802226e+08      1400222610\n",
       "ZEN       Horizen     Equihash       PoW     7.296538e+06        21000000\n",
       "XBC   BitcoinPlus       Scrypt       PoS     1.283270e+05         1000000\n",
       "\n",
       "[685 rows x 5 columns]"
      ]
     },
     "execution_count": 51,
     "metadata": {},
     "output_type": "execute_result"
    }
   ],
   "source": [
    "# Remove rows that have at least 1 null value.\n",
    "for column in crypto_df.columns:\n",
    "    print(f'Column {column} has {crypto_df[column].isnull().sum()} null values')\n",
    "\n",
    "crypto_df.dropna()"
   ]
  },
  {
   "cell_type": "code",
   "execution_count": 55,
   "metadata": {},
   "outputs": [
    {
     "data": {
      "text/plain": [
       "(532, 5)"
      ]
     },
     "execution_count": 55,
     "metadata": {},
     "output_type": "execute_result"
    }
   ],
   "source": [
    "# Keep the rows where coins are mined.\n",
    "crypto_df = crypto_df[crypto_df['TotalCoinsMined'] > 0]\n",
    "crypto_df.shape"
   ]
  },
  {
   "cell_type": "code",
   "execution_count": 59,
   "metadata": {},
   "outputs": [
    {
     "data": {
      "text/html": [
       "<div>\n",
       "<style scoped>\n",
       "    .dataframe tbody tr th:only-of-type {\n",
       "        vertical-align: middle;\n",
       "    }\n",
       "\n",
       "    .dataframe tbody tr th {\n",
       "        vertical-align: top;\n",
       "    }\n",
       "\n",
       "    .dataframe thead th {\n",
       "        text-align: right;\n",
       "    }\n",
       "</style>\n",
       "<table border=\"1\" class=\"dataframe\">\n",
       "  <thead>\n",
       "    <tr style=\"text-align: right;\">\n",
       "      <th></th>\n",
       "      <th>CoinName</th>\n",
       "    </tr>\n",
       "  </thead>\n",
       "  <tbody>\n",
       "    <tr>\n",
       "      <th>42</th>\n",
       "      <td>42 Coin</td>\n",
       "    </tr>\n",
       "    <tr>\n",
       "      <th>404</th>\n",
       "      <td>404Coin</td>\n",
       "    </tr>\n",
       "    <tr>\n",
       "      <th>1337</th>\n",
       "      <td>EliteCoin</td>\n",
       "    </tr>\n",
       "    <tr>\n",
       "      <th>BTC</th>\n",
       "      <td>Bitcoin</td>\n",
       "    </tr>\n",
       "    <tr>\n",
       "      <th>ETH</th>\n",
       "      <td>Ethereum</td>\n",
       "    </tr>\n",
       "    <tr>\n",
       "      <th>...</th>\n",
       "      <td>...</td>\n",
       "    </tr>\n",
       "    <tr>\n",
       "      <th>ZEPH</th>\n",
       "      <td>ZEPHYR</td>\n",
       "    </tr>\n",
       "    <tr>\n",
       "      <th>GAP</th>\n",
       "      <td>Gapcoin</td>\n",
       "    </tr>\n",
       "    <tr>\n",
       "      <th>BDX</th>\n",
       "      <td>Beldex</td>\n",
       "    </tr>\n",
       "    <tr>\n",
       "      <th>ZEN</th>\n",
       "      <td>Horizen</td>\n",
       "    </tr>\n",
       "    <tr>\n",
       "      <th>XBC</th>\n",
       "      <td>BitcoinPlus</td>\n",
       "    </tr>\n",
       "  </tbody>\n",
       "</table>\n",
       "<p>532 rows × 1 columns</p>\n",
       "</div>"
      ],
      "text/plain": [
       "         CoinName\n",
       "42        42 Coin\n",
       "404       404Coin\n",
       "1337    EliteCoin\n",
       "BTC       Bitcoin\n",
       "ETH      Ethereum\n",
       "...           ...\n",
       "ZEPH       ZEPHYR\n",
       "GAP       Gapcoin\n",
       "BDX        Beldex\n",
       "ZEN       Horizen\n",
       "XBC   BitcoinPlus\n",
       "\n",
       "[532 rows x 1 columns]"
      ]
     },
     "execution_count": 59,
     "metadata": {},
     "output_type": "execute_result"
    }
   ],
   "source": [
    "# Create a new DataFrame that holds only the cryptocurrencies names.\n",
    "coin_names_df = crypto_df[['CoinName']]\n",
    "coin_names_df"
   ]
  },
  {
   "cell_type": "code",
   "execution_count": 60,
   "metadata": {},
   "outputs": [
    {
     "data": {
      "text/html": [
       "<div>\n",
       "<style scoped>\n",
       "    .dataframe tbody tr th:only-of-type {\n",
       "        vertical-align: middle;\n",
       "    }\n",
       "\n",
       "    .dataframe tbody tr th {\n",
       "        vertical-align: top;\n",
       "    }\n",
       "\n",
       "    .dataframe thead th {\n",
       "        text-align: right;\n",
       "    }\n",
       "</style>\n",
       "<table border=\"1\" class=\"dataframe\">\n",
       "  <thead>\n",
       "    <tr style=\"text-align: right;\">\n",
       "      <th></th>\n",
       "      <th>Algorithm</th>\n",
       "      <th>ProofType</th>\n",
       "      <th>TotalCoinsMined</th>\n",
       "      <th>TotalCoinSupply</th>\n",
       "    </tr>\n",
       "  </thead>\n",
       "  <tbody>\n",
       "    <tr>\n",
       "      <th>42</th>\n",
       "      <td>Scrypt</td>\n",
       "      <td>PoW/PoS</td>\n",
       "      <td>4.199995e+01</td>\n",
       "      <td>42</td>\n",
       "    </tr>\n",
       "    <tr>\n",
       "      <th>404</th>\n",
       "      <td>Scrypt</td>\n",
       "      <td>PoW/PoS</td>\n",
       "      <td>1.055185e+09</td>\n",
       "      <td>532000000</td>\n",
       "    </tr>\n",
       "    <tr>\n",
       "      <th>1337</th>\n",
       "      <td>X13</td>\n",
       "      <td>PoW/PoS</td>\n",
       "      <td>2.927942e+10</td>\n",
       "      <td>314159265359</td>\n",
       "    </tr>\n",
       "    <tr>\n",
       "      <th>BTC</th>\n",
       "      <td>SHA-256</td>\n",
       "      <td>PoW</td>\n",
       "      <td>1.792718e+07</td>\n",
       "      <td>21000000</td>\n",
       "    </tr>\n",
       "    <tr>\n",
       "      <th>ETH</th>\n",
       "      <td>Ethash</td>\n",
       "      <td>PoW</td>\n",
       "      <td>1.076842e+08</td>\n",
       "      <td>0</td>\n",
       "    </tr>\n",
       "    <tr>\n",
       "      <th>...</th>\n",
       "      <td>...</td>\n",
       "      <td>...</td>\n",
       "      <td>...</td>\n",
       "      <td>...</td>\n",
       "    </tr>\n",
       "    <tr>\n",
       "      <th>ZEPH</th>\n",
       "      <td>SHA-256</td>\n",
       "      <td>DPoS</td>\n",
       "      <td>2.000000e+09</td>\n",
       "      <td>2000000000</td>\n",
       "    </tr>\n",
       "    <tr>\n",
       "      <th>GAP</th>\n",
       "      <td>Scrypt</td>\n",
       "      <td>PoW/PoS</td>\n",
       "      <td>1.493105e+07</td>\n",
       "      <td>250000000</td>\n",
       "    </tr>\n",
       "    <tr>\n",
       "      <th>BDX</th>\n",
       "      <td>CryptoNight</td>\n",
       "      <td>PoW</td>\n",
       "      <td>9.802226e+08</td>\n",
       "      <td>1400222610</td>\n",
       "    </tr>\n",
       "    <tr>\n",
       "      <th>ZEN</th>\n",
       "      <td>Equihash</td>\n",
       "      <td>PoW</td>\n",
       "      <td>7.296538e+06</td>\n",
       "      <td>21000000</td>\n",
       "    </tr>\n",
       "    <tr>\n",
       "      <th>XBC</th>\n",
       "      <td>Scrypt</td>\n",
       "      <td>PoS</td>\n",
       "      <td>1.283270e+05</td>\n",
       "      <td>1000000</td>\n",
       "    </tr>\n",
       "  </tbody>\n",
       "</table>\n",
       "<p>532 rows × 4 columns</p>\n",
       "</div>"
      ],
      "text/plain": [
       "        Algorithm ProofType  TotalCoinsMined TotalCoinSupply\n",
       "42         Scrypt   PoW/PoS     4.199995e+01              42\n",
       "404        Scrypt   PoW/PoS     1.055185e+09       532000000\n",
       "1337          X13   PoW/PoS     2.927942e+10    314159265359\n",
       "BTC       SHA-256       PoW     1.792718e+07        21000000\n",
       "ETH        Ethash       PoW     1.076842e+08               0\n",
       "...           ...       ...              ...             ...\n",
       "ZEPH      SHA-256      DPoS     2.000000e+09      2000000000\n",
       "GAP        Scrypt   PoW/PoS     1.493105e+07       250000000\n",
       "BDX   CryptoNight       PoW     9.802226e+08      1400222610\n",
       "ZEN      Equihash       PoW     7.296538e+06        21000000\n",
       "XBC        Scrypt       PoS     1.283270e+05         1000000\n",
       "\n",
       "[532 rows x 4 columns]"
      ]
     },
     "execution_count": 60,
     "metadata": {},
     "output_type": "execute_result"
    }
   ],
   "source": [
    "# Drop the 'CoinName' column since it's not going to be used on the clustering algorithm.\n",
    "crypto_df = crypto_df.drop(['CoinName'], axis = 1)\n",
    "crypto_df"
   ]
  },
  {
   "cell_type": "code",
   "execution_count": 65,
   "metadata": {},
   "outputs": [
    {
     "data": {
      "text/html": [
       "<div>\n",
       "<style scoped>\n",
       "    .dataframe tbody tr th:only-of-type {\n",
       "        vertical-align: middle;\n",
       "    }\n",
       "\n",
       "    .dataframe tbody tr th {\n",
       "        vertical-align: top;\n",
       "    }\n",
       "\n",
       "    .dataframe thead th {\n",
       "        text-align: right;\n",
       "    }\n",
       "</style>\n",
       "<table border=\"1\" class=\"dataframe\">\n",
       "  <thead>\n",
       "    <tr style=\"text-align: right;\">\n",
       "      <th></th>\n",
       "      <th>TotalCoinsMined</th>\n",
       "      <th>TotalCoinSupply</th>\n",
       "      <th>Algorithm_1GB AES Pattern Search</th>\n",
       "      <th>Algorithm_536</th>\n",
       "      <th>Algorithm_Argon2d</th>\n",
       "      <th>Algorithm_BLAKE256</th>\n",
       "      <th>Algorithm_Blake</th>\n",
       "      <th>Algorithm_Blake2S</th>\n",
       "      <th>Algorithm_Blake2b</th>\n",
       "      <th>Algorithm_C11</th>\n",
       "      <th>...</th>\n",
       "      <th>ProofType_PoW/PoS</th>\n",
       "      <th>ProofType_PoW/PoS</th>\n",
       "      <th>ProofType_PoW/PoW</th>\n",
       "      <th>ProofType_PoW/nPoS</th>\n",
       "      <th>ProofType_Pos</th>\n",
       "      <th>ProofType_Proof of Authority</th>\n",
       "      <th>ProofType_Proof of Trust</th>\n",
       "      <th>ProofType_TPoS</th>\n",
       "      <th>ProofType_Zero-Knowledge Proof</th>\n",
       "      <th>ProofType_dPoW/PoW</th>\n",
       "    </tr>\n",
       "  </thead>\n",
       "  <tbody>\n",
       "    <tr>\n",
       "      <th>42</th>\n",
       "      <td>4.199995e+01</td>\n",
       "      <td>42</td>\n",
       "      <td>0</td>\n",
       "      <td>0</td>\n",
       "      <td>0</td>\n",
       "      <td>0</td>\n",
       "      <td>0</td>\n",
       "      <td>0</td>\n",
       "      <td>0</td>\n",
       "      <td>0</td>\n",
       "      <td>...</td>\n",
       "      <td>1</td>\n",
       "      <td>0</td>\n",
       "      <td>0</td>\n",
       "      <td>0</td>\n",
       "      <td>0</td>\n",
       "      <td>0</td>\n",
       "      <td>0</td>\n",
       "      <td>0</td>\n",
       "      <td>0</td>\n",
       "      <td>0</td>\n",
       "    </tr>\n",
       "    <tr>\n",
       "      <th>404</th>\n",
       "      <td>1.055185e+09</td>\n",
       "      <td>532000000</td>\n",
       "      <td>0</td>\n",
       "      <td>0</td>\n",
       "      <td>0</td>\n",
       "      <td>0</td>\n",
       "      <td>0</td>\n",
       "      <td>0</td>\n",
       "      <td>0</td>\n",
       "      <td>0</td>\n",
       "      <td>...</td>\n",
       "      <td>1</td>\n",
       "      <td>0</td>\n",
       "      <td>0</td>\n",
       "      <td>0</td>\n",
       "      <td>0</td>\n",
       "      <td>0</td>\n",
       "      <td>0</td>\n",
       "      <td>0</td>\n",
       "      <td>0</td>\n",
       "      <td>0</td>\n",
       "    </tr>\n",
       "    <tr>\n",
       "      <th>1337</th>\n",
       "      <td>2.927942e+10</td>\n",
       "      <td>314159265359</td>\n",
       "      <td>0</td>\n",
       "      <td>0</td>\n",
       "      <td>0</td>\n",
       "      <td>0</td>\n",
       "      <td>0</td>\n",
       "      <td>0</td>\n",
       "      <td>0</td>\n",
       "      <td>0</td>\n",
       "      <td>...</td>\n",
       "      <td>1</td>\n",
       "      <td>0</td>\n",
       "      <td>0</td>\n",
       "      <td>0</td>\n",
       "      <td>0</td>\n",
       "      <td>0</td>\n",
       "      <td>0</td>\n",
       "      <td>0</td>\n",
       "      <td>0</td>\n",
       "      <td>0</td>\n",
       "    </tr>\n",
       "    <tr>\n",
       "      <th>BTC</th>\n",
       "      <td>1.792718e+07</td>\n",
       "      <td>21000000</td>\n",
       "      <td>0</td>\n",
       "      <td>0</td>\n",
       "      <td>0</td>\n",
       "      <td>0</td>\n",
       "      <td>0</td>\n",
       "      <td>0</td>\n",
       "      <td>0</td>\n",
       "      <td>0</td>\n",
       "      <td>...</td>\n",
       "      <td>0</td>\n",
       "      <td>0</td>\n",
       "      <td>0</td>\n",
       "      <td>0</td>\n",
       "      <td>0</td>\n",
       "      <td>0</td>\n",
       "      <td>0</td>\n",
       "      <td>0</td>\n",
       "      <td>0</td>\n",
       "      <td>0</td>\n",
       "    </tr>\n",
       "    <tr>\n",
       "      <th>ETH</th>\n",
       "      <td>1.076842e+08</td>\n",
       "      <td>0</td>\n",
       "      <td>0</td>\n",
       "      <td>0</td>\n",
       "      <td>0</td>\n",
       "      <td>0</td>\n",
       "      <td>0</td>\n",
       "      <td>0</td>\n",
       "      <td>0</td>\n",
       "      <td>0</td>\n",
       "      <td>...</td>\n",
       "      <td>0</td>\n",
       "      <td>0</td>\n",
       "      <td>0</td>\n",
       "      <td>0</td>\n",
       "      <td>0</td>\n",
       "      <td>0</td>\n",
       "      <td>0</td>\n",
       "      <td>0</td>\n",
       "      <td>0</td>\n",
       "      <td>0</td>\n",
       "    </tr>\n",
       "    <tr>\n",
       "      <th>LTC</th>\n",
       "      <td>6.303924e+07</td>\n",
       "      <td>84000000</td>\n",
       "      <td>0</td>\n",
       "      <td>0</td>\n",
       "      <td>0</td>\n",
       "      <td>0</td>\n",
       "      <td>0</td>\n",
       "      <td>0</td>\n",
       "      <td>0</td>\n",
       "      <td>0</td>\n",
       "      <td>...</td>\n",
       "      <td>0</td>\n",
       "      <td>0</td>\n",
       "      <td>0</td>\n",
       "      <td>0</td>\n",
       "      <td>0</td>\n",
       "      <td>0</td>\n",
       "      <td>0</td>\n",
       "      <td>0</td>\n",
       "      <td>0</td>\n",
       "      <td>0</td>\n",
       "    </tr>\n",
       "    <tr>\n",
       "      <th>DASH</th>\n",
       "      <td>9.031294e+06</td>\n",
       "      <td>22000000</td>\n",
       "      <td>0</td>\n",
       "      <td>0</td>\n",
       "      <td>0</td>\n",
       "      <td>0</td>\n",
       "      <td>0</td>\n",
       "      <td>0</td>\n",
       "      <td>0</td>\n",
       "      <td>0</td>\n",
       "      <td>...</td>\n",
       "      <td>1</td>\n",
       "      <td>0</td>\n",
       "      <td>0</td>\n",
       "      <td>0</td>\n",
       "      <td>0</td>\n",
       "      <td>0</td>\n",
       "      <td>0</td>\n",
       "      <td>0</td>\n",
       "      <td>0</td>\n",
       "      <td>0</td>\n",
       "    </tr>\n",
       "    <tr>\n",
       "      <th>XMR</th>\n",
       "      <td>1.720114e+07</td>\n",
       "      <td>0</td>\n",
       "      <td>0</td>\n",
       "      <td>0</td>\n",
       "      <td>0</td>\n",
       "      <td>0</td>\n",
       "      <td>0</td>\n",
       "      <td>0</td>\n",
       "      <td>0</td>\n",
       "      <td>0</td>\n",
       "      <td>...</td>\n",
       "      <td>0</td>\n",
       "      <td>0</td>\n",
       "      <td>0</td>\n",
       "      <td>0</td>\n",
       "      <td>0</td>\n",
       "      <td>0</td>\n",
       "      <td>0</td>\n",
       "      <td>0</td>\n",
       "      <td>0</td>\n",
       "      <td>0</td>\n",
       "    </tr>\n",
       "    <tr>\n",
       "      <th>ETC</th>\n",
       "      <td>1.133597e+08</td>\n",
       "      <td>210000000</td>\n",
       "      <td>0</td>\n",
       "      <td>0</td>\n",
       "      <td>0</td>\n",
       "      <td>0</td>\n",
       "      <td>0</td>\n",
       "      <td>0</td>\n",
       "      <td>0</td>\n",
       "      <td>0</td>\n",
       "      <td>...</td>\n",
       "      <td>0</td>\n",
       "      <td>0</td>\n",
       "      <td>0</td>\n",
       "      <td>0</td>\n",
       "      <td>0</td>\n",
       "      <td>0</td>\n",
       "      <td>0</td>\n",
       "      <td>0</td>\n",
       "      <td>0</td>\n",
       "      <td>0</td>\n",
       "    </tr>\n",
       "    <tr>\n",
       "      <th>ZEC</th>\n",
       "      <td>7.383056e+06</td>\n",
       "      <td>21000000</td>\n",
       "      <td>0</td>\n",
       "      <td>0</td>\n",
       "      <td>0</td>\n",
       "      <td>0</td>\n",
       "      <td>0</td>\n",
       "      <td>0</td>\n",
       "      <td>0</td>\n",
       "      <td>0</td>\n",
       "      <td>...</td>\n",
       "      <td>0</td>\n",
       "      <td>0</td>\n",
       "      <td>0</td>\n",
       "      <td>0</td>\n",
       "      <td>0</td>\n",
       "      <td>0</td>\n",
       "      <td>0</td>\n",
       "      <td>0</td>\n",
       "      <td>0</td>\n",
       "      <td>0</td>\n",
       "    </tr>\n",
       "  </tbody>\n",
       "</table>\n",
       "<p>10 rows × 98 columns</p>\n",
       "</div>"
      ],
      "text/plain": [
       "      TotalCoinsMined TotalCoinSupply  Algorithm_1GB AES Pattern Search  \\\n",
       "42       4.199995e+01              42                                 0   \n",
       "404      1.055185e+09       532000000                                 0   \n",
       "1337     2.927942e+10    314159265359                                 0   \n",
       "BTC      1.792718e+07        21000000                                 0   \n",
       "ETH      1.076842e+08               0                                 0   \n",
       "LTC      6.303924e+07        84000000                                 0   \n",
       "DASH     9.031294e+06        22000000                                 0   \n",
       "XMR      1.720114e+07               0                                 0   \n",
       "ETC      1.133597e+08       210000000                                 0   \n",
       "ZEC      7.383056e+06        21000000                                 0   \n",
       "\n",
       "      Algorithm_536  Algorithm_Argon2d  Algorithm_BLAKE256  Algorithm_Blake  \\\n",
       "42                0                  0                   0                0   \n",
       "404               0                  0                   0                0   \n",
       "1337              0                  0                   0                0   \n",
       "BTC               0                  0                   0                0   \n",
       "ETH               0                  0                   0                0   \n",
       "LTC               0                  0                   0                0   \n",
       "DASH              0                  0                   0                0   \n",
       "XMR               0                  0                   0                0   \n",
       "ETC               0                  0                   0                0   \n",
       "ZEC               0                  0                   0                0   \n",
       "\n",
       "      Algorithm_Blake2S  Algorithm_Blake2b  Algorithm_C11  ...  \\\n",
       "42                    0                  0              0  ...   \n",
       "404                   0                  0              0  ...   \n",
       "1337                  0                  0              0  ...   \n",
       "BTC                   0                  0              0  ...   \n",
       "ETH                   0                  0              0  ...   \n",
       "LTC                   0                  0              0  ...   \n",
       "DASH                  0                  0              0  ...   \n",
       "XMR                   0                  0              0  ...   \n",
       "ETC                   0                  0              0  ...   \n",
       "ZEC                   0                  0              0  ...   \n",
       "\n",
       "      ProofType_PoW/PoS  ProofType_PoW/PoS   ProofType_PoW/PoW  \\\n",
       "42                    1                   0                  0   \n",
       "404                   1                   0                  0   \n",
       "1337                  1                   0                  0   \n",
       "BTC                   0                   0                  0   \n",
       "ETH                   0                   0                  0   \n",
       "LTC                   0                   0                  0   \n",
       "DASH                  1                   0                  0   \n",
       "XMR                   0                   0                  0   \n",
       "ETC                   0                   0                  0   \n",
       "ZEC                   0                   0                  0   \n",
       "\n",
       "      ProofType_PoW/nPoS  ProofType_Pos  ProofType_Proof of Authority  \\\n",
       "42                     0              0                             0   \n",
       "404                    0              0                             0   \n",
       "1337                   0              0                             0   \n",
       "BTC                    0              0                             0   \n",
       "ETH                    0              0                             0   \n",
       "LTC                    0              0                             0   \n",
       "DASH                   0              0                             0   \n",
       "XMR                    0              0                             0   \n",
       "ETC                    0              0                             0   \n",
       "ZEC                    0              0                             0   \n",
       "\n",
       "      ProofType_Proof of Trust  ProofType_TPoS  \\\n",
       "42                           0               0   \n",
       "404                          0               0   \n",
       "1337                         0               0   \n",
       "BTC                          0               0   \n",
       "ETH                          0               0   \n",
       "LTC                          0               0   \n",
       "DASH                         0               0   \n",
       "XMR                          0               0   \n",
       "ETC                          0               0   \n",
       "ZEC                          0               0   \n",
       "\n",
       "      ProofType_Zero-Knowledge Proof  ProofType_dPoW/PoW  \n",
       "42                                 0                   0  \n",
       "404                                0                   0  \n",
       "1337                               0                   0  \n",
       "BTC                                0                   0  \n",
       "ETH                                0                   0  \n",
       "LTC                                0                   0  \n",
       "DASH                               0                   0  \n",
       "XMR                                0                   0  \n",
       "ETC                                0                   0  \n",
       "ZEC                                0                   0  \n",
       "\n",
       "[10 rows x 98 columns]"
      ]
     },
     "execution_count": 65,
     "metadata": {},
     "output_type": "execute_result"
    }
   ],
   "source": [
    "# Use get_dummies() to create variables for text features.\n",
    "encoded_df = pd.get_dummies(crypto_df, columns=['Algorithm', 'ProofType'])\n",
    "encoded_df.head(10)"
   ]
  },
  {
   "cell_type": "code",
   "execution_count": 77,
   "metadata": {},
   "outputs": [
    {
     "name": "stdout",
     "output_type": "stream",
     "text": [
      "[[-0.11710817 -0.1528703  -0.0433963  -0.0433963  -0.0433963  -0.06142951\n",
      "  -0.07530656 -0.0433963  -0.06142951 -0.06142951 -0.0433963  -0.0433963\n",
      "  -0.19245009 -0.06142951 -0.09740465 -0.0433963  -0.11547005 -0.07530656\n",
      "  -0.0433963  -0.0433963  -0.15191091 -0.0433963  -0.13118084 -0.0433963\n",
      "  -0.0433963  -0.08703883 -0.0433963  -0.0433963  -0.0433963  -0.0433963\n",
      "  -0.06142951 -0.0433963  -0.08703883 -0.08703883 -0.08703883 -0.0433963\n",
      "  -0.13118084 -0.13840913 -0.13840913 -0.0433963  -0.06142951 -0.0433963\n",
      "  -0.07530656 -0.18168574 -0.0433963  -0.0433963  -0.0433963  -0.07530656\n",
      "  -0.15826614 -0.31491833 -0.0433963  -0.08703883 -0.07530656 -0.06142951\n",
      "   1.38675049 -0.0433963  -0.0433963  -0.06142951 -0.0433963  -0.0433963\n",
      "  -0.0433963  -0.0433963  -0.0433963  -0.0433963  -0.0433963  -0.0433963\n",
      "  -0.39879994 -0.0433963  -0.18168574 -0.0433963  -0.08703883 -0.08703883\n",
      "  -0.10680283 -0.0433963  -0.13118084 -0.0433963  -0.0433963  -0.0433963\n",
      "  -0.0433963  -0.07530656 -0.43911856 -0.0433963  -0.06142951 -0.0433963\n",
      "  -0.0433963  -0.89632016 -0.0433963  -0.0433963   1.42222617 -0.0433963\n",
      "  -0.0433963  -0.0433963  -0.0433963  -0.0433963  -0.0433963  -0.0433963\n",
      "  -0.0433963  -0.0433963 ]\n",
      " [-0.09396955 -0.145009   -0.0433963  -0.0433963  -0.0433963  -0.06142951\n",
      "  -0.07530656 -0.0433963  -0.06142951 -0.06142951 -0.0433963  -0.0433963\n",
      "  -0.19245009 -0.06142951 -0.09740465 -0.0433963  -0.11547005 -0.07530656\n",
      "  -0.0433963  -0.0433963  -0.15191091 -0.0433963  -0.13118084 -0.0433963\n",
      "  -0.0433963  -0.08703883 -0.0433963  -0.0433963  -0.0433963  -0.0433963\n",
      "  -0.06142951 -0.0433963  -0.08703883 -0.08703883 -0.08703883 -0.0433963\n",
      "  -0.13118084 -0.13840913 -0.13840913 -0.0433963  -0.06142951 -0.0433963\n",
      "  -0.07530656 -0.18168574 -0.0433963  -0.0433963  -0.0433963  -0.07530656\n",
      "  -0.15826614 -0.31491833 -0.0433963  -0.08703883 -0.07530656 -0.06142951\n",
      "   1.38675049 -0.0433963  -0.0433963  -0.06142951 -0.0433963  -0.0433963\n",
      "  -0.0433963  -0.0433963  -0.0433963  -0.0433963  -0.0433963  -0.0433963\n",
      "  -0.39879994 -0.0433963  -0.18168574 -0.0433963  -0.08703883 -0.08703883\n",
      "  -0.10680283 -0.0433963  -0.13118084 -0.0433963  -0.0433963  -0.0433963\n",
      "  -0.0433963  -0.07530656 -0.43911856 -0.0433963  -0.06142951 -0.0433963\n",
      "  -0.0433963  -0.89632016 -0.0433963  -0.0433963   1.42222617 -0.0433963\n",
      "  -0.0433963  -0.0433963  -0.0433963  -0.0433963  -0.0433963  -0.0433963\n",
      "  -0.0433963  -0.0433963 ]\n",
      " [ 0.52494561  4.48942416 -0.0433963  -0.0433963  -0.0433963  -0.06142951\n",
      "  -0.07530656 -0.0433963  -0.06142951 -0.06142951 -0.0433963  -0.0433963\n",
      "  -0.19245009 -0.06142951 -0.09740465 -0.0433963  -0.11547005 -0.07530656\n",
      "  -0.0433963  -0.0433963  -0.15191091 -0.0433963  -0.13118084 -0.0433963\n",
      "  -0.0433963  -0.08703883 -0.0433963  -0.0433963  -0.0433963  -0.0433963\n",
      "  -0.06142951 -0.0433963  -0.08703883 -0.08703883 -0.08703883 -0.0433963\n",
      "  -0.13118084 -0.13840913 -0.13840913 -0.0433963  -0.06142951 -0.0433963\n",
      "  -0.07530656 -0.18168574 -0.0433963  -0.0433963  -0.0433963  -0.07530656\n",
      "  -0.15826614 -0.31491833 -0.0433963  -0.08703883 -0.07530656 -0.06142951\n",
      "  -0.72111026 -0.0433963  -0.0433963  -0.06142951 -0.0433963  -0.0433963\n",
      "  -0.0433963  -0.0433963  -0.0433963  -0.0433963  -0.0433963  -0.0433963\n",
      "  -0.39879994 -0.0433963   5.50400923 -0.0433963  -0.08703883 -0.08703883\n",
      "  -0.10680283 -0.0433963  -0.13118084 -0.0433963  -0.0433963  -0.0433963\n",
      "  -0.0433963  -0.07530656 -0.43911856 -0.0433963  -0.06142951 -0.0433963\n",
      "  -0.0433963  -0.89632016 -0.0433963  -0.0433963   1.42222617 -0.0433963\n",
      "  -0.0433963  -0.0433963  -0.0433963  -0.0433963  -0.0433963  -0.0433963\n",
      "  -0.0433963  -0.0433963 ]\n",
      " [-0.11671506 -0.15255998 -0.0433963  -0.0433963  -0.0433963  -0.06142951\n",
      "  -0.07530656 -0.0433963  -0.06142951 -0.06142951 -0.0433963  -0.0433963\n",
      "  -0.19245009 -0.06142951 -0.09740465 -0.0433963  -0.11547005 -0.07530656\n",
      "  -0.0433963  -0.0433963  -0.15191091 -0.0433963  -0.13118084 -0.0433963\n",
      "  -0.0433963  -0.08703883 -0.0433963  -0.0433963  -0.0433963  -0.0433963\n",
      "  -0.06142951 -0.0433963  -0.08703883 -0.08703883 -0.08703883 -0.0433963\n",
      "  -0.13118084 -0.13840913 -0.13840913 -0.0433963  -0.06142951 -0.0433963\n",
      "  -0.07530656 -0.18168574 -0.0433963  -0.0433963  -0.0433963  -0.07530656\n",
      "  -0.15826614  3.17542648 -0.0433963  -0.08703883 -0.07530656 -0.06142951\n",
      "  -0.72111026 -0.0433963  -0.0433963  -0.06142951 -0.0433963  -0.0433963\n",
      "  -0.0433963  -0.0433963  -0.0433963  -0.0433963  -0.0433963  -0.0433963\n",
      "  -0.39879994 -0.0433963  -0.18168574 -0.0433963  -0.08703883 -0.08703883\n",
      "  -0.10680283 -0.0433963  -0.13118084 -0.0433963  -0.0433963  -0.0433963\n",
      "  -0.0433963  -0.07530656 -0.43911856 -0.0433963  -0.06142951 -0.0433963\n",
      "  -0.0433963   1.11567277 -0.0433963  -0.0433963  -0.70312305 -0.0433963\n",
      "  -0.0433963  -0.0433963  -0.0433963  -0.0433963  -0.0433963  -0.0433963\n",
      "  -0.0433963  -0.0433963 ]\n",
      " [-0.11474682 -0.1528703  -0.0433963  -0.0433963  -0.0433963  -0.06142951\n",
      "  -0.07530656 -0.0433963  -0.06142951 -0.06142951 -0.0433963  -0.0433963\n",
      "  -0.19245009 -0.06142951 -0.09740465 -0.0433963  -0.11547005 -0.07530656\n",
      "  -0.0433963  -0.0433963  -0.15191091 -0.0433963   7.62306442 -0.0433963\n",
      "  -0.0433963  -0.08703883 -0.0433963  -0.0433963  -0.0433963  -0.0433963\n",
      "  -0.06142951 -0.0433963  -0.08703883 -0.08703883 -0.08703883 -0.0433963\n",
      "  -0.13118084 -0.13840913 -0.13840913 -0.0433963  -0.06142951 -0.0433963\n",
      "  -0.07530656 -0.18168574 -0.0433963  -0.0433963  -0.0433963  -0.07530656\n",
      "  -0.15826614 -0.31491833 -0.0433963  -0.08703883 -0.07530656 -0.06142951\n",
      "  -0.72111026 -0.0433963  -0.0433963  -0.06142951 -0.0433963  -0.0433963\n",
      "  -0.0433963  -0.0433963  -0.0433963  -0.0433963  -0.0433963  -0.0433963\n",
      "  -0.39879994 -0.0433963  -0.18168574 -0.0433963  -0.08703883 -0.08703883\n",
      "  -0.10680283 -0.0433963  -0.13118084 -0.0433963  -0.0433963  -0.0433963\n",
      "  -0.0433963  -0.07530656 -0.43911856 -0.0433963  -0.06142951 -0.0433963\n",
      "  -0.0433963   1.11567277 -0.0433963  -0.0433963  -0.70312305 -0.0433963\n",
      "  -0.0433963  -0.0433963  -0.0433963  -0.0433963  -0.0433963  -0.0433963\n",
      "  -0.0433963  -0.0433963 ]\n",
      " [-0.11572582 -0.15162904 -0.0433963  -0.0433963  -0.0433963  -0.06142951\n",
      "  -0.07530656 -0.0433963  -0.06142951 -0.06142951 -0.0433963  -0.0433963\n",
      "  -0.19245009 -0.06142951 -0.09740465 -0.0433963  -0.11547005 -0.07530656\n",
      "  -0.0433963  -0.0433963  -0.15191091 -0.0433963  -0.13118084 -0.0433963\n",
      "  -0.0433963  -0.08703883 -0.0433963  -0.0433963  -0.0433963  -0.0433963\n",
      "  -0.06142951 -0.0433963  -0.08703883 -0.08703883 -0.08703883 -0.0433963\n",
      "  -0.13118084 -0.13840913 -0.13840913 -0.0433963  -0.06142951 -0.0433963\n",
      "  -0.07530656 -0.18168574 -0.0433963  -0.0433963  -0.0433963  -0.07530656\n",
      "  -0.15826614 -0.31491833 -0.0433963  -0.08703883 -0.07530656 -0.06142951\n",
      "   1.38675049 -0.0433963  -0.0433963  -0.06142951 -0.0433963  -0.0433963\n",
      "  -0.0433963  -0.0433963  -0.0433963  -0.0433963  -0.0433963  -0.0433963\n",
      "  -0.39879994 -0.0433963  -0.18168574 -0.0433963  -0.08703883 -0.08703883\n",
      "  -0.10680283 -0.0433963  -0.13118084 -0.0433963  -0.0433963  -0.0433963\n",
      "  -0.0433963  -0.07530656 -0.43911856 -0.0433963  -0.06142951 -0.0433963\n",
      "  -0.0433963   1.11567277 -0.0433963  -0.0433963  -0.70312305 -0.0433963\n",
      "  -0.0433963  -0.0433963  -0.0433963  -0.0433963  -0.0433963  -0.0433963\n",
      "  -0.0433963  -0.0433963 ]\n",
      " [-0.11691013 -0.15254521 -0.0433963  -0.0433963  -0.0433963  -0.06142951\n",
      "  -0.07530656 -0.0433963  -0.06142951 -0.06142951 -0.0433963  -0.0433963\n",
      "  -0.19245009 -0.06142951 -0.09740465 -0.0433963  -0.11547005 -0.07530656\n",
      "  -0.0433963  -0.0433963  -0.15191091 -0.0433963  -0.13118084 -0.0433963\n",
      "  -0.0433963  -0.08703883 -0.0433963  -0.0433963  -0.0433963  -0.0433963\n",
      "  -0.06142951 -0.0433963  -0.08703883 -0.08703883 -0.08703883 -0.0433963\n",
      "  -0.13118084 -0.13840913 -0.13840913 -0.0433963  -0.06142951 -0.0433963\n",
      "  -0.07530656 -0.18168574 -0.0433963  -0.0433963  -0.0433963  -0.07530656\n",
      "  -0.15826614 -0.31491833 -0.0433963  -0.08703883 -0.07530656 -0.06142951\n",
      "  -0.72111026 -0.0433963  -0.0433963  -0.06142951 -0.0433963  -0.0433963\n",
      "  -0.0433963  -0.0433963  -0.0433963  -0.0433963  -0.0433963  -0.0433963\n",
      "   2.50752293 -0.0433963  -0.18168574 -0.0433963  -0.08703883 -0.08703883\n",
      "  -0.10680283 -0.0433963  -0.13118084 -0.0433963  -0.0433963  -0.0433963\n",
      "  -0.0433963  -0.07530656 -0.43911856 -0.0433963  -0.06142951 -0.0433963\n",
      "  -0.0433963  -0.89632016 -0.0433963  -0.0433963   1.42222617 -0.0433963\n",
      "  -0.0433963  -0.0433963  -0.0433963  -0.0433963  -0.0433963  -0.0433963\n",
      "  -0.0433963  -0.0433963 ]\n",
      " [-0.11673098 -0.1528703  -0.0433963  -0.0433963  -0.0433963  -0.06142951\n",
      "  -0.07530656 -0.0433963  -0.06142951 -0.06142951 -0.0433963  -0.0433963\n",
      "  -0.19245009 -0.06142951 10.26645021 -0.0433963  -0.11547005 -0.07530656\n",
      "  -0.0433963  -0.0433963  -0.15191091 -0.0433963  -0.13118084 -0.0433963\n",
      "  -0.0433963  -0.08703883 -0.0433963  -0.0433963  -0.0433963  -0.0433963\n",
      "  -0.06142951 -0.0433963  -0.08703883 -0.08703883 -0.08703883 -0.0433963\n",
      "  -0.13118084 -0.13840913 -0.13840913 -0.0433963  -0.06142951 -0.0433963\n",
      "  -0.07530656 -0.18168574 -0.0433963  -0.0433963  -0.0433963  -0.07530656\n",
      "  -0.15826614 -0.31491833 -0.0433963  -0.08703883 -0.07530656 -0.06142951\n",
      "  -0.72111026 -0.0433963  -0.0433963  -0.06142951 -0.0433963  -0.0433963\n",
      "  -0.0433963  -0.0433963  -0.0433963  -0.0433963  -0.0433963  -0.0433963\n",
      "  -0.39879994 -0.0433963  -0.18168574 -0.0433963  -0.08703883 -0.08703883\n",
      "  -0.10680283 -0.0433963  -0.13118084 -0.0433963  -0.0433963  -0.0433963\n",
      "  -0.0433963  -0.07530656 -0.43911856 -0.0433963  -0.06142951 -0.0433963\n",
      "  -0.0433963   1.11567277 -0.0433963  -0.0433963  -0.70312305 -0.0433963\n",
      "  -0.0433963  -0.0433963  -0.0433963  -0.0433963  -0.0433963  -0.0433963\n",
      "  -0.0433963  -0.0433963 ]\n",
      " [-0.11462236 -0.14976715 -0.0433963  -0.0433963  -0.0433963  -0.06142951\n",
      "  -0.07530656 -0.0433963  -0.06142951 -0.06142951 -0.0433963  -0.0433963\n",
      "  -0.19245009 -0.06142951 -0.09740465 -0.0433963  -0.11547005 -0.07530656\n",
      "  -0.0433963  -0.0433963  -0.15191091 -0.0433963   7.62306442 -0.0433963\n",
      "  -0.0433963  -0.08703883 -0.0433963  -0.0433963  -0.0433963  -0.0433963\n",
      "  -0.06142951 -0.0433963  -0.08703883 -0.08703883 -0.08703883 -0.0433963\n",
      "  -0.13118084 -0.13840913 -0.13840913 -0.0433963  -0.06142951 -0.0433963\n",
      "  -0.07530656 -0.18168574 -0.0433963  -0.0433963  -0.0433963  -0.07530656\n",
      "  -0.15826614 -0.31491833 -0.0433963  -0.08703883 -0.07530656 -0.06142951\n",
      "  -0.72111026 -0.0433963  -0.0433963  -0.06142951 -0.0433963  -0.0433963\n",
      "  -0.0433963  -0.0433963  -0.0433963  -0.0433963  -0.0433963  -0.0433963\n",
      "  -0.39879994 -0.0433963  -0.18168574 -0.0433963  -0.08703883 -0.08703883\n",
      "  -0.10680283 -0.0433963  -0.13118084 -0.0433963  -0.0433963  -0.0433963\n",
      "  -0.0433963  -0.07530656 -0.43911856 -0.0433963  -0.06142951 -0.0433963\n",
      "  -0.0433963   1.11567277 -0.0433963  -0.0433963  -0.70312305 -0.0433963\n",
      "  -0.0433963  -0.0433963  -0.0433963  -0.0433963  -0.0433963  -0.0433963\n",
      "  -0.0433963  -0.0433963 ]\n",
      " [-0.11694627 -0.15255998 -0.0433963  -0.0433963  -0.0433963  -0.06142951\n",
      "  -0.07530656 -0.0433963  -0.06142951 -0.06142951 -0.0433963  -0.0433963\n",
      "  -0.19245009 -0.06142951 -0.09740465 -0.0433963  -0.11547005 -0.07530656\n",
      "  -0.0433963  -0.0433963   6.58280589 -0.0433963  -0.13118084 -0.0433963\n",
      "  -0.0433963  -0.08703883 -0.0433963  -0.0433963  -0.0433963  -0.0433963\n",
      "  -0.06142951 -0.0433963  -0.08703883 -0.08703883 -0.08703883 -0.0433963\n",
      "  -0.13118084 -0.13840913 -0.13840913 -0.0433963  -0.06142951 -0.0433963\n",
      "  -0.07530656 -0.18168574 -0.0433963  -0.0433963  -0.0433963  -0.07530656\n",
      "  -0.15826614 -0.31491833 -0.0433963  -0.08703883 -0.07530656 -0.06142951\n",
      "  -0.72111026 -0.0433963  -0.0433963  -0.06142951 -0.0433963  -0.0433963\n",
      "  -0.0433963  -0.0433963  -0.0433963  -0.0433963  -0.0433963  -0.0433963\n",
      "  -0.39879994 -0.0433963  -0.18168574 -0.0433963  -0.08703883 -0.08703883\n",
      "  -0.10680283 -0.0433963  -0.13118084 -0.0433963  -0.0433963  -0.0433963\n",
      "  -0.0433963  -0.07530656 -0.43911856 -0.0433963  -0.06142951 -0.0433963\n",
      "  -0.0433963   1.11567277 -0.0433963  -0.0433963  -0.70312305 -0.0433963\n",
      "  -0.0433963  -0.0433963  -0.0433963  -0.0433963  -0.0433963  -0.0433963\n",
      "  -0.0433963  -0.0433963 ]]\n"
     ]
    }
   ],
   "source": [
    "# Standardize the data with StandardScaler().\n",
    "crypto_scaled = StandardScaler().fit_transform(encoded_df)\n",
    "print(crypto_scaled[0:10])"
   ]
  },
  {
   "cell_type": "markdown",
   "metadata": {},
   "source": [
    "### Deliverable 2: Reducing Data Dimensions Using PCA"
   ]
  },
  {
   "cell_type": "code",
   "execution_count": 85,
   "metadata": {},
   "outputs": [
    {
     "data": {
      "text/plain": [
       "array([[-0.33702421,  1.05633216, -0.60382114],\n",
       "       [-0.3203595 ,  1.05641581, -0.60426467],\n",
       "       [ 2.31137461,  1.65103348, -0.73396882],\n",
       "       ...,\n",
       "       [ 0.32664456, -2.28764401,  0.40979719],\n",
       "       [-0.16676669, -1.94054918,  0.39282849],\n",
       "       [-0.29299917,  0.8083824 , -0.25800954]])"
      ]
     },
     "execution_count": 85,
     "metadata": {},
     "output_type": "execute_result"
    }
   ],
   "source": [
    "# Using PCA to reduce dimension to three principal components.\n",
    "pca = PCA(n_components = 3)\n",
    "crypto_pca = pca.fit_transform(crypto_scaled)\n",
    "crypto_pca"
   ]
  },
  {
   "cell_type": "code",
   "execution_count": 87,
   "metadata": {},
   "outputs": [
    {
     "data": {
      "text/html": [
       "<div>\n",
       "<style scoped>\n",
       "    .dataframe tbody tr th:only-of-type {\n",
       "        vertical-align: middle;\n",
       "    }\n",
       "\n",
       "    .dataframe tbody tr th {\n",
       "        vertical-align: top;\n",
       "    }\n",
       "\n",
       "    .dataframe thead th {\n",
       "        text-align: right;\n",
       "    }\n",
       "</style>\n",
       "<table border=\"1\" class=\"dataframe\">\n",
       "  <thead>\n",
       "    <tr style=\"text-align: right;\">\n",
       "      <th></th>\n",
       "      <th>PC1</th>\n",
       "      <th>PC2</th>\n",
       "      <th>PC3</th>\n",
       "    </tr>\n",
       "  </thead>\n",
       "  <tbody>\n",
       "    <tr>\n",
       "      <th>42</th>\n",
       "      <td>-0.337024</td>\n",
       "      <td>1.056332</td>\n",
       "      <td>-0.603821</td>\n",
       "    </tr>\n",
       "    <tr>\n",
       "      <th>404</th>\n",
       "      <td>-0.320360</td>\n",
       "      <td>1.056416</td>\n",
       "      <td>-0.604265</td>\n",
       "    </tr>\n",
       "    <tr>\n",
       "      <th>1337</th>\n",
       "      <td>2.311375</td>\n",
       "      <td>1.651033</td>\n",
       "      <td>-0.733969</td>\n",
       "    </tr>\n",
       "    <tr>\n",
       "      <th>BTC</th>\n",
       "      <td>-0.142137</td>\n",
       "      <td>-1.292448</td>\n",
       "      <td>0.190886</td>\n",
       "    </tr>\n",
       "    <tr>\n",
       "      <th>ETH</th>\n",
       "      <td>-0.148811</td>\n",
       "      <td>-1.977845</td>\n",
       "      <td>0.406621</td>\n",
       "    </tr>\n",
       "  </tbody>\n",
       "</table>\n",
       "</div>"
      ],
      "text/plain": [
       "           PC1       PC2       PC3\n",
       "42   -0.337024  1.056332 -0.603821\n",
       "404  -0.320360  1.056416 -0.604265\n",
       "1337  2.311375  1.651033 -0.733969\n",
       "BTC  -0.142137 -1.292448  0.190886\n",
       "ETH  -0.148811 -1.977845  0.406621"
      ]
     },
     "execution_count": 87,
     "metadata": {},
     "output_type": "execute_result"
    }
   ],
   "source": [
    "# Create a DataFrame with the three principal components.\n",
    "crypto_pca_df = pd.DataFrame(data = crypto_pca, columns = ['PC1', 'PC2', 'PC3'], index = encoded_df.index)\n",
    "crypto_pca_df.head()"
   ]
  },
  {
   "cell_type": "markdown",
   "metadata": {},
   "source": [
    "### Deliverable 3: Clustering Crytocurrencies Using K-Means\n",
    "\n",
    "#### Finding the Best Value for `k` Using the Elbow Curve"
   ]
  },
  {
   "cell_type": "code",
   "execution_count": 91,
   "metadata": {},
   "outputs": [
    {
     "data": {},
     "metadata": {},
     "output_type": "display_data"
    },
    {
     "data": {
      "application/vnd.holoviews_exec.v0+json": "",
      "text/html": [
       "<div id='1001'>\n",
       "\n",
       "\n",
       "\n",
       "\n",
       "\n",
       "  <div class=\"bk-root\" id=\"f9be6c29-7b1c-479b-8856-93a1ac5dbf9a\" data-root-id=\"1001\"></div>\n",
       "</div>\n",
       "<script type=\"application/javascript\">(function(root) {\n",
       "  function embed_document(root) {\n",
       "    var docs_json = {\"5e04a5d3-f661-4ff5-a658-eafb70cb6541\":{\"roots\":{\"references\":[{\"attributes\":{\"data\":{\"inertia\":{\"__ndarray__\":\"sskXnCBwrEBcfpt7TlKjQBvo8u1kRZdA7tdME54igEBcx9Iw78t1QKlwhag8QXFA3euQ21B7akCHLQNzcixkQBphx44IrmBAdcjQCSbvW0A=\",\"dtype\":\"float64\",\"order\":\"little\",\"shape\":[10]},\"k\":[1,2,3,4,5,6,7,8,9,10]},\"selected\":{\"id\":\"1037\"},\"selection_policy\":{\"id\":\"1055\"}},\"id\":\"1036\",\"type\":\"ColumnDataSource\"},{\"attributes\":{\"line_alpha\":0.2,\"line_color\":\"#1f77b3\",\"line_width\":2,\"x\":{\"field\":\"k\"},\"y\":{\"field\":\"inertia\"}},\"id\":\"1041\",\"type\":\"Line\"},{\"attributes\":{\"bottom_units\":\"screen\",\"fill_alpha\":0.5,\"fill_color\":\"lightgrey\",\"left_units\":\"screen\",\"level\":\"overlay\",\"line_alpha\":1.0,\"line_color\":\"black\",\"line_dash\":[4,4],\"line_width\":2,\"right_units\":\"screen\",\"top_units\":\"screen\"},\"id\":\"1028\",\"type\":\"BoxAnnotation\"},{\"attributes\":{},\"id\":\"1013\",\"type\":\"LinearScale\"},{\"attributes\":{},\"id\":\"1027\",\"type\":\"ResetTool\"},{\"attributes\":{\"overlay\":{\"id\":\"1028\"}},\"id\":\"1026\",\"type\":\"BoxZoomTool\"},{\"attributes\":{},\"id\":\"1024\",\"type\":\"PanTool\"},{\"attributes\":{\"axis\":{\"id\":\"1019\"},\"dimension\":1,\"grid_line_color\":null,\"ticker\":null},\"id\":\"1022\",\"type\":\"Grid\"},{\"attributes\":{\"below\":[{\"id\":\"1015\"}],\"center\":[{\"id\":\"1018\"},{\"id\":\"1022\"}],\"left\":[{\"id\":\"1019\"}],\"margin\":[5,5,5,5],\"min_border_bottom\":10,\"min_border_left\":10,\"min_border_right\":10,\"min_border_top\":10,\"plot_height\":300,\"plot_width\":700,\"renderers\":[{\"id\":\"1042\"}],\"sizing_mode\":\"fixed\",\"title\":{\"id\":\"1007\"},\"toolbar\":{\"id\":\"1029\"},\"x_range\":{\"id\":\"1003\"},\"x_scale\":{\"id\":\"1011\"},\"y_range\":{\"id\":\"1004\"},\"y_scale\":{\"id\":\"1013\"}},\"id\":\"1006\",\"subtype\":\"Figure\",\"type\":\"Plot\"},{\"attributes\":{\"end\":10.0,\"reset_end\":10.0,\"reset_start\":1.0,\"start\":1.0,\"tags\":[[[\"k\",\"k\",null]]]},\"id\":\"1003\",\"type\":\"Range1d\"},{\"attributes\":{\"axis\":{\"id\":\"1015\"},\"grid_line_color\":null,\"ticker\":null},\"id\":\"1018\",\"type\":\"Grid\"},{\"attributes\":{},\"id\":\"1037\",\"type\":\"Selection\"},{\"attributes\":{\"callback\":null,\"renderers\":[{\"id\":\"1042\"}],\"tags\":[\"hv_created\"],\"tooltips\":[[\"k\",\"@{k}\"],[\"inertia\",\"@{inertia}\"]]},\"id\":\"1005\",\"type\":\"HoverTool\"},{\"attributes\":{},\"id\":\"1023\",\"type\":\"SaveTool\"},{\"attributes\":{\"children\":[{\"id\":\"1002\"},{\"id\":\"1006\"},{\"id\":\"1065\"}],\"margin\":[0,0,0,0],\"name\":\"Row01534\",\"tags\":[\"embedded\"]},\"id\":\"1001\",\"type\":\"Row\"},{\"attributes\":{\"line_alpha\":0.1,\"line_color\":\"#1f77b3\",\"line_width\":2,\"x\":{\"field\":\"k\"},\"y\":{\"field\":\"inertia\"}},\"id\":\"1040\",\"type\":\"Line\"},{\"attributes\":{\"data_source\":{\"id\":\"1036\"},\"glyph\":{\"id\":\"1039\"},\"hover_glyph\":null,\"muted_glyph\":{\"id\":\"1041\"},\"nonselection_glyph\":{\"id\":\"1040\"},\"selection_glyph\":null,\"view\":{\"id\":\"1043\"}},\"id\":\"1042\",\"type\":\"GlyphRenderer\"},{\"attributes\":{\"active_drag\":\"auto\",\"active_inspect\":\"auto\",\"active_multi\":null,\"active_scroll\":\"auto\",\"active_tap\":\"auto\",\"tools\":[{\"id\":\"1005\"},{\"id\":\"1023\"},{\"id\":\"1024\"},{\"id\":\"1025\"},{\"id\":\"1026\"},{\"id\":\"1027\"}]},\"id\":\"1029\",\"type\":\"Toolbar\"},{\"attributes\":{\"end\":3992.896390316314,\"reset_end\":3992.896390316314,\"reset_start\":-241.09600274568413,\"start\":-241.09600274568413,\"tags\":[[[\"inertia\",\"inertia\",null]]]},\"id\":\"1004\",\"type\":\"Range1d\"},{\"attributes\":{\"axis_label\":\"k\",\"bounds\":\"auto\",\"formatter\":{\"id\":\"1046\"},\"major_label_orientation\":\"horizontal\",\"ticker\":{\"id\":\"1044\"}},\"id\":\"1015\",\"type\":\"LinearAxis\"},{\"attributes\":{},\"id\":\"1011\",\"type\":\"LinearScale\"},{\"attributes\":{\"text\":\"Elbow Curve\",\"text_color\":{\"value\":\"black\"},\"text_font_size\":{\"value\":\"12pt\"}},\"id\":\"1007\",\"type\":\"Title\"},{\"attributes\":{\"margin\":[5,5,5,5],\"name\":\"HSpacer01538\",\"sizing_mode\":\"stretch_width\"},\"id\":\"1002\",\"type\":\"Spacer\"},{\"attributes\":{\"axis_label\":\"inertia\",\"bounds\":\"auto\",\"formatter\":{\"id\":\"1050\"},\"major_label_orientation\":\"horizontal\",\"ticker\":{\"id\":\"1020\"}},\"id\":\"1019\",\"type\":\"LinearAxis\"},{\"attributes\":{},\"id\":\"1055\",\"type\":\"UnionRenderers\"},{\"attributes\":{\"ticks\":[1,2,3,4,5,6,7,8,9,10]},\"id\":\"1044\",\"type\":\"FixedTicker\"},{\"attributes\":{},\"id\":\"1020\",\"type\":\"BasicTicker\"},{\"attributes\":{\"margin\":[5,5,5,5],\"name\":\"HSpacer01539\",\"sizing_mode\":\"stretch_width\"},\"id\":\"1065\",\"type\":\"Spacer\"},{\"attributes\":{\"line_color\":\"#1f77b3\",\"line_width\":2,\"x\":{\"field\":\"k\"},\"y\":{\"field\":\"inertia\"}},\"id\":\"1039\",\"type\":\"Line\"},{\"attributes\":{},\"id\":\"1025\",\"type\":\"WheelZoomTool\"},{\"attributes\":{},\"id\":\"1050\",\"type\":\"BasicTickFormatter\"},{\"attributes\":{\"source\":{\"id\":\"1036\"}},\"id\":\"1043\",\"type\":\"CDSView\"},{\"attributes\":{},\"id\":\"1046\",\"type\":\"BasicTickFormatter\"}],\"root_ids\":[\"1001\"]},\"title\":\"Bokeh Application\",\"version\":\"2.2.3\"}};\n",
       "    var render_items = [{\"docid\":\"5e04a5d3-f661-4ff5-a658-eafb70cb6541\",\"root_ids\":[\"1001\"],\"roots\":{\"1001\":\"f9be6c29-7b1c-479b-8856-93a1ac5dbf9a\"}}];\n",
       "    root.Bokeh.embed.embed_items_notebook(docs_json, render_items);\n",
       "  }\n",
       "  if (root.Bokeh !== undefined && root.Bokeh.Panel !== undefined) {\n",
       "    embed_document(root);\n",
       "  } else {\n",
       "    var attempts = 0;\n",
       "    var timer = setInterval(function(root) {\n",
       "      if (root.Bokeh !== undefined && root.Bokeh.Panel !== undefined) {\n",
       "        clearInterval(timer);\n",
       "        embed_document(root);\n",
       "      } else if (document.readyState == \"complete\") {\n",
       "        attempts++;\n",
       "        if (attempts > 100) {\n",
       "          clearInterval(timer);\n",
       "          console.log(\"Bokeh: ERROR: Unable to run BokehJS code because BokehJS library is missing\");\n",
       "        }\n",
       "      }\n",
       "    }, 10, root)\n",
       "  }\n",
       "})(window);</script>"
      ],
      "text/plain": [
       ":Curve   [k]   (inertia)"
      ]
     },
     "execution_count": 91,
     "metadata": {
      "application/vnd.holoviews_exec.v0+json": {
       "id": "1001"
      }
     },
     "output_type": "execute_result"
    }
   ],
   "source": [
    "# Create an elbow curve to find the best value for K.\n",
    "inertia = []\n",
    "k = list(range(1,11))\n",
    "\n",
    "for i in k:\n",
    "    km = KMeans(n_clusters=i, random_state=0)\n",
    "    km.fit(crypto_pca_df)\n",
    "    inertia.append(km.inertia_)\n",
    "\n",
    "elbow_data = {\"k\":k, \"inertia\": inertia}\n",
    "df_elbow = pd.DataFrame(elbow_data)\n",
    "df_elbow.hvplot.line(x=\"k\", y=\"inertia\", xticks=k, title=\"Elbow Curve\")"
   ]
  },
  {
   "cell_type": "markdown",
   "metadata": {},
   "source": [
    "Running K-Means with `k=4`"
   ]
  },
  {
   "cell_type": "code",
   "execution_count": 92,
   "metadata": {},
   "outputs": [
    {
     "data": {
      "text/plain": [
       "array([0, 0, 0, 1, 1, 1, 0, 1, 1, 1, 0, 1, 0, 0, 1, 0, 1, 1, 0, 0, 1, 1,\n",
       "       1, 1, 1, 0, 1, 1, 1, 0, 1, 0, 1, 1, 0, 0, 1, 1, 1, 1, 1, 1, 0, 0,\n",
       "       1, 1, 1, 1, 1, 0, 0, 1, 0, 1, 1, 1, 1, 0, 1, 1, 0, 1, 0, 0, 0, 1,\n",
       "       1, 1, 0, 0, 0, 0, 0, 1, 1, 1, 0, 0, 1, 0, 1, 0, 0, 1, 1, 1, 1, 0,\n",
       "       0, 1, 0, 1, 1, 0, 0, 1, 0, 0, 1, 1, 0, 0, 1, 0, 0, 1, 0, 1, 0, 1,\n",
       "       0, 1, 0, 0, 1, 1, 0, 1, 1, 1, 0, 1, 1, 1, 1, 1, 0, 0, 1, 1, 1, 0,\n",
       "       1, 0, 1, 1, 0, 1, 0, 1, 0, 0, 1, 1, 0, 1, 1, 0, 0, 1, 0, 1, 0, 0,\n",
       "       0, 1, 1, 1, 1, 0, 0, 0, 0, 0, 1, 1, 0, 0, 0, 0, 0, 1, 0, 0, 0, 0,\n",
       "       0, 1, 0, 1, 0, 0, 1, 0, 1, 0, 0, 1, 0, 1, 0, 1, 0, 1, 0, 0, 0, 0,\n",
       "       1, 0, 0, 0, 0, 0, 1, 1, 0, 0, 1, 1, 0, 0, 0, 0, 0, 1, 0, 0, 0, 0,\n",
       "       0, 0, 0, 0, 1, 0, 0, 0, 0, 0, 0, 1, 1, 1, 0, 0, 0, 0, 1, 0, 1, 0,\n",
       "       0, 1, 0, 1, 1, 0, 1, 1, 0, 1, 0, 0, 0, 1, 0, 0, 1, 0, 0, 0, 0, 0,\n",
       "       0, 0, 1, 0, 1, 0, 0, 0, 0, 1, 0, 1, 0, 1, 1, 1, 1, 0, 1, 0, 0, 1,\n",
       "       0, 1, 1, 1, 0, 1, 0, 1, 1, 1, 0, 1, 0, 1, 0, 0, 3, 1, 0, 1, 1, 1,\n",
       "       1, 1, 0, 0, 1, 0, 0, 0, 1, 0, 1, 0, 1, 0, 1, 0, 0, 0, 0, 1, 0, 0,\n",
       "       1, 0, 0, 0, 1, 1, 1, 1, 0, 0, 0, 0, 1, 0, 1, 1, 1, 0, 0, 1, 1, 0,\n",
       "       0, 1, 0, 1, 1, 1, 0, 1, 1, 0, 0, 0, 1, 1, 1, 0, 0, 0, 1, 1, 0, 1,\n",
       "       1, 1, 1, 0, 3, 3, 1, 1, 1, 0, 3, 0, 0, 0, 0, 1, 1, 1, 1, 0, 0, 0,\n",
       "       1, 0, 1, 0, 0, 0, 0, 1, 0, 0, 1, 0, 0, 1, 1, 0, 1, 0, 1, 1, 1, 1,\n",
       "       0, 0, 1, 0, 1, 0, 0, 0, 0, 0, 0, 1, 1, 1, 0, 0, 0, 0, 0, 0, 1, 0,\n",
       "       1, 1, 1, 1, 0, 0, 0, 0, 1, 0, 0, 1, 0, 0, 1, 3, 1, 0, 1, 1, 0, 0,\n",
       "       1, 0, 1, 1, 0, 1, 1, 0, 1, 0, 1, 0, 0, 1, 0, 0, 0, 0, 0, 1, 1, 1,\n",
       "       0, 0, 0, 1, 0, 1, 0, 1, 0, 0, 0, 0, 1, 0, 0, 0, 1, 0, 1, 0, 1, 0,\n",
       "       0, 0, 1, 1, 0, 0, 0, 0, 0, 0, 1, 0, 1, 0, 1, 0, 0, 3, 0, 2, 0, 0,\n",
       "       0, 1, 1, 0], dtype=int32)"
      ]
     },
     "execution_count": 92,
     "metadata": {},
     "output_type": "execute_result"
    }
   ],
   "source": [
    "# Initialize the K-Means model.\n",
    "model = KMeans(n_clusters=4, random_state=5)\n",
    "\n",
    "model.fit(crypto_pca_df)\n",
    "\n",
    "# Predict clusters\n",
    "predictions = model.predict(crypto_pca_df)\n",
    "predictions"
   ]
  },
  {
   "cell_type": "code",
   "execution_count": 95,
   "metadata": {},
   "outputs": [
    {
     "name": "stdout",
     "output_type": "stream",
     "text": [
      "(532, 9)\n"
     ]
    },
    {
     "data": {
      "text/html": [
       "<div>\n",
       "<style scoped>\n",
       "    .dataframe tbody tr th:only-of-type {\n",
       "        vertical-align: middle;\n",
       "    }\n",
       "\n",
       "    .dataframe tbody tr th {\n",
       "        vertical-align: top;\n",
       "    }\n",
       "\n",
       "    .dataframe thead th {\n",
       "        text-align: right;\n",
       "    }\n",
       "</style>\n",
       "<table border=\"1\" class=\"dataframe\">\n",
       "  <thead>\n",
       "    <tr style=\"text-align: right;\">\n",
       "      <th></th>\n",
       "      <th>Algorithm</th>\n",
       "      <th>ProofType</th>\n",
       "      <th>TotalCoinsMined</th>\n",
       "      <th>TotalCoinSupply</th>\n",
       "      <th>PC1</th>\n",
       "      <th>PC2</th>\n",
       "      <th>PC3</th>\n",
       "      <th>CoinName</th>\n",
       "      <th>class</th>\n",
       "    </tr>\n",
       "  </thead>\n",
       "  <tbody>\n",
       "    <tr>\n",
       "      <th>42</th>\n",
       "      <td>Scrypt</td>\n",
       "      <td>PoW/PoS</td>\n",
       "      <td>4.199995e+01</td>\n",
       "      <td>42</td>\n",
       "      <td>-0.337024</td>\n",
       "      <td>1.056332</td>\n",
       "      <td>-0.603821</td>\n",
       "      <td>42 Coin</td>\n",
       "      <td>0</td>\n",
       "    </tr>\n",
       "    <tr>\n",
       "      <th>404</th>\n",
       "      <td>Scrypt</td>\n",
       "      <td>PoW/PoS</td>\n",
       "      <td>1.055185e+09</td>\n",
       "      <td>532000000</td>\n",
       "      <td>-0.320360</td>\n",
       "      <td>1.056416</td>\n",
       "      <td>-0.604265</td>\n",
       "      <td>404Coin</td>\n",
       "      <td>0</td>\n",
       "    </tr>\n",
       "    <tr>\n",
       "      <th>1337</th>\n",
       "      <td>X13</td>\n",
       "      <td>PoW/PoS</td>\n",
       "      <td>2.927942e+10</td>\n",
       "      <td>314159265359</td>\n",
       "      <td>2.311375</td>\n",
       "      <td>1.651033</td>\n",
       "      <td>-0.733969</td>\n",
       "      <td>EliteCoin</td>\n",
       "      <td>0</td>\n",
       "    </tr>\n",
       "    <tr>\n",
       "      <th>BTC</th>\n",
       "      <td>SHA-256</td>\n",
       "      <td>PoW</td>\n",
       "      <td>1.792718e+07</td>\n",
       "      <td>21000000</td>\n",
       "      <td>-0.142137</td>\n",
       "      <td>-1.292448</td>\n",
       "      <td>0.190886</td>\n",
       "      <td>Bitcoin</td>\n",
       "      <td>1</td>\n",
       "    </tr>\n",
       "    <tr>\n",
       "      <th>ETH</th>\n",
       "      <td>Ethash</td>\n",
       "      <td>PoW</td>\n",
       "      <td>1.076842e+08</td>\n",
       "      <td>0</td>\n",
       "      <td>-0.148811</td>\n",
       "      <td>-1.977845</td>\n",
       "      <td>0.406621</td>\n",
       "      <td>Ethereum</td>\n",
       "      <td>1</td>\n",
       "    </tr>\n",
       "    <tr>\n",
       "      <th>LTC</th>\n",
       "      <td>Scrypt</td>\n",
       "      <td>PoW</td>\n",
       "      <td>6.303924e+07</td>\n",
       "      <td>84000000</td>\n",
       "      <td>-0.168270</td>\n",
       "      <td>-1.093760</td>\n",
       "      <td>-0.005578</td>\n",
       "      <td>Litecoin</td>\n",
       "      <td>1</td>\n",
       "    </tr>\n",
       "    <tr>\n",
       "      <th>DASH</th>\n",
       "      <td>X11</td>\n",
       "      <td>PoW/PoS</td>\n",
       "      <td>9.031294e+06</td>\n",
       "      <td>22000000</td>\n",
       "      <td>-0.393130</td>\n",
       "      <td>1.175083</td>\n",
       "      <td>-0.504107</td>\n",
       "      <td>Dash</td>\n",
       "      <td>0</td>\n",
       "    </tr>\n",
       "    <tr>\n",
       "      <th>XMR</th>\n",
       "      <td>CryptoNight-V7</td>\n",
       "      <td>PoW</td>\n",
       "      <td>1.720114e+07</td>\n",
       "      <td>0</td>\n",
       "      <td>-0.141564</td>\n",
       "      <td>-2.355893</td>\n",
       "      <td>0.556348</td>\n",
       "      <td>Monero</td>\n",
       "      <td>1</td>\n",
       "    </tr>\n",
       "    <tr>\n",
       "      <th>ETC</th>\n",
       "      <td>Ethash</td>\n",
       "      <td>PoW</td>\n",
       "      <td>1.133597e+08</td>\n",
       "      <td>210000000</td>\n",
       "      <td>-0.147253</td>\n",
       "      <td>-1.977952</td>\n",
       "      <td>0.406602</td>\n",
       "      <td>Ethereum Classic</td>\n",
       "      <td>1</td>\n",
       "    </tr>\n",
       "    <tr>\n",
       "      <th>ZEC</th>\n",
       "      <td>Equihash</td>\n",
       "      <td>PoW</td>\n",
       "      <td>7.383056e+06</td>\n",
       "      <td>21000000</td>\n",
       "      <td>-0.166766</td>\n",
       "      <td>-1.940549</td>\n",
       "      <td>0.392828</td>\n",
       "      <td>ZCash</td>\n",
       "      <td>1</td>\n",
       "    </tr>\n",
       "  </tbody>\n",
       "</table>\n",
       "</div>"
      ],
      "text/plain": [
       "           Algorithm ProofType  TotalCoinsMined TotalCoinSupply       PC1  \\\n",
       "42            Scrypt   PoW/PoS     4.199995e+01              42 -0.337024   \n",
       "404           Scrypt   PoW/PoS     1.055185e+09       532000000 -0.320360   \n",
       "1337             X13   PoW/PoS     2.927942e+10    314159265359  2.311375   \n",
       "BTC          SHA-256       PoW     1.792718e+07        21000000 -0.142137   \n",
       "ETH           Ethash       PoW     1.076842e+08               0 -0.148811   \n",
       "LTC           Scrypt       PoW     6.303924e+07        84000000 -0.168270   \n",
       "DASH             X11   PoW/PoS     9.031294e+06        22000000 -0.393130   \n",
       "XMR   CryptoNight-V7       PoW     1.720114e+07               0 -0.141564   \n",
       "ETC           Ethash       PoW     1.133597e+08       210000000 -0.147253   \n",
       "ZEC         Equihash       PoW     7.383056e+06        21000000 -0.166766   \n",
       "\n",
       "           PC2       PC3          CoinName  class  \n",
       "42    1.056332 -0.603821           42 Coin      0  \n",
       "404   1.056416 -0.604265           404Coin      0  \n",
       "1337  1.651033 -0.733969         EliteCoin      0  \n",
       "BTC  -1.292448  0.190886           Bitcoin      1  \n",
       "ETH  -1.977845  0.406621          Ethereum      1  \n",
       "LTC  -1.093760 -0.005578          Litecoin      1  \n",
       "DASH  1.175083 -0.504107              Dash      0  \n",
       "XMR  -2.355893  0.556348            Monero      1  \n",
       "ETC  -1.977952  0.406602  Ethereum Classic      1  \n",
       "ZEC  -1.940549  0.392828             ZCash      1  "
      ]
     },
     "execution_count": 95,
     "metadata": {},
     "output_type": "execute_result"
    }
   ],
   "source": [
    "# Create a new DataFrame including predicted clusters and cryptocurrencies features.\n",
    "# Concatentate the crypto_df and pcs_df DataFrames on the same columns.\n",
    "clustered_df = pd.concat([crypto_df, crypto_pca_df], axis = 1, join = \"inner\")\n",
    "\n",
    "#  Add a new column, \"CoinName\" to the clustered_df DataFrame that holds the names of the cryptocurrencies. \n",
    "clustered_df['CoinName'] = coin_names_df['CoinName']\n",
    "\n",
    "#  Add a new column, \"Class\" to the clustered_df DataFrame that holds the predictions.\n",
    "clustered_df['class'] = model.labels_\n",
    "\n",
    "# Print the shape of the clustered_df\n",
    "print(clustered_df.shape)\n",
    "clustered_df.head(10)"
   ]
  },
  {
   "cell_type": "markdown",
   "metadata": {},
   "source": [
    "### Deliverable 4: Visualizing Cryptocurrencies Results\n",
    "\n",
    "#### 3D-Scatter with Clusters"
   ]
  },
  {
   "cell_type": "code",
   "execution_count": 105,
   "metadata": {},
   "outputs": [
    {
     "data": {
      "application/vnd.plotly.v1+json": {
       "config": {
        "plotlyServerURL": "https://plot.ly"
       },
       "data": [
        {
         "customdata": [
          [
           "Scrypt",
           "42 Coin"
          ],
          [
           "Scrypt",
           "404Coin"
          ],
          [
           "X13",
           "EliteCoin"
          ],
          [
           "X11",
           "Dash"
          ],
          [
           "SHA-512",
           "Bitshares"
          ],
          [
           "SHA-256",
           "BitcoinDark"
          ],
          [
           "SHA-256",
           "PayCoin"
          ],
          [
           "X15",
           "KoboCoin"
          ],
          [
           "Scrypt",
           "Aurora Coin"
          ],
          [
           "Scrypt",
           "BlueCoin"
          ],
          [
           "Scrypt",
           "EnergyCoin"
          ],
          [
           "Scrypt",
           "BitBar"
          ],
          [
           "Scrypt",
           "CryptoBullion"
          ],
          [
           "Scrypt",
           "CasinoCoin"
          ],
          [
           "Groestl",
           "Diamond"
          ],
          [
           "PoS",
           "Exclusive Coin"
          ],
          [
           "Scrypt",
           "FlutterCoin"
          ],
          [
           "Scrypt",
           "HoboNickels"
          ],
          [
           "X11",
           "HyperStake"
          ],
          [
           "X11",
           "IOCoin"
          ],
          [
           "SHA3",
           "MaxCoin"
          ],
          [
           "Scrypt",
           "MintCoin"
          ],
          [
           "SHA-256",
           "MazaCoin"
          ],
          [
           "Scrypt",
           "Nautilus Coin"
          ],
          [
           "X13",
           "NavCoin"
          ],
          [
           "X13",
           "OpalCoin"
          ],
          [
           "NeoScrypt",
           "Orbitcoin"
          ],
          [
           "Scrypt",
           "PotCoin"
          ],
          [
           "Scrypt",
           "PhoenixCoin"
          ],
          [
           "Scrypt",
           "Reddcoin"
          ],
          [
           "X11",
           "SuperCoin"
          ],
          [
           "X11",
           "SyncCoin"
          ],
          [
           "Multiple",
           "TeslaCoin"
          ],
          [
           "PHI1612",
           "TittieCoin"
          ],
          [
           "X11",
           "TorCoin"
          ],
          [
           "Scrypt",
           "UnitaryStatus Dollar"
          ],
          [
           "Scrypt",
           "UltraCoin"
          ],
          [
           "Scrypt",
           "VeriCoin"
          ],
          [
           "X11",
           "X11 Coin"
          ],
          [
           "Multiple",
           "Crypti"
          ],
          [
           "X13",
           "StealthCoin"
          ],
          [
           "Scrypt",
           "ZCC Coin"
          ],
          [
           "Shabal256",
           "BurstCoin"
          ],
          [
           "Counterparty",
           "StorjCoin"
          ],
          [
           "SHA-256",
           "Neutron"
          ],
          [
           "Groestl",
           "FairCoin"
          ],
          [
           "Scrypt",
           "RubyCoin"
          ],
          [
           "X13",
           "Kore"
          ],
          [
           "Scrypt",
           "Dnotes"
          ],
          [
           "Scrypt",
           "8BIT Coin"
          ],
          [
           "X13",
           "Sativa Coin"
          ],
          [
           "X11",
           "Ucoin"
          ],
          [
           "Scrypt",
           "Vtorrent"
          ],
          [
           "X11",
           "IslaCoin"
          ],
          [
           "SHA3",
           "Nexus"
          ],
          [
           "QUAIT",
           "Droidz"
          ],
          [
           "X11",
           "Squall Coin"
          ],
          [
           "Scrypt",
           "Diggits"
          ],
          [
           "X13",
           "Paycon"
          ],
          [
           "SHA-256",
           "Emercoin"
          ],
          [
           "X15",
           "EverGreenCoin"
          ],
          [
           "BLAKE256",
           "Decred"
          ],
          [
           "SHA-256",
           "EDRCoin"
          ],
          [
           "X11",
           "Hitcoin"
          ],
          [
           "SHA-256",
           "DubaiCoin"
          ],
          [
           "NIST5",
           "PWR Coin"
          ],
          [
           "Scrypt",
           "BillaryCoin"
          ],
          [
           "Scrypt",
           "GPU Coin"
          ],
          [
           "X11",
           "EuropeCoin"
          ],
          [
           "Scrypt",
           "ZeitCoin"
          ],
          [
           "SHA-256",
           "SwingCoin"
          ],
          [
           "Scrypt",
           "SafeExchangeCoin"
          ],
          [
           "PoS",
           "Nebuchadnezzar"
          ],
          [
           "X11",
           "Ratecoin"
          ],
          [
           "SHA-256",
           "Revenu"
          ],
          [
           "SHA-256",
           "Clockcoin"
          ],
          [
           "NIST5",
           "VIP Tokens"
          ],
          [
           "X11",
           "BitSend"
          ],
          [
           "POS 3.0",
           "Let it Ride"
          ],
          [
           "Scrypt",
           "PutinCoin"
          ],
          [
           "Scrypt",
           "iBankCoin"
          ],
          [
           "Scrypt",
           "Frankywillcoin"
          ],
          [
           "X13",
           "MudraCoin"
          ],
          [
           "X11",
           "Lutetium Coin"
          ],
          [
           "X11",
           "GoldBlocks"
          ],
          [
           "Scrypt",
           "CarterCoin"
          ],
          [
           "SHA-256",
           "BitTokens"
          ],
          [
           "X11",
           "MustangCoin"
          ],
          [
           "Scrypt",
           "ZoneCoin"
          ],
          [
           "Scrypt",
           "RootCoin"
          ],
          [
           "Scrypt",
           "BitCurrency"
          ],
          [
           "Scrypt",
           "Swiscoin"
          ],
          [
           "SHA-256D",
           "BuzzCoin"
          ],
          [
           "PoS",
           "Opair"
          ],
          [
           "Scrypt",
           "PesoBit"
          ],
          [
           "X11",
           "Halloween Coin"
          ],
          [
           "PoS",
           "CoffeeCoin"
          ],
          [
           "X13",
           "RoyalCoin"
          ],
          [
           "X14",
           "GanjaCoin V2"
          ],
          [
           "PoS",
           "TeamUP"
          ],
          [
           "SHA-256D",
           "LanaCoin"
          ],
          [
           "DPoS",
           "ARK"
          ],
          [
           "X11",
           "InsaneCoin"
          ],
          [
           "X13",
           "EmberCoin"
          ],
          [
           "X11",
           "XenixCoin"
          ],
          [
           "PoS",
           "FreeCoin"
          ],
          [
           "Scrypt",
           "PLNCoin"
          ],
          [
           "Scrypt",
           "AquariusCoin"
          ],
          [
           "PoS",
           "Creatio"
          ],
          [
           "X11",
           "Eternity"
          ],
          [
           "SHA-256",
           "Eurocoin"
          ],
          [
           "Scrypt",
           "BitcoinFast"
          ],
          [
           "X11",
           "Stakenet"
          ],
          [
           "Scrypt",
           "BitConnect Coin"
          ],
          [
           "Scrypt",
           "MoneyCoin"
          ],
          [
           "X11",
           "Enigma"
          ],
          [
           "Scrypt",
           "Russiacoin"
          ],
          [
           "Scrypt",
           "PandaCoin"
          ],
          [
           "Scrypt",
           "GameUnits"
          ],
          [
           "Scrypt",
           "GAKHcoin"
          ],
          [
           "Quark",
           "Allsafe"
          ],
          [
           "QuBit",
           "LiteCreed"
          ],
          [
           "Scrypt",
           "Klingon Empire Darsek"
          ],
          [
           "SHA-256",
           "Internet of People"
          ],
          [
           "X11",
           "KushCoin"
          ],
          [
           "Scrypt",
           "Printerium"
          ],
          [
           "Scrypt",
           "Impeach"
          ],
          [
           "Scrypt",
           "Zilbercoin"
          ],
          [
           "Scrypt",
           "FirstCoin"
          ],
          [
           "X13",
           "FindCoin"
          ],
          [
           "Scrypt",
           "OpenChat"
          ],
          [
           "Scrypt",
           "RenosCoin"
          ],
          [
           "X11",
           "VirtacoinPlus"
          ],
          [
           "Blake2S",
           "TajCoin"
          ],
          [
           "X11",
           "Impact"
          ],
          [
           "PoS",
           "Atmos"
          ],
          [
           "X11",
           "HappyCoin"
          ],
          [
           "PoS",
           "MacronCoin"
          ],
          [
           "X11",
           "Condensate"
          ],
          [
           "Scrypt",
           "Independent Money System"
          ],
          [
           "Scrypt",
           "ArgusCoin"
          ],
          [
           "Scrypt",
           "LomoCoin"
          ],
          [
           "SHA-256",
           "ProCurrency"
          ],
          [
           "X11",
           "GoldReserve"
          ],
          [
           "Scrypt",
           "GrowthCoin"
          ],
          [
           "PoS",
           "Phreak"
          ],
          [
           "Scrypt",
           "Degas Coin"
          ],
          [
           "X15",
           "HTML5 Coin"
          ],
          [
           "SHA-256",
           "Ultimate Secure Cash"
          ],
          [
           "POS 3.0",
           "QTUM"
          ],
          [
           "536",
           "Espers"
          ],
          [
           "NIST5",
           "Denarius"
          ],
          [
           "NIST5",
           "Virta Unique Coin"
          ],
          [
           "Skein",
           "Bitcoin Planet"
          ],
          [
           "X13",
           "BritCoin"
          ],
          [
           "Scrypt",
           "Linda"
          ],
          [
           "X13",
           "DeepOnion"
          ],
          [
           "SkunkHash v2 Raptor",
           "Signatum"
          ],
          [
           "Skein",
           "Cream"
          ],
          [
           "X11",
           "Monoeci"
          ],
          [
           "Scrypt",
           "Draftcoin"
          ],
          [
           "PoS",
           "Stakecoin"
          ],
          [
           "Scrypt",
           "CoinonatX"
          ],
          [
           "Scrypt",
           "Ethereum Dark"
          ],
          [
           "SHA-512",
           "Obsidian"
          ],
          [
           "Ouroboros",
           "Cardano"
          ],
          [
           "X11",
           "Regalcoin"
          ],
          [
           "NeoScrypt",
           "TrezarCoin"
          ],
          [
           "Scrypt",
           "TerraNovaCoin"
          ],
          [
           "Lyra2REv2",
           "Rupee"
          ],
          [
           "Scrypt",
           "WomenCoin"
          ],
          [
           "SHA-256",
           "Theresa May Coin"
          ],
          [
           "NIST5",
           "NamoCoin"
          ],
          [
           "PHI1612",
           "LUXCoin"
          ],
          [
           "Scrypt",
           "Xios"
          ],
          [
           "Quark",
           "Bitcloud 2.0"
          ],
          [
           "POS 2.0",
           "KekCoin"
          ],
          [
           "Scrypt",
           "BlackholeCoin"
          ],
          [
           "SHA-256",
           "Infinity Economics"
          ],
          [
           "X11",
           "Magnet"
          ],
          [
           "DPoS",
           "Lamden Tau"
          ],
          [
           "NIST5",
           "Electra"
          ],
          [
           "X13",
           "Bitcoin Diamond"
          ],
          [
           "Scrypt",
           "Cash & Back Coin"
          ],
          [
           "NIST5",
           "Bulwark"
          ],
          [
           "Quark",
           "Kalkulus"
          ],
          [
           "Scrypt",
           "GermanCoin"
          ],
          [
           "Scrypt",
           "LiteCoin Ultra"
          ],
          [
           "X11",
           "PhantomX"
          ],
          [
           "Quark",
           "Digiwage"
          ],
          [
           "Scrypt",
           "Trollcoin"
          ],
          [
           "Scrypt",
           "Litecoin Plus"
          ],
          [
           "X11",
           "Monkey Project"
          ],
          [
           "POS 3.0",
           "TokenPay"
          ],
          [
           "Ethash",
           "1717 Masonic Commemorative Token"
          ],
          [
           "Scrypt",
           "My Big Coin"
          ],
          [
           "Scrypt",
           "Unified Society USDEX"
          ],
          [
           "X13",
           "Tokyo Coin"
          ],
          [
           "C11",
           "Stipend"
          ],
          [
           "X11",
           "Pushi"
          ],
          [
           "XEVAN",
           "Ellerium"
          ],
          [
           "Scrypt",
           "Velox"
          ],
          [
           "VBFT",
           "Ontology"
          ],
          [
           "NIST5",
           "Bitspace"
          ],
          [
           "Scrypt",
           "Briacoin"
          ],
          [
           "Scrypt",
           "Ignition"
          ],
          [
           "Scrypt",
           "MedicCoin"
          ],
          [
           "Green Protocol",
           "Bitcoin Green"
          ],
          [
           "PoS",
           "Deviant Coin"
          ],
          [
           "Scrypt",
           "Abjcoin"
          ],
          [
           "Semux BFT consensus",
           "Semux"
          ],
          [
           "Quark",
           "Carebit"
          ],
          [
           "PoS",
           "Zealium"
          ],
          [
           "X16R",
           "Proton"
          ],
          [
           "Scrypt",
           "iDealCash"
          ],
          [
           "XEVAN",
           "Bitcoin Incognito"
          ],
          [
           "Scrypt",
           "HollyWoodCoin"
          ],
          [
           "Scrypt",
           "Swisscoin"
          ],
          [
           "Scrypt",
           "Xt3ch"
          ],
          [
           "SHA-256D",
           "TheVig"
          ],
          [
           "Scrypt",
           "EmaratCoin"
          ],
          [
           "X15",
           "Dekado"
          ],
          [
           "Scrypt",
           "Lynx"
          ],
          [
           "Quark",
           "Poseidon Quark"
          ],
          [
           "SHA-256",
           "BitcoinWSpectrum"
          ],
          [
           "DPoS",
           "Muse"
          ],
          [
           "X16R",
           "Trivechain"
          ],
          [
           "Quark",
           "Dystem"
          ],
          [
           "Quark",
           "Giant"
          ],
          [
           "Scrypt",
           "Peony Coin"
          ],
          [
           "Lyra2REv2",
           "Absolute Coin"
          ],
          [
           "Quark",
           "Vitae"
          ],
          [
           "Scrypt",
           "TPCash"
          ],
          [
           "X11",
           "ARENON"
          ],
          [
           "X11",
           "EUNO"
          ],
          [
           "Scrypt",
           "MMOCoin"
          ],
          [
           "PoS",
           "Ketan"
          ],
          [
           "Keccak",
           "XDNA"
          ],
          [
           "X11",
           "PAXEX"
          ],
          [
           "Scrypt",
           "ThunderStake"
          ],
          [
           "SHA-512",
           "Kcash"
          ],
          [
           "XEVAN",
           "Bettex coin"
          ],
          [
           "XEVAN",
           "BitMoney"
          ],
          [
           "X11",
           "Junson Ming Chan Coin"
          ],
          [
           "Quark",
           "HerbCoin"
          ],
          [
           "Equihash",
           "PirateCash"
          ],
          [
           "Scrypt",
           "Oduwa"
          ],
          [
           "Quark",
           "Galilel"
          ],
          [
           "Quark",
           "Crypto Sports"
          ],
          [
           "Scrypt",
           "Credit"
          ],
          [
           "X11",
           "Dash Platinum"
          ],
          [
           "Scrypt",
           "Nasdacoin"
          ],
          [
           "XEVAN",
           "Beetle Coin"
          ],
          [
           "SHA-256D",
           "Titan Coin"
          ],
          [
           "X11",
           "Award"
          ],
          [
           "X11",
           "Insane Coin"
          ],
          [
           "DPoS",
           "ALAX"
          ],
          [
           "Scrypt",
           "LiteDoge"
          ],
          [
           "X11",
           "TruckCoin"
          ],
          [
           "Scrypt",
           "OrangeCoin"
          ],
          [
           "Scrypt",
           "BitstarCoin"
          ],
          [
           "SHA-256",
           "NeosCoin"
          ],
          [
           "Scrypt",
           "HyperCoin"
          ],
          [
           "X11",
           "PinkCoin"
          ],
          [
           "Scrypt",
           "AudioCoin"
          ],
          [
           "SHA-256",
           "IncaKoin"
          ],
          [
           "X11",
           "Piggy Coin"
          ],
          [
           "Scrypt",
           "Genstake"
          ],
          [
           "Scrypt",
           "XiaoMiCoin"
          ],
          [
           "X11",
           "CapriCoin"
          ],
          [
           "Scrypt",
           " ClubCoin"
          ],
          [
           "PoS",
           "Radium"
          ],
          [
           "X11",
           "Creditbit "
          ],
          [
           "SHA-256",
           "OKCash"
          ],
          [
           "DPoS",
           "Lisk"
          ],
          [
           "Scrypt",
           "HiCoin"
          ],
          [
           "Scrypt",
           "WhiteCoin"
          ],
          [
           "NeoScrypt",
           "FriendshipCoin"
          ],
          [
           "X13",
           "Triangles Coin"
          ],
          [
           "DPoS",
           "EOS"
          ],
          [
           "DPoS",
           "Oxycoin"
          ],
          [
           "SHA-256",
           "TigerCash"
          ],
          [
           "PoS",
           "Particl"
          ],
          [
           "PoS",
           "Nxt"
          ],
          [
           "SHA-256",
           "ZEPHYR"
          ],
          [
           "Scrypt",
           "Gapcoin"
          ],
          [
           "Scrypt",
           "BitcoinPlus"
          ]
         ],
         "hovertemplate": "<b>%{hovertext}</b><br><br>class=%{marker.color}<br>PC1=%{x}<br>PC2=%{y}<br>PC3=%{z}<br>Algorithm=%{customdata[0]}<br>CoinName=%{customdata[1]}<extra></extra>",
         "hovertext": [
          "42 Coin",
          "404Coin",
          "EliteCoin",
          "Dash",
          "Bitshares",
          "BitcoinDark",
          "PayCoin",
          "KoboCoin",
          "Aurora Coin",
          "BlueCoin",
          "EnergyCoin",
          "BitBar",
          "CryptoBullion",
          "CasinoCoin",
          "Diamond",
          "Exclusive Coin",
          "FlutterCoin",
          "HoboNickels",
          "HyperStake",
          "IOCoin",
          "MaxCoin",
          "MintCoin",
          "MazaCoin",
          "Nautilus Coin",
          "NavCoin",
          "OpalCoin",
          "Orbitcoin",
          "PotCoin",
          "PhoenixCoin",
          "Reddcoin",
          "SuperCoin",
          "SyncCoin",
          "TeslaCoin",
          "TittieCoin",
          "TorCoin",
          "UnitaryStatus Dollar",
          "UltraCoin",
          "VeriCoin",
          "X11 Coin",
          "Crypti",
          "StealthCoin",
          "ZCC Coin",
          "BurstCoin",
          "StorjCoin",
          "Neutron",
          "FairCoin",
          "RubyCoin",
          "Kore",
          "Dnotes",
          "8BIT Coin",
          "Sativa Coin",
          "Ucoin",
          "Vtorrent",
          "IslaCoin",
          "Nexus",
          "Droidz",
          "Squall Coin",
          "Diggits",
          "Paycon",
          "Emercoin",
          "EverGreenCoin",
          "Decred",
          "EDRCoin",
          "Hitcoin",
          "DubaiCoin",
          "PWR Coin",
          "BillaryCoin",
          "GPU Coin",
          "EuropeCoin",
          "ZeitCoin",
          "SwingCoin",
          "SafeExchangeCoin",
          "Nebuchadnezzar",
          "Ratecoin",
          "Revenu",
          "Clockcoin",
          "VIP Tokens",
          "BitSend",
          "Let it Ride",
          "PutinCoin",
          "iBankCoin",
          "Frankywillcoin",
          "MudraCoin",
          "Lutetium Coin",
          "GoldBlocks",
          "CarterCoin",
          "BitTokens",
          "MustangCoin",
          "ZoneCoin",
          "RootCoin",
          "BitCurrency",
          "Swiscoin",
          "BuzzCoin",
          "Opair",
          "PesoBit",
          "Halloween Coin",
          "CoffeeCoin",
          "RoyalCoin",
          "GanjaCoin V2",
          "TeamUP",
          "LanaCoin",
          "ARK",
          "InsaneCoin",
          "EmberCoin",
          "XenixCoin",
          "FreeCoin",
          "PLNCoin",
          "AquariusCoin",
          "Creatio",
          "Eternity",
          "Eurocoin",
          "BitcoinFast",
          "Stakenet",
          "BitConnect Coin",
          "MoneyCoin",
          "Enigma",
          "Russiacoin",
          "PandaCoin",
          "GameUnits",
          "GAKHcoin",
          "Allsafe",
          "LiteCreed",
          "Klingon Empire Darsek",
          "Internet of People",
          "KushCoin",
          "Printerium",
          "Impeach",
          "Zilbercoin",
          "FirstCoin",
          "FindCoin",
          "OpenChat",
          "RenosCoin",
          "VirtacoinPlus",
          "TajCoin",
          "Impact",
          "Atmos",
          "HappyCoin",
          "MacronCoin",
          "Condensate",
          "Independent Money System",
          "ArgusCoin",
          "LomoCoin",
          "ProCurrency",
          "GoldReserve",
          "GrowthCoin",
          "Phreak",
          "Degas Coin",
          "HTML5 Coin",
          "Ultimate Secure Cash",
          "QTUM",
          "Espers",
          "Denarius",
          "Virta Unique Coin",
          "Bitcoin Planet",
          "BritCoin",
          "Linda",
          "DeepOnion",
          "Signatum",
          "Cream",
          "Monoeci",
          "Draftcoin",
          "Stakecoin",
          "CoinonatX",
          "Ethereum Dark",
          "Obsidian",
          "Cardano",
          "Regalcoin",
          "TrezarCoin",
          "TerraNovaCoin",
          "Rupee",
          "WomenCoin",
          "Theresa May Coin",
          "NamoCoin",
          "LUXCoin",
          "Xios",
          "Bitcloud 2.0",
          "KekCoin",
          "BlackholeCoin",
          "Infinity Economics",
          "Magnet",
          "Lamden Tau",
          "Electra",
          "Bitcoin Diamond",
          "Cash & Back Coin",
          "Bulwark",
          "Kalkulus",
          "GermanCoin",
          "LiteCoin Ultra",
          "PhantomX",
          "Digiwage",
          "Trollcoin",
          "Litecoin Plus",
          "Monkey Project",
          "TokenPay",
          "1717 Masonic Commemorative Token",
          "My Big Coin",
          "Unified Society USDEX",
          "Tokyo Coin",
          "Stipend",
          "Pushi",
          "Ellerium",
          "Velox",
          "Ontology",
          "Bitspace",
          "Briacoin",
          "Ignition",
          "MedicCoin",
          "Bitcoin Green",
          "Deviant Coin",
          "Abjcoin",
          "Semux",
          "Carebit",
          "Zealium",
          "Proton",
          "iDealCash",
          "Bitcoin Incognito",
          "HollyWoodCoin",
          "Swisscoin",
          "Xt3ch",
          "TheVig",
          "EmaratCoin",
          "Dekado",
          "Lynx",
          "Poseidon Quark",
          "BitcoinWSpectrum",
          "Muse",
          "Trivechain",
          "Dystem",
          "Giant",
          "Peony Coin",
          "Absolute Coin",
          "Vitae",
          "TPCash",
          "ARENON",
          "EUNO",
          "MMOCoin",
          "Ketan",
          "XDNA",
          "PAXEX",
          "ThunderStake",
          "Kcash",
          "Bettex coin",
          "BitMoney",
          "Junson Ming Chan Coin",
          "HerbCoin",
          "PirateCash",
          "Oduwa",
          "Galilel",
          "Crypto Sports",
          "Credit",
          "Dash Platinum",
          "Nasdacoin",
          "Beetle Coin",
          "Titan Coin",
          "Award",
          "Insane Coin",
          "ALAX",
          "LiteDoge",
          "TruckCoin",
          "OrangeCoin",
          "BitstarCoin",
          "NeosCoin",
          "HyperCoin",
          "PinkCoin",
          "AudioCoin",
          "IncaKoin",
          "Piggy Coin",
          "Genstake",
          "XiaoMiCoin",
          "CapriCoin",
          " ClubCoin",
          "Radium",
          "Creditbit ",
          "OKCash",
          "Lisk",
          "HiCoin",
          "WhiteCoin",
          "FriendshipCoin",
          "Triangles Coin",
          "EOS",
          "Oxycoin",
          "TigerCash",
          "Particl",
          "Nxt",
          "ZEPHYR",
          "Gapcoin",
          "BitcoinPlus"
         ],
         "legendgroup": "0",
         "marker": {
          "color": [
           0,
           0,
           0,
           0,
           0,
           0,
           0,
           0,
           0,
           0,
           0,
           0,
           0,
           0,
           0,
           0,
           0,
           0,
           0,
           0,
           0,
           0,
           0,
           0,
           0,
           0,
           0,
           0,
           0,
           0,
           0,
           0,
           0,
           0,
           0,
           0,
           0,
           0,
           0,
           0,
           0,
           0,
           0,
           0,
           0,
           0,
           0,
           0,
           0,
           0,
           0,
           0,
           0,
           0,
           0,
           0,
           0,
           0,
           0,
           0,
           0,
           0,
           0,
           0,
           0,
           0,
           0,
           0,
           0,
           0,
           0,
           0,
           0,
           0,
           0,
           0,
           0,
           0,
           0,
           0,
           0,
           0,
           0,
           0,
           0,
           0,
           0,
           0,
           0,
           0,
           0,
           0,
           0,
           0,
           0,
           0,
           0,
           0,
           0,
           0,
           0,
           0,
           0,
           0,
           0,
           0,
           0,
           0,
           0,
           0,
           0,
           0,
           0,
           0,
           0,
           0,
           0,
           0,
           0,
           0,
           0,
           0,
           0,
           0,
           0,
           0,
           0,
           0,
           0,
           0,
           0,
           0,
           0,
           0,
           0,
           0,
           0,
           0,
           0,
           0,
           0,
           0,
           0,
           0,
           0,
           0,
           0,
           0,
           0,
           0,
           0,
           0,
           0,
           0,
           0,
           0,
           0,
           0,
           0,
           0,
           0,
           0,
           0,
           0,
           0,
           0,
           0,
           0,
           0,
           0,
           0,
           0,
           0,
           0,
           0,
           0,
           0,
           0,
           0,
           0,
           0,
           0,
           0,
           0,
           0,
           0,
           0,
           0,
           0,
           0,
           0,
           0,
           0,
           0,
           0,
           0,
           0,
           0,
           0,
           0,
           0,
           0,
           0,
           0,
           0,
           0,
           0,
           0,
           0,
           0,
           0,
           0,
           0,
           0,
           0,
           0,
           0,
           0,
           0,
           0,
           0,
           0,
           0,
           0,
           0,
           0,
           0,
           0,
           0,
           0,
           0,
           0,
           0,
           0,
           0,
           0,
           0,
           0,
           0,
           0,
           0,
           0,
           0,
           0,
           0,
           0,
           0,
           0,
           0,
           0,
           0,
           0,
           0,
           0,
           0,
           0,
           0,
           0,
           0,
           0,
           0,
           0,
           0,
           0,
           0,
           0,
           0,
           0,
           0,
           0,
           0,
           0,
           0,
           0,
           0,
           0,
           0,
           0,
           0,
           0,
           0,
           0,
           0,
           0,
           0,
           0,
           0
          ],
          "coloraxis": "coloraxis",
          "symbol": "circle"
         },
         "mode": "markers",
         "name": "0",
         "scene": "scene",
         "showlegend": true,
         "type": "scatter3d",
         "x": [
          -0.33702420886407525,
          -0.3203595013288899,
          2.311374610224522,
          -0.39313041170664836,
          -0.26649794550415645,
          -0.309721368055142,
          -0.2656415219147144,
          -0.242175675837033,
          -0.33668373733766577,
          -0.32926018740119173,
          -0.33552054837263495,
          -0.33702014451159834,
          -0.337004423272892,
          0.6582877356559289,
          -0.3669529211138483,
          -0.35309512295574624,
          -0.2855451772612432,
          -0.33508271232268616,
          -0.32887110732206903,
          -0.3930250915911219,
          -0.42136792617246,
          -0.032824805664532386,
          -0.2730225505327803,
          -0.29269541837364965,
          -0.27289910840673426,
          -0.27352141319683776,
          -0.34436378586060723,
          -0.3313256788270147,
          -0.33542572683872235,
          0.021172446873236273,
          -0.348760777755537,
          -0.39339671604781123,
          -0.24983993365867607,
          -0.3093220290387631,
          -0.3933083442386776,
          -0.31225281347729433,
          -0.3357014232696267,
          -0.3074411693701315,
          -0.39327281384947355,
          -0.2503077231124523,
          -0.27330224285878135,
          -0.32812616934721006,
          -0.0016545157480445144,
          -0.34644424623538084,
          -0.3089329711478642,
          -0.36637439400828503,
          -0.292675671310718,
          -0.27359681412529074,
          -0.287328989636541,
          -0.3370062746395029,
          -0.27354899178361913,
          -0.3492056950703024,
          -0.3367406196499107,
          -0.39337824209949124,
          -0.432528118916879,
          -0.4271025362889269,
          -0.36646615393701365,
          -0.29107698414011146,
          -0.2730705640241458,
          -0.3022771598336031,
          -0.24461742825166408,
          -0.0767430847952515,
          -0.3096922775284142,
          -0.07080240071122469,
          -0.30975597927475024,
          -0.2258477885203918,
          -0.33661648560567964,
          -0.29094603545700726,
          -0.39054709176263547,
          0.860620906823261,
          -0.3095560177912667,
          -0.0725856301977902,
          -0.3527783522944324,
          -0.39122092282437204,
          -0.30829940852318577,
          -0.30596734994527647,
          -0.34722512932064975,
          -0.3921132703312482,
          -0.34288079911274594,
          -0.31290972012820084,
          -0.3366545896684107,
          -0.33509336472926277,
          -0.2282111697897909,
          -0.3366947056361512,
          -0.39285207803131356,
          -0.3358587035900717,
          -0.3097369306697066,
          -0.39336743269239605,
          -0.3368437756997789,
          -0.337000506850179,
          -0.29093556294631706,
          -0.24897121880710726,
          0.03395077659428199,
          -0.3517352829503233,
          -0.33661460439446717,
          -0.3795280249622221,
          -0.3510638112981029,
          -0.22964194940173252,
          -0.39736759252534115,
          -0.3508127714229783,
          -0.28062074199460213,
          3.7195572138299497,
          -0.39295991912386957,
          0.8587915648712351,
          -0.39332233575364284,
          -0.3521990988107038,
          -0.3365421569641744,
          -0.3366965075710903,
          -0.3527783522944324,
          -0.3928971886775548,
          -0.3095995822794143,
          -0.3365428916542303,
          -0.37825806833597514,
          -0.3366903038227544,
          -0.33227780252878436,
          -0.3933513343421104,
          -0.335900912263327,
          0.350667380938774,
          -0.33688960711891447,
          -0.33696018693070634,
          -0.3493574027116432,
          -0.3525259175497929,
          -0.333186485482166,
          -0.30971334073938,
          -0.3932612730100191,
          -0.33673796812953577,
          -0.33686494121257615,
          -0.2925821797217128,
          -0.29787267513195,
          -0.22940977055889114,
          -0.3177157602174003,
          -0.29232326585835605,
          -0.3925269265542882,
          -0.4170691259508736,
          -0.391265105590076,
          -0.35102465719525494,
          -0.392424796076728,
          -0.3454237738991209,
          -0.3883652502421044,
          -0.336808218866595,
          -0.33680741044314055,
          -0.3299283009523269,
          0.26708677689177523,
          -0.39290333443535114,
          -0.27522207330677995,
          -0.3528126541163715,
          -0.3360188054752409,
          0.889911082020697,
          -0.26433177548757336,
          -0.34165897781477367,
          0.5679134209807412,
          -0.3487609958871582,
          -0.34726301942186644,
          -0.4054597978424127,
          -0.2732340421532538,
          0.1279826062203289,
          -0.2733048227756563,
          -0.3534447561314417,
          -0.40496460722939287,
          -0.393175753454314,
          -0.29265638450967707,
          -0.3526789152885916,
          -0.3364433652864013,
          -0.33694311418730294,
          -0.32457015697957015,
          0.6555848413223808,
          -0.39311657618607093,
          -0.3393623515314519,
          -0.3368987252594388,
          -0.30984294502669946,
          0.4323301112722271,
          -0.30805937534293826,
          -0.333525777439195,
          -0.38894071458657514,
          -0.3368490576022639,
          -0.39181542970801836,
          -0.35623192677840476,
          -0.33671943555346406,
          -0.09210066621005505,
          -0.39190907114263646,
          3.724413883033703,
          0.2108103977836872,
          -0.2699752076110411,
          -0.3341793629512554,
          -0.30450811756791135,
          -0.3492432901413278,
          0.07747766326967793,
          -0.3358578660347004,
          -0.39249027963516037,
          -0.3484079215227293,
          -0.3234218900818379,
          -0.3369652490366378,
          -0.34917762047254586,
          -0.3431627569483308,
          -0.273467300838475,
          -0.2957637595064236,
          -0.33250987187528575,
          -0.22120444142773069,
          -0.3716928992726237,
          -0.39319300461329465,
          -0.31737838834646637,
          -0.29181626291804036,
          -0.3218986759295333,
          -0.34835990359740115,
          -0.33699260772431194,
          -0.336974316358103,
          -0.28619691261833796,
          -0.3421831542212837,
          -0.35227331657732647,
          -0.3366907892921973,
          3.9093492438449986,
          -0.3904832541675007,
          -0.35246201267768396,
          -0.3185148315693444,
          -0.28355369351905574,
          -0.29060020837203204,
          -0.29235054934172544,
          -0.1400780252072501,
          -0.292602649612231,
          -0.34594423714978145,
          -0.3361647517526329,
          -0.19994470639749026,
          2.2321526708310255,
          -0.3449507039877029,
          -0.26445949989503015,
          1.0172833658821465,
          -0.36186767235281275,
          -0.3493568396273084,
          -0.39349979554556186,
          -0.17331928326772655,
          -0.35378760734144676,
          -0.34807619353154107,
          -0.32986838310566663,
          -0.34875497056415533,
          -0.3926662659288254,
          -0.2898477522512867,
          -0.3515616984530268,
          -0.3445694932522582,
          -0.34861633638245665,
          -0.19645661252855057,
          -0.30381420014538,
          -0.2733550958017277,
          0.5143204142608588,
          -0.13909832133483718,
          -0.3927943268683405,
          -0.2894676909932427,
          -0.33669476218288386,
          -0.3932505080812374,
          -0.34947383262643156,
          0.5699413486106173,
          -0.3492319434893882,
          -0.3361776156875247,
          -0.31183324402108575,
          -0.30065802239761696,
          -0.3902306073222674,
          -0.3928935333980329,
          3.7366573549627122,
          0.09829488979426752,
          -0.39043280941362446,
          -0.3355630305974317,
          -0.33638812723126355,
          -0.265674157952656,
          -0.336906529412652,
          -0.3845201855800865,
          -0.2505980884254917,
          -0.0893468074093043,
          -0.3802679843776903,
          -0.3361847436804626,
          -0.32924808838779257,
          -0.38946165899285146,
          -0.3346237223279567,
          -0.35305402262449737,
          -0.3918325507868077,
          -0.3082362221534244,
          3.719949081222689,
          -0.09985770199872701,
          -0.3318181020536934,
          -0.3439895963171411,
          -0.2737040326187429,
          3.72981858190311,
          3.7310629018590813,
          -0.24656826174886867,
          -0.3529898795537601,
          -0.3629983772525226,
          2.4731562412074726,
          -0.3350693225976153,
          -0.29299917130381486
         ],
         "y": [
          1.0563321570272142,
          1.0564158127298462,
          1.6510334783285154,
          1.175082935593303,
          1.816420030584546,
          0.8576154548048426,
          0.6096747187302044,
          1.8844184330089122,
          1.056329654324364,
          1.056548087521821,
          1.0563739763785547,
          1.0563319131220408,
          1.0563319933844457,
          0.2751231319895672,
          0.9477395504128783,
          1.4509984312972968,
          0.47823433935401366,
          1.0563004801443034,
          0.9277123484033788,
          1.1750858647224398,
          2.052932699999882,
          0.8156189998743991,
          0.8569246457510121,
          0.8083800104801082,
          1.8034523754466507,
          1.8034350681062343,
          0.5055097488656988,
          1.0561907865762967,
          1.0563066470864495,
          1.0662942070938033,
          0.9271591832945033,
          1.1750912352601877,
          0.0634856310394735,
          1.5349607627635409,
          1.1750865543099709,
          1.0558787819354103,
          1.0562975516196071,
          0.3864528144016158,
          1.175090755214319,
          0.06354401535439165,
          1.8034411636010952,
          1.0558656832211357,
          0.27039840599588066,
          1.5240096585446712,
          0.857604540056437,
          0.9477587672938469,
          0.808392111280777,
          1.8034244037609466,
          0.8081838398468643,
          1.0563326558380801,
          1.803427161667004,
          0.927132530532513,
          1.0563257652841875,
          1.175091749765632,
          2.302444628132994,
          1.8736402892490338,
          0.5779601654883859,
          0.8083651791289682,
          1.8034119098159542,
          0.8571242542323836,
          1.8845816286335813,
          0.9216297205022498,
          0.8576162638612045,
          1.1651079320139583,
          0.8576227025560739,
          1.6007674949638189,
          1.0563135109088464,
          0.808282396322593,
          1.1748963346007517,
          0.7697868429920727,
          0.8576072024947122,
          0.28182086568650644,
          1.4509929623560052,
          1.1750982026911536,
          0.8575116956274473,
          0.8573607468950402,
          1.5973275325574356,
          1.1750276926419425,
          1.433410839762824,
          1.0555749349609413,
          1.0563107853035887,
          1.056314462747914,
          1.5553789803341855,
          0.9270257002941965,
          1.1750706861089708,
          1.056300316822441,
          0.8576157359256641,
          1.175089908563644,
          1.0563221823981033,
          1.0563328162499792,
          0.8084405066142277,
          0.42882267980594496,
          1.9154088929900017,
          1.4509834189294328,
          1.0563435488448023,
          1.1744060326759551,
          1.451026367825958,
          1.5554801916548617,
          1.8870387031841729,
          1.4508470104061955,
          1.915580138129441,
          2.043848159377735,
          1.1750819657321465,
          1.83431974024623,
          1.1750905535582932,
          1.4509876540699846,
          1.0563180483567174,
          1.0563112853637144,
          1.4509929623560052,
          1.175062292073749,
          0.857620269758109,
          1.0563219831693342,
          0.42313082998965285,
          1.0563214531058036,
          1.0559996283887196,
          1.175088928399287,
          1.0562605899931503,
          0.8030707557685693,
          1.0563266192953986,
          1.0563315703294343,
          1.380354519721266,
          0.5473603320971068,
          1.056081918961205,
          0.8576163920012094,
          1.1750883246471604,
          1.0563258390274177,
          1.0563209274028862,
          0.8083554445602343,
          0.5183041957474214,
          1.5554780639651016,
          1.056155214167312,
          0.8083773337555592,
          1.1750440319548587,
          1.9160365391481617,
          1.1750719858807062,
          1.4509772736022837,
          1.1750468723748109,
          1.4509262070885542,
          1.1748741978579953,
          1.056323019850942,
          1.0563177678082434,
          1.0558155629172878,
          0.57095396748823,
          1.1750764000148248,
          0.8074496386365371,
          1.450984868932323,
          1.056285154971686,
          1.8518986533754584,
          0.6095772205034761,
          1.4333973434374578,
          1.784714947337265,
          1.5973419329907435,
          1.5973050604727745,
          1.9597226510522021,
          1.8034216420797853,
          1.0335676145683865,
          1.8034275996158708,
          1.4582888726092291,
          1.9597364231340608,
          1.1750905936627085,
          0.8083802208606227,
          1.4509660278519594,
          1.0563138621022432,
          1.0563314138746047,
          1.8173103014099352,
          1.462384595661918,
          1.1750797506661192,
          0.5053659614144055,
          1.0563244142599773,
          0.5979139385871047,
          1.0598806105077219,
          0.8576059900377737,
          1.5969160575176347,
          1.7835191194124116,
          1.0563220354995322,
          1.6282150642680484,
          1.372697529585901,
          1.05633007532461,
          0.6080846162025111,
          1.175029802047789,
          2.043715502780497,
          1.5914933944528071,
          1.803383765952398,
          1.0562613489140045,
          1.3493865784655794,
          1.380354123667095,
          1.0321629873595302,
          1.0562575035215247,
          1.1750807483294516,
          1.3803059623455345,
          1.0560679114456706,
          1.0563309410559523,
          0.9271325973909391,
          1.4334090665598886,
          -0.07576145711692812,
          0.3572175235802643,
          1.0562920735107668,
          1.5551454832595983,
          0.8384514040793088,
          1.1750790529498047,
          1.35844162848288,
          0.8083274839077773,
          1.3181876879466097,
          1.5973245303105146,
          1.056330894108187,
          1.0563299749352828,
          0.8082153248083231,
          1.4756267625610129,
          1.450958460106027,
          1.0563200117175928,
          1.9547447056146505,
          1.6282521143051714,
          1.4509589236968161,
          0.6512564773528977,
          1.0541624793326225,
          0.761334163780809,
          0.8083825909438916,
          1.0545273397878225,
          0.8083627286339329,
          1.91905084579576,
          1.0562960887689765,
          1.6366051193539,
          0.34678788243940656,
          1.3800237234460941,
          0.6096449355124811,
          1.7411167048081064,
          0.899197409011471,
          1.3803502517221125,
          1.6283073303552673,
          0.7996602507219644,
          0.8458448694291025,
          1.380329467122509,
          1.0558172293331445,
          0.9271200779237315,
          1.1750758538553274,
          0.8082851352111042,
          1.4508911503241686,
          0.8120584387916371,
          0.9270918061268955,
          1.0473905993575374,
          2.5594387064738187,
          1.1104996765294721,
          0.8620657748972382,
          0.9329902480132974,
          1.6282920752093257,
          -0.03846970345144725,
          1.0563263267140466,
          1.6283043503566936,
          1.3803524453374607,
          1.0281534362934182,
          0.9271320147029081,
          1.0562957310013619,
          1.3582817132230454,
          1.9168120095131178,
          1.1748794346072446,
          1.1750838120305742,
          2.0436990426561263,
          1.0434510980437928,
          1.1751736671909516,
          1.0562300062274774,
          1.056311111765038,
          0.6096677425496398,
          1.0563354299202072,
          1.1749811355581197,
          1.0512394084075234,
          0.8636244986513855,
          1.1747424247857898,
          1.056344794843865,
          1.056262846717443,
          1.175052176318621,
          1.0562846876964003,
          1.450993148877263,
          0.6595670127530507,
          0.857597501915004,
          2.043834128111638,
          0.806608961950672,
          1.056262764649568,
          0.505479890630091,
          1.8034299034804933,
          2.0442227881477404,
          2.0442573947736387,
          0.6095001591445958,
          1.4509951940069656,
          1.5376546715751962,
          0.9120793359883886,
          1.0562080399130962,
          0.8083824002599026
         ],
         "z": [
          -0.603821144104633,
          -0.6042646690744876,
          -0.7339688222782297,
          -0.5041065676670902,
          -0.452913838084329,
          -0.4073810947827998,
          -0.06157267055244076,
          -0.7013031768013547,
          -0.6038293771761778,
          -0.6040625870015037,
          -0.6038679044315552,
          -0.6038212002876842,
          -0.6038216189667162,
          -0.1729817489754385,
          -0.4324912997969162,
          -0.020937157626477715,
          -0.3393580124831391,
          -0.6038646685829573,
          -0.15892743271272405,
          -0.504109842876116,
          -0.5589411534182609,
          -0.2661004950542368,
          -0.40818570479912225,
          -0.2580168552403502,
          -0.6977211482897997,
          -0.6977017960677182,
          -0.3414462741896879,
          -0.6039393747171917,
          -0.6038570910807471,
          -0.6149602215221462,
          -0.15830891052637358,
          -0.504101375531301,
          0.1292698966579725,
          -0.1884861626306558,
          -0.5041027195343785,
          -0.6043667895178889,
          -0.6038482367084395,
          -0.34069547421070834,
          -0.5041044563784787,
          0.12927040087756284,
          -0.6977086117521271,
          -0.6039574229354068,
          0.26522515537917496,
          0.0009164680136492822,
          -0.40739915232973917,
          -0.4325099057161491,
          -0.2580197414750273,
          -0.6976977661228934,
          -0.2581157960715131,
          -0.6038217018229215,
          -0.6976995341445071,
          -0.15829226605203586,
          -0.6038271544837132,
          -0.5041019501682731,
          -0.2227528636492796,
          -0.6911365170557087,
          -0.06665569525719936,
          -0.25805541396604237,
          -0.697708794952861,
          -0.40747525230419307,
          -0.7012727012865004,
          -0.5112927480236666,
          -0.40738199943007675,
          -0.5104049038010522,
          -0.4073816333926852,
          -0.6190431804602791,
          -0.6038279253156765,
          -0.2580424868183446,
          -0.5041360674365655,
          -0.27998205715036595,
          -0.40738370906019267,
          -0.1555689034872045,
          -0.02094419986499338,
          -0.5041585055442308,
          -0.4073971267094284,
          -0.40742719998293625,
          -0.6152559906769214,
          -0.5041217681460076,
          -0.03161273096177818,
          -0.6042901895098632,
          -0.6038264127000429,
          -0.6038671459055055,
          -0.35190221435826086,
          -0.1585918750232834,
          -0.5041112911703448,
          -0.6038447499524127,
          -0.40738075125129364,
          -0.5041018650274095,
          -0.6038238061426904,
          -0.6038218811876668,
          -0.2580738547713554,
          -0.28670445884505913,
          -0.7728939102285012,
          -0.020969053693517557,
          -0.6038338818505946,
          -0.5043220154371515,
          -0.02099470950290069,
          -0.3518854552456535,
          -0.7680741650891588,
          -0.020965864174703093,
          -0.7648659970329951,
          -0.4595777428022185,
          -0.504110746152289,
          -0.7327947138368481,
          -0.5041031476044832,
          -0.02095800041105283,
          -0.6038307226480444,
          -0.6038254368198933,
          -0.02094419986499338,
          -0.5041084840411288,
          -0.4073851628940552,
          -0.6038314777796284,
          -0.12459185510513957,
          -0.6038275957531611,
          -0.6038773744834484,
          -0.5041020847896698,
          -0.603835854175364,
          -0.2734601548724472,
          -0.6038235043278337,
          -0.6038226694085991,
          -0.16683581197556033,
          -0.32649708592422405,
          -0.6038702736367745,
          -0.40738148484289993,
          -0.5041042740567652,
          -0.6038272369397893,
          -0.6038230168774257,
          -0.2580149252290714,
          -0.2873909698947512,
          -0.3518909868391696,
          -0.6042811622873137,
          -0.2580258659785857,
          -0.5041143811514259,
          -0.7359650360449864,
          -0.5041522165356096,
          -0.02098605630469103,
          -0.5041175571701783,
          -0.021119546873500684,
          -0.5041876277926653,
          -0.6038248820889407,
          -0.603823869753804,
          -0.6039013808614963,
          -0.06760882587829257,
          -0.5041111015099035,
          -0.2582816487665566,
          -0.020941728864908415,
          -0.6038376647180115,
          -0.7239189313556261,
          -0.06158705826851484,
          -0.031641388190429984,
          -0.717354087226292,
          -0.6152194631721689,
          -0.6152505995022981,
          -0.7494804157544851,
          -0.6977065197532223,
          -0.6112602987872124,
          -0.6977058776621192,
          -0.20983583272993614,
          -0.7494958150232492,
          -0.5041069119909851,
          -0.25801789695100485,
          -0.020941450266092027,
          -0.6038324309878722,
          -0.6038230761617537,
          -0.4516007204261377,
          -0.06865099958194908,
          -0.5041062957725259,
          -0.34154616475801464,
          -0.603822836934772,
          -0.021471735752282804,
          -0.6242355279974576,
          -0.4074218253741521,
          -0.6155261318448915,
          -0.533505308030071,
          -0.603823641887889,
          -0.5126700256295141,
          0.040258155902394864,
          -0.6038285451386516,
          -0.0657072758975101,
          -0.5041274161158549,
          -0.4596761128296413,
          -0.6284093466035149,
          -0.6977825845910716,
          -0.6038801219900154,
          -0.2694125978946827,
          -0.1668386584624813,
          -0.6096897132996426,
          -0.6038363502360621,
          -0.5041225422534515,
          -0.16685059353355067,
          -0.6041177579445417,
          -0.6038224159056342,
          -0.15829299867692756,
          -0.03160515638285784,
          0.15419956911047228,
          -0.43031133116836007,
          -0.6039289498077981,
          -0.35203584958309897,
          -0.45857675978571627,
          -0.5041041998861129,
          -0.4061284583927575,
          -0.25802905382184527,
          0.013561354384511599,
          -0.6152263190284671,
          -0.6038217055438698,
          -0.6038219935037914,
          -0.25815100101644967,
          -0.10977990412231801,
          -0.02095035609610185,
          -0.6038272997974524,
          -0.33118599147541256,
          -0.5127114531700399,
          -0.02094561152412308,
          -0.011310745895874257,
          -0.6047646795599587,
          0.031316484003933644,
          -0.25802620084342287,
          -0.608513329745793,
          -0.25801583338649875,
          -0.7638746091981232,
          -0.6038360751472893,
          -0.35547243439190457,
          -0.5749081547609008,
          -0.16688367733759302,
          -0.06159710427860093,
          -0.27170122209938474,
          -0.3571378397294382,
          -0.16683498690992846,
          -0.5126450083181127,
          -0.25936099790417855,
          -0.36728169572505764,
          -0.16686371808491535,
          -0.6039032441662522,
          -0.1583013675009317,
          -0.5041170694917234,
          -0.25807117150037184,
          -0.020955353370313554,
          -0.43236584996156113,
          -0.15829935937765152,
          -0.6056647385621362,
          -1.0670420973444166,
          -0.06031834569265717,
          0.0989165434969221,
          -0.16482892207582245,
          -0.5126600869079595,
          0.1403576820435861,
          -0.6038284401142072,
          -0.5126508107129415,
          -0.16683242017766378,
          -0.621521532553534,
          -0.15829149191646513,
          -0.6038356751090301,
          -0.40623911047543226,
          -0.7645948005301559,
          -0.5041408539043154,
          -0.504112810592946,
          -0.4599866414568288,
          -0.6124435208994343,
          -0.5041935462291885,
          -0.6038384974592803,
          -0.6038333056074034,
          -0.06157046199839807,
          -0.6038248036659613,
          -0.5043072003018914,
          -0.605034285708765,
          -0.4142106355607015,
          -0.504369219118016,
          -0.6038451430718539,
          -0.6040067915034142,
          -0.5041945374241718,
          -0.6038733249223344,
          -0.020937171886205422,
          -0.04501729249231313,
          -0.40741562370550216,
          -0.4595850253917158,
          -0.262610394400683,
          -0.6039409130323883,
          -0.34144999065234244,
          -0.6976961001797061,
          -0.4599144009977744,
          -0.4599530964353011,
          -0.06202713028524041,
          -0.02093921796302857,
          0.17964844764028673,
          -0.2503209105869519,
          -0.6038468291536091,
          -0.25800954095322187
         ]
        },
        {
         "customdata": [
          [
           "SHA-256",
           "Bitcoin"
          ],
          [
           "Ethash",
           "Ethereum"
          ],
          [
           "Scrypt",
           "Litecoin"
          ],
          [
           "CryptoNight-V7",
           "Monero"
          ],
          [
           "Ethash",
           "Ethereum Classic"
          ],
          [
           "Equihash",
           "ZCash"
          ],
          [
           "Multiple",
           "DigiByte"
          ],
          [
           "Scrypt",
           "ProsperCoin"
          ],
          [
           "X11",
           "Spreadcoin"
          ],
          [
           "Scrypt",
           "Argentum"
          ],
          [
           "Multiple",
           "MyriadCoin"
          ],
          [
           "Scrypt",
           "MoonCoin"
          ],
          [
           "SHA-256",
           "ZetaCoin"
          ],
          [
           "Scrypt",
           "SexCoin"
          ],
          [
           "Scrypt",
           "Quatloo"
          ],
          [
           "Quark",
           "QuarkCoin"
          ],
          [
           "Groestl",
           "Riecoin"
          ],
          [
           "Scrypt",
           "Digitalcoin "
          ],
          [
           "Scrypt",
           "Catcoin"
          ],
          [
           "Scrypt",
           "CannaCoin"
          ],
          [
           "X11",
           "CryptCoin"
          ],
          [
           "Multiple",
           "Verge"
          ],
          [
           "SHA-256",
           "DevCoin"
          ],
          [
           "Scrypt",
           "EarthCoin"
          ],
          [
           "Scrypt",
           "E-Gulden"
          ],
          [
           "Scrypt",
           "Einsteinium"
          ],
          [
           "Scrypt",
           "Emerald"
          ],
          [
           "Scrypt",
           "Franko"
          ],
          [
           "NeoScrypt",
           "FeatherCoin"
          ],
          [
           "Scrypt",
           "GrandCoin"
          ],
          [
           "Scrypt",
           "GlobalCoin"
          ],
          [
           "Scrypt",
           "GoldCoin"
          ],
          [
           "Scrypt",
           "Infinite Coin"
          ],
          [
           "SHA-256",
           "IXcoin"
          ],
          [
           "Scrypt",
           "KrugerCoin"
          ],
          [
           "Scrypt",
           "LuckyCoin"
          ],
          [
           "Scrypt",
           "Litebar "
          ],
          [
           "Scrypt",
           "MegaCoin"
          ],
          [
           "HybridScryptHash256",
           "MediterraneanCoin"
          ],
          [
           "Scrypt",
           "MinCoin"
          ],
          [
           "Scrypt",
           "NobleCoin"
          ],
          [
           "SHA-256",
           "Namecoin"
          ],
          [
           "Scrypt",
           "NyanCoin"
          ],
          [
           "Scrypt",
           "RonPaulCoin"
          ],
          [
           "Scrypt",
           "StableCoin"
          ],
          [
           "Scrypt",
           "SmartCoin"
          ],
          [
           "SHA-256",
           "SysCoin"
          ],
          [
           "SHA-256",
           "TigerCoin"
          ],
          [
           "SHA-256",
           "TerraCoin"
          ],
          [
           "SHA-256",
           "UnbreakableCoin"
          ],
          [
           "SHA-256",
           "Unobtanium"
          ],
          [
           "X11",
           "UroCoin"
          ],
          [
           "Scrypt",
           "ViaCoin"
          ],
          [
           "Lyra2REv2",
           "Vertcoin"
          ],
          [
           "Scrypt",
           "WorldCoin"
          ],
          [
           "SHA-256",
           "JouleCoin"
          ],
          [
           "CryptoNight",
           "ByteCoin"
          ],
          [
           "CryptoNight",
           "DigitalNote "
          ],
          [
           "Scrypt",
           "MonaCoin"
          ],
          [
           "Scrypt",
           "Gulden"
          ],
          [
           "Scrypt",
           "PesetaCoin"
          ],
          [
           "Scrypt",
           "Wild Beast Coin"
          ],
          [
           "Scrypt",
           "Flo"
          ],
          [
           "Scrypt",
           "ArtByte"
          ],
          [
           "Stanford Folding",
           "Folding Coin"
          ],
          [
           "Multiple",
           "Unitus"
          ],
          [
           "QuBit",
           "CypherPunkCoin"
          ],
          [
           "Scrypt",
           "OmniCron"
          ],
          [
           "Scrypt",
           "GreenCoin"
          ],
          [
           "M7 POW",
           "Cryptonite"
          ],
          [
           "Scrypt",
           "MasterCoin"
          ],
          [
           "SHA-256",
           "SoonCoin"
          ],
          [
           "Scrypt",
           "1Credit"
          ],
          [
           "X11",
           "MarsCoin "
          ],
          [
           "Lyra2RE",
           "Crypto"
          ],
          [
           "SHA-256",
           "Anarchists Prime"
          ],
          [
           "X11",
           "BowsCoin"
          ],
          [
           "Scrypt",
           "Song Coin"
          ],
          [
           "Scrypt",
           "BitZeny"
          ],
          [
           "Ethash",
           "Expanse"
          ],
          [
           "Blake2b",
           "Siacoin"
          ],
          [
           "X11",
           "MindCoin"
          ],
          [
           "SHA-256",
           "I0coin"
          ],
          [
           "Scrypt",
           "Revolution VR"
          ],
          [
           "1GB AES Pattern Search",
           "HOdlcoin"
          ],
          [
           "Scrypt",
           "Gamecredits"
          ],
          [
           "SHA-256",
           "CarpeDiemCoin"
          ],
          [
           "X11",
           "Adzcoin"
          ],
          [
           "Dagger",
           "SoilCoin"
          ],
          [
           "Scrypt",
           "YoCoin"
          ],
          [
           "X11GOST",
           "SibCoin"
          ],
          [
           "Scrypt",
           "Francs"
          ],
          [
           "X11",
           "BolivarCoin"
          ],
          [
           "Scrypt",
           "Omni"
          ],
          [
           "X11",
           "PizzaCoin"
          ],
          [
           "Equihash",
           "Komodo"
          ],
          [
           "CryptoNight",
           "Karbo"
          ],
          [
           "SHA-256",
           "ZayedCoin"
          ],
          [
           "Multiple",
           "Circuits of Value"
          ],
          [
           "Scrypt",
           "DopeCoin"
          ],
          [
           "SHA-256",
           "DollarCoin"
          ],
          [
           "Scrypt",
           "Shilling"
          ],
          [
           "Lyra2Z",
           "ZCoin"
          ],
          [
           "Ethash",
           "Elementrem"
          ],
          [
           "Equihash",
           "ZClassic"
          ],
          [
           "Scrypt",
           "KiloCoin"
          ],
          [
           "X11",
           "ArtexCoin"
          ],
          [
           "X11",
           "Kurrent"
          ],
          [
           "CryptoNight",
           "Cannabis Industry Coin"
          ],
          [
           "Scrypt",
           "OsmiumCoin"
          ],
          [
           "CryptoNight",
           "Bikercoins"
          ],
          [
           "Lyra2RE",
           "HexxCoin"
          ],
          [
           "X11",
           "PacCoin"
          ],
          [
           "CryptoNight-V7",
           "Citadel"
          ],
          [
           "Scrypt",
           "BeaverCoin"
          ],
          [
           "X11",
           "VaultCoin"
          ],
          [
           "Equihash",
           "Zero"
          ],
          [
           "Scrypt",
           "Canada eCoin"
          ],
          [
           "Lyra2RE",
           "Zoin"
          ],
          [
           "Dagger-Hashimoto",
           "DubaiCoin"
          ],
          [
           "Scrypt",
           "EB3coin"
          ],
          [
           "NIST5",
           "Coinonat"
          ],
          [
           "Scrypt",
           "BenjiRolls"
          ],
          [
           "SHA-256",
           "ILCoin"
          ],
          [
           "Scrypt",
           "EquiTrader"
          ],
          [
           "CryptoNight-V7",
           "Quantum Resistant Ledger"
          ],
          [
           "Argon2d",
           "Dynamic"
          ],
          [
           "Blake2b",
           "Nano"
          ],
          [
           "Cloverhash",
           "ChanCoin"
          ],
          [
           "CryptoNight",
           "Dinastycoin"
          ],
          [
           "X11",
           "DigitalPrice"
          ],
          [
           "Scrypt",
           "Unify"
          ],
          [
           "Scrypt",
           "SocialCoin"
          ],
          [
           "X11",
           "ArcticCoin"
          ],
          [
           "X11",
           "DAS"
          ],
          [
           "CryptoNight",
           "LeviarCoin"
          ],
          [
           "Time Travel",
           "Bitcore"
          ],
          [
           "Scrypt",
           "gCn Coin"
          ],
          [
           "Keccak",
           "SmartCash"
          ],
          [
           "X11",
           "Onix"
          ],
          [
           "SHA-256",
           "Bitcoin Cash"
          ],
          [
           "Scrypt",
           "Sojourn Coin"
          ],
          [
           "Scrypt",
           "NewYorkCoin"
          ],
          [
           "Scrypt",
           "FrazCoin"
          ],
          [
           "Scrypt",
           "Kronecoin"
          ],
          [
           "Scrypt",
           "AdCoin"
          ],
          [
           "Scrypt",
           "Linx"
          ],
          [
           "CryptoNight",
           "Sumokoin"
          ],
          [
           "Equihash",
           "BitcoinZ"
          ],
          [
           "X11",
           "Elements"
          ],
          [
           "NeoScrypt",
           "VIVO Coin"
          ],
          [
           "Equihash",
           "Bitcoin Gold"
          ],
          [
           "Dagger",
           "Pirl"
          ],
          [
           "Scrypt",
           "eBoost"
          ],
          [
           "X11",
           "Pura"
          ],
          [
           "NeoScrypt",
           "Innova"
          ],
          [
           "Ethash",
           "Ellaism"
          ],
          [
           "NeoScrypt",
           "GoByte"
          ],
          [
           "Multiple",
           "SHIELD"
          ],
          [
           "CryptoNight",
           "UltraNote"
          ],
          [
           "CryptoNight",
           "BitCoal"
          ],
          [
           "Ethash",
           "DaxxCoin"
          ],
          [
           "X11",
           "AC3"
          ],
          [
           "CryptoNight-V7",
           "Lethean"
          ],
          [
           "Scrypt",
           "PopularCoin"
          ],
          [
           "BLAKE256",
           "Photon"
          ],
          [
           "X11",
           "Sucre"
          ],
          [
           "NeoScrypt",
           "SparksPay"
          ],
          [
           "NeoScrypt",
           "GunCoin"
          ],
          [
           "Scrypt",
           "IrishCoin"
          ],
          [
           "X11",
           "Pioneer Coin"
          ],
          [
           "SHA-256",
           "UnitedBitcoin"
          ],
          [
           "C11",
           "Interzone"
          ],
          [
           "CryptoNight",
           "TurtleCoin"
          ],
          [
           "SkunkHash",
           "MUNcoin"
          ],
          [
           "CryptoNight",
           "Niobio Cash"
          ],
          [
           "Scrypt",
           "ShareChain"
          ],
          [
           "Dagger",
           "Travelflex"
          ],
          [
           "Lyra2REv2",
           "KREDS"
          ],
          [
           "Scrypt",
           "BitFlip"
          ],
          [
           "Scrypt",
           "LottoCoin"
          ],
          [
           "X11",
           "Crypto Improvement Fund"
          ],
          [
           "Ethash",
           "Callisto Network"
          ],
          [
           "CryptoNight",
           "BitTube"
          ],
          [
           "Scrypt",
           "Poseidon"
          ],
          [
           "IMesh",
           "Aidos Kuneen"
          ],
          [
           "Equihash",
           "Bitrolium"
          ],
          [
           "Lyra2Z",
           "Alpenschillling"
          ],
          [
           "X11",
           "FuturoCoin"
          ],
          [
           "CryptoNight",
           "Monero Classic"
          ],
          [
           "NIST5",
           "Jumpcoin"
          ],
          [
           "Lyra2RE",
           "Infinex"
          ],
          [
           "Tribus",
           "KEYCO"
          ],
          [
           "Lyra2Z",
           "GINcoin"
          ],
          [
           "CryptoNight",
           "PlatinCoin"
          ],
          [
           "CryptoNight Heavy",
           "Loki"
          ],
          [
           "CryptoNight",
           "Newton Coin"
          ],
          [
           "Jump Consistent Hash",
           "MassGrid"
          ],
          [
           "CryptoNight",
           "PluraCoin"
          ],
          [
           "X16R",
           "Motion"
          ],
          [
           "HMQ1725",
           "PlusOneCoin"
          ],
          [
           "X11",
           "Axe"
          ],
          [
           "Scrypt",
           "HexCoin"
          ],
          [
           "CryptoNight-V7",
           "Webchain"
          ],
          [
           "Cryptonight-GPU",
           "Ryo"
          ],
          [
           "XEVAN",
           "Urals Coin"
          ],
          [
           "CryptoNight Heavy",
           "Qwertycoin"
          ],
          [
           "SHA-256",
           "Project Pai"
          ],
          [
           "X11",
           "Azart"
          ],
          [
           "X16R",
           "Xchange"
          ],
          [
           "Equihash",
           "CrypticCoin"
          ],
          [
           "Lyra2Z",
           "Actinium"
          ],
          [
           "SHA-256",
           "Bitcoin SV"
          ],
          [
           "CryptoNight",
           "FREDEnergy"
          ],
          [
           "Blake",
           "Universal Molecule"
          ],
          [
           "Blake",
           "Lithium"
          ],
          [
           "Exosis",
           "Exosis"
          ],
          [
           "Scrypt",
           "Block-Logic"
          ],
          [
           "Equihash",
           "Beam"
          ],
          [
           "Equihash",
           "Bithereum"
          ],
          [
           "QuBit",
           "SLICE"
          ],
          [
           "SHA-256",
           "BLAST"
          ],
          [
           "X13",
           "Bitcoin Rhodium"
          ],
          [
           "SHA-256",
           "GlobalToken"
          ],
          [
           "Scrypt",
           "SolarCoin"
          ],
          [
           "NeoScrypt",
           "UFO Coin"
          ],
          [
           "Blake",
           "BlakeCoin"
          ],
          [
           "Scrypt",
           "Crypto Escudo"
          ],
          [
           "SHA-256",
           "Crown Coin"
          ],
          [
           "Scrypt",
           "SmileyCoin"
          ],
          [
           "Groestl",
           "Groestlcoin"
          ],
          [
           "Scrypt",
           "Bata"
          ],
          [
           "Scrypt",
           "Pakcoin"
          ],
          [
           "Multiple",
           "JoinCoin"
          ],
          [
           "Equihash+Scrypt",
           "Vollar"
          ],
          [
           "Ethash",
           "Reality Clash"
          ],
          [
           "CryptoNight",
           "Beldex"
          ],
          [
           "Equihash",
           "Horizen"
          ]
         ],
         "hovertemplate": "<b>%{hovertext}</b><br><br>class=%{marker.color}<br>PC1=%{x}<br>PC2=%{y}<br>PC3=%{z}<br>Algorithm=%{customdata[0]}<br>CoinName=%{customdata[1]}<extra></extra>",
         "hovertext": [
          "Bitcoin",
          "Ethereum",
          "Litecoin",
          "Monero",
          "Ethereum Classic",
          "ZCash",
          "DigiByte",
          "ProsperCoin",
          "Spreadcoin",
          "Argentum",
          "MyriadCoin",
          "MoonCoin",
          "ZetaCoin",
          "SexCoin",
          "Quatloo",
          "QuarkCoin",
          "Riecoin",
          "Digitalcoin ",
          "Catcoin",
          "CannaCoin",
          "CryptCoin",
          "Verge",
          "DevCoin",
          "EarthCoin",
          "E-Gulden",
          "Einsteinium",
          "Emerald",
          "Franko",
          "FeatherCoin",
          "GrandCoin",
          "GlobalCoin",
          "GoldCoin",
          "Infinite Coin",
          "IXcoin",
          "KrugerCoin",
          "LuckyCoin",
          "Litebar ",
          "MegaCoin",
          "MediterraneanCoin",
          "MinCoin",
          "NobleCoin",
          "Namecoin",
          "NyanCoin",
          "RonPaulCoin",
          "StableCoin",
          "SmartCoin",
          "SysCoin",
          "TigerCoin",
          "TerraCoin",
          "UnbreakableCoin",
          "Unobtanium",
          "UroCoin",
          "ViaCoin",
          "Vertcoin",
          "WorldCoin",
          "JouleCoin",
          "ByteCoin",
          "DigitalNote ",
          "MonaCoin",
          "Gulden",
          "PesetaCoin",
          "Wild Beast Coin",
          "Flo",
          "ArtByte",
          "Folding Coin",
          "Unitus",
          "CypherPunkCoin",
          "OmniCron",
          "GreenCoin",
          "Cryptonite",
          "MasterCoin",
          "SoonCoin",
          "1Credit",
          "MarsCoin ",
          "Crypto",
          "Anarchists Prime",
          "BowsCoin",
          "Song Coin",
          "BitZeny",
          "Expanse",
          "Siacoin",
          "MindCoin",
          "I0coin",
          "Revolution VR",
          "HOdlcoin",
          "Gamecredits",
          "CarpeDiemCoin",
          "Adzcoin",
          "SoilCoin",
          "YoCoin",
          "SibCoin",
          "Francs",
          "BolivarCoin",
          "Omni",
          "PizzaCoin",
          "Komodo",
          "Karbo",
          "ZayedCoin",
          "Circuits of Value",
          "DopeCoin",
          "DollarCoin",
          "Shilling",
          "ZCoin",
          "Elementrem",
          "ZClassic",
          "KiloCoin",
          "ArtexCoin",
          "Kurrent",
          "Cannabis Industry Coin",
          "OsmiumCoin",
          "Bikercoins",
          "HexxCoin",
          "PacCoin",
          "Citadel",
          "BeaverCoin",
          "VaultCoin",
          "Zero",
          "Canada eCoin",
          "Zoin",
          "DubaiCoin",
          "EB3coin",
          "Coinonat",
          "BenjiRolls",
          "ILCoin",
          "EquiTrader",
          "Quantum Resistant Ledger",
          "Dynamic",
          "Nano",
          "ChanCoin",
          "Dinastycoin",
          "DigitalPrice",
          "Unify",
          "SocialCoin",
          "ArcticCoin",
          "DAS",
          "LeviarCoin",
          "Bitcore",
          "gCn Coin",
          "SmartCash",
          "Onix",
          "Bitcoin Cash",
          "Sojourn Coin",
          "NewYorkCoin",
          "FrazCoin",
          "Kronecoin",
          "AdCoin",
          "Linx",
          "Sumokoin",
          "BitcoinZ",
          "Elements",
          "VIVO Coin",
          "Bitcoin Gold",
          "Pirl",
          "eBoost",
          "Pura",
          "Innova",
          "Ellaism",
          "GoByte",
          "SHIELD",
          "UltraNote",
          "BitCoal",
          "DaxxCoin",
          "AC3",
          "Lethean",
          "PopularCoin",
          "Photon",
          "Sucre",
          "SparksPay",
          "GunCoin",
          "IrishCoin",
          "Pioneer Coin",
          "UnitedBitcoin",
          "Interzone",
          "TurtleCoin",
          "MUNcoin",
          "Niobio Cash",
          "ShareChain",
          "Travelflex",
          "KREDS",
          "BitFlip",
          "LottoCoin",
          "Crypto Improvement Fund",
          "Callisto Network",
          "BitTube",
          "Poseidon",
          "Aidos Kuneen",
          "Bitrolium",
          "Alpenschillling",
          "FuturoCoin",
          "Monero Classic",
          "Jumpcoin",
          "Infinex",
          "KEYCO",
          "GINcoin",
          "PlatinCoin",
          "Loki",
          "Newton Coin",
          "MassGrid",
          "PluraCoin",
          "Motion",
          "PlusOneCoin",
          "Axe",
          "HexCoin",
          "Webchain",
          "Ryo",
          "Urals Coin",
          "Qwertycoin",
          "Project Pai",
          "Azart",
          "Xchange",
          "CrypticCoin",
          "Actinium",
          "Bitcoin SV",
          "FREDEnergy",
          "Universal Molecule",
          "Lithium",
          "Exosis",
          "Block-Logic",
          "Beam",
          "Bithereum",
          "SLICE",
          "BLAST",
          "Bitcoin Rhodium",
          "GlobalToken",
          "SolarCoin",
          "UFO Coin",
          "BlakeCoin",
          "Crypto Escudo",
          "Crown Coin",
          "SmileyCoin",
          "Groestlcoin",
          "Bata",
          "Pakcoin",
          "JoinCoin",
          "Vollar",
          "Reality Clash",
          "Beldex",
          "Horizen"
         ],
         "legendgroup": "1",
         "marker": {
          "color": [
           1,
           1,
           1,
           1,
           1,
           1,
           1,
           1,
           1,
           1,
           1,
           1,
           1,
           1,
           1,
           1,
           1,
           1,
           1,
           1,
           1,
           1,
           1,
           1,
           1,
           1,
           1,
           1,
           1,
           1,
           1,
           1,
           1,
           1,
           1,
           1,
           1,
           1,
           1,
           1,
           1,
           1,
           1,
           1,
           1,
           1,
           1,
           1,
           1,
           1,
           1,
           1,
           1,
           1,
           1,
           1,
           1,
           1,
           1,
           1,
           1,
           1,
           1,
           1,
           1,
           1,
           1,
           1,
           1,
           1,
           1,
           1,
           1,
           1,
           1,
           1,
           1,
           1,
           1,
           1,
           1,
           1,
           1,
           1,
           1,
           1,
           1,
           1,
           1,
           1,
           1,
           1,
           1,
           1,
           1,
           1,
           1,
           1,
           1,
           1,
           1,
           1,
           1,
           1,
           1,
           1,
           1,
           1,
           1,
           1,
           1,
           1,
           1,
           1,
           1,
           1,
           1,
           1,
           1,
           1,
           1,
           1,
           1,
           1,
           1,
           1,
           1,
           1,
           1,
           1,
           1,
           1,
           1,
           1,
           1,
           1,
           1,
           1,
           1,
           1,
           1,
           1,
           1,
           1,
           1,
           1,
           1,
           1,
           1,
           1,
           1,
           1,
           1,
           1,
           1,
           1,
           1,
           1,
           1,
           1,
           1,
           1,
           1,
           1,
           1,
           1,
           1,
           1,
           1,
           1,
           1,
           1,
           1,
           1,
           1,
           1,
           1,
           1,
           1,
           1,
           1,
           1,
           1,
           1,
           1,
           1,
           1,
           1,
           1,
           1,
           1,
           1,
           1,
           1,
           1,
           1,
           1,
           1,
           1,
           1,
           1,
           1,
           1,
           1,
           1,
           1,
           1,
           1,
           1,
           1,
           1,
           1,
           1,
           1,
           1,
           1,
           1,
           1,
           1,
           1,
           1,
           1,
           1,
           1,
           1,
           1,
           1,
           1,
           1,
           1,
           1,
           1,
           1,
           1,
           1,
           1,
           1,
           1
          ],
          "coloraxis": "coloraxis",
          "symbol": "diamond"
         },
         "mode": "markers",
         "name": "1",
         "scene": "scene",
         "showlegend": true,
         "type": "scatter3d",
         "x": [
          -0.1421367295756181,
          -0.14881073674725426,
          -0.16826998151690684,
          -0.14156359944230393,
          -0.14725253216587145,
          -0.16676563074703438,
          0.16009684938927835,
          -0.16941641237155886,
          -0.22573027627824224,
          -0.16903289361554094,
          -0.09334975146449011,
          2.5528471906594965,
          -0.13922117670624434,
          -0.1662878449099164,
          -0.16883689686068787,
          -0.22129759410160937,
          -0.1984349602876235,
          -0.16888566367091412,
          -0.16939867520917742,
          -0.16948514409839419,
          -0.2258196341492134,
          0.18385145174091938,
          0.23577232117816993,
          0.07928635141254527,
          -0.16923139550976646,
          -0.16483599162079074,
          -0.16917068113029304,
          -0.16954215681575513,
          -0.17210960820943533,
          -0.14876111815096174,
          -0.16833706117248132,
          -0.16861455915801052,
          1.5796578493614328,
          -0.14209809207809473,
          -0.16590351305695944,
          -0.16925784160171925,
          -0.16961271429536579,
          -0.16887184160853194,
          -0.1435903769055089,
          -0.16949396157785837,
          -0.034378651946422145,
          -0.14217571653876213,
          -0.16315682184964259,
          -0.16947340201973948,
          -0.16756745243918414,
          -0.1689600604732913,
          -0.12932570731159662,
          -0.14163939489451668,
          -0.14192665008844413,
          -0.14190964137140927,
          -0.14250043392013365,
          -0.22599355526577014,
          -0.16918984108411447,
          -0.1857134808750611,
          -0.16629256353544766,
          -0.14170670124485496,
          3.861625580068091,
          0.4600274320278417,
          -0.16805725253935114,
          -0.15265378022863782,
          -0.1667758556613064,
          -0.1696149243198434,
          -0.166640869248281,
          -0.15286224440533852,
          -0.1188453909462719,
          -0.12736194150142507,
          -0.18598797985788335,
          -0.16948797936256357,
          -0.04240564619532459,
          -0.12039020187986767,
          -0.16962381796058423,
          -0.14220349906089538,
          0.4826268433089922,
          -0.2253806394369325,
          -0.14538616887010528,
          -0.1419433227490714,
          -0.22566558649780247,
          -0.1677473156900739,
          -0.16693942215586138,
          -0.14987839148880858,
          0.3735389464285857,
          -0.2257009883613482,
          -0.14209921463155,
          -0.16558100473413587,
          -0.14763951885621276,
          -0.16818693310338095,
          0.2764544349906816,
          -0.2248615765517226,
          -0.14923356862973963,
          -0.16843442546160578,
          -0.13952438497352354,
          -0.16941369673291434,
          -0.2256642275232897,
          -0.16962387646518592,
          -0.22581422569359766,
          -0.33572928063077445,
          0.3049067384935114,
          -0.1423593436579308,
          -0.10743112881565253,
          -0.16679012828859574,
          -0.14231796609054195,
          -0.16928722352456044,
          -0.1522481449351242,
          -0.1496205042559483,
          -0.16678725172468223,
          -0.09633928892842895,
          -0.21239523961593545,
          -0.223642037525464,
          0.30490109833027207,
          -0.16960561158615065,
          0.3050318369002514,
          -0.14592669613440404,
          0.4895328288532968,
          -0.140328131038026,
          -0.16957389314691246,
          -0.21854723728636322,
          -0.1667996276584787,
          -0.16770684751346576,
          -0.14564502818980601,
          -0.15339977668719298,
          -0.1404934142999525,
          -0.18102864314444822,
          -0.16913620004965985,
          -0.10867906717680341,
          -0.16895824299527848,
          -0.14018581832303986,
          -0.13687889771491307,
          -0.02683690841945322,
          -0.1626239269734291,
          0.34102910554210103,
          -0.22486997618541676,
          -0.16927754731103434,
          -0.16904090093109853,
          -0.22526471646329943,
          -0.22584226162937693,
          0.3052961482140072,
          -0.14660282629974147,
          3.240637277258028,
          -0.11700191752472859,
          -0.2167130406603851,
          -0.14213589364098747,
          -0.09518695678465351,
          1.5777126746932832,
          -0.16937541283891866,
          -0.16882697471462818,
          -0.16852790019800956,
          -0.16851482874803903,
          0.3054797813382747,
          0.045559205364465685,
          -0.18022142046808728,
          -0.17679910834914503,
          -0.16664565209737484,
          -0.14799247554617287,
          -0.16770505634272717,
          -0.22138597590891468,
          -0.17664449740069563,
          -0.1479854831654831,
          -0.17674471689524818,
          -0.11759217333429335,
          1.1429710381032845,
          0.3048838673491982,
          -0.07286390422563195,
          -0.22112756166798048,
          -0.12929616855039794,
          -0.08574959431178464,
          1.0961069257315401,
          -0.22581625577009332,
          -0.17679666479921777,
          -0.16983340945760939,
          -0.16862629049524347,
          -0.22574165058792922,
          -0.1421152870490943,
          -0.20427039585644252,
          8.043836709320246,
          -0.14808988988665292,
          0.3087589074844727,
          0.023448715456012823,
          -0.14749558413285455,
          -0.17126920155747102,
          -0.16920011260378529,
          0.13792664968627102,
          -0.21988163536200733,
          -0.10101730658270355,
          0.3128081520607715,
          -0.16943716083496396,
          -0.15592785866132852,
          -0.165636573953916,
          -0.15003133698093488,
          -0.2249107560987707,
          0.3050664176966493,
          -0.18108810722707208,
          -0.14577191128328545,
          -0.14940077502605206,
          -0.15233253355553658,
          0.3089951742747744,
          0.5933624420751423,
          2.113826639583976,
          -0.13693304436437423,
          0.318673554585056,
          -0.19525983168204775,
          -0.1479038621706737,
          -0.2257984130819934,
          -0.1694617475296782,
          -0.12917625624188575,
          -0.1336747935532795,
          -0.1487514327767612,
          3.1163248554581737,
          -0.101956917379844,
          -0.22576977467999146,
          -0.1946874734257752,
          -0.06137490666052658,
          -0.15173019821220365,
          -0.14213593121333634,
          0.3848387302040098,
          -0.13857265530169585,
          -0.13896472681907854,
          -0.13942853223037122,
          -0.16835387158090395,
          -0.1647054749149827,
          -0.16647844329968609,
          -0.1851988393981402,
          -0.14141195398935844,
          -0.10628898498072697,
          -0.14027971708266046,
          0.5265524720149084,
          -0.1019497500909795,
          -0.08942323526261758,
          -0.15301285820623503,
          -0.14192602042370678,
          0.546330603677441,
          -0.1979958862197567,
          -0.16953859471055618,
          -0.16749398565423745,
          -0.12809696290079356,
          -0.12679101642139054,
          -0.14965366835102364,
          0.3266445552176053,
          -0.16676668788936452
         ],
         "y": [
          -1.2924484473518942,
          -1.9778453667926557,
          -1.0937599020464777,
          -2.3558930232609363,
          -1.9779519585902121,
          -1.9405491551097849,
          -1.8455867260744574,
          -1.093746807787741,
          -0.9749853839596302,
          -1.0937668410471675,
          -1.8390705796515736,
          -1.2921753026358094,
          -1.2924735925394388,
          -1.093823290080258,
          -1.0937870920053812,
          -0.5218015300305858,
          -1.2023559525877792,
          -1.0937514417580099,
          -1.0937463144874933,
          -1.0937431077384832,
          -0.9749864412654698,
          -1.841752592997009,
          -1.2969159778827943,
          -1.0964532076205233,
          -1.0937416621583633,
          -1.093818460593203,
          -1.0937478269652954,
          -1.093743333876371,
          -1.6446621928790979,
          -1.0941715912270584,
          -1.0937517724388188,
          -1.093761093425774,
          -1.1097703829317127,
          -1.2924473727782568,
          -1.0938236107425348,
          -1.0937416837253104,
          -1.0937382382888532,
          -1.0937466551692099,
          -2.13835530619783,
          -1.0937411111855913,
          -1.100685336957955,
          -1.2924495316447597,
          -1.0937983241375797,
          -1.0937483927654832,
          -1.0938588781127805,
          -1.0937556769617263,
          -1.292711140120259,
          -1.2924531867087643,
          -1.292457597497009,
          -1.2924842542993815,
          -1.2924437482576523,
          -0.9749784273251335,
          -1.0937419343465504,
          -1.304228622400861,
          -1.0938344308891532,
          -1.2924536221803407,
          -2.320029858718644,
          -2.290074160078777,
          -1.0937690641780085,
          -1.094465042705239,
          -1.0937771668275797,
          -1.0937392121728104,
          -1.0937688533873648,
          -1.0939853590367763,
          -2.172580605894561,
          -1.8385886292364673,
          -1.6026771106495492,
          -1.09373621232097,
          -1.0973388649089824,
          -2.0026494401261754,
          -1.0937380255491664,
          -1.292450304323318,
          -1.1412801765307419,
          -0.9749849412345888,
          -2.2717835597095224,
          -1.292466457164246,
          -0.9749842987715346,
          -1.093835494028146,
          -1.0938414115367896,
          -1.9778871302704446,
          -2.341352821704856,
          -0.974981713640535,
          -1.2924474039983525,
          -1.093775073939094,
          -2.0103864879953273,
          -1.093757592330746,
          -1.296231668410466,
          -0.975006916330309,
          -2.238215913512648,
          -1.0938246975494046,
          -2.37784911697095,
          -1.0937460183180279,
          -0.9749871167491555,
          -1.09373802501303,
          -0.9749912884499635,
          -0.9880140992109576,
          -2.287256033829066,
          -1.292446596766344,
          -1.8388910517872479,
          -1.0938015622615507,
          -1.2924460901763282,
          -1.0937496403183422,
          -2.166526066013612,
          -1.977886597053395,
          -1.9405497564254535,
          -1.0988388500120192,
          -0.974957206972251,
          -0.9750758067310152,
          -2.2872640440671717,
          -1.0937390147733663,
          -2.2872632637811474,
          -2.271758762427889,
          -1.026472762516957,
          -2.3559907423119792,
          -1.093738593633498,
          -0.9754852759730899,
          -1.9405472448479566,
          -1.0937556634368544,
          -2.2717587821461382,
          -2.3179463293456637,
          -1.0957831908539304,
          -0.5527458846847542,
          -1.093749381354387,
          -1.29328779892574,
          -1.0937704764341214,
          -2.355929668896932,
          -2.303920795999373,
          -2.3527308883413593,
          -2.1794245389206903,
          -2.2876721572482244,
          -0.9750185730301459,
          -1.0937417154503968,
          -1.0937749171197504,
          -0.975000993689809,
          -0.9749877131225825,
          -2.2872766171941303,
          -2.1009253171106272,
          -1.14168114905005,
          -1.3396463641745007,
          -0.9755056582117695,
          -1.2924484241031504,
          -1.0991637733443334,
          -1.0451412234512627,
          -1.0937449535786972,
          -1.0937753929619207,
          -1.0937784982897079,
          -1.0937781347507503,
          -2.2872964187347495,
          -1.949621860493986,
          -0.9749905252945763,
          -1.6445720072838967,
          -1.9405458183022193,
          -2.23827157247018,
          -1.093755613621391,
          -0.9751001629478359,
          -1.6445805582724093,
          -1.9780223192145685,
          -1.6445739214938757,
          -1.838788118132535,
          -2.324626095860524,
          -2.2872584547720796,
          -1.9828725904003508,
          -0.9752357646633077,
          -2.3562654185009984,
          -1.094974616606876,
          -1.2647166780999073,
          -0.9749876324049198,
          -1.644567655665199,
          -1.6447159746647135,
          -1.0937555327321271,
          -0.9749878421280048,
          -1.2924472555705862,
          -1.311620333877041,
          -2.7859595118798035,
          -2.2300419882003566,
          -2.287381644043699,
          -1.095507344610311,
          -2.23821755327471,
          -1.304552269093616,
          -1.093754357049923,
          -1.098325627642403,
          -0.9751654161998404,
          -1.9811567824006329,
          -2.2877430860726347,
          -1.0937473848373238,
          -2.1322471711073536,
          -1.9405527373648896,
          -2.16666331745291,
          -0.9750197071879635,
          -2.2872575900057535,
          -0.5527280820993412,
          -2.271766080598209,
          -2.1949578198348165,
          -2.1665206310213696,
          -2.2875635544544766,
          -2.382899535453505,
          -2.368305353839069,
          -2.50980066140387,
          -2.2875799593865085,
          -1.2508512007096964,
          -2.2426268703807133,
          -0.9749879929017191,
          -1.0937488577296122,
          -2.356797911140845,
          -2.2619552821486257,
          -0.791701090516699,
          -2.4443257363311615,
          -1.292815267362129,
          -0.9749900521926879,
          -1.2508909159938477,
          -1.943029038089708,
          -2.1665563538933275,
          -1.2924484251481012,
          -2.2907945130087546,
          -2.1343902984014016,
          -2.1343441647845305,
          -2.195552694042506,
          -1.0937879371267647,
          -1.9406644901960197,
          -1.9405482259879117,
          -1.6027265576537768,
          -1.292458989686256,
          -0.3466408428329873,
          -1.2925017503755727,
          -1.14441358488907,
          -1.645326817551115,
          -2.137945923563468,
          -1.0939895478593031,
          -1.2924575799849765,
          -1.1095228517469247,
          -1.20235873400936,
          -1.093738782791676,
          -1.0938082867375154,
          -1.8386110704560092,
          -1.9653941776011206,
          -1.9778862931371786,
          -2.287644008713026,
          -1.9405491845106884
         ],
         "z": [
          0.19088612960823284,
          0.4066211309970658,
          -0.005578354698443518,
          0.5563480836217118,
          0.40660216465079735,
          0.3928284555760813,
          0.37575511271942696,
          -0.005551550433279112,
          0.09416625390751643,
          -0.00555743850570135,
          0.38096855057541706,
          -0.036285645237645325,
          0.19081635801074248,
          -0.005616683230631866,
          -0.005558478088507792,
          0.0855127238077328,
          0.16575822187018305,
          -0.005564240570983225,
          -0.005552102017504438,
          -0.00555051681235332,
          0.0941687518693605,
          0.3743921916370358,
          0.18208011067061805,
          -0.01139277662898751,
          -0.0055573040245340335,
          -0.005654840145316554,
          -0.00555764737649631,
          -0.005549011254102873,
          0.25672253374493026,
          -0.005997335426869773,
          -0.005578234689416201,
          -0.005569289789480259,
          -0.047223713028265814,
          0.1908849280725158,
          -0.0056264695182206914,
          -0.005556622042360415,
          -0.005548205340188945,
          -0.005565536292276423,
          0.36653239888894545,
          -0.00555068355761496,
          -0.007647417069027225,
          0.1908873420115143,
          -0.005701833362276439,
          -0.00554977818864035,
          -0.005576890432187801,
          -0.005561500941884428,
          0.19060948907411168,
          0.19087431650832112,
          0.19088254564483081,
          0.19088735302971327,
          0.19089452605238857,
          0.09417163268020652,
          -0.005558315411142538,
          0.23097487069014816,
          -0.005614370959154096,
          0.19087612703884027,
          0.32557556876880916,
          0.4068569543597887,
          -0.005582004203271118,
          -0.005839856720257218,
          -0.005613249100325023,
          -0.005547957144863371,
          -0.005618343643724567,
          -0.005928865945838839,
          0.3668676468237777,
          0.3817453913135007,
          0.27179175806254047,
          -0.005551800449492519,
          -0.008099943203562731,
          0.36864777952888533,
          -0.0055479626289417884,
          0.19088820598291026,
          -0.012912015900867867,
          0.09415720660213903,
          0.4667331058153717,
          0.19088471557496658,
          0.09416438263616402,
          -0.005576880578025647,
          -0.005596420703704177,
          0.4066567067147447,
          0.3848047705073175,
          0.09416478140437672,
          0.19088496298130023,
          -0.005644281480208076,
          0.3989607153645241,
          -0.005580937309679111,
          0.18090294028034626,
          0.09414822685960585,
          0.48631749682463254,
          -0.00556139547660238,
          0.581938776249033,
          -0.005551775312656186,
          0.09416490209272897,
          -0.005547961235086761,
          0.09416956668466168,
          0.33656643124489305,
          0.41027795533906103,
          0.190891470588573,
          0.38129410494666466,
          -0.005608084862096097,
          0.1908903105522391,
          -0.005554304039619765,
          0.44026727551918193,
          0.4066499928982258,
          0.3928291279378692,
          -0.006422733179760999,
          0.09381897158515343,
          0.09413052388064712,
          0.4102796754580329,
          -0.005548234631990164,
          0.4102761715120728,
          0.4667420805193946,
          0.08596337453832353,
          0.556335642880669,
          -0.005549130323981649,
          0.09408049899648216,
          0.39282895108294547,
          -0.005593619977623645,
          0.4667348660289766,
          0.5285130311415398,
          -0.005892219487079591,
          -0.016951320215166495,
          -0.005558225289815902,
          0.19019379905100328,
          -0.005558636530243624,
          0.5563199829385884,
          0.43561465182562753,
          0.39730330790400403,
          0.49641882836720513,
          0.4094340887423682,
          0.09415073493851257,
          -0.005556110799456574,
          -0.005555644773833739,
          0.09415739326211166,
          0.09416958191745539,
          0.4102720245008078,
          0.49090118897474566,
          -0.08351331130800778,
          0.1646869356508621,
          0.09403750271276101,
          0.19088610361262368,
          -0.00638835332533203,
          -0.0598861238167662,
          -0.005552965852132175,
          -0.005561033513984483,
          -0.005568087161318236,
          -0.00556849365281054,
          0.41027121336520644,
          0.38917171806111517,
          0.09300099931697994,
          0.25682497354442196,
          0.3928247245209618,
          0.4862966389105253,
          -0.005593675678840388,
          0.09407749802955613,
          0.256822693234597,
          0.40663478776704814,
          0.25682395615853176,
          0.381534257781698,
          0.3961512100172808,
          0.41027901765153707,
          0.405663656033407,
          0.09409754782618238,
          0.5561069518028351,
          -0.007454194754229249,
          0.06834891170054969,
          0.09416889958255001,
          0.2568240549795036,
          0.25667477970972885,
          -0.005570082910835259,
          0.09416702891003713,
          0.19088534567776155,
          0.13969616094367107,
          0.31004331942800806,
          0.38118923898746077,
          0.41020394187733744,
          -0.010147859677872717,
          0.4862732796317009,
          0.23066836366184532,
          -0.005555608691591626,
          -0.012527268520459255,
          0.09405178096629598,
          0.4060476581317267,
          0.41017126495426137,
          -0.0055509052046419025,
          0.511307764074465,
          0.3928002255923367,
          0.4402374616048579,
          0.09415200309834726,
          0.410274169296402,
          -0.016953298002674325,
          0.46673955326322286,
          0.46560243911282273,
          0.44026836912755,
          0.4102336679604244,
          0.3926438421786881,
          0.37986238159940944,
          0.46644908094126747,
          0.4099888646673747,
          0.24115140933051998,
          0.2841188136487945,
          0.0941685132319693,
          -0.005549985404606854,
          0.5562086176506787,
          0.4657573190205341,
          0.19212755721224029,
          0.3400695596598386,
          0.18992858418060493,
          0.09416818436220359,
          0.24114455318927736,
          0.390615365005164,
          0.44025995946740576,
          0.19088610478103582,
          0.40892552256505377,
          0.4500841720734181,
          0.45008514550841916,
          0.411597948279391,
          -0.005570690456434268,
          0.392798345375099,
          0.3928209130035881,
          0.27178126057898633,
          0.1908696292473148,
          -0.09942318343100422,
          0.1908490239849813,
          -0.01342138094491709,
          0.25505525963176173,
          0.4495239838480076,
          -0.005924182209236119,
          0.19088252606373163,
          -0.020791087363577185,
          0.1657475167114248,
          -0.005549997718543298,
          -0.005588724274548744,
          0.3817686419604906,
          0.3901997477389439,
          0.4066507830231529,
          0.40979718821884453,
          0.3928284884507335
         ]
        },
        {
         "customdata": [
          [
           "VeChainThor Authority",
           "Vechain"
          ],
          [
           "Proof-of-BibleHash",
           "BiblePay"
          ],
          [
           "SHA-256 + Hive",
           "LitecoinCash"
          ],
          [
           "Proof-of-Authority",
           "Poa Network"
          ],
          [
           "ECC 256K1",
           "Acute Angle Cloud"
          ],
          [
           "Leased POS",
           "Waves"
          ]
         ],
         "hovertemplate": "<b>%{hovertext}</b><br><br>class=%{marker.color}<br>PC1=%{x}<br>PC2=%{y}<br>PC3=%{z}<br>Algorithm=%{customdata[0]}<br>CoinName=%{customdata[1]}<extra></extra>",
         "hovertext": [
          "Vechain",
          "BiblePay",
          "LitecoinCash",
          "Poa Network",
          "Acute Angle Cloud",
          "Waves"
         ],
         "legendgroup": "3",
         "marker": {
          "color": [
           3,
           3,
           3,
           3,
           3,
           3
          ],
          "coloraxis": "coloraxis",
          "symbol": "square"
         },
         "mode": "markers",
         "name": "3",
         "scene": "scene",
         "showlegend": true,
         "type": "scatter3d",
         "x": [
          4.415708779342041,
          -0.19725551896270582,
          -0.3791343015930093,
          -0.41101929548890676,
          -0.3448589676665898,
          -0.4044965192671419
         ],
         "y": [
          1.8486775438312764,
          2.886266530497899,
          4.259213190523385,
          4.227195079551395,
          3.2444041927427687,
          3.690728970358689
         ],
         "z": [
          10.279286519439383,
          20.00935924339967,
          9.904374875425288,
          11.195236798605912,
          13.076858172732688,
          9.146668779678203
         ]
        },
        {
         "customdata": [
          [
           "TRC10",
           "BitTorrent"
          ]
         ],
         "hovertemplate": "<b>%{hovertext}</b><br><br>class=%{marker.color}<br>PC1=%{x}<br>PC2=%{y}<br>PC3=%{z}<br>Algorithm=%{customdata[0]}<br>CoinName=%{customdata[1]}<extra></extra>",
         "hovertext": [
          "BitTorrent"
         ],
         "legendgroup": "2",
         "marker": {
          "color": [
           2
          ],
          "coloraxis": "coloraxis",
          "symbol": "x"
         },
         "mode": "markers",
         "name": "2",
         "scene": "scene",
         "showlegend": true,
         "type": "scatter3d",
         "x": [
          34.062888125920345
         ],
         "y": [
          1.6657421023157304
         ],
         "z": [
          -1.289154473012575
         ]
        }
       ],
       "layout": {
        "coloraxis": {
         "colorbar": {
          "title": {
           "text": "class"
          }
         },
         "colorscale": [
          [
           0,
           "#0d0887"
          ],
          [
           0.1111111111111111,
           "#46039f"
          ],
          [
           0.2222222222222222,
           "#7201a8"
          ],
          [
           0.3333333333333333,
           "#9c179e"
          ],
          [
           0.4444444444444444,
           "#bd3786"
          ],
          [
           0.5555555555555556,
           "#d8576b"
          ],
          [
           0.6666666666666666,
           "#ed7953"
          ],
          [
           0.7777777777777778,
           "#fb9f3a"
          ],
          [
           0.8888888888888888,
           "#fdca26"
          ],
          [
           1,
           "#f0f921"
          ]
         ]
        },
        "legend": {
         "title": {
          "text": "class"
         },
         "tracegroupgap": 0,
         "x": 0,
         "y": 1
        },
        "margin": {
         "t": 60
        },
        "scene": {
         "domain": {
          "x": [
           0,
           1
          ],
          "y": [
           0,
           1
          ]
         },
         "xaxis": {
          "title": {
           "text": "PC1"
          }
         },
         "yaxis": {
          "title": {
           "text": "PC2"
          }
         },
         "zaxis": {
          "title": {
           "text": "PC3"
          }
         }
        },
        "template": {
         "data": {
          "bar": [
           {
            "error_x": {
             "color": "#2a3f5f"
            },
            "error_y": {
             "color": "#2a3f5f"
            },
            "marker": {
             "line": {
              "color": "#E5ECF6",
              "width": 0.5
             }
            },
            "type": "bar"
           }
          ],
          "barpolar": [
           {
            "marker": {
             "line": {
              "color": "#E5ECF6",
              "width": 0.5
             }
            },
            "type": "barpolar"
           }
          ],
          "carpet": [
           {
            "aaxis": {
             "endlinecolor": "#2a3f5f",
             "gridcolor": "white",
             "linecolor": "white",
             "minorgridcolor": "white",
             "startlinecolor": "#2a3f5f"
            },
            "baxis": {
             "endlinecolor": "#2a3f5f",
             "gridcolor": "white",
             "linecolor": "white",
             "minorgridcolor": "white",
             "startlinecolor": "#2a3f5f"
            },
            "type": "carpet"
           }
          ],
          "choropleth": [
           {
            "colorbar": {
             "outlinewidth": 0,
             "ticks": ""
            },
            "type": "choropleth"
           }
          ],
          "contour": [
           {
            "colorbar": {
             "outlinewidth": 0,
             "ticks": ""
            },
            "colorscale": [
             [
              0,
              "#0d0887"
             ],
             [
              0.1111111111111111,
              "#46039f"
             ],
             [
              0.2222222222222222,
              "#7201a8"
             ],
             [
              0.3333333333333333,
              "#9c179e"
             ],
             [
              0.4444444444444444,
              "#bd3786"
             ],
             [
              0.5555555555555556,
              "#d8576b"
             ],
             [
              0.6666666666666666,
              "#ed7953"
             ],
             [
              0.7777777777777778,
              "#fb9f3a"
             ],
             [
              0.8888888888888888,
              "#fdca26"
             ],
             [
              1,
              "#f0f921"
             ]
            ],
            "type": "contour"
           }
          ],
          "contourcarpet": [
           {
            "colorbar": {
             "outlinewidth": 0,
             "ticks": ""
            },
            "type": "contourcarpet"
           }
          ],
          "heatmap": [
           {
            "colorbar": {
             "outlinewidth": 0,
             "ticks": ""
            },
            "colorscale": [
             [
              0,
              "#0d0887"
             ],
             [
              0.1111111111111111,
              "#46039f"
             ],
             [
              0.2222222222222222,
              "#7201a8"
             ],
             [
              0.3333333333333333,
              "#9c179e"
             ],
             [
              0.4444444444444444,
              "#bd3786"
             ],
             [
              0.5555555555555556,
              "#d8576b"
             ],
             [
              0.6666666666666666,
              "#ed7953"
             ],
             [
              0.7777777777777778,
              "#fb9f3a"
             ],
             [
              0.8888888888888888,
              "#fdca26"
             ],
             [
              1,
              "#f0f921"
             ]
            ],
            "type": "heatmap"
           }
          ],
          "heatmapgl": [
           {
            "colorbar": {
             "outlinewidth": 0,
             "ticks": ""
            },
            "colorscale": [
             [
              0,
              "#0d0887"
             ],
             [
              0.1111111111111111,
              "#46039f"
             ],
             [
              0.2222222222222222,
              "#7201a8"
             ],
             [
              0.3333333333333333,
              "#9c179e"
             ],
             [
              0.4444444444444444,
              "#bd3786"
             ],
             [
              0.5555555555555556,
              "#d8576b"
             ],
             [
              0.6666666666666666,
              "#ed7953"
             ],
             [
              0.7777777777777778,
              "#fb9f3a"
             ],
             [
              0.8888888888888888,
              "#fdca26"
             ],
             [
              1,
              "#f0f921"
             ]
            ],
            "type": "heatmapgl"
           }
          ],
          "histogram": [
           {
            "marker": {
             "colorbar": {
              "outlinewidth": 0,
              "ticks": ""
             }
            },
            "type": "histogram"
           }
          ],
          "histogram2d": [
           {
            "colorbar": {
             "outlinewidth": 0,
             "ticks": ""
            },
            "colorscale": [
             [
              0,
              "#0d0887"
             ],
             [
              0.1111111111111111,
              "#46039f"
             ],
             [
              0.2222222222222222,
              "#7201a8"
             ],
             [
              0.3333333333333333,
              "#9c179e"
             ],
             [
              0.4444444444444444,
              "#bd3786"
             ],
             [
              0.5555555555555556,
              "#d8576b"
             ],
             [
              0.6666666666666666,
              "#ed7953"
             ],
             [
              0.7777777777777778,
              "#fb9f3a"
             ],
             [
              0.8888888888888888,
              "#fdca26"
             ],
             [
              1,
              "#f0f921"
             ]
            ],
            "type": "histogram2d"
           }
          ],
          "histogram2dcontour": [
           {
            "colorbar": {
             "outlinewidth": 0,
             "ticks": ""
            },
            "colorscale": [
             [
              0,
              "#0d0887"
             ],
             [
              0.1111111111111111,
              "#46039f"
             ],
             [
              0.2222222222222222,
              "#7201a8"
             ],
             [
              0.3333333333333333,
              "#9c179e"
             ],
             [
              0.4444444444444444,
              "#bd3786"
             ],
             [
              0.5555555555555556,
              "#d8576b"
             ],
             [
              0.6666666666666666,
              "#ed7953"
             ],
             [
              0.7777777777777778,
              "#fb9f3a"
             ],
             [
              0.8888888888888888,
              "#fdca26"
             ],
             [
              1,
              "#f0f921"
             ]
            ],
            "type": "histogram2dcontour"
           }
          ],
          "mesh3d": [
           {
            "colorbar": {
             "outlinewidth": 0,
             "ticks": ""
            },
            "type": "mesh3d"
           }
          ],
          "parcoords": [
           {
            "line": {
             "colorbar": {
              "outlinewidth": 0,
              "ticks": ""
             }
            },
            "type": "parcoords"
           }
          ],
          "pie": [
           {
            "automargin": true,
            "type": "pie"
           }
          ],
          "scatter": [
           {
            "marker": {
             "colorbar": {
              "outlinewidth": 0,
              "ticks": ""
             }
            },
            "type": "scatter"
           }
          ],
          "scatter3d": [
           {
            "line": {
             "colorbar": {
              "outlinewidth": 0,
              "ticks": ""
             }
            },
            "marker": {
             "colorbar": {
              "outlinewidth": 0,
              "ticks": ""
             }
            },
            "type": "scatter3d"
           }
          ],
          "scattercarpet": [
           {
            "marker": {
             "colorbar": {
              "outlinewidth": 0,
              "ticks": ""
             }
            },
            "type": "scattercarpet"
           }
          ],
          "scattergeo": [
           {
            "marker": {
             "colorbar": {
              "outlinewidth": 0,
              "ticks": ""
             }
            },
            "type": "scattergeo"
           }
          ],
          "scattergl": [
           {
            "marker": {
             "colorbar": {
              "outlinewidth": 0,
              "ticks": ""
             }
            },
            "type": "scattergl"
           }
          ],
          "scattermapbox": [
           {
            "marker": {
             "colorbar": {
              "outlinewidth": 0,
              "ticks": ""
             }
            },
            "type": "scattermapbox"
           }
          ],
          "scatterpolar": [
           {
            "marker": {
             "colorbar": {
              "outlinewidth": 0,
              "ticks": ""
             }
            },
            "type": "scatterpolar"
           }
          ],
          "scatterpolargl": [
           {
            "marker": {
             "colorbar": {
              "outlinewidth": 0,
              "ticks": ""
             }
            },
            "type": "scatterpolargl"
           }
          ],
          "scatterternary": [
           {
            "marker": {
             "colorbar": {
              "outlinewidth": 0,
              "ticks": ""
             }
            },
            "type": "scatterternary"
           }
          ],
          "surface": [
           {
            "colorbar": {
             "outlinewidth": 0,
             "ticks": ""
            },
            "colorscale": [
             [
              0,
              "#0d0887"
             ],
             [
              0.1111111111111111,
              "#46039f"
             ],
             [
              0.2222222222222222,
              "#7201a8"
             ],
             [
              0.3333333333333333,
              "#9c179e"
             ],
             [
              0.4444444444444444,
              "#bd3786"
             ],
             [
              0.5555555555555556,
              "#d8576b"
             ],
             [
              0.6666666666666666,
              "#ed7953"
             ],
             [
              0.7777777777777778,
              "#fb9f3a"
             ],
             [
              0.8888888888888888,
              "#fdca26"
             ],
             [
              1,
              "#f0f921"
             ]
            ],
            "type": "surface"
           }
          ],
          "table": [
           {
            "cells": {
             "fill": {
              "color": "#EBF0F8"
             },
             "line": {
              "color": "white"
             }
            },
            "header": {
             "fill": {
              "color": "#C8D4E3"
             },
             "line": {
              "color": "white"
             }
            },
            "type": "table"
           }
          ]
         },
         "layout": {
          "annotationdefaults": {
           "arrowcolor": "#2a3f5f",
           "arrowhead": 0,
           "arrowwidth": 1
          },
          "autotypenumbers": "strict",
          "coloraxis": {
           "colorbar": {
            "outlinewidth": 0,
            "ticks": ""
           }
          },
          "colorscale": {
           "diverging": [
            [
             0,
             "#8e0152"
            ],
            [
             0.1,
             "#c51b7d"
            ],
            [
             0.2,
             "#de77ae"
            ],
            [
             0.3,
             "#f1b6da"
            ],
            [
             0.4,
             "#fde0ef"
            ],
            [
             0.5,
             "#f7f7f7"
            ],
            [
             0.6,
             "#e6f5d0"
            ],
            [
             0.7,
             "#b8e186"
            ],
            [
             0.8,
             "#7fbc41"
            ],
            [
             0.9,
             "#4d9221"
            ],
            [
             1,
             "#276419"
            ]
           ],
           "sequential": [
            [
             0,
             "#0d0887"
            ],
            [
             0.1111111111111111,
             "#46039f"
            ],
            [
             0.2222222222222222,
             "#7201a8"
            ],
            [
             0.3333333333333333,
             "#9c179e"
            ],
            [
             0.4444444444444444,
             "#bd3786"
            ],
            [
             0.5555555555555556,
             "#d8576b"
            ],
            [
             0.6666666666666666,
             "#ed7953"
            ],
            [
             0.7777777777777778,
             "#fb9f3a"
            ],
            [
             0.8888888888888888,
             "#fdca26"
            ],
            [
             1,
             "#f0f921"
            ]
           ],
           "sequentialminus": [
            [
             0,
             "#0d0887"
            ],
            [
             0.1111111111111111,
             "#46039f"
            ],
            [
             0.2222222222222222,
             "#7201a8"
            ],
            [
             0.3333333333333333,
             "#9c179e"
            ],
            [
             0.4444444444444444,
             "#bd3786"
            ],
            [
             0.5555555555555556,
             "#d8576b"
            ],
            [
             0.6666666666666666,
             "#ed7953"
            ],
            [
             0.7777777777777778,
             "#fb9f3a"
            ],
            [
             0.8888888888888888,
             "#fdca26"
            ],
            [
             1,
             "#f0f921"
            ]
           ]
          },
          "colorway": [
           "#636efa",
           "#EF553B",
           "#00cc96",
           "#ab63fa",
           "#FFA15A",
           "#19d3f3",
           "#FF6692",
           "#B6E880",
           "#FF97FF",
           "#FECB52"
          ],
          "font": {
           "color": "#2a3f5f"
          },
          "geo": {
           "bgcolor": "white",
           "lakecolor": "white",
           "landcolor": "#E5ECF6",
           "showlakes": true,
           "showland": true,
           "subunitcolor": "white"
          },
          "hoverlabel": {
           "align": "left"
          },
          "hovermode": "closest",
          "mapbox": {
           "style": "light"
          },
          "paper_bgcolor": "white",
          "plot_bgcolor": "#E5ECF6",
          "polar": {
           "angularaxis": {
            "gridcolor": "white",
            "linecolor": "white",
            "ticks": ""
           },
           "bgcolor": "#E5ECF6",
           "radialaxis": {
            "gridcolor": "white",
            "linecolor": "white",
            "ticks": ""
           }
          },
          "scene": {
           "xaxis": {
            "backgroundcolor": "#E5ECF6",
            "gridcolor": "white",
            "gridwidth": 2,
            "linecolor": "white",
            "showbackground": true,
            "ticks": "",
            "zerolinecolor": "white"
           },
           "yaxis": {
            "backgroundcolor": "#E5ECF6",
            "gridcolor": "white",
            "gridwidth": 2,
            "linecolor": "white",
            "showbackground": true,
            "ticks": "",
            "zerolinecolor": "white"
           },
           "zaxis": {
            "backgroundcolor": "#E5ECF6",
            "gridcolor": "white",
            "gridwidth": 2,
            "linecolor": "white",
            "showbackground": true,
            "ticks": "",
            "zerolinecolor": "white"
           }
          },
          "shapedefaults": {
           "line": {
            "color": "#2a3f5f"
           }
          },
          "ternary": {
           "aaxis": {
            "gridcolor": "white",
            "linecolor": "white",
            "ticks": ""
           },
           "baxis": {
            "gridcolor": "white",
            "linecolor": "white",
            "ticks": ""
           },
           "bgcolor": "#E5ECF6",
           "caxis": {
            "gridcolor": "white",
            "linecolor": "white",
            "ticks": ""
           }
          },
          "title": {
           "x": 0.05
          },
          "xaxis": {
           "automargin": true,
           "gridcolor": "white",
           "linecolor": "white",
           "ticks": "",
           "title": {
            "standoff": 15
           },
           "zerolinecolor": "white",
           "zerolinewidth": 2
          },
          "yaxis": {
           "automargin": true,
           "gridcolor": "white",
           "linecolor": "white",
           "ticks": "",
           "title": {
            "standoff": 15
           },
           "zerolinecolor": "white",
           "zerolinewidth": 2
          }
         }
        },
        "width": 800
       }
      },
      "text/html": [
       "<div>                            <div id=\"d6858b41-5136-49b2-a572-b5b9edb5c4ce\" class=\"plotly-graph-div\" style=\"height:525px; width:800px;\"></div>            <script type=\"text/javascript\">                require([\"plotly\"], function(Plotly) {                    window.PLOTLYENV=window.PLOTLYENV || {};                                    if (document.getElementById(\"d6858b41-5136-49b2-a572-b5b9edb5c4ce\")) {                    Plotly.newPlot(                        \"d6858b41-5136-49b2-a572-b5b9edb5c4ce\",                        [{\"customdata\": [[\"Scrypt\", \"42 Coin\"], [\"Scrypt\", \"404Coin\"], [\"X13\", \"EliteCoin\"], [\"X11\", \"Dash\"], [\"SHA-512\", \"Bitshares\"], [\"SHA-256\", \"BitcoinDark\"], [\"SHA-256\", \"PayCoin\"], [\"X15\", \"KoboCoin\"], [\"Scrypt\", \"Aurora Coin\"], [\"Scrypt\", \"BlueCoin\"], [\"Scrypt\", \"EnergyCoin\"], [\"Scrypt\", \"BitBar\"], [\"Scrypt\", \"CryptoBullion\"], [\"Scrypt\", \"CasinoCoin\"], [\"Groestl\", \"Diamond\"], [\"PoS\", \"Exclusive Coin\"], [\"Scrypt\", \"FlutterCoin\"], [\"Scrypt\", \"HoboNickels\"], [\"X11\", \"HyperStake\"], [\"X11\", \"IOCoin\"], [\"SHA3\", \"MaxCoin\"], [\"Scrypt\", \"MintCoin\"], [\"SHA-256\", \"MazaCoin\"], [\"Scrypt\", \"Nautilus Coin\"], [\"X13\", \"NavCoin\"], [\"X13\", \"OpalCoin\"], [\"NeoScrypt\", \"Orbitcoin\"], [\"Scrypt\", \"PotCoin\"], [\"Scrypt\", \"PhoenixCoin\"], [\"Scrypt\", \"Reddcoin\"], [\"X11\", \"SuperCoin\"], [\"X11\", \"SyncCoin\"], [\"Multiple\", \"TeslaCoin\"], [\"PHI1612\", \"TittieCoin\"], [\"X11\", \"TorCoin\"], [\"Scrypt\", \"UnitaryStatus Dollar\"], [\"Scrypt\", \"UltraCoin\"], [\"Scrypt\", \"VeriCoin\"], [\"X11\", \"X11 Coin\"], [\"Multiple\", \"Crypti\"], [\"X13\", \"StealthCoin\"], [\"Scrypt\", \"ZCC Coin\"], [\"Shabal256\", \"BurstCoin\"], [\"Counterparty\", \"StorjCoin\"], [\"SHA-256\", \"Neutron\"], [\"Groestl\", \"FairCoin\"], [\"Scrypt\", \"RubyCoin\"], [\"X13\", \"Kore\"], [\"Scrypt\", \"Dnotes\"], [\"Scrypt\", \"8BIT Coin\"], [\"X13\", \"Sativa Coin\"], [\"X11\", \"Ucoin\"], [\"Scrypt\", \"Vtorrent\"], [\"X11\", \"IslaCoin\"], [\"SHA3\", \"Nexus\"], [\"QUAIT\", \"Droidz\"], [\"X11\", \"Squall Coin\"], [\"Scrypt\", \"Diggits\"], [\"X13\", \"Paycon\"], [\"SHA-256\", \"Emercoin\"], [\"X15\", \"EverGreenCoin\"], [\"BLAKE256\", \"Decred\"], [\"SHA-256\", \"EDRCoin\"], [\"X11\", \"Hitcoin\"], [\"SHA-256\", \"DubaiCoin\"], [\"NIST5\", \"PWR Coin\"], [\"Scrypt\", \"BillaryCoin\"], [\"Scrypt\", \"GPU Coin\"], [\"X11\", \"EuropeCoin\"], [\"Scrypt\", \"ZeitCoin\"], [\"SHA-256\", \"SwingCoin\"], [\"Scrypt\", \"SafeExchangeCoin\"], [\"PoS\", \"Nebuchadnezzar\"], [\"X11\", \"Ratecoin\"], [\"SHA-256\", \"Revenu\"], [\"SHA-256\", \"Clockcoin\"], [\"NIST5\", \"VIP Tokens\"], [\"X11\", \"BitSend\"], [\"POS 3.0\", \"Let it Ride\"], [\"Scrypt\", \"PutinCoin\"], [\"Scrypt\", \"iBankCoin\"], [\"Scrypt\", \"Frankywillcoin\"], [\"X13\", \"MudraCoin\"], [\"X11\", \"Lutetium Coin\"], [\"X11\", \"GoldBlocks\"], [\"Scrypt\", \"CarterCoin\"], [\"SHA-256\", \"BitTokens\"], [\"X11\", \"MustangCoin\"], [\"Scrypt\", \"ZoneCoin\"], [\"Scrypt\", \"RootCoin\"], [\"Scrypt\", \"BitCurrency\"], [\"Scrypt\", \"Swiscoin\"], [\"SHA-256D\", \"BuzzCoin\"], [\"PoS\", \"Opair\"], [\"Scrypt\", \"PesoBit\"], [\"X11\", \"Halloween Coin\"], [\"PoS\", \"CoffeeCoin\"], [\"X13\", \"RoyalCoin\"], [\"X14\", \"GanjaCoin V2\"], [\"PoS\", \"TeamUP\"], [\"SHA-256D\", \"LanaCoin\"], [\"DPoS\", \"ARK\"], [\"X11\", \"InsaneCoin\"], [\"X13\", \"EmberCoin\"], [\"X11\", \"XenixCoin\"], [\"PoS\", \"FreeCoin\"], [\"Scrypt\", \"PLNCoin\"], [\"Scrypt\", \"AquariusCoin\"], [\"PoS\", \"Creatio\"], [\"X11\", \"Eternity\"], [\"SHA-256\", \"Eurocoin\"], [\"Scrypt\", \"BitcoinFast\"], [\"X11\", \"Stakenet\"], [\"Scrypt\", \"BitConnect Coin\"], [\"Scrypt\", \"MoneyCoin\"], [\"X11\", \"Enigma\"], [\"Scrypt\", \"Russiacoin\"], [\"Scrypt\", \"PandaCoin\"], [\"Scrypt\", \"GameUnits\"], [\"Scrypt\", \"GAKHcoin\"], [\"Quark\", \"Allsafe\"], [\"QuBit\", \"LiteCreed\"], [\"Scrypt\", \"Klingon Empire Darsek\"], [\"SHA-256\", \"Internet of People\"], [\"X11\", \"KushCoin\"], [\"Scrypt\", \"Printerium\"], [\"Scrypt\", \"Impeach\"], [\"Scrypt\", \"Zilbercoin\"], [\"Scrypt\", \"FirstCoin\"], [\"X13\", \"FindCoin\"], [\"Scrypt\", \"OpenChat\"], [\"Scrypt\", \"RenosCoin\"], [\"X11\", \"VirtacoinPlus\"], [\"Blake2S\", \"TajCoin\"], [\"X11\", \"Impact\"], [\"PoS\", \"Atmos\"], [\"X11\", \"HappyCoin\"], [\"PoS\", \"MacronCoin\"], [\"X11\", \"Condensate\"], [\"Scrypt\", \"Independent Money System\"], [\"Scrypt\", \"ArgusCoin\"], [\"Scrypt\", \"LomoCoin\"], [\"SHA-256\", \"ProCurrency\"], [\"X11\", \"GoldReserve\"], [\"Scrypt\", \"GrowthCoin\"], [\"PoS\", \"Phreak\"], [\"Scrypt\", \"Degas Coin\"], [\"X15\", \"HTML5 Coin\"], [\"SHA-256\", \"Ultimate Secure Cash\"], [\"POS 3.0\", \"QTUM\"], [\"536\", \"Espers\"], [\"NIST5\", \"Denarius\"], [\"NIST5\", \"Virta Unique Coin\"], [\"Skein\", \"Bitcoin Planet\"], [\"X13\", \"BritCoin\"], [\"Scrypt\", \"Linda\"], [\"X13\", \"DeepOnion\"], [\"SkunkHash v2 Raptor\", \"Signatum\"], [\"Skein\", \"Cream\"], [\"X11\", \"Monoeci\"], [\"Scrypt\", \"Draftcoin\"], [\"PoS\", \"Stakecoin\"], [\"Scrypt\", \"CoinonatX\"], [\"Scrypt\", \"Ethereum Dark\"], [\"SHA-512\", \"Obsidian\"], [\"Ouroboros\", \"Cardano\"], [\"X11\", \"Regalcoin\"], [\"NeoScrypt\", \"TrezarCoin\"], [\"Scrypt\", \"TerraNovaCoin\"], [\"Lyra2REv2\", \"Rupee\"], [\"Scrypt\", \"WomenCoin\"], [\"SHA-256\", \"Theresa May Coin\"], [\"NIST5\", \"NamoCoin\"], [\"PHI1612\", \"LUXCoin\"], [\"Scrypt\", \"Xios\"], [\"Quark\", \"Bitcloud 2.0\"], [\"POS 2.0\", \"KekCoin\"], [\"Scrypt\", \"BlackholeCoin\"], [\"SHA-256\", \"Infinity Economics\"], [\"X11\", \"Magnet\"], [\"DPoS\", \"Lamden Tau\"], [\"NIST5\", \"Electra\"], [\"X13\", \"Bitcoin Diamond\"], [\"Scrypt\", \"Cash & Back Coin\"], [\"NIST5\", \"Bulwark\"], [\"Quark\", \"Kalkulus\"], [\"Scrypt\", \"GermanCoin\"], [\"Scrypt\", \"LiteCoin Ultra\"], [\"X11\", \"PhantomX\"], [\"Quark\", \"Digiwage\"], [\"Scrypt\", \"Trollcoin\"], [\"Scrypt\", \"Litecoin Plus\"], [\"X11\", \"Monkey Project\"], [\"POS 3.0\", \"TokenPay\"], [\"Ethash\", \"1717 Masonic Commemorative Token\"], [\"Scrypt\", \"My Big Coin\"], [\"Scrypt\", \"Unified Society USDEX\"], [\"X13\", \"Tokyo Coin\"], [\"C11\", \"Stipend\"], [\"X11\", \"Pushi\"], [\"XEVAN\", \"Ellerium\"], [\"Scrypt\", \"Velox\"], [\"VBFT\", \"Ontology\"], [\"NIST5\", \"Bitspace\"], [\"Scrypt\", \"Briacoin\"], [\"Scrypt\", \"Ignition\"], [\"Scrypt\", \"MedicCoin\"], [\"Green Protocol\", \"Bitcoin Green\"], [\"PoS\", \"Deviant Coin\"], [\"Scrypt\", \"Abjcoin\"], [\"Semux BFT consensus\", \"Semux\"], [\"Quark\", \"Carebit\"], [\"PoS\", \"Zealium\"], [\"X16R\", \"Proton\"], [\"Scrypt\", \"iDealCash\"], [\"XEVAN\", \"Bitcoin Incognito\"], [\"Scrypt\", \"HollyWoodCoin\"], [\"Scrypt\", \"Swisscoin\"], [\"Scrypt\", \"Xt3ch\"], [\"SHA-256D\", \"TheVig\"], [\"Scrypt\", \"EmaratCoin\"], [\"X15\", \"Dekado\"], [\"Scrypt\", \"Lynx\"], [\"Quark\", \"Poseidon Quark\"], [\"SHA-256\", \"BitcoinWSpectrum\"], [\"DPoS\", \"Muse\"], [\"X16R\", \"Trivechain\"], [\"Quark\", \"Dystem\"], [\"Quark\", \"Giant\"], [\"Scrypt\", \"Peony Coin\"], [\"Lyra2REv2\", \"Absolute Coin\"], [\"Quark\", \"Vitae\"], [\"Scrypt\", \"TPCash\"], [\"X11\", \"ARENON\"], [\"X11\", \"EUNO\"], [\"Scrypt\", \"MMOCoin\"], [\"PoS\", \"Ketan\"], [\"Keccak\", \"XDNA\"], [\"X11\", \"PAXEX\"], [\"Scrypt\", \"ThunderStake\"], [\"SHA-512\", \"Kcash\"], [\"XEVAN\", \"Bettex coin\"], [\"XEVAN\", \"BitMoney\"], [\"X11\", \"Junson Ming Chan Coin\"], [\"Quark\", \"HerbCoin\"], [\"Equihash\", \"PirateCash\"], [\"Scrypt\", \"Oduwa\"], [\"Quark\", \"Galilel\"], [\"Quark\", \"Crypto Sports\"], [\"Scrypt\", \"Credit\"], [\"X11\", \"Dash Platinum\"], [\"Scrypt\", \"Nasdacoin\"], [\"XEVAN\", \"Beetle Coin\"], [\"SHA-256D\", \"Titan Coin\"], [\"X11\", \"Award\"], [\"X11\", \"Insane Coin\"], [\"DPoS\", \"ALAX\"], [\"Scrypt\", \"LiteDoge\"], [\"X11\", \"TruckCoin\"], [\"Scrypt\", \"OrangeCoin\"], [\"Scrypt\", \"BitstarCoin\"], [\"SHA-256\", \"NeosCoin\"], [\"Scrypt\", \"HyperCoin\"], [\"X11\", \"PinkCoin\"], [\"Scrypt\", \"AudioCoin\"], [\"SHA-256\", \"IncaKoin\"], [\"X11\", \"Piggy Coin\"], [\"Scrypt\", \"Genstake\"], [\"Scrypt\", \"XiaoMiCoin\"], [\"X11\", \"CapriCoin\"], [\"Scrypt\", \" ClubCoin\"], [\"PoS\", \"Radium\"], [\"X11\", \"Creditbit \"], [\"SHA-256\", \"OKCash\"], [\"DPoS\", \"Lisk\"], [\"Scrypt\", \"HiCoin\"], [\"Scrypt\", \"WhiteCoin\"], [\"NeoScrypt\", \"FriendshipCoin\"], [\"X13\", \"Triangles Coin\"], [\"DPoS\", \"EOS\"], [\"DPoS\", \"Oxycoin\"], [\"SHA-256\", \"TigerCash\"], [\"PoS\", \"Particl\"], [\"PoS\", \"Nxt\"], [\"SHA-256\", \"ZEPHYR\"], [\"Scrypt\", \"Gapcoin\"], [\"Scrypt\", \"BitcoinPlus\"]], \"hovertemplate\": \"<b>%{hovertext}</b><br><br>class=%{marker.color}<br>PC1=%{x}<br>PC2=%{y}<br>PC3=%{z}<br>Algorithm=%{customdata[0]}<br>CoinName=%{customdata[1]}<extra></extra>\", \"hovertext\": [\"42 Coin\", \"404Coin\", \"EliteCoin\", \"Dash\", \"Bitshares\", \"BitcoinDark\", \"PayCoin\", \"KoboCoin\", \"Aurora Coin\", \"BlueCoin\", \"EnergyCoin\", \"BitBar\", \"CryptoBullion\", \"CasinoCoin\", \"Diamond\", \"Exclusive Coin\", \"FlutterCoin\", \"HoboNickels\", \"HyperStake\", \"IOCoin\", \"MaxCoin\", \"MintCoin\", \"MazaCoin\", \"Nautilus Coin\", \"NavCoin\", \"OpalCoin\", \"Orbitcoin\", \"PotCoin\", \"PhoenixCoin\", \"Reddcoin\", \"SuperCoin\", \"SyncCoin\", \"TeslaCoin\", \"TittieCoin\", \"TorCoin\", \"UnitaryStatus Dollar\", \"UltraCoin\", \"VeriCoin\", \"X11 Coin\", \"Crypti\", \"StealthCoin\", \"ZCC Coin\", \"BurstCoin\", \"StorjCoin\", \"Neutron\", \"FairCoin\", \"RubyCoin\", \"Kore\", \"Dnotes\", \"8BIT Coin\", \"Sativa Coin\", \"Ucoin\", \"Vtorrent\", \"IslaCoin\", \"Nexus\", \"Droidz\", \"Squall Coin\", \"Diggits\", \"Paycon\", \"Emercoin\", \"EverGreenCoin\", \"Decred\", \"EDRCoin\", \"Hitcoin\", \"DubaiCoin\", \"PWR Coin\", \"BillaryCoin\", \"GPU Coin\", \"EuropeCoin\", \"ZeitCoin\", \"SwingCoin\", \"SafeExchangeCoin\", \"Nebuchadnezzar\", \"Ratecoin\", \"Revenu\", \"Clockcoin\", \"VIP Tokens\", \"BitSend\", \"Let it Ride\", \"PutinCoin\", \"iBankCoin\", \"Frankywillcoin\", \"MudraCoin\", \"Lutetium Coin\", \"GoldBlocks\", \"CarterCoin\", \"BitTokens\", \"MustangCoin\", \"ZoneCoin\", \"RootCoin\", \"BitCurrency\", \"Swiscoin\", \"BuzzCoin\", \"Opair\", \"PesoBit\", \"Halloween Coin\", \"CoffeeCoin\", \"RoyalCoin\", \"GanjaCoin V2\", \"TeamUP\", \"LanaCoin\", \"ARK\", \"InsaneCoin\", \"EmberCoin\", \"XenixCoin\", \"FreeCoin\", \"PLNCoin\", \"AquariusCoin\", \"Creatio\", \"Eternity\", \"Eurocoin\", \"BitcoinFast\", \"Stakenet\", \"BitConnect Coin\", \"MoneyCoin\", \"Enigma\", \"Russiacoin\", \"PandaCoin\", \"GameUnits\", \"GAKHcoin\", \"Allsafe\", \"LiteCreed\", \"Klingon Empire Darsek\", \"Internet of People\", \"KushCoin\", \"Printerium\", \"Impeach\", \"Zilbercoin\", \"FirstCoin\", \"FindCoin\", \"OpenChat\", \"RenosCoin\", \"VirtacoinPlus\", \"TajCoin\", \"Impact\", \"Atmos\", \"HappyCoin\", \"MacronCoin\", \"Condensate\", \"Independent Money System\", \"ArgusCoin\", \"LomoCoin\", \"ProCurrency\", \"GoldReserve\", \"GrowthCoin\", \"Phreak\", \"Degas Coin\", \"HTML5 Coin\", \"Ultimate Secure Cash\", \"QTUM\", \"Espers\", \"Denarius\", \"Virta Unique Coin\", \"Bitcoin Planet\", \"BritCoin\", \"Linda\", \"DeepOnion\", \"Signatum\", \"Cream\", \"Monoeci\", \"Draftcoin\", \"Stakecoin\", \"CoinonatX\", \"Ethereum Dark\", \"Obsidian\", \"Cardano\", \"Regalcoin\", \"TrezarCoin\", \"TerraNovaCoin\", \"Rupee\", \"WomenCoin\", \"Theresa May Coin\", \"NamoCoin\", \"LUXCoin\", \"Xios\", \"Bitcloud 2.0\", \"KekCoin\", \"BlackholeCoin\", \"Infinity Economics\", \"Magnet\", \"Lamden Tau\", \"Electra\", \"Bitcoin Diamond\", \"Cash & Back Coin\", \"Bulwark\", \"Kalkulus\", \"GermanCoin\", \"LiteCoin Ultra\", \"PhantomX\", \"Digiwage\", \"Trollcoin\", \"Litecoin Plus\", \"Monkey Project\", \"TokenPay\", \"1717 Masonic Commemorative Token\", \"My Big Coin\", \"Unified Society USDEX\", \"Tokyo Coin\", \"Stipend\", \"Pushi\", \"Ellerium\", \"Velox\", \"Ontology\", \"Bitspace\", \"Briacoin\", \"Ignition\", \"MedicCoin\", \"Bitcoin Green\", \"Deviant Coin\", \"Abjcoin\", \"Semux\", \"Carebit\", \"Zealium\", \"Proton\", \"iDealCash\", \"Bitcoin Incognito\", \"HollyWoodCoin\", \"Swisscoin\", \"Xt3ch\", \"TheVig\", \"EmaratCoin\", \"Dekado\", \"Lynx\", \"Poseidon Quark\", \"BitcoinWSpectrum\", \"Muse\", \"Trivechain\", \"Dystem\", \"Giant\", \"Peony Coin\", \"Absolute Coin\", \"Vitae\", \"TPCash\", \"ARENON\", \"EUNO\", \"MMOCoin\", \"Ketan\", \"XDNA\", \"PAXEX\", \"ThunderStake\", \"Kcash\", \"Bettex coin\", \"BitMoney\", \"Junson Ming Chan Coin\", \"HerbCoin\", \"PirateCash\", \"Oduwa\", \"Galilel\", \"Crypto Sports\", \"Credit\", \"Dash Platinum\", \"Nasdacoin\", \"Beetle Coin\", \"Titan Coin\", \"Award\", \"Insane Coin\", \"ALAX\", \"LiteDoge\", \"TruckCoin\", \"OrangeCoin\", \"BitstarCoin\", \"NeosCoin\", \"HyperCoin\", \"PinkCoin\", \"AudioCoin\", \"IncaKoin\", \"Piggy Coin\", \"Genstake\", \"XiaoMiCoin\", \"CapriCoin\", \" ClubCoin\", \"Radium\", \"Creditbit \", \"OKCash\", \"Lisk\", \"HiCoin\", \"WhiteCoin\", \"FriendshipCoin\", \"Triangles Coin\", \"EOS\", \"Oxycoin\", \"TigerCash\", \"Particl\", \"Nxt\", \"ZEPHYR\", \"Gapcoin\", \"BitcoinPlus\"], \"legendgroup\": \"0\", \"marker\": {\"color\": [0, 0, 0, 0, 0, 0, 0, 0, 0, 0, 0, 0, 0, 0, 0, 0, 0, 0, 0, 0, 0, 0, 0, 0, 0, 0, 0, 0, 0, 0, 0, 0, 0, 0, 0, 0, 0, 0, 0, 0, 0, 0, 0, 0, 0, 0, 0, 0, 0, 0, 0, 0, 0, 0, 0, 0, 0, 0, 0, 0, 0, 0, 0, 0, 0, 0, 0, 0, 0, 0, 0, 0, 0, 0, 0, 0, 0, 0, 0, 0, 0, 0, 0, 0, 0, 0, 0, 0, 0, 0, 0, 0, 0, 0, 0, 0, 0, 0, 0, 0, 0, 0, 0, 0, 0, 0, 0, 0, 0, 0, 0, 0, 0, 0, 0, 0, 0, 0, 0, 0, 0, 0, 0, 0, 0, 0, 0, 0, 0, 0, 0, 0, 0, 0, 0, 0, 0, 0, 0, 0, 0, 0, 0, 0, 0, 0, 0, 0, 0, 0, 0, 0, 0, 0, 0, 0, 0, 0, 0, 0, 0, 0, 0, 0, 0, 0, 0, 0, 0, 0, 0, 0, 0, 0, 0, 0, 0, 0, 0, 0, 0, 0, 0, 0, 0, 0, 0, 0, 0, 0, 0, 0, 0, 0, 0, 0, 0, 0, 0, 0, 0, 0, 0, 0, 0, 0, 0, 0, 0, 0, 0, 0, 0, 0, 0, 0, 0, 0, 0, 0, 0, 0, 0, 0, 0, 0, 0, 0, 0, 0, 0, 0, 0, 0, 0, 0, 0, 0, 0, 0, 0, 0, 0, 0, 0, 0, 0, 0, 0, 0, 0, 0, 0, 0, 0, 0, 0, 0, 0, 0, 0, 0, 0, 0, 0, 0, 0, 0, 0, 0, 0, 0, 0, 0, 0, 0, 0, 0, 0, 0, 0, 0, 0, 0, 0, 0, 0], \"coloraxis\": \"coloraxis\", \"symbol\": \"circle\"}, \"mode\": \"markers\", \"name\": \"0\", \"scene\": \"scene\", \"showlegend\": true, \"type\": \"scatter3d\", \"x\": [-0.33702420886407525, -0.3203595013288899, 2.311374610224522, -0.39313041170664836, -0.26649794550415645, -0.309721368055142, -0.2656415219147144, -0.242175675837033, -0.33668373733766577, -0.32926018740119173, -0.33552054837263495, -0.33702014451159834, -0.337004423272892, 0.6582877356559289, -0.3669529211138483, -0.35309512295574624, -0.2855451772612432, -0.33508271232268616, -0.32887110732206903, -0.3930250915911219, -0.42136792617246, -0.032824805664532386, -0.2730225505327803, -0.29269541837364965, -0.27289910840673426, -0.27352141319683776, -0.34436378586060723, -0.3313256788270147, -0.33542572683872235, 0.021172446873236273, -0.348760777755537, -0.39339671604781123, -0.24983993365867607, -0.3093220290387631, -0.3933083442386776, -0.31225281347729433, -0.3357014232696267, -0.3074411693701315, -0.39327281384947355, -0.2503077231124523, -0.27330224285878135, -0.32812616934721006, -0.0016545157480445144, -0.34644424623538084, -0.3089329711478642, -0.36637439400828503, -0.292675671310718, -0.27359681412529074, -0.287328989636541, -0.3370062746395029, -0.27354899178361913, -0.3492056950703024, -0.3367406196499107, -0.39337824209949124, -0.432528118916879, -0.4271025362889269, -0.36646615393701365, -0.29107698414011146, -0.2730705640241458, -0.3022771598336031, -0.24461742825166408, -0.0767430847952515, -0.3096922775284142, -0.07080240071122469, -0.30975597927475024, -0.2258477885203918, -0.33661648560567964, -0.29094603545700726, -0.39054709176263547, 0.860620906823261, -0.3095560177912667, -0.0725856301977902, -0.3527783522944324, -0.39122092282437204, -0.30829940852318577, -0.30596734994527647, -0.34722512932064975, -0.3921132703312482, -0.34288079911274594, -0.31290972012820084, -0.3366545896684107, -0.33509336472926277, -0.2282111697897909, -0.3366947056361512, -0.39285207803131356, -0.3358587035900717, -0.3097369306697066, -0.39336743269239605, -0.3368437756997789, -0.337000506850179, -0.29093556294631706, -0.24897121880710726, 0.03395077659428199, -0.3517352829503233, -0.33661460439446717, -0.3795280249622221, -0.3510638112981029, -0.22964194940173252, -0.39736759252534115, -0.3508127714229783, -0.28062074199460213, 3.7195572138299497, -0.39295991912386957, 0.8587915648712351, -0.39332233575364284, -0.3521990988107038, -0.3365421569641744, -0.3366965075710903, -0.3527783522944324, -0.3928971886775548, -0.3095995822794143, -0.3365428916542303, -0.37825806833597514, -0.3366903038227544, -0.33227780252878436, -0.3933513343421104, -0.335900912263327, 0.350667380938774, -0.33688960711891447, -0.33696018693070634, -0.3493574027116432, -0.3525259175497929, -0.333186485482166, -0.30971334073938, -0.3932612730100191, -0.33673796812953577, -0.33686494121257615, -0.2925821797217128, -0.29787267513195, -0.22940977055889114, -0.3177157602174003, -0.29232326585835605, -0.3925269265542882, -0.4170691259508736, -0.391265105590076, -0.35102465719525494, -0.392424796076728, -0.3454237738991209, -0.3883652502421044, -0.336808218866595, -0.33680741044314055, -0.3299283009523269, 0.26708677689177523, -0.39290333443535114, -0.27522207330677995, -0.3528126541163715, -0.3360188054752409, 0.889911082020697, -0.26433177548757336, -0.34165897781477367, 0.5679134209807412, -0.3487609958871582, -0.34726301942186644, -0.4054597978424127, -0.2732340421532538, 0.1279826062203289, -0.2733048227756563, -0.3534447561314417, -0.40496460722939287, -0.393175753454314, -0.29265638450967707, -0.3526789152885916, -0.3364433652864013, -0.33694311418730294, -0.32457015697957015, 0.6555848413223808, -0.39311657618607093, -0.3393623515314519, -0.3368987252594388, -0.30984294502669946, 0.4323301112722271, -0.30805937534293826, -0.333525777439195, -0.38894071458657514, -0.3368490576022639, -0.39181542970801836, -0.35623192677840476, -0.33671943555346406, -0.09210066621005505, -0.39190907114263646, 3.724413883033703, 0.2108103977836872, -0.2699752076110411, -0.3341793629512554, -0.30450811756791135, -0.3492432901413278, 0.07747766326967793, -0.3358578660347004, -0.39249027963516037, -0.3484079215227293, -0.3234218900818379, -0.3369652490366378, -0.34917762047254586, -0.3431627569483308, -0.273467300838475, -0.2957637595064236, -0.33250987187528575, -0.22120444142773069, -0.3716928992726237, -0.39319300461329465, -0.31737838834646637, -0.29181626291804036, -0.3218986759295333, -0.34835990359740115, -0.33699260772431194, -0.336974316358103, -0.28619691261833796, -0.3421831542212837, -0.35227331657732647, -0.3366907892921973, 3.9093492438449986, -0.3904832541675007, -0.35246201267768396, -0.3185148315693444, -0.28355369351905574, -0.29060020837203204, -0.29235054934172544, -0.1400780252072501, -0.292602649612231, -0.34594423714978145, -0.3361647517526329, -0.19994470639749026, 2.2321526708310255, -0.3449507039877029, -0.26445949989503015, 1.0172833658821465, -0.36186767235281275, -0.3493568396273084, -0.39349979554556186, -0.17331928326772655, -0.35378760734144676, -0.34807619353154107, -0.32986838310566663, -0.34875497056415533, -0.3926662659288254, -0.2898477522512867, -0.3515616984530268, -0.3445694932522582, -0.34861633638245665, -0.19645661252855057, -0.30381420014538, -0.2733550958017277, 0.5143204142608588, -0.13909832133483718, -0.3927943268683405, -0.2894676909932427, -0.33669476218288386, -0.3932505080812374, -0.34947383262643156, 0.5699413486106173, -0.3492319434893882, -0.3361776156875247, -0.31183324402108575, -0.30065802239761696, -0.3902306073222674, -0.3928935333980329, 3.7366573549627122, 0.09829488979426752, -0.39043280941362446, -0.3355630305974317, -0.33638812723126355, -0.265674157952656, -0.336906529412652, -0.3845201855800865, -0.2505980884254917, -0.0893468074093043, -0.3802679843776903, -0.3361847436804626, -0.32924808838779257, -0.38946165899285146, -0.3346237223279567, -0.35305402262449737, -0.3918325507868077, -0.3082362221534244, 3.719949081222689, -0.09985770199872701, -0.3318181020536934, -0.3439895963171411, -0.2737040326187429, 3.72981858190311, 3.7310629018590813, -0.24656826174886867, -0.3529898795537601, -0.3629983772525226, 2.4731562412074726, -0.3350693225976153, -0.29299917130381486], \"y\": [1.0563321570272142, 1.0564158127298462, 1.6510334783285154, 1.175082935593303, 1.816420030584546, 0.8576154548048426, 0.6096747187302044, 1.8844184330089122, 1.056329654324364, 1.056548087521821, 1.0563739763785547, 1.0563319131220408, 1.0563319933844457, 0.2751231319895672, 0.9477395504128783, 1.4509984312972968, 0.47823433935401366, 1.0563004801443034, 0.9277123484033788, 1.1750858647224398, 2.052932699999882, 0.8156189998743991, 0.8569246457510121, 0.8083800104801082, 1.8034523754466507, 1.8034350681062343, 0.5055097488656988, 1.0561907865762967, 1.0563066470864495, 1.0662942070938033, 0.9271591832945033, 1.1750912352601877, 0.0634856310394735, 1.5349607627635409, 1.1750865543099709, 1.0558787819354103, 1.0562975516196071, 0.3864528144016158, 1.175090755214319, 0.06354401535439165, 1.8034411636010952, 1.0558656832211357, 0.27039840599588066, 1.5240096585446712, 0.857604540056437, 0.9477587672938469, 0.808392111280777, 1.8034244037609466, 0.8081838398468643, 1.0563326558380801, 1.803427161667004, 0.927132530532513, 1.0563257652841875, 1.175091749765632, 2.302444628132994, 1.8736402892490338, 0.5779601654883859, 0.8083651791289682, 1.8034119098159542, 0.8571242542323836, 1.8845816286335813, 0.9216297205022498, 0.8576162638612045, 1.1651079320139583, 0.8576227025560739, 1.6007674949638189, 1.0563135109088464, 0.808282396322593, 1.1748963346007517, 0.7697868429920727, 0.8576072024947122, 0.28182086568650644, 1.4509929623560052, 1.1750982026911536, 0.8575116956274473, 0.8573607468950402, 1.5973275325574356, 1.1750276926419425, 1.433410839762824, 1.0555749349609413, 1.0563107853035887, 1.056314462747914, 1.5553789803341855, 0.9270257002941965, 1.1750706861089708, 1.056300316822441, 0.8576157359256641, 1.175089908563644, 1.0563221823981033, 1.0563328162499792, 0.8084405066142277, 0.42882267980594496, 1.9154088929900017, 1.4509834189294328, 1.0563435488448023, 1.1744060326759551, 1.451026367825958, 1.5554801916548617, 1.8870387031841729, 1.4508470104061955, 1.915580138129441, 2.043848159377735, 1.1750819657321465, 1.83431974024623, 1.1750905535582932, 1.4509876540699846, 1.0563180483567174, 1.0563112853637144, 1.4509929623560052, 1.175062292073749, 0.857620269758109, 1.0563219831693342, 0.42313082998965285, 1.0563214531058036, 1.0559996283887196, 1.175088928399287, 1.0562605899931503, 0.8030707557685693, 1.0563266192953986, 1.0563315703294343, 1.380354519721266, 0.5473603320971068, 1.056081918961205, 0.8576163920012094, 1.1750883246471604, 1.0563258390274177, 1.0563209274028862, 0.8083554445602343, 0.5183041957474214, 1.5554780639651016, 1.056155214167312, 0.8083773337555592, 1.1750440319548587, 1.9160365391481617, 1.1750719858807062, 1.4509772736022837, 1.1750468723748109, 1.4509262070885542, 1.1748741978579953, 1.056323019850942, 1.0563177678082434, 1.0558155629172878, 0.57095396748823, 1.1750764000148248, 0.8074496386365371, 1.450984868932323, 1.056285154971686, 1.8518986533754584, 0.6095772205034761, 1.4333973434374578, 1.784714947337265, 1.5973419329907435, 1.5973050604727745, 1.9597226510522021, 1.8034216420797853, 1.0335676145683865, 1.8034275996158708, 1.4582888726092291, 1.9597364231340608, 1.1750905936627085, 0.8083802208606227, 1.4509660278519594, 1.0563138621022432, 1.0563314138746047, 1.8173103014099352, 1.462384595661918, 1.1750797506661192, 0.5053659614144055, 1.0563244142599773, 0.5979139385871047, 1.0598806105077219, 0.8576059900377737, 1.5969160575176347, 1.7835191194124116, 1.0563220354995322, 1.6282150642680484, 1.372697529585901, 1.05633007532461, 0.6080846162025111, 1.175029802047789, 2.043715502780497, 1.5914933944528071, 1.803383765952398, 1.0562613489140045, 1.3493865784655794, 1.380354123667095, 1.0321629873595302, 1.0562575035215247, 1.1750807483294516, 1.3803059623455345, 1.0560679114456706, 1.0563309410559523, 0.9271325973909391, 1.4334090665598886, -0.07576145711692812, 0.3572175235802643, 1.0562920735107668, 1.5551454832595983, 0.8384514040793088, 1.1750790529498047, 1.35844162848288, 0.8083274839077773, 1.3181876879466097, 1.5973245303105146, 1.056330894108187, 1.0563299749352828, 0.8082153248083231, 1.4756267625610129, 1.450958460106027, 1.0563200117175928, 1.9547447056146505, 1.6282521143051714, 1.4509589236968161, 0.6512564773528977, 1.0541624793326225, 0.761334163780809, 0.8083825909438916, 1.0545273397878225, 0.8083627286339329, 1.91905084579576, 1.0562960887689765, 1.6366051193539, 0.34678788243940656, 1.3800237234460941, 0.6096449355124811, 1.7411167048081064, 0.899197409011471, 1.3803502517221125, 1.6283073303552673, 0.7996602507219644, 0.8458448694291025, 1.380329467122509, 1.0558172293331445, 0.9271200779237315, 1.1750758538553274, 0.8082851352111042, 1.4508911503241686, 0.8120584387916371, 0.9270918061268955, 1.0473905993575374, 2.5594387064738187, 1.1104996765294721, 0.8620657748972382, 0.9329902480132974, 1.6282920752093257, -0.03846970345144725, 1.0563263267140466, 1.6283043503566936, 1.3803524453374607, 1.0281534362934182, 0.9271320147029081, 1.0562957310013619, 1.3582817132230454, 1.9168120095131178, 1.1748794346072446, 1.1750838120305742, 2.0436990426561263, 1.0434510980437928, 1.1751736671909516, 1.0562300062274774, 1.056311111765038, 0.6096677425496398, 1.0563354299202072, 1.1749811355581197, 1.0512394084075234, 0.8636244986513855, 1.1747424247857898, 1.056344794843865, 1.056262846717443, 1.175052176318621, 1.0562846876964003, 1.450993148877263, 0.6595670127530507, 0.857597501915004, 2.043834128111638, 0.806608961950672, 1.056262764649568, 0.505479890630091, 1.8034299034804933, 2.0442227881477404, 2.0442573947736387, 0.6095001591445958, 1.4509951940069656, 1.5376546715751962, 0.9120793359883886, 1.0562080399130962, 0.8083824002599026], \"z\": [-0.603821144104633, -0.6042646690744876, -0.7339688222782297, -0.5041065676670902, -0.452913838084329, -0.4073810947827998, -0.06157267055244076, -0.7013031768013547, -0.6038293771761778, -0.6040625870015037, -0.6038679044315552, -0.6038212002876842, -0.6038216189667162, -0.1729817489754385, -0.4324912997969162, -0.020937157626477715, -0.3393580124831391, -0.6038646685829573, -0.15892743271272405, -0.504109842876116, -0.5589411534182609, -0.2661004950542368, -0.40818570479912225, -0.2580168552403502, -0.6977211482897997, -0.6977017960677182, -0.3414462741896879, -0.6039393747171917, -0.6038570910807471, -0.6149602215221462, -0.15830891052637358, -0.504101375531301, 0.1292698966579725, -0.1884861626306558, -0.5041027195343785, -0.6043667895178889, -0.6038482367084395, -0.34069547421070834, -0.5041044563784787, 0.12927040087756284, -0.6977086117521271, -0.6039574229354068, 0.26522515537917496, 0.0009164680136492822, -0.40739915232973917, -0.4325099057161491, -0.2580197414750273, -0.6976977661228934, -0.2581157960715131, -0.6038217018229215, -0.6976995341445071, -0.15829226605203586, -0.6038271544837132, -0.5041019501682731, -0.2227528636492796, -0.6911365170557087, -0.06665569525719936, -0.25805541396604237, -0.697708794952861, -0.40747525230419307, -0.7012727012865004, -0.5112927480236666, -0.40738199943007675, -0.5104049038010522, -0.4073816333926852, -0.6190431804602791, -0.6038279253156765, -0.2580424868183446, -0.5041360674365655, -0.27998205715036595, -0.40738370906019267, -0.1555689034872045, -0.02094419986499338, -0.5041585055442308, -0.4073971267094284, -0.40742719998293625, -0.6152559906769214, -0.5041217681460076, -0.03161273096177818, -0.6042901895098632, -0.6038264127000429, -0.6038671459055055, -0.35190221435826086, -0.1585918750232834, -0.5041112911703448, -0.6038447499524127, -0.40738075125129364, -0.5041018650274095, -0.6038238061426904, -0.6038218811876668, -0.2580738547713554, -0.28670445884505913, -0.7728939102285012, -0.020969053693517557, -0.6038338818505946, -0.5043220154371515, -0.02099470950290069, -0.3518854552456535, -0.7680741650891588, -0.020965864174703093, -0.7648659970329951, -0.4595777428022185, -0.504110746152289, -0.7327947138368481, -0.5041031476044832, -0.02095800041105283, -0.6038307226480444, -0.6038254368198933, -0.02094419986499338, -0.5041084840411288, -0.4073851628940552, -0.6038314777796284, -0.12459185510513957, -0.6038275957531611, -0.6038773744834484, -0.5041020847896698, -0.603835854175364, -0.2734601548724472, -0.6038235043278337, -0.6038226694085991, -0.16683581197556033, -0.32649708592422405, -0.6038702736367745, -0.40738148484289993, -0.5041042740567652, -0.6038272369397893, -0.6038230168774257, -0.2580149252290714, -0.2873909698947512, -0.3518909868391696, -0.6042811622873137, -0.2580258659785857, -0.5041143811514259, -0.7359650360449864, -0.5041522165356096, -0.02098605630469103, -0.5041175571701783, -0.021119546873500684, -0.5041876277926653, -0.6038248820889407, -0.603823869753804, -0.6039013808614963, -0.06760882587829257, -0.5041111015099035, -0.2582816487665566, -0.020941728864908415, -0.6038376647180115, -0.7239189313556261, -0.06158705826851484, -0.031641388190429984, -0.717354087226292, -0.6152194631721689, -0.6152505995022981, -0.7494804157544851, -0.6977065197532223, -0.6112602987872124, -0.6977058776621192, -0.20983583272993614, -0.7494958150232492, -0.5041069119909851, -0.25801789695100485, -0.020941450266092027, -0.6038324309878722, -0.6038230761617537, -0.4516007204261377, -0.06865099958194908, -0.5041062957725259, -0.34154616475801464, -0.603822836934772, -0.021471735752282804, -0.6242355279974576, -0.4074218253741521, -0.6155261318448915, -0.533505308030071, -0.603823641887889, -0.5126700256295141, 0.040258155902394864, -0.6038285451386516, -0.0657072758975101, -0.5041274161158549, -0.4596761128296413, -0.6284093466035149, -0.6977825845910716, -0.6038801219900154, -0.2694125978946827, -0.1668386584624813, -0.6096897132996426, -0.6038363502360621, -0.5041225422534515, -0.16685059353355067, -0.6041177579445417, -0.6038224159056342, -0.15829299867692756, -0.03160515638285784, 0.15419956911047228, -0.43031133116836007, -0.6039289498077981, -0.35203584958309897, -0.45857675978571627, -0.5041041998861129, -0.4061284583927575, -0.25802905382184527, 0.013561354384511599, -0.6152263190284671, -0.6038217055438698, -0.6038219935037914, -0.25815100101644967, -0.10977990412231801, -0.02095035609610185, -0.6038272997974524, -0.33118599147541256, -0.5127114531700399, -0.02094561152412308, -0.011310745895874257, -0.6047646795599587, 0.031316484003933644, -0.25802620084342287, -0.608513329745793, -0.25801583338649875, -0.7638746091981232, -0.6038360751472893, -0.35547243439190457, -0.5749081547609008, -0.16688367733759302, -0.06159710427860093, -0.27170122209938474, -0.3571378397294382, -0.16683498690992846, -0.5126450083181127, -0.25936099790417855, -0.36728169572505764, -0.16686371808491535, -0.6039032441662522, -0.1583013675009317, -0.5041170694917234, -0.25807117150037184, -0.020955353370313554, -0.43236584996156113, -0.15829935937765152, -0.6056647385621362, -1.0670420973444166, -0.06031834569265717, 0.0989165434969221, -0.16482892207582245, -0.5126600869079595, 0.1403576820435861, -0.6038284401142072, -0.5126508107129415, -0.16683242017766378, -0.621521532553534, -0.15829149191646513, -0.6038356751090301, -0.40623911047543226, -0.7645948005301559, -0.5041408539043154, -0.504112810592946, -0.4599866414568288, -0.6124435208994343, -0.5041935462291885, -0.6038384974592803, -0.6038333056074034, -0.06157046199839807, -0.6038248036659613, -0.5043072003018914, -0.605034285708765, -0.4142106355607015, -0.504369219118016, -0.6038451430718539, -0.6040067915034142, -0.5041945374241718, -0.6038733249223344, -0.020937171886205422, -0.04501729249231313, -0.40741562370550216, -0.4595850253917158, -0.262610394400683, -0.6039409130323883, -0.34144999065234244, -0.6976961001797061, -0.4599144009977744, -0.4599530964353011, -0.06202713028524041, -0.02093921796302857, 0.17964844764028673, -0.2503209105869519, -0.6038468291536091, -0.25800954095322187]}, {\"customdata\": [[\"SHA-256\", \"Bitcoin\"], [\"Ethash\", \"Ethereum\"], [\"Scrypt\", \"Litecoin\"], [\"CryptoNight-V7\", \"Monero\"], [\"Ethash\", \"Ethereum Classic\"], [\"Equihash\", \"ZCash\"], [\"Multiple\", \"DigiByte\"], [\"Scrypt\", \"ProsperCoin\"], [\"X11\", \"Spreadcoin\"], [\"Scrypt\", \"Argentum\"], [\"Multiple\", \"MyriadCoin\"], [\"Scrypt\", \"MoonCoin\"], [\"SHA-256\", \"ZetaCoin\"], [\"Scrypt\", \"SexCoin\"], [\"Scrypt\", \"Quatloo\"], [\"Quark\", \"QuarkCoin\"], [\"Groestl\", \"Riecoin\"], [\"Scrypt\", \"Digitalcoin \"], [\"Scrypt\", \"Catcoin\"], [\"Scrypt\", \"CannaCoin\"], [\"X11\", \"CryptCoin\"], [\"Multiple\", \"Verge\"], [\"SHA-256\", \"DevCoin\"], [\"Scrypt\", \"EarthCoin\"], [\"Scrypt\", \"E-Gulden\"], [\"Scrypt\", \"Einsteinium\"], [\"Scrypt\", \"Emerald\"], [\"Scrypt\", \"Franko\"], [\"NeoScrypt\", \"FeatherCoin\"], [\"Scrypt\", \"GrandCoin\"], [\"Scrypt\", \"GlobalCoin\"], [\"Scrypt\", \"GoldCoin\"], [\"Scrypt\", \"Infinite Coin\"], [\"SHA-256\", \"IXcoin\"], [\"Scrypt\", \"KrugerCoin\"], [\"Scrypt\", \"LuckyCoin\"], [\"Scrypt\", \"Litebar \"], [\"Scrypt\", \"MegaCoin\"], [\"HybridScryptHash256\", \"MediterraneanCoin\"], [\"Scrypt\", \"MinCoin\"], [\"Scrypt\", \"NobleCoin\"], [\"SHA-256\", \"Namecoin\"], [\"Scrypt\", \"NyanCoin\"], [\"Scrypt\", \"RonPaulCoin\"], [\"Scrypt\", \"StableCoin\"], [\"Scrypt\", \"SmartCoin\"], [\"SHA-256\", \"SysCoin\"], [\"SHA-256\", \"TigerCoin\"], [\"SHA-256\", \"TerraCoin\"], [\"SHA-256\", \"UnbreakableCoin\"], [\"SHA-256\", \"Unobtanium\"], [\"X11\", \"UroCoin\"], [\"Scrypt\", \"ViaCoin\"], [\"Lyra2REv2\", \"Vertcoin\"], [\"Scrypt\", \"WorldCoin\"], [\"SHA-256\", \"JouleCoin\"], [\"CryptoNight\", \"ByteCoin\"], [\"CryptoNight\", \"DigitalNote \"], [\"Scrypt\", \"MonaCoin\"], [\"Scrypt\", \"Gulden\"], [\"Scrypt\", \"PesetaCoin\"], [\"Scrypt\", \"Wild Beast Coin\"], [\"Scrypt\", \"Flo\"], [\"Scrypt\", \"ArtByte\"], [\"Stanford Folding\", \"Folding Coin\"], [\"Multiple\", \"Unitus\"], [\"QuBit\", \"CypherPunkCoin\"], [\"Scrypt\", \"OmniCron\"], [\"Scrypt\", \"GreenCoin\"], [\"M7 POW\", \"Cryptonite\"], [\"Scrypt\", \"MasterCoin\"], [\"SHA-256\", \"SoonCoin\"], [\"Scrypt\", \"1Credit\"], [\"X11\", \"MarsCoin \"], [\"Lyra2RE\", \"Crypto\"], [\"SHA-256\", \"Anarchists Prime\"], [\"X11\", \"BowsCoin\"], [\"Scrypt\", \"Song Coin\"], [\"Scrypt\", \"BitZeny\"], [\"Ethash\", \"Expanse\"], [\"Blake2b\", \"Siacoin\"], [\"X11\", \"MindCoin\"], [\"SHA-256\", \"I0coin\"], [\"Scrypt\", \"Revolution VR\"], [\"1GB AES Pattern Search\", \"HOdlcoin\"], [\"Scrypt\", \"Gamecredits\"], [\"SHA-256\", \"CarpeDiemCoin\"], [\"X11\", \"Adzcoin\"], [\"Dagger\", \"SoilCoin\"], [\"Scrypt\", \"YoCoin\"], [\"X11GOST\", \"SibCoin\"], [\"Scrypt\", \"Francs\"], [\"X11\", \"BolivarCoin\"], [\"Scrypt\", \"Omni\"], [\"X11\", \"PizzaCoin\"], [\"Equihash\", \"Komodo\"], [\"CryptoNight\", \"Karbo\"], [\"SHA-256\", \"ZayedCoin\"], [\"Multiple\", \"Circuits of Value\"], [\"Scrypt\", \"DopeCoin\"], [\"SHA-256\", \"DollarCoin\"], [\"Scrypt\", \"Shilling\"], [\"Lyra2Z\", \"ZCoin\"], [\"Ethash\", \"Elementrem\"], [\"Equihash\", \"ZClassic\"], [\"Scrypt\", \"KiloCoin\"], [\"X11\", \"ArtexCoin\"], [\"X11\", \"Kurrent\"], [\"CryptoNight\", \"Cannabis Industry Coin\"], [\"Scrypt\", \"OsmiumCoin\"], [\"CryptoNight\", \"Bikercoins\"], [\"Lyra2RE\", \"HexxCoin\"], [\"X11\", \"PacCoin\"], [\"CryptoNight-V7\", \"Citadel\"], [\"Scrypt\", \"BeaverCoin\"], [\"X11\", \"VaultCoin\"], [\"Equihash\", \"Zero\"], [\"Scrypt\", \"Canada eCoin\"], [\"Lyra2RE\", \"Zoin\"], [\"Dagger-Hashimoto\", \"DubaiCoin\"], [\"Scrypt\", \"EB3coin\"], [\"NIST5\", \"Coinonat\"], [\"Scrypt\", \"BenjiRolls\"], [\"SHA-256\", \"ILCoin\"], [\"Scrypt\", \"EquiTrader\"], [\"CryptoNight-V7\", \"Quantum Resistant Ledger\"], [\"Argon2d\", \"Dynamic\"], [\"Blake2b\", \"Nano\"], [\"Cloverhash\", \"ChanCoin\"], [\"CryptoNight\", \"Dinastycoin\"], [\"X11\", \"DigitalPrice\"], [\"Scrypt\", \"Unify\"], [\"Scrypt\", \"SocialCoin\"], [\"X11\", \"ArcticCoin\"], [\"X11\", \"DAS\"], [\"CryptoNight\", \"LeviarCoin\"], [\"Time Travel\", \"Bitcore\"], [\"Scrypt\", \"gCn Coin\"], [\"Keccak\", \"SmartCash\"], [\"X11\", \"Onix\"], [\"SHA-256\", \"Bitcoin Cash\"], [\"Scrypt\", \"Sojourn Coin\"], [\"Scrypt\", \"NewYorkCoin\"], [\"Scrypt\", \"FrazCoin\"], [\"Scrypt\", \"Kronecoin\"], [\"Scrypt\", \"AdCoin\"], [\"Scrypt\", \"Linx\"], [\"CryptoNight\", \"Sumokoin\"], [\"Equihash\", \"BitcoinZ\"], [\"X11\", \"Elements\"], [\"NeoScrypt\", \"VIVO Coin\"], [\"Equihash\", \"Bitcoin Gold\"], [\"Dagger\", \"Pirl\"], [\"Scrypt\", \"eBoost\"], [\"X11\", \"Pura\"], [\"NeoScrypt\", \"Innova\"], [\"Ethash\", \"Ellaism\"], [\"NeoScrypt\", \"GoByte\"], [\"Multiple\", \"SHIELD\"], [\"CryptoNight\", \"UltraNote\"], [\"CryptoNight\", \"BitCoal\"], [\"Ethash\", \"DaxxCoin\"], [\"X11\", \"AC3\"], [\"CryptoNight-V7\", \"Lethean\"], [\"Scrypt\", \"PopularCoin\"], [\"BLAKE256\", \"Photon\"], [\"X11\", \"Sucre\"], [\"NeoScrypt\", \"SparksPay\"], [\"NeoScrypt\", \"GunCoin\"], [\"Scrypt\", \"IrishCoin\"], [\"X11\", \"Pioneer Coin\"], [\"SHA-256\", \"UnitedBitcoin\"], [\"C11\", \"Interzone\"], [\"CryptoNight\", \"TurtleCoin\"], [\"SkunkHash\", \"MUNcoin\"], [\"CryptoNight\", \"Niobio Cash\"], [\"Scrypt\", \"ShareChain\"], [\"Dagger\", \"Travelflex\"], [\"Lyra2REv2\", \"KREDS\"], [\"Scrypt\", \"BitFlip\"], [\"Scrypt\", \"LottoCoin\"], [\"X11\", \"Crypto Improvement Fund\"], [\"Ethash\", \"Callisto Network\"], [\"CryptoNight\", \"BitTube\"], [\"Scrypt\", \"Poseidon\"], [\"IMesh\", \"Aidos Kuneen\"], [\"Equihash\", \"Bitrolium\"], [\"Lyra2Z\", \"Alpenschillling\"], [\"X11\", \"FuturoCoin\"], [\"CryptoNight\", \"Monero Classic\"], [\"NIST5\", \"Jumpcoin\"], [\"Lyra2RE\", \"Infinex\"], [\"Tribus\", \"KEYCO\"], [\"Lyra2Z\", \"GINcoin\"], [\"CryptoNight\", \"PlatinCoin\"], [\"CryptoNight Heavy\", \"Loki\"], [\"CryptoNight\", \"Newton Coin\"], [\"Jump Consistent Hash\", \"MassGrid\"], [\"CryptoNight\", \"PluraCoin\"], [\"X16R\", \"Motion\"], [\"HMQ1725\", \"PlusOneCoin\"], [\"X11\", \"Axe\"], [\"Scrypt\", \"HexCoin\"], [\"CryptoNight-V7\", \"Webchain\"], [\"Cryptonight-GPU\", \"Ryo\"], [\"XEVAN\", \"Urals Coin\"], [\"CryptoNight Heavy\", \"Qwertycoin\"], [\"SHA-256\", \"Project Pai\"], [\"X11\", \"Azart\"], [\"X16R\", \"Xchange\"], [\"Equihash\", \"CrypticCoin\"], [\"Lyra2Z\", \"Actinium\"], [\"SHA-256\", \"Bitcoin SV\"], [\"CryptoNight\", \"FREDEnergy\"], [\"Blake\", \"Universal Molecule\"], [\"Blake\", \"Lithium\"], [\"Exosis\", \"Exosis\"], [\"Scrypt\", \"Block-Logic\"], [\"Equihash\", \"Beam\"], [\"Equihash\", \"Bithereum\"], [\"QuBit\", \"SLICE\"], [\"SHA-256\", \"BLAST\"], [\"X13\", \"Bitcoin Rhodium\"], [\"SHA-256\", \"GlobalToken\"], [\"Scrypt\", \"SolarCoin\"], [\"NeoScrypt\", \"UFO Coin\"], [\"Blake\", \"BlakeCoin\"], [\"Scrypt\", \"Crypto Escudo\"], [\"SHA-256\", \"Crown Coin\"], [\"Scrypt\", \"SmileyCoin\"], [\"Groestl\", \"Groestlcoin\"], [\"Scrypt\", \"Bata\"], [\"Scrypt\", \"Pakcoin\"], [\"Multiple\", \"JoinCoin\"], [\"Equihash+Scrypt\", \"Vollar\"], [\"Ethash\", \"Reality Clash\"], [\"CryptoNight\", \"Beldex\"], [\"Equihash\", \"Horizen\"]], \"hovertemplate\": \"<b>%{hovertext}</b><br><br>class=%{marker.color}<br>PC1=%{x}<br>PC2=%{y}<br>PC3=%{z}<br>Algorithm=%{customdata[0]}<br>CoinName=%{customdata[1]}<extra></extra>\", \"hovertext\": [\"Bitcoin\", \"Ethereum\", \"Litecoin\", \"Monero\", \"Ethereum Classic\", \"ZCash\", \"DigiByte\", \"ProsperCoin\", \"Spreadcoin\", \"Argentum\", \"MyriadCoin\", \"MoonCoin\", \"ZetaCoin\", \"SexCoin\", \"Quatloo\", \"QuarkCoin\", \"Riecoin\", \"Digitalcoin \", \"Catcoin\", \"CannaCoin\", \"CryptCoin\", \"Verge\", \"DevCoin\", \"EarthCoin\", \"E-Gulden\", \"Einsteinium\", \"Emerald\", \"Franko\", \"FeatherCoin\", \"GrandCoin\", \"GlobalCoin\", \"GoldCoin\", \"Infinite Coin\", \"IXcoin\", \"KrugerCoin\", \"LuckyCoin\", \"Litebar \", \"MegaCoin\", \"MediterraneanCoin\", \"MinCoin\", \"NobleCoin\", \"Namecoin\", \"NyanCoin\", \"RonPaulCoin\", \"StableCoin\", \"SmartCoin\", \"SysCoin\", \"TigerCoin\", \"TerraCoin\", \"UnbreakableCoin\", \"Unobtanium\", \"UroCoin\", \"ViaCoin\", \"Vertcoin\", \"WorldCoin\", \"JouleCoin\", \"ByteCoin\", \"DigitalNote \", \"MonaCoin\", \"Gulden\", \"PesetaCoin\", \"Wild Beast Coin\", \"Flo\", \"ArtByte\", \"Folding Coin\", \"Unitus\", \"CypherPunkCoin\", \"OmniCron\", \"GreenCoin\", \"Cryptonite\", \"MasterCoin\", \"SoonCoin\", \"1Credit\", \"MarsCoin \", \"Crypto\", \"Anarchists Prime\", \"BowsCoin\", \"Song Coin\", \"BitZeny\", \"Expanse\", \"Siacoin\", \"MindCoin\", \"I0coin\", \"Revolution VR\", \"HOdlcoin\", \"Gamecredits\", \"CarpeDiemCoin\", \"Adzcoin\", \"SoilCoin\", \"YoCoin\", \"SibCoin\", \"Francs\", \"BolivarCoin\", \"Omni\", \"PizzaCoin\", \"Komodo\", \"Karbo\", \"ZayedCoin\", \"Circuits of Value\", \"DopeCoin\", \"DollarCoin\", \"Shilling\", \"ZCoin\", \"Elementrem\", \"ZClassic\", \"KiloCoin\", \"ArtexCoin\", \"Kurrent\", \"Cannabis Industry Coin\", \"OsmiumCoin\", \"Bikercoins\", \"HexxCoin\", \"PacCoin\", \"Citadel\", \"BeaverCoin\", \"VaultCoin\", \"Zero\", \"Canada eCoin\", \"Zoin\", \"DubaiCoin\", \"EB3coin\", \"Coinonat\", \"BenjiRolls\", \"ILCoin\", \"EquiTrader\", \"Quantum Resistant Ledger\", \"Dynamic\", \"Nano\", \"ChanCoin\", \"Dinastycoin\", \"DigitalPrice\", \"Unify\", \"SocialCoin\", \"ArcticCoin\", \"DAS\", \"LeviarCoin\", \"Bitcore\", \"gCn Coin\", \"SmartCash\", \"Onix\", \"Bitcoin Cash\", \"Sojourn Coin\", \"NewYorkCoin\", \"FrazCoin\", \"Kronecoin\", \"AdCoin\", \"Linx\", \"Sumokoin\", \"BitcoinZ\", \"Elements\", \"VIVO Coin\", \"Bitcoin Gold\", \"Pirl\", \"eBoost\", \"Pura\", \"Innova\", \"Ellaism\", \"GoByte\", \"SHIELD\", \"UltraNote\", \"BitCoal\", \"DaxxCoin\", \"AC3\", \"Lethean\", \"PopularCoin\", \"Photon\", \"Sucre\", \"SparksPay\", \"GunCoin\", \"IrishCoin\", \"Pioneer Coin\", \"UnitedBitcoin\", \"Interzone\", \"TurtleCoin\", \"MUNcoin\", \"Niobio Cash\", \"ShareChain\", \"Travelflex\", \"KREDS\", \"BitFlip\", \"LottoCoin\", \"Crypto Improvement Fund\", \"Callisto Network\", \"BitTube\", \"Poseidon\", \"Aidos Kuneen\", \"Bitrolium\", \"Alpenschillling\", \"FuturoCoin\", \"Monero Classic\", \"Jumpcoin\", \"Infinex\", \"KEYCO\", \"GINcoin\", \"PlatinCoin\", \"Loki\", \"Newton Coin\", \"MassGrid\", \"PluraCoin\", \"Motion\", \"PlusOneCoin\", \"Axe\", \"HexCoin\", \"Webchain\", \"Ryo\", \"Urals Coin\", \"Qwertycoin\", \"Project Pai\", \"Azart\", \"Xchange\", \"CrypticCoin\", \"Actinium\", \"Bitcoin SV\", \"FREDEnergy\", \"Universal Molecule\", \"Lithium\", \"Exosis\", \"Block-Logic\", \"Beam\", \"Bithereum\", \"SLICE\", \"BLAST\", \"Bitcoin Rhodium\", \"GlobalToken\", \"SolarCoin\", \"UFO Coin\", \"BlakeCoin\", \"Crypto Escudo\", \"Crown Coin\", \"SmileyCoin\", \"Groestlcoin\", \"Bata\", \"Pakcoin\", \"JoinCoin\", \"Vollar\", \"Reality Clash\", \"Beldex\", \"Horizen\"], \"legendgroup\": \"1\", \"marker\": {\"color\": [1, 1, 1, 1, 1, 1, 1, 1, 1, 1, 1, 1, 1, 1, 1, 1, 1, 1, 1, 1, 1, 1, 1, 1, 1, 1, 1, 1, 1, 1, 1, 1, 1, 1, 1, 1, 1, 1, 1, 1, 1, 1, 1, 1, 1, 1, 1, 1, 1, 1, 1, 1, 1, 1, 1, 1, 1, 1, 1, 1, 1, 1, 1, 1, 1, 1, 1, 1, 1, 1, 1, 1, 1, 1, 1, 1, 1, 1, 1, 1, 1, 1, 1, 1, 1, 1, 1, 1, 1, 1, 1, 1, 1, 1, 1, 1, 1, 1, 1, 1, 1, 1, 1, 1, 1, 1, 1, 1, 1, 1, 1, 1, 1, 1, 1, 1, 1, 1, 1, 1, 1, 1, 1, 1, 1, 1, 1, 1, 1, 1, 1, 1, 1, 1, 1, 1, 1, 1, 1, 1, 1, 1, 1, 1, 1, 1, 1, 1, 1, 1, 1, 1, 1, 1, 1, 1, 1, 1, 1, 1, 1, 1, 1, 1, 1, 1, 1, 1, 1, 1, 1, 1, 1, 1, 1, 1, 1, 1, 1, 1, 1, 1, 1, 1, 1, 1, 1, 1, 1, 1, 1, 1, 1, 1, 1, 1, 1, 1, 1, 1, 1, 1, 1, 1, 1, 1, 1, 1, 1, 1, 1, 1, 1, 1, 1, 1, 1, 1, 1, 1, 1, 1, 1, 1, 1, 1, 1, 1, 1, 1, 1, 1, 1, 1, 1, 1, 1, 1], \"coloraxis\": \"coloraxis\", \"symbol\": \"diamond\"}, \"mode\": \"markers\", \"name\": \"1\", \"scene\": \"scene\", \"showlegend\": true, \"type\": \"scatter3d\", \"x\": [-0.1421367295756181, -0.14881073674725426, -0.16826998151690684, -0.14156359944230393, -0.14725253216587145, -0.16676563074703438, 0.16009684938927835, -0.16941641237155886, -0.22573027627824224, -0.16903289361554094, -0.09334975146449011, 2.5528471906594965, -0.13922117670624434, -0.1662878449099164, -0.16883689686068787, -0.22129759410160937, -0.1984349602876235, -0.16888566367091412, -0.16939867520917742, -0.16948514409839419, -0.2258196341492134, 0.18385145174091938, 0.23577232117816993, 0.07928635141254527, -0.16923139550976646, -0.16483599162079074, -0.16917068113029304, -0.16954215681575513, -0.17210960820943533, -0.14876111815096174, -0.16833706117248132, -0.16861455915801052, 1.5796578493614328, -0.14209809207809473, -0.16590351305695944, -0.16925784160171925, -0.16961271429536579, -0.16887184160853194, -0.1435903769055089, -0.16949396157785837, -0.034378651946422145, -0.14217571653876213, -0.16315682184964259, -0.16947340201973948, -0.16756745243918414, -0.1689600604732913, -0.12932570731159662, -0.14163939489451668, -0.14192665008844413, -0.14190964137140927, -0.14250043392013365, -0.22599355526577014, -0.16918984108411447, -0.1857134808750611, -0.16629256353544766, -0.14170670124485496, 3.861625580068091, 0.4600274320278417, -0.16805725253935114, -0.15265378022863782, -0.1667758556613064, -0.1696149243198434, -0.166640869248281, -0.15286224440533852, -0.1188453909462719, -0.12736194150142507, -0.18598797985788335, -0.16948797936256357, -0.04240564619532459, -0.12039020187986767, -0.16962381796058423, -0.14220349906089538, 0.4826268433089922, -0.2253806394369325, -0.14538616887010528, -0.1419433227490714, -0.22566558649780247, -0.1677473156900739, -0.16693942215586138, -0.14987839148880858, 0.3735389464285857, -0.2257009883613482, -0.14209921463155, -0.16558100473413587, -0.14763951885621276, -0.16818693310338095, 0.2764544349906816, -0.2248615765517226, -0.14923356862973963, -0.16843442546160578, -0.13952438497352354, -0.16941369673291434, -0.2256642275232897, -0.16962387646518592, -0.22581422569359766, -0.33572928063077445, 0.3049067384935114, -0.1423593436579308, -0.10743112881565253, -0.16679012828859574, -0.14231796609054195, -0.16928722352456044, -0.1522481449351242, -0.1496205042559483, -0.16678725172468223, -0.09633928892842895, -0.21239523961593545, -0.223642037525464, 0.30490109833027207, -0.16960561158615065, 0.3050318369002514, -0.14592669613440404, 0.4895328288532968, -0.140328131038026, -0.16957389314691246, -0.21854723728636322, -0.1667996276584787, -0.16770684751346576, -0.14564502818980601, -0.15339977668719298, -0.1404934142999525, -0.18102864314444822, -0.16913620004965985, -0.10867906717680341, -0.16895824299527848, -0.14018581832303986, -0.13687889771491307, -0.02683690841945322, -0.1626239269734291, 0.34102910554210103, -0.22486997618541676, -0.16927754731103434, -0.16904090093109853, -0.22526471646329943, -0.22584226162937693, 0.3052961482140072, -0.14660282629974147, 3.240637277258028, -0.11700191752472859, -0.2167130406603851, -0.14213589364098747, -0.09518695678465351, 1.5777126746932832, -0.16937541283891866, -0.16882697471462818, -0.16852790019800956, -0.16851482874803903, 0.3054797813382747, 0.045559205364465685, -0.18022142046808728, -0.17679910834914503, -0.16664565209737484, -0.14799247554617287, -0.16770505634272717, -0.22138597590891468, -0.17664449740069563, -0.1479854831654831, -0.17674471689524818, -0.11759217333429335, 1.1429710381032845, 0.3048838673491982, -0.07286390422563195, -0.22112756166798048, -0.12929616855039794, -0.08574959431178464, 1.0961069257315401, -0.22581625577009332, -0.17679666479921777, -0.16983340945760939, -0.16862629049524347, -0.22574165058792922, -0.1421152870490943, -0.20427039585644252, 8.043836709320246, -0.14808988988665292, 0.3087589074844727, 0.023448715456012823, -0.14749558413285455, -0.17126920155747102, -0.16920011260378529, 0.13792664968627102, -0.21988163536200733, -0.10101730658270355, 0.3128081520607715, -0.16943716083496396, -0.15592785866132852, -0.165636573953916, -0.15003133698093488, -0.2249107560987707, 0.3050664176966493, -0.18108810722707208, -0.14577191128328545, -0.14940077502605206, -0.15233253355553658, 0.3089951742747744, 0.5933624420751423, 2.113826639583976, -0.13693304436437423, 0.318673554585056, -0.19525983168204775, -0.1479038621706737, -0.2257984130819934, -0.1694617475296782, -0.12917625624188575, -0.1336747935532795, -0.1487514327767612, 3.1163248554581737, -0.101956917379844, -0.22576977467999146, -0.1946874734257752, -0.06137490666052658, -0.15173019821220365, -0.14213593121333634, 0.3848387302040098, -0.13857265530169585, -0.13896472681907854, -0.13942853223037122, -0.16835387158090395, -0.1647054749149827, -0.16647844329968609, -0.1851988393981402, -0.14141195398935844, -0.10628898498072697, -0.14027971708266046, 0.5265524720149084, -0.1019497500909795, -0.08942323526261758, -0.15301285820623503, -0.14192602042370678, 0.546330603677441, -0.1979958862197567, -0.16953859471055618, -0.16749398565423745, -0.12809696290079356, -0.12679101642139054, -0.14965366835102364, 0.3266445552176053, -0.16676668788936452], \"y\": [-1.2924484473518942, -1.9778453667926557, -1.0937599020464777, -2.3558930232609363, -1.9779519585902121, -1.9405491551097849, -1.8455867260744574, -1.093746807787741, -0.9749853839596302, -1.0937668410471675, -1.8390705796515736, -1.2921753026358094, -1.2924735925394388, -1.093823290080258, -1.0937870920053812, -0.5218015300305858, -1.2023559525877792, -1.0937514417580099, -1.0937463144874933, -1.0937431077384832, -0.9749864412654698, -1.841752592997009, -1.2969159778827943, -1.0964532076205233, -1.0937416621583633, -1.093818460593203, -1.0937478269652954, -1.093743333876371, -1.6446621928790979, -1.0941715912270584, -1.0937517724388188, -1.093761093425774, -1.1097703829317127, -1.2924473727782568, -1.0938236107425348, -1.0937416837253104, -1.0937382382888532, -1.0937466551692099, -2.13835530619783, -1.0937411111855913, -1.100685336957955, -1.2924495316447597, -1.0937983241375797, -1.0937483927654832, -1.0938588781127805, -1.0937556769617263, -1.292711140120259, -1.2924531867087643, -1.292457597497009, -1.2924842542993815, -1.2924437482576523, -0.9749784273251335, -1.0937419343465504, -1.304228622400861, -1.0938344308891532, -1.2924536221803407, -2.320029858718644, -2.290074160078777, -1.0937690641780085, -1.094465042705239, -1.0937771668275797, -1.0937392121728104, -1.0937688533873648, -1.0939853590367763, -2.172580605894561, -1.8385886292364673, -1.6026771106495492, -1.09373621232097, -1.0973388649089824, -2.0026494401261754, -1.0937380255491664, -1.292450304323318, -1.1412801765307419, -0.9749849412345888, -2.2717835597095224, -1.292466457164246, -0.9749842987715346, -1.093835494028146, -1.0938414115367896, -1.9778871302704446, -2.341352821704856, -0.974981713640535, -1.2924474039983525, -1.093775073939094, -2.0103864879953273, -1.093757592330746, -1.296231668410466, -0.975006916330309, -2.238215913512648, -1.0938246975494046, -2.37784911697095, -1.0937460183180279, -0.9749871167491555, -1.09373802501303, -0.9749912884499635, -0.9880140992109576, -2.287256033829066, -1.292446596766344, -1.8388910517872479, -1.0938015622615507, -1.2924460901763282, -1.0937496403183422, -2.166526066013612, -1.977886597053395, -1.9405497564254535, -1.0988388500120192, -0.974957206972251, -0.9750758067310152, -2.2872640440671717, -1.0937390147733663, -2.2872632637811474, -2.271758762427889, -1.026472762516957, -2.3559907423119792, -1.093738593633498, -0.9754852759730899, -1.9405472448479566, -1.0937556634368544, -2.2717587821461382, -2.3179463293456637, -1.0957831908539304, -0.5527458846847542, -1.093749381354387, -1.29328779892574, -1.0937704764341214, -2.355929668896932, -2.303920795999373, -2.3527308883413593, -2.1794245389206903, -2.2876721572482244, -0.9750185730301459, -1.0937417154503968, -1.0937749171197504, -0.975000993689809, -0.9749877131225825, -2.2872766171941303, -2.1009253171106272, -1.14168114905005, -1.3396463641745007, -0.9755056582117695, -1.2924484241031504, -1.0991637733443334, -1.0451412234512627, -1.0937449535786972, -1.0937753929619207, -1.0937784982897079, -1.0937781347507503, -2.2872964187347495, -1.949621860493986, -0.9749905252945763, -1.6445720072838967, -1.9405458183022193, -2.23827157247018, -1.093755613621391, -0.9751001629478359, -1.6445805582724093, -1.9780223192145685, -1.6445739214938757, -1.838788118132535, -2.324626095860524, -2.2872584547720796, -1.9828725904003508, -0.9752357646633077, -2.3562654185009984, -1.094974616606876, -1.2647166780999073, -0.9749876324049198, -1.644567655665199, -1.6447159746647135, -1.0937555327321271, -0.9749878421280048, -1.2924472555705862, -1.311620333877041, -2.7859595118798035, -2.2300419882003566, -2.287381644043699, -1.095507344610311, -2.23821755327471, -1.304552269093616, -1.093754357049923, -1.098325627642403, -0.9751654161998404, -1.9811567824006329, -2.2877430860726347, -1.0937473848373238, -2.1322471711073536, -1.9405527373648896, -2.16666331745291, -0.9750197071879635, -2.2872575900057535, -0.5527280820993412, -2.271766080598209, -2.1949578198348165, -2.1665206310213696, -2.2875635544544766, -2.382899535453505, -2.368305353839069, -2.50980066140387, -2.2875799593865085, -1.2508512007096964, -2.2426268703807133, -0.9749879929017191, -1.0937488577296122, -2.356797911140845, -2.2619552821486257, -0.791701090516699, -2.4443257363311615, -1.292815267362129, -0.9749900521926879, -1.2508909159938477, -1.943029038089708, -2.1665563538933275, -1.2924484251481012, -2.2907945130087546, -2.1343902984014016, -2.1343441647845305, -2.195552694042506, -1.0937879371267647, -1.9406644901960197, -1.9405482259879117, -1.6027265576537768, -1.292458989686256, -0.3466408428329873, -1.2925017503755727, -1.14441358488907, -1.645326817551115, -2.137945923563468, -1.0939895478593031, -1.2924575799849765, -1.1095228517469247, -1.20235873400936, -1.093738782791676, -1.0938082867375154, -1.8386110704560092, -1.9653941776011206, -1.9778862931371786, -2.287644008713026, -1.9405491845106884], \"z\": [0.19088612960823284, 0.4066211309970658, -0.005578354698443518, 0.5563480836217118, 0.40660216465079735, 0.3928284555760813, 0.37575511271942696, -0.005551550433279112, 0.09416625390751643, -0.00555743850570135, 0.38096855057541706, -0.036285645237645325, 0.19081635801074248, -0.005616683230631866, -0.005558478088507792, 0.0855127238077328, 0.16575822187018305, -0.005564240570983225, -0.005552102017504438, -0.00555051681235332, 0.0941687518693605, 0.3743921916370358, 0.18208011067061805, -0.01139277662898751, -0.0055573040245340335, -0.005654840145316554, -0.00555764737649631, -0.005549011254102873, 0.25672253374493026, -0.005997335426869773, -0.005578234689416201, -0.005569289789480259, -0.047223713028265814, 0.1908849280725158, -0.0056264695182206914, -0.005556622042360415, -0.005548205340188945, -0.005565536292276423, 0.36653239888894545, -0.00555068355761496, -0.007647417069027225, 0.1908873420115143, -0.005701833362276439, -0.00554977818864035, -0.005576890432187801, -0.005561500941884428, 0.19060948907411168, 0.19087431650832112, 0.19088254564483081, 0.19088735302971327, 0.19089452605238857, 0.09417163268020652, -0.005558315411142538, 0.23097487069014816, -0.005614370959154096, 0.19087612703884027, 0.32557556876880916, 0.4068569543597887, -0.005582004203271118, -0.005839856720257218, -0.005613249100325023, -0.005547957144863371, -0.005618343643724567, -0.005928865945838839, 0.3668676468237777, 0.3817453913135007, 0.27179175806254047, -0.005551800449492519, -0.008099943203562731, 0.36864777952888533, -0.0055479626289417884, 0.19088820598291026, -0.012912015900867867, 0.09415720660213903, 0.4667331058153717, 0.19088471557496658, 0.09416438263616402, -0.005576880578025647, -0.005596420703704177, 0.4066567067147447, 0.3848047705073175, 0.09416478140437672, 0.19088496298130023, -0.005644281480208076, 0.3989607153645241, -0.005580937309679111, 0.18090294028034626, 0.09414822685960585, 0.48631749682463254, -0.00556139547660238, 0.581938776249033, -0.005551775312656186, 0.09416490209272897, -0.005547961235086761, 0.09416956668466168, 0.33656643124489305, 0.41027795533906103, 0.190891470588573, 0.38129410494666466, -0.005608084862096097, 0.1908903105522391, -0.005554304039619765, 0.44026727551918193, 0.4066499928982258, 0.3928291279378692, -0.006422733179760999, 0.09381897158515343, 0.09413052388064712, 0.4102796754580329, -0.005548234631990164, 0.4102761715120728, 0.4667420805193946, 0.08596337453832353, 0.556335642880669, -0.005549130323981649, 0.09408049899648216, 0.39282895108294547, -0.005593619977623645, 0.4667348660289766, 0.5285130311415398, -0.005892219487079591, -0.016951320215166495, -0.005558225289815902, 0.19019379905100328, -0.005558636530243624, 0.5563199829385884, 0.43561465182562753, 0.39730330790400403, 0.49641882836720513, 0.4094340887423682, 0.09415073493851257, -0.005556110799456574, -0.005555644773833739, 0.09415739326211166, 0.09416958191745539, 0.4102720245008078, 0.49090118897474566, -0.08351331130800778, 0.1646869356508621, 0.09403750271276101, 0.19088610361262368, -0.00638835332533203, -0.0598861238167662, -0.005552965852132175, -0.005561033513984483, -0.005568087161318236, -0.00556849365281054, 0.41027121336520644, 0.38917171806111517, 0.09300099931697994, 0.25682497354442196, 0.3928247245209618, 0.4862966389105253, -0.005593675678840388, 0.09407749802955613, 0.256822693234597, 0.40663478776704814, 0.25682395615853176, 0.381534257781698, 0.3961512100172808, 0.41027901765153707, 0.405663656033407, 0.09409754782618238, 0.5561069518028351, -0.007454194754229249, 0.06834891170054969, 0.09416889958255001, 0.2568240549795036, 0.25667477970972885, -0.005570082910835259, 0.09416702891003713, 0.19088534567776155, 0.13969616094367107, 0.31004331942800806, 0.38118923898746077, 0.41020394187733744, -0.010147859677872717, 0.4862732796317009, 0.23066836366184532, -0.005555608691591626, -0.012527268520459255, 0.09405178096629598, 0.4060476581317267, 0.41017126495426137, -0.0055509052046419025, 0.511307764074465, 0.3928002255923367, 0.4402374616048579, 0.09415200309834726, 0.410274169296402, -0.016953298002674325, 0.46673955326322286, 0.46560243911282273, 0.44026836912755, 0.4102336679604244, 0.3926438421786881, 0.37986238159940944, 0.46644908094126747, 0.4099888646673747, 0.24115140933051998, 0.2841188136487945, 0.0941685132319693, -0.005549985404606854, 0.5562086176506787, 0.4657573190205341, 0.19212755721224029, 0.3400695596598386, 0.18992858418060493, 0.09416818436220359, 0.24114455318927736, 0.390615365005164, 0.44025995946740576, 0.19088610478103582, 0.40892552256505377, 0.4500841720734181, 0.45008514550841916, 0.411597948279391, -0.005570690456434268, 0.392798345375099, 0.3928209130035881, 0.27178126057898633, 0.1908696292473148, -0.09942318343100422, 0.1908490239849813, -0.01342138094491709, 0.25505525963176173, 0.4495239838480076, -0.005924182209236119, 0.19088252606373163, -0.020791087363577185, 0.1657475167114248, -0.005549997718543298, -0.005588724274548744, 0.3817686419604906, 0.3901997477389439, 0.4066507830231529, 0.40979718821884453, 0.3928284884507335]}, {\"customdata\": [[\"VeChainThor Authority\", \"Vechain\"], [\"Proof-of-BibleHash\", \"BiblePay\"], [\"SHA-256 + Hive\", \"LitecoinCash\"], [\"Proof-of-Authority\", \"Poa Network\"], [\"ECC 256K1\", \"Acute Angle Cloud\"], [\"Leased POS\", \"Waves\"]], \"hovertemplate\": \"<b>%{hovertext}</b><br><br>class=%{marker.color}<br>PC1=%{x}<br>PC2=%{y}<br>PC3=%{z}<br>Algorithm=%{customdata[0]}<br>CoinName=%{customdata[1]}<extra></extra>\", \"hovertext\": [\"Vechain\", \"BiblePay\", \"LitecoinCash\", \"Poa Network\", \"Acute Angle Cloud\", \"Waves\"], \"legendgroup\": \"3\", \"marker\": {\"color\": [3, 3, 3, 3, 3, 3], \"coloraxis\": \"coloraxis\", \"symbol\": \"square\"}, \"mode\": \"markers\", \"name\": \"3\", \"scene\": \"scene\", \"showlegend\": true, \"type\": \"scatter3d\", \"x\": [4.415708779342041, -0.19725551896270582, -0.3791343015930093, -0.41101929548890676, -0.3448589676665898, -0.4044965192671419], \"y\": [1.8486775438312764, 2.886266530497899, 4.259213190523385, 4.227195079551395, 3.2444041927427687, 3.690728970358689], \"z\": [10.279286519439383, 20.00935924339967, 9.904374875425288, 11.195236798605912, 13.076858172732688, 9.146668779678203]}, {\"customdata\": [[\"TRC10\", \"BitTorrent\"]], \"hovertemplate\": \"<b>%{hovertext}</b><br><br>class=%{marker.color}<br>PC1=%{x}<br>PC2=%{y}<br>PC3=%{z}<br>Algorithm=%{customdata[0]}<br>CoinName=%{customdata[1]}<extra></extra>\", \"hovertext\": [\"BitTorrent\"], \"legendgroup\": \"2\", \"marker\": {\"color\": [2], \"coloraxis\": \"coloraxis\", \"symbol\": \"x\"}, \"mode\": \"markers\", \"name\": \"2\", \"scene\": \"scene\", \"showlegend\": true, \"type\": \"scatter3d\", \"x\": [34.062888125920345], \"y\": [1.6657421023157304], \"z\": [-1.289154473012575]}],                        {\"coloraxis\": {\"colorbar\": {\"title\": {\"text\": \"class\"}}, \"colorscale\": [[0.0, \"#0d0887\"], [0.1111111111111111, \"#46039f\"], [0.2222222222222222, \"#7201a8\"], [0.3333333333333333, \"#9c179e\"], [0.4444444444444444, \"#bd3786\"], [0.5555555555555556, \"#d8576b\"], [0.6666666666666666, \"#ed7953\"], [0.7777777777777778, \"#fb9f3a\"], [0.8888888888888888, \"#fdca26\"], [1.0, \"#f0f921\"]]}, \"legend\": {\"title\": {\"text\": \"class\"}, \"tracegroupgap\": 0, \"x\": 0, \"y\": 1}, \"margin\": {\"t\": 60}, \"scene\": {\"domain\": {\"x\": [0.0, 1.0], \"y\": [0.0, 1.0]}, \"xaxis\": {\"title\": {\"text\": \"PC1\"}}, \"yaxis\": {\"title\": {\"text\": \"PC2\"}}, \"zaxis\": {\"title\": {\"text\": \"PC3\"}}}, \"template\": {\"data\": {\"bar\": [{\"error_x\": {\"color\": \"#2a3f5f\"}, \"error_y\": {\"color\": \"#2a3f5f\"}, \"marker\": {\"line\": {\"color\": \"#E5ECF6\", \"width\": 0.5}}, \"type\": \"bar\"}], \"barpolar\": [{\"marker\": {\"line\": {\"color\": \"#E5ECF6\", \"width\": 0.5}}, \"type\": \"barpolar\"}], \"carpet\": [{\"aaxis\": {\"endlinecolor\": \"#2a3f5f\", \"gridcolor\": \"white\", \"linecolor\": \"white\", \"minorgridcolor\": \"white\", \"startlinecolor\": \"#2a3f5f\"}, \"baxis\": {\"endlinecolor\": \"#2a3f5f\", \"gridcolor\": \"white\", \"linecolor\": \"white\", \"minorgridcolor\": \"white\", \"startlinecolor\": \"#2a3f5f\"}, \"type\": \"carpet\"}], \"choropleth\": [{\"colorbar\": {\"outlinewidth\": 0, \"ticks\": \"\"}, \"type\": \"choropleth\"}], \"contour\": [{\"colorbar\": {\"outlinewidth\": 0, \"ticks\": \"\"}, \"colorscale\": [[0.0, \"#0d0887\"], [0.1111111111111111, \"#46039f\"], [0.2222222222222222, \"#7201a8\"], [0.3333333333333333, \"#9c179e\"], [0.4444444444444444, \"#bd3786\"], [0.5555555555555556, \"#d8576b\"], [0.6666666666666666, \"#ed7953\"], [0.7777777777777778, \"#fb9f3a\"], [0.8888888888888888, \"#fdca26\"], [1.0, \"#f0f921\"]], \"type\": \"contour\"}], \"contourcarpet\": [{\"colorbar\": {\"outlinewidth\": 0, \"ticks\": \"\"}, \"type\": \"contourcarpet\"}], \"heatmap\": [{\"colorbar\": {\"outlinewidth\": 0, \"ticks\": \"\"}, \"colorscale\": [[0.0, \"#0d0887\"], [0.1111111111111111, \"#46039f\"], [0.2222222222222222, \"#7201a8\"], [0.3333333333333333, \"#9c179e\"], [0.4444444444444444, \"#bd3786\"], [0.5555555555555556, \"#d8576b\"], [0.6666666666666666, \"#ed7953\"], [0.7777777777777778, \"#fb9f3a\"], [0.8888888888888888, \"#fdca26\"], [1.0, \"#f0f921\"]], \"type\": \"heatmap\"}], \"heatmapgl\": [{\"colorbar\": {\"outlinewidth\": 0, \"ticks\": \"\"}, \"colorscale\": [[0.0, \"#0d0887\"], [0.1111111111111111, \"#46039f\"], [0.2222222222222222, \"#7201a8\"], [0.3333333333333333, \"#9c179e\"], [0.4444444444444444, \"#bd3786\"], [0.5555555555555556, \"#d8576b\"], [0.6666666666666666, \"#ed7953\"], [0.7777777777777778, \"#fb9f3a\"], [0.8888888888888888, \"#fdca26\"], [1.0, \"#f0f921\"]], \"type\": \"heatmapgl\"}], \"histogram\": [{\"marker\": {\"colorbar\": {\"outlinewidth\": 0, \"ticks\": \"\"}}, \"type\": \"histogram\"}], \"histogram2d\": [{\"colorbar\": {\"outlinewidth\": 0, \"ticks\": \"\"}, \"colorscale\": [[0.0, \"#0d0887\"], [0.1111111111111111, \"#46039f\"], [0.2222222222222222, \"#7201a8\"], [0.3333333333333333, \"#9c179e\"], [0.4444444444444444, \"#bd3786\"], [0.5555555555555556, \"#d8576b\"], [0.6666666666666666, \"#ed7953\"], [0.7777777777777778, \"#fb9f3a\"], [0.8888888888888888, \"#fdca26\"], [1.0, \"#f0f921\"]], \"type\": \"histogram2d\"}], \"histogram2dcontour\": [{\"colorbar\": {\"outlinewidth\": 0, \"ticks\": \"\"}, \"colorscale\": [[0.0, \"#0d0887\"], [0.1111111111111111, \"#46039f\"], [0.2222222222222222, \"#7201a8\"], [0.3333333333333333, \"#9c179e\"], [0.4444444444444444, \"#bd3786\"], [0.5555555555555556, \"#d8576b\"], [0.6666666666666666, \"#ed7953\"], [0.7777777777777778, \"#fb9f3a\"], [0.8888888888888888, \"#fdca26\"], [1.0, \"#f0f921\"]], \"type\": \"histogram2dcontour\"}], \"mesh3d\": [{\"colorbar\": {\"outlinewidth\": 0, \"ticks\": \"\"}, \"type\": \"mesh3d\"}], \"parcoords\": [{\"line\": {\"colorbar\": {\"outlinewidth\": 0, \"ticks\": \"\"}}, \"type\": \"parcoords\"}], \"pie\": [{\"automargin\": true, \"type\": \"pie\"}], \"scatter\": [{\"marker\": {\"colorbar\": {\"outlinewidth\": 0, \"ticks\": \"\"}}, \"type\": \"scatter\"}], \"scatter3d\": [{\"line\": {\"colorbar\": {\"outlinewidth\": 0, \"ticks\": \"\"}}, \"marker\": {\"colorbar\": {\"outlinewidth\": 0, \"ticks\": \"\"}}, \"type\": \"scatter3d\"}], \"scattercarpet\": [{\"marker\": {\"colorbar\": {\"outlinewidth\": 0, \"ticks\": \"\"}}, \"type\": \"scattercarpet\"}], \"scattergeo\": [{\"marker\": {\"colorbar\": {\"outlinewidth\": 0, \"ticks\": \"\"}}, \"type\": \"scattergeo\"}], \"scattergl\": [{\"marker\": {\"colorbar\": {\"outlinewidth\": 0, \"ticks\": \"\"}}, \"type\": \"scattergl\"}], \"scattermapbox\": [{\"marker\": {\"colorbar\": {\"outlinewidth\": 0, \"ticks\": \"\"}}, \"type\": \"scattermapbox\"}], \"scatterpolar\": [{\"marker\": {\"colorbar\": {\"outlinewidth\": 0, \"ticks\": \"\"}}, \"type\": \"scatterpolar\"}], \"scatterpolargl\": [{\"marker\": {\"colorbar\": {\"outlinewidth\": 0, \"ticks\": \"\"}}, \"type\": \"scatterpolargl\"}], \"scatterternary\": [{\"marker\": {\"colorbar\": {\"outlinewidth\": 0, \"ticks\": \"\"}}, \"type\": \"scatterternary\"}], \"surface\": [{\"colorbar\": {\"outlinewidth\": 0, \"ticks\": \"\"}, \"colorscale\": [[0.0, \"#0d0887\"], [0.1111111111111111, \"#46039f\"], [0.2222222222222222, \"#7201a8\"], [0.3333333333333333, \"#9c179e\"], [0.4444444444444444, \"#bd3786\"], [0.5555555555555556, \"#d8576b\"], [0.6666666666666666, \"#ed7953\"], [0.7777777777777778, \"#fb9f3a\"], [0.8888888888888888, \"#fdca26\"], [1.0, \"#f0f921\"]], \"type\": \"surface\"}], \"table\": [{\"cells\": {\"fill\": {\"color\": \"#EBF0F8\"}, \"line\": {\"color\": \"white\"}}, \"header\": {\"fill\": {\"color\": \"#C8D4E3\"}, \"line\": {\"color\": \"white\"}}, \"type\": \"table\"}]}, \"layout\": {\"annotationdefaults\": {\"arrowcolor\": \"#2a3f5f\", \"arrowhead\": 0, \"arrowwidth\": 1}, \"autotypenumbers\": \"strict\", \"coloraxis\": {\"colorbar\": {\"outlinewidth\": 0, \"ticks\": \"\"}}, \"colorscale\": {\"diverging\": [[0, \"#8e0152\"], [0.1, \"#c51b7d\"], [0.2, \"#de77ae\"], [0.3, \"#f1b6da\"], [0.4, \"#fde0ef\"], [0.5, \"#f7f7f7\"], [0.6, \"#e6f5d0\"], [0.7, \"#b8e186\"], [0.8, \"#7fbc41\"], [0.9, \"#4d9221\"], [1, \"#276419\"]], \"sequential\": [[0.0, \"#0d0887\"], [0.1111111111111111, \"#46039f\"], [0.2222222222222222, \"#7201a8\"], [0.3333333333333333, \"#9c179e\"], [0.4444444444444444, \"#bd3786\"], [0.5555555555555556, \"#d8576b\"], [0.6666666666666666, \"#ed7953\"], [0.7777777777777778, \"#fb9f3a\"], [0.8888888888888888, \"#fdca26\"], [1.0, \"#f0f921\"]], \"sequentialminus\": [[0.0, \"#0d0887\"], [0.1111111111111111, \"#46039f\"], [0.2222222222222222, \"#7201a8\"], [0.3333333333333333, \"#9c179e\"], [0.4444444444444444, \"#bd3786\"], [0.5555555555555556, \"#d8576b\"], [0.6666666666666666, \"#ed7953\"], [0.7777777777777778, \"#fb9f3a\"], [0.8888888888888888, \"#fdca26\"], [1.0, \"#f0f921\"]]}, \"colorway\": [\"#636efa\", \"#EF553B\", \"#00cc96\", \"#ab63fa\", \"#FFA15A\", \"#19d3f3\", \"#FF6692\", \"#B6E880\", \"#FF97FF\", \"#FECB52\"], \"font\": {\"color\": \"#2a3f5f\"}, \"geo\": {\"bgcolor\": \"white\", \"lakecolor\": \"white\", \"landcolor\": \"#E5ECF6\", \"showlakes\": true, \"showland\": true, \"subunitcolor\": \"white\"}, \"hoverlabel\": {\"align\": \"left\"}, \"hovermode\": \"closest\", \"mapbox\": {\"style\": \"light\"}, \"paper_bgcolor\": \"white\", \"plot_bgcolor\": \"#E5ECF6\", \"polar\": {\"angularaxis\": {\"gridcolor\": \"white\", \"linecolor\": \"white\", \"ticks\": \"\"}, \"bgcolor\": \"#E5ECF6\", \"radialaxis\": {\"gridcolor\": \"white\", \"linecolor\": \"white\", \"ticks\": \"\"}}, \"scene\": {\"xaxis\": {\"backgroundcolor\": \"#E5ECF6\", \"gridcolor\": \"white\", \"gridwidth\": 2, \"linecolor\": \"white\", \"showbackground\": true, \"ticks\": \"\", \"zerolinecolor\": \"white\"}, \"yaxis\": {\"backgroundcolor\": \"#E5ECF6\", \"gridcolor\": \"white\", \"gridwidth\": 2, \"linecolor\": \"white\", \"showbackground\": true, \"ticks\": \"\", \"zerolinecolor\": \"white\"}, \"zaxis\": {\"backgroundcolor\": \"#E5ECF6\", \"gridcolor\": \"white\", \"gridwidth\": 2, \"linecolor\": \"white\", \"showbackground\": true, \"ticks\": \"\", \"zerolinecolor\": \"white\"}}, \"shapedefaults\": {\"line\": {\"color\": \"#2a3f5f\"}}, \"ternary\": {\"aaxis\": {\"gridcolor\": \"white\", \"linecolor\": \"white\", \"ticks\": \"\"}, \"baxis\": {\"gridcolor\": \"white\", \"linecolor\": \"white\", \"ticks\": \"\"}, \"bgcolor\": \"#E5ECF6\", \"caxis\": {\"gridcolor\": \"white\", \"linecolor\": \"white\", \"ticks\": \"\"}}, \"title\": {\"x\": 0.05}, \"xaxis\": {\"automargin\": true, \"gridcolor\": \"white\", \"linecolor\": \"white\", \"ticks\": \"\", \"title\": {\"standoff\": 15}, \"zerolinecolor\": \"white\", \"zerolinewidth\": 2}, \"yaxis\": {\"automargin\": true, \"gridcolor\": \"white\", \"linecolor\": \"white\", \"ticks\": \"\", \"title\": {\"standoff\": 15}, \"zerolinecolor\": \"white\", \"zerolinewidth\": 2}}}, \"width\": 800},                        {\"responsive\": true}                    ).then(function(){\n",
       "                            \n",
       "var gd = document.getElementById('d6858b41-5136-49b2-a572-b5b9edb5c4ce');\n",
       "var x = new MutationObserver(function (mutations, observer) {{\n",
       "        var display = window.getComputedStyle(gd).display;\n",
       "        if (!display || display === 'none') {{\n",
       "            console.log([gd, 'removed!']);\n",
       "            Plotly.purge(gd);\n",
       "            observer.disconnect();\n",
       "        }}\n",
       "}});\n",
       "\n",
       "// Listen for the removal of the full notebook cells\n",
       "var notebookContainer = gd.closest('#notebook-container');\n",
       "if (notebookContainer) {{\n",
       "    x.observe(notebookContainer, {childList: true});\n",
       "}}\n",
       "\n",
       "// Listen for the clearing of the current output cell\n",
       "var outputEl = gd.closest('.output');\n",
       "if (outputEl) {{\n",
       "    x.observe(outputEl, {childList: true});\n",
       "}}\n",
       "\n",
       "                        })                };                });            </script>        </div>"
      ]
     },
     "metadata": {},
     "output_type": "display_data"
    }
   ],
   "source": [
    "# Creating a 3D-Scatter with the PCA data and the clusters\n",
    "fig = px.scatter_3d(\n",
    "    clustered_df,\n",
    "    x = \"PC1\",\n",
    "    y = \"PC2\",\n",
    "    z = \"PC3\",\n",
    "    hover_name = \"CoinName\",\n",
    "    hover_data = [\"Algorithm\",\"CoinName\"],\n",
    "    color = 'class',\n",
    "    symbol = 'class',\n",
    "    width = 800,\n",
    ")\n",
    "\n",
    "fig.update_layout(legend = dict(x=0, y=1))\n",
    "fig.show()"
   ]
  },
  {
   "cell_type": "code",
   "execution_count": 106,
   "metadata": {},
   "outputs": [
    {
     "data": {},
     "metadata": {},
     "output_type": "display_data"
    },
    {
     "data": {
      "application/vnd.holoviews_exec.v0+json": "",
      "text/html": [
       "<div id='1102'>\n",
       "\n",
       "\n",
       "\n",
       "\n",
       "\n",
       "  <div class=\"bk-root\" id=\"c5af0628-4cc4-40d1-9e7d-2f73d9f323ed\" data-root-id=\"1102\"></div>\n",
       "</div>\n",
       "<script type=\"application/javascript\">(function(root) {\n",
       "  function embed_document(root) {\n",
       "    var docs_json = {\"68a1eadd-d10c-4fdd-9282-bce9e01de8c4\":{\"roots\":{\"references\":[{\"attributes\":{},\"id\":\"1106\",\"type\":\"StringFormatter\"},{\"attributes\":{},\"id\":\"1127\",\"type\":\"NumberEditor\"},{\"attributes\":{},\"id\":\"1138\",\"type\":\"UnionRenderers\"},{\"attributes\":{},\"id\":\"1116\",\"type\":\"StringFormatter\"},{\"attributes\":{\"children\":[{\"id\":\"1103\"},{\"id\":\"1136\"},{\"id\":\"1142\"}],\"margin\":[0,0,0,0],\"name\":\"Row01703\",\"tags\":[\"embedded\"]},\"id\":\"1102\",\"type\":\"Row\"},{\"attributes\":{\"editor\":{\"id\":\"1132\"},\"field\":\"class\",\"formatter\":{\"id\":\"1131\"},\"title\":\"class\"},\"id\":\"1133\",\"type\":\"TableColumn\"},{\"attributes\":{},\"id\":\"1117\",\"type\":\"StringEditor\"},{\"attributes\":{\"editor\":{\"id\":\"1127\"},\"field\":\"TotalCoinsMined\",\"formatter\":{\"id\":\"1126\"},\"title\":\"TotalCoinsMined\"},\"id\":\"1128\",\"type\":\"TableColumn\"},{\"attributes\":{\"editor\":{\"id\":\"1117\"},\"field\":\"ProofType\",\"formatter\":{\"id\":\"1116\"},\"title\":\"ProofType\"},\"id\":\"1118\",\"type\":\"TableColumn\"},{\"attributes\":{\"margin\":[5,5,5,5],\"name\":\"HSpacer01708\",\"sizing_mode\":\"stretch_width\"},\"id\":\"1142\",\"type\":\"Spacer\"},{\"attributes\":{},\"id\":\"1112\",\"type\":\"StringEditor\"},{\"attributes\":{\"format\":\"0,0.0[00000]\"},\"id\":\"1126\",\"type\":\"NumberFormatter\"},{\"attributes\":{},\"id\":\"1121\",\"type\":\"StringFormatter\"},{\"attributes\":{\"editor\":{\"id\":\"1107\"},\"field\":\"CoinName\",\"formatter\":{\"id\":\"1106\"},\"title\":\"CoinName\"},\"id\":\"1108\",\"type\":\"TableColumn\"},{\"attributes\":{},\"id\":\"1131\",\"type\":\"NumberFormatter\"},{\"attributes\":{},\"id\":\"1105\",\"type\":\"Selection\"},{\"attributes\":{\"editor\":{\"id\":\"1112\"},\"field\":\"Algorithm\",\"formatter\":{\"id\":\"1111\"},\"title\":\"Algorithm\"},\"id\":\"1113\",\"type\":\"TableColumn\"},{\"attributes\":{\"source\":{\"id\":\"1104\"}},\"id\":\"1137\",\"type\":\"CDSView\"},{\"attributes\":{},\"id\":\"1107\",\"type\":\"StringEditor\"},{\"attributes\":{},\"id\":\"1132\",\"type\":\"IntEditor\"},{\"attributes\":{\"data\":{\"Algorithm\":[\"Scrypt\",\"Scrypt\",\"X13\",\"SHA-256\",\"Ethash\",\"Scrypt\",\"X11\",\"CryptoNight-V7\",\"Ethash\",\"Equihash\",\"SHA-512\",\"Multiple\",\"SHA-256\",\"SHA-256\",\"Scrypt\",\"X15\",\"X11\",\"Scrypt\",\"Scrypt\",\"Scrypt\",\"Multiple\",\"Scrypt\",\"SHA-256\",\"Scrypt\",\"Scrypt\",\"Scrypt\",\"Quark\",\"Groestl\",\"Scrypt\",\"Scrypt\",\"Scrypt\",\"Scrypt\",\"Scrypt\",\"X11\",\"Scrypt\",\"Groestl\",\"Multiple\",\"SHA-256\",\"Scrypt\",\"Scrypt\",\"Scrypt\",\"Scrypt\",\"PoS\",\"Scrypt\",\"Scrypt\",\"NeoScrypt\",\"Scrypt\",\"Scrypt\",\"Scrypt\",\"Scrypt\",\"X11\",\"Scrypt\",\"X11\",\"SHA-256\",\"Scrypt\",\"Scrypt\",\"Scrypt\",\"SHA3\",\"Scrypt\",\"HybridScryptHash256\",\"Scrypt\",\"Scrypt\",\"SHA-256\",\"Scrypt\",\"X13\",\"Scrypt\",\"SHA-256\",\"Scrypt\",\"X13\",\"NeoScrypt\",\"Scrypt\",\"Scrypt\",\"Scrypt\",\"Scrypt\",\"Scrypt\",\"Scrypt\",\"X11\",\"X11\",\"SHA-256\",\"Multiple\",\"SHA-256\",\"PHI1612\",\"X11\",\"SHA-256\",\"SHA-256\",\"SHA-256\",\"X11\",\"Scrypt\",\"Scrypt\",\"Scrypt\",\"Scrypt\",\"Lyra2REv2\",\"Scrypt\",\"X11\",\"Multiple\",\"SHA-256\",\"X13\",\"Scrypt\",\"CryptoNight\",\"CryptoNight\",\"Shabal256\",\"Counterparty\",\"Scrypt\",\"SHA-256\",\"Groestl\",\"Scrypt\",\"Scrypt\",\"Scrypt\",\"X13\",\"Scrypt\",\"Scrypt\",\"Scrypt\",\"Scrypt\",\"X13\",\"Scrypt\",\"Stanford Folding\",\"X11\",\"Multiple\",\"QuBit\",\"Scrypt\",\"Scrypt\",\"Scrypt\",\"M7 POW\",\"Scrypt\",\"SHA-256\",\"Scrypt\",\"X11\",\"SHA3\",\"X11\",\"Lyra2RE\",\"SHA-256\",\"QUAIT\",\"X11\",\"X11\",\"Scrypt\",\"Scrypt\",\"Scrypt\",\"Ethash\",\"X13\",\"Blake2b\",\"SHA-256\",\"X15\",\"X11\",\"SHA-256\",\"BLAKE256\",\"Scrypt\",\"1GB AES Pattern Search\",\"SHA-256\",\"X11\",\"Scrypt\",\"SHA-256\",\"SHA-256\",\"NIST5\",\"Scrypt\",\"Scrypt\",\"X11\",\"Dagger\",\"Scrypt\",\"X11GOST\",\"X11\",\"Scrypt\",\"SHA-256\",\"Scrypt\",\"PoS\",\"Scrypt\",\"X11\",\"X11\",\"SHA-256\",\"SHA-256\",\"NIST5\",\"X11\",\"Scrypt\",\"POS 3.0\",\"Scrypt\",\"Scrypt\",\"Scrypt\",\"X13\",\"X11\",\"X11\",\"Equihash\",\"X11\",\"Scrypt\",\"CryptoNight\",\"SHA-256\",\"SHA-256\",\"X11\",\"Scrypt\",\"Multiple\",\"Scrypt\",\"Scrypt\",\"Scrypt\",\"SHA-256\",\"Scrypt\",\"Scrypt\",\"SHA-256D\",\"PoS\",\"Scrypt\",\"X11\",\"Lyra2Z\",\"PoS\",\"X13\",\"X14\",\"PoS\",\"SHA-256D\",\"Ethash\",\"Equihash\",\"DPoS\",\"X11\",\"Scrypt\",\"X11\",\"X13\",\"X11\",\"PoS\",\"Scrypt\",\"Scrypt\",\"X11\",\"PoS\",\"X11\",\"SHA-256\",\"Scrypt\",\"X11\",\"Scrypt\",\"Scrypt\",\"X11\",\"CryptoNight\",\"Scrypt\",\"Scrypt\",\"Scrypt\",\"Scrypt\",\"Quark\",\"QuBit\",\"Scrypt\",\"CryptoNight\",\"Lyra2RE\",\"Scrypt\",\"SHA-256\",\"X11\",\"Scrypt\",\"X11\",\"Scrypt\",\"CryptoNight-V7\",\"Scrypt\",\"Scrypt\",\"Scrypt\",\"X13\",\"X11\",\"Equihash\",\"Scrypt\",\"Scrypt\",\"Lyra2RE\",\"Scrypt\",\"Dagger-Hashimoto\",\"X11\",\"Blake2S\",\"X11\",\"Scrypt\",\"PoS\",\"X11\",\"NIST5\",\"PoS\",\"X11\",\"Scrypt\",\"Scrypt\",\"Scrypt\",\"SHA-256\",\"X11\",\"Scrypt\",\"Scrypt\",\"SHA-256\",\"PoS\",\"Scrypt\",\"X15\",\"SHA-256\",\"Scrypt\",\"POS 3.0\",\"CryptoNight-V7\",\"536\",\"Argon2d\",\"Blake2b\",\"Cloverhash\",\"CryptoNight\",\"NIST5\",\"X11\",\"NIST5\",\"Skein\",\"Scrypt\",\"X13\",\"Scrypt\",\"X11\",\"X11\",\"Scrypt\",\"CryptoNight\",\"X13\",\"Time Travel\",\"Scrypt\",\"Keccak\",\"SkunkHash v2 Raptor\",\"X11\",\"Skein\",\"SHA-256\",\"X11\",\"Scrypt\",\"VeChainThor Authority\",\"Scrypt\",\"PoS\",\"Scrypt\",\"Scrypt\",\"Scrypt\",\"Scrypt\",\"Scrypt\",\"Scrypt\",\"Scrypt\",\"CryptoNight\",\"SHA-512\",\"Ouroboros\",\"X11\",\"Equihash\",\"NeoScrypt\",\"X11\",\"Scrypt\",\"NeoScrypt\",\"Lyra2REv2\",\"Equihash\",\"Scrypt\",\"SHA-256\",\"NIST5\",\"PHI1612\",\"Dagger\",\"Scrypt\",\"Quark\",\"Scrypt\",\"POS 2.0\",\"Scrypt\",\"SHA-256\",\"X11\",\"NeoScrypt\",\"Ethash\",\"NeoScrypt\",\"X11\",\"DPoS\",\"NIST5\",\"X13\",\"Multiple\",\"Scrypt\",\"CryptoNight\",\"CryptoNight\",\"Ethash\",\"NIST5\",\"Quark\",\"X11\",\"CryptoNight-V7\",\"Scrypt\",\"Scrypt\",\"Scrypt\",\"X11\",\"BLAKE256\",\"X11\",\"NeoScrypt\",\"Quark\",\"NeoScrypt\",\"Scrypt\",\"Scrypt\",\"Scrypt\",\"X11\",\"X11\",\"SHA-256\",\"C11\",\"POS 3.0\",\"Ethash\",\"Scrypt\",\"CryptoNight\",\"SkunkHash\",\"Scrypt\",\"CryptoNight\",\"Scrypt\",\"Dagger\",\"Lyra2REv2\",\"X13\",\"Proof-of-BibleHash\",\"SHA-256 + Hive\",\"Scrypt\",\"Scrypt\",\"X11\",\"C11\",\"Proof-of-Authority\",\"X11\",\"XEVAN\",\"Scrypt\",\"VBFT\",\"Ethash\",\"CryptoNight\",\"Scrypt\",\"IMesh\",\"NIST5\",\"Scrypt\",\"Scrypt\",\"Equihash\",\"Scrypt\",\"Lyra2Z\",\"Green Protocol\",\"PoS\",\"Scrypt\",\"Semux BFT consensus\",\"X11\",\"Quark\",\"PoS\",\"CryptoNight\",\"X16R\",\"Scrypt\",\"NIST5\",\"Lyra2RE\",\"XEVAN\",\"Tribus\",\"Scrypt\",\"Lyra2Z\",\"CryptoNight\",\"CryptoNight Heavy\",\"CryptoNight\",\"Scrypt\",\"Scrypt\",\"Jump Consistent Hash\",\"SHA-256D\",\"CryptoNight\",\"Scrypt\",\"X15\",\"Scrypt\",\"Quark\",\"SHA-256\",\"DPoS\",\"X16R\",\"HMQ1725\",\"X11\",\"X16R\",\"Quark\",\"Quark\",\"Scrypt\",\"Lyra2REv2\",\"Quark\",\"Scrypt\",\"Scrypt\",\"CryptoNight-V7\",\"Cryptonight-GPU\",\"XEVAN\",\"CryptoNight Heavy\",\"X11\",\"X11\",\"Scrypt\",\"PoS\",\"SHA-256\",\"Keccak\",\"X11\",\"X11\",\"Scrypt\",\"SHA-512\",\"X16R\",\"ECC 256K1\",\"Equihash\",\"XEVAN\",\"Lyra2Z\",\"SHA-256\",\"XEVAN\",\"X11\",\"CryptoNight\",\"Quark\",\"Blake\",\"Blake\",\"Equihash\",\"Exosis\",\"Scrypt\",\"Scrypt\",\"Equihash\",\"Quark\",\"Equihash\",\"Quark\",\"Scrypt\",\"QuBit\",\"X11\",\"Scrypt\",\"XEVAN\",\"SHA-256D\",\"X11\",\"SHA-256\",\"X13\",\"SHA-256\",\"X11\",\"DPoS\",\"Scrypt\",\"Scrypt\",\"X11\",\"NeoScrypt\",\"Scrypt\",\"Blake\",\"Scrypt\",\"SHA-256\",\"Scrypt\",\"X11\",\"Scrypt\",\"Scrypt\",\"SHA-256\",\"X11\",\"SHA-256\",\"Scrypt\",\"Scrypt\",\"Scrypt\",\"Groestl\",\"X11\",\"Scrypt\",\"PoS\",\"Scrypt\",\"Scrypt\",\"X11\",\"SHA-256\",\"DPoS\",\"Scrypt\",\"Scrypt\",\"NeoScrypt\",\"Multiple\",\"X13\",\"Equihash+Scrypt\",\"DPoS\",\"Ethash\",\"DPoS\",\"SHA-256\",\"Leased POS\",\"PoS\",\"TRC10\",\"PoS\",\"SHA-256\",\"Scrypt\",\"CryptoNight\",\"Equihash\",\"Scrypt\"],\"CoinName\":[\"42 Coin\",\"404Coin\",\"EliteCoin\",\"Bitcoin\",\"Ethereum\",\"Litecoin\",\"Dash\",\"Monero\",\"Ethereum Classic\",\"ZCash\",\"Bitshares\",\"DigiByte\",\"BitcoinDark\",\"PayCoin\",\"ProsperCoin\",\"KoboCoin\",\"Spreadcoin\",\"Argentum\",\"Aurora Coin\",\"BlueCoin\",\"MyriadCoin\",\"MoonCoin\",\"ZetaCoin\",\"SexCoin\",\"Quatloo\",\"EnergyCoin\",\"QuarkCoin\",\"Riecoin\",\"Digitalcoin \",\"BitBar\",\"Catcoin\",\"CryptoBullion\",\"CannaCoin\",\"CryptCoin\",\"CasinoCoin\",\"Diamond\",\"Verge\",\"DevCoin\",\"EarthCoin\",\"E-Gulden\",\"Einsteinium\",\"Emerald\",\"Exclusive Coin\",\"FlutterCoin\",\"Franko\",\"FeatherCoin\",\"GrandCoin\",\"GlobalCoin\",\"GoldCoin\",\"HoboNickels\",\"HyperStake\",\"Infinite Coin\",\"IOCoin\",\"IXcoin\",\"KrugerCoin\",\"LuckyCoin\",\"Litebar \",\"MaxCoin\",\"MegaCoin\",\"MediterraneanCoin\",\"MintCoin\",\"MinCoin\",\"MazaCoin\",\"Nautilus Coin\",\"NavCoin\",\"NobleCoin\",\"Namecoin\",\"NyanCoin\",\"OpalCoin\",\"Orbitcoin\",\"PotCoin\",\"PhoenixCoin\",\"Reddcoin\",\"RonPaulCoin\",\"StableCoin\",\"SmartCoin\",\"SuperCoin\",\"SyncCoin\",\"SysCoin\",\"TeslaCoin\",\"TigerCoin\",\"TittieCoin\",\"TorCoin\",\"TerraCoin\",\"UnbreakableCoin\",\"Unobtanium\",\"UroCoin\",\"UnitaryStatus Dollar\",\"UltraCoin\",\"ViaCoin\",\"VeriCoin\",\"Vertcoin\",\"WorldCoin\",\"X11 Coin\",\"Crypti\",\"JouleCoin\",\"StealthCoin\",\"ZCC Coin\",\"ByteCoin\",\"DigitalNote \",\"BurstCoin\",\"StorjCoin\",\"MonaCoin\",\"Neutron\",\"FairCoin\",\"Gulden\",\"RubyCoin\",\"PesetaCoin\",\"Kore\",\"Wild Beast Coin\",\"Dnotes\",\"Flo\",\"8BIT Coin\",\"Sativa Coin\",\"ArtByte\",\"Folding Coin\",\"Ucoin\",\"Unitus\",\"CypherPunkCoin\",\"OmniCron\",\"Vtorrent\",\"GreenCoin\",\"Cryptonite\",\"MasterCoin\",\"SoonCoin\",\"1Credit\",\"IslaCoin\",\"Nexus\",\"MarsCoin \",\"Crypto\",\"Anarchists Prime\",\"Droidz\",\"BowsCoin\",\"Squall Coin\",\"Song Coin\",\"BitZeny\",\"Diggits\",\"Expanse\",\"Paycon\",\"Siacoin\",\"Emercoin\",\"EverGreenCoin\",\"MindCoin\",\"I0coin\",\"Decred\",\"Revolution VR\",\"HOdlcoin\",\"EDRCoin\",\"Hitcoin\",\"Gamecredits\",\"DubaiCoin\",\"CarpeDiemCoin\",\"PWR Coin\",\"BillaryCoin\",\"GPU Coin\",\"Adzcoin\",\"SoilCoin\",\"YoCoin\",\"SibCoin\",\"EuropeCoin\",\"ZeitCoin\",\"SwingCoin\",\"SafeExchangeCoin\",\"Nebuchadnezzar\",\"Francs\",\"BolivarCoin\",\"Ratecoin\",\"Revenu\",\"Clockcoin\",\"VIP Tokens\",\"BitSend\",\"Omni\",\"Let it Ride\",\"PutinCoin\",\"iBankCoin\",\"Frankywillcoin\",\"MudraCoin\",\"PizzaCoin\",\"Lutetium Coin\",\"Komodo\",\"GoldBlocks\",\"CarterCoin\",\"Karbo\",\"BitTokens\",\"ZayedCoin\",\"MustangCoin\",\"ZoneCoin\",\"Circuits of Value\",\"RootCoin\",\"DopeCoin\",\"BitCurrency\",\"DollarCoin\",\"Swiscoin\",\"Shilling\",\"BuzzCoin\",\"Opair\",\"PesoBit\",\"Halloween Coin\",\"ZCoin\",\"CoffeeCoin\",\"RoyalCoin\",\"GanjaCoin V2\",\"TeamUP\",\"LanaCoin\",\"Elementrem\",\"ZClassic\",\"ARK\",\"InsaneCoin\",\"KiloCoin\",\"ArtexCoin\",\"EmberCoin\",\"XenixCoin\",\"FreeCoin\",\"PLNCoin\",\"AquariusCoin\",\"Kurrent\",\"Creatio\",\"Eternity\",\"Eurocoin\",\"BitcoinFast\",\"Stakenet\",\"BitConnect Coin\",\"MoneyCoin\",\"Enigma\",\"Cannabis Industry Coin\",\"Russiacoin\",\"PandaCoin\",\"GameUnits\",\"GAKHcoin\",\"Allsafe\",\"LiteCreed\",\"OsmiumCoin\",\"Bikercoins\",\"HexxCoin\",\"Klingon Empire Darsek\",\"Internet of People\",\"KushCoin\",\"Printerium\",\"PacCoin\",\"Impeach\",\"Citadel\",\"Zilbercoin\",\"FirstCoin\",\"BeaverCoin\",\"FindCoin\",\"VaultCoin\",\"Zero\",\"OpenChat\",\"Canada eCoin\",\"Zoin\",\"RenosCoin\",\"DubaiCoin\",\"VirtacoinPlus\",\"TajCoin\",\"Impact\",\"EB3coin\",\"Atmos\",\"HappyCoin\",\"Coinonat\",\"MacronCoin\",\"Condensate\",\"Independent Money System\",\"ArgusCoin\",\"LomoCoin\",\"ProCurrency\",\"GoldReserve\",\"BenjiRolls\",\"GrowthCoin\",\"ILCoin\",\"Phreak\",\"Degas Coin\",\"HTML5 Coin\",\"Ultimate Secure Cash\",\"EquiTrader\",\"QTUM\",\"Quantum Resistant Ledger\",\"Espers\",\"Dynamic\",\"Nano\",\"ChanCoin\",\"Dinastycoin\",\"Denarius\",\"DigitalPrice\",\"Virta Unique Coin\",\"Bitcoin Planet\",\"Unify\",\"BritCoin\",\"SocialCoin\",\"ArcticCoin\",\"DAS\",\"Linda\",\"LeviarCoin\",\"DeepOnion\",\"Bitcore\",\"gCn Coin\",\"SmartCash\",\"Signatum\",\"Onix\",\"Cream\",\"Bitcoin Cash\",\"Monoeci\",\"Draftcoin\",\"Vechain\",\"Sojourn Coin\",\"Stakecoin\",\"NewYorkCoin\",\"FrazCoin\",\"Kronecoin\",\"AdCoin\",\"Linx\",\"CoinonatX\",\"Ethereum Dark\",\"Sumokoin\",\"Obsidian\",\"Cardano\",\"Regalcoin\",\"BitcoinZ\",\"TrezarCoin\",\"Elements\",\"TerraNovaCoin\",\"VIVO Coin\",\"Rupee\",\"Bitcoin Gold\",\"WomenCoin\",\"Theresa May Coin\",\"NamoCoin\",\"LUXCoin\",\"Pirl\",\"Xios\",\"Bitcloud 2.0\",\"eBoost\",\"KekCoin\",\"BlackholeCoin\",\"Infinity Economics\",\"Pura\",\"Innova\",\"Ellaism\",\"GoByte\",\"Magnet\",\"Lamden Tau\",\"Electra\",\"Bitcoin Diamond\",\"SHIELD\",\"Cash & Back Coin\",\"UltraNote\",\"BitCoal\",\"DaxxCoin\",\"Bulwark\",\"Kalkulus\",\"AC3\",\"Lethean\",\"GermanCoin\",\"LiteCoin Ultra\",\"PopularCoin\",\"PhantomX\",\"Photon\",\"Sucre\",\"SparksPay\",\"Digiwage\",\"GunCoin\",\"IrishCoin\",\"Trollcoin\",\"Litecoin Plus\",\"Monkey Project\",\"Pioneer Coin\",\"UnitedBitcoin\",\"Interzone\",\"TokenPay\",\"1717 Masonic Commemorative Token\",\"My Big Coin\",\"TurtleCoin\",\"MUNcoin\",\"Unified Society USDEX\",\"Niobio Cash\",\"ShareChain\",\"Travelflex\",\"KREDS\",\"Tokyo Coin\",\"BiblePay\",\"LitecoinCash\",\"BitFlip\",\"LottoCoin\",\"Crypto Improvement Fund\",\"Stipend\",\"Poa Network\",\"Pushi\",\"Ellerium\",\"Velox\",\"Ontology\",\"Callisto Network\",\"BitTube\",\"Poseidon\",\"Aidos Kuneen\",\"Bitspace\",\"Briacoin\",\"Ignition\",\"Bitrolium\",\"MedicCoin\",\"Alpenschillling\",\"Bitcoin Green\",\"Deviant Coin\",\"Abjcoin\",\"Semux\",\"FuturoCoin\",\"Carebit\",\"Zealium\",\"Monero Classic\",\"Proton\",\"iDealCash\",\"Jumpcoin\",\"Infinex\",\"Bitcoin Incognito\",\"KEYCO\",\"HollyWoodCoin\",\"GINcoin\",\"PlatinCoin\",\"Loki\",\"Newton Coin\",\"Swisscoin\",\"Xt3ch\",\"MassGrid\",\"TheVig\",\"PluraCoin\",\"EmaratCoin\",\"Dekado\",\"Lynx\",\"Poseidon Quark\",\"BitcoinWSpectrum\",\"Muse\",\"Motion\",\"PlusOneCoin\",\"Axe\",\"Trivechain\",\"Dystem\",\"Giant\",\"Peony Coin\",\"Absolute Coin\",\"Vitae\",\"HexCoin\",\"TPCash\",\"Webchain\",\"Ryo\",\"Urals Coin\",\"Qwertycoin\",\"ARENON\",\"EUNO\",\"MMOCoin\",\"Ketan\",\"Project Pai\",\"XDNA\",\"PAXEX\",\"Azart\",\"ThunderStake\",\"Kcash\",\"Xchange\",\"Acute Angle Cloud\",\"CrypticCoin\",\"Bettex coin\",\"Actinium\",\"Bitcoin SV\",\"BitMoney\",\"Junson Ming Chan Coin\",\"FREDEnergy\",\"HerbCoin\",\"Universal Molecule\",\"Lithium\",\"PirateCash\",\"Exosis\",\"Block-Logic\",\"Oduwa\",\"Beam\",\"Galilel\",\"Bithereum\",\"Crypto Sports\",\"Credit\",\"SLICE\",\"Dash Platinum\",\"Nasdacoin\",\"Beetle Coin\",\"Titan Coin\",\"Award\",\"BLAST\",\"Bitcoin Rhodium\",\"GlobalToken\",\"Insane Coin\",\"ALAX\",\"LiteDoge\",\"SolarCoin\",\"TruckCoin\",\"UFO Coin\",\"OrangeCoin\",\"BlakeCoin\",\"BitstarCoin\",\"NeosCoin\",\"HyperCoin\",\"PinkCoin\",\"Crypto Escudo\",\"AudioCoin\",\"IncaKoin\",\"Piggy Coin\",\"Crown Coin\",\"Genstake\",\"SmileyCoin\",\"XiaoMiCoin\",\"Groestlcoin\",\"CapriCoin\",\" ClubCoin\",\"Radium\",\"Bata\",\"Pakcoin\",\"Creditbit \",\"OKCash\",\"Lisk\",\"HiCoin\",\"WhiteCoin\",\"FriendshipCoin\",\"JoinCoin\",\"Triangles Coin\",\"Vollar\",\"EOS\",\"Reality Clash\",\"Oxycoin\",\"TigerCash\",\"Waves\",\"Particl\",\"BitTorrent\",\"Nxt\",\"ZEPHYR\",\"Gapcoin\",\"Beldex\",\"Horizen\",\"BitcoinPlus\"],\"ProofType\":[\"PoW/PoS\",\"PoW/PoS\",\"PoW/PoS\",\"PoW\",\"PoW\",\"PoW\",\"PoW/PoS\",\"PoW\",\"PoW\",\"PoW\",\"PoS\",\"PoW\",\"PoW/PoS\",\"PoS\",\"PoW\",\"PoW/PoS\",\"PoW\",\"PoW\",\"PoW/PoS\",\"PoW/PoS\",\"PoW\",\"PoW\",\"PoW\",\"PoW\",\"PoW\",\"PoW/PoS\",\"PoW\",\"PoW\",\"PoW\",\"PoW/PoS\",\"PoW\",\"PoW/PoS\",\"PoW\",\"PoW\",\"PoC\",\"PoW/PoS\",\"PoW\",\"PoW\",\"PoW\",\"PoW\",\"PoW\",\"PoW\",\"PoS\",\"PoS/PoW/PoT\",\"PoW\",\"PoW\",\"PoW\",\"PoW\",\"PoW\",\"PoW/PoS\",\"PoS\",\"PoW\",\"PoW/PoS\",\"PoW\",\"PoW\",\"PoW\",\"PoW\",\"PoW/PoS\",\"PoW\",\"PoW\",\"PoS\",\"PoW\",\"PoW/PoS\",\"PoS\",\"PoW/PoS\",\"PoW\",\"PoW\",\"PoW\",\"PoW/PoS\",\"PoW/PoS\",\"PoW/PoS\",\"PoW/PoS\",\"PoW/PoS\",\"PoW\",\"PoW\",\"PoW\",\"PoS\",\"PoW/PoS\",\"PoW\",\"PoS\",\"PoW\",\"PoS\",\"PoW/PoS\",\"PoW\",\"PoW\",\"PoW\",\"PoW\",\"PoW/PoS\",\"PoW/PoS\",\"PoW\",\"PoST\",\"PoW\",\"PoW\",\"PoW/PoS\",\"PoS\",\"PoW\",\"PoW/PoS\",\"PoW/PoS\",\"PoW\",\"PoW\",\"PoC\",\"PoS\",\"PoW\",\"PoW/PoS\",\"PoW/PoS\",\"PoW\",\"PoS\",\"PoW\",\"PoW/PoS\",\"PoW\",\"PoS\",\"PoW\",\"PoW/PoS\",\"PoW/PoS\",\"PoW\",\"PoW\",\"PoS\",\"PoW\",\"PoW\",\"PoW\",\"PoW/PoS\",\"PoW\",\"PoW\",\"PoW\",\"PoW\",\"PoW\",\"PoW/PoS\",\"PoW/nPoS\",\"PoW\",\"PoW\",\"PoW\",\"PoW/PoS\",\"PoW\",\"PoS/PoW\",\"PoW\",\"PoW\",\"PoS\",\"PoW\",\"PoW/PoS\",\"PoW\",\"PoW/PoS\",\"PoW/PoS\",\"PoW\",\"PoW\",\"PoW/PoS\",\"PoW\",\"PoW\",\"PoW/PoS\",\"PoW/PoS\",\"PoW\",\"PoW/PoS\",\"PoW\",\"PoW/PoS\",\"PoW/PoS\",\"PoS\",\"PoW\",\"PoW\",\"PoW\",\"PoW\",\"PoW/PoS\",\"PoS\",\"PoW/PoS\",\"PoC\",\"PoS\",\"PoW\",\"PoW\",\"PoW/PoS\",\"PoW/PoS\",\"PoW/PoS\",\"PoW/PoS\",\"PoW/PoS\",\"PoW\",\"PoS\",\"PoW/PoS\",\"PoW/PoS\",\"PoW/PoS\",\"PoS\",\"PoW\",\"PoS\",\"dPoW/PoW\",\"PoW/PoS\",\"PoW/PoS\",\"PoW\",\"PoW/PoS\",\"PoW\",\"PoW/PoS\",\"PoW/PoS\",\"PoW\",\"PoW/PoS\",\"PoW\",\"PoS\",\"PoW\",\"PoW/PoW\",\"PoW\",\"PoW/PoS\",\"PoS\",\"PoW/PoS\",\"PoW/PoS\",\"PoW\",\"PoS\",\"PoS\",\"PoW/PoS\",\"PoS\",\"PoW/PoS\",\"PoW\",\"PoW\",\"DPoS\",\"PoW/PoS\",\"PoW\",\"PoW\",\"PoW/PoS\",\"PoW/PoS\",\"PoS\",\"PoW/PoS\",\"PoW/PoS\",\"PoW\",\"PoS\",\"PoW/PoS\",\"PoW/PoS\",\"PoW/PoS\",\"TPoS\",\"PoW/PoS\",\"PoW/PoS\",\"PoW/PoS\",\"PoW\",\"PoW/PoS\",\"PoS\",\"PoW/PoS\",\"PoW/PoS\",\"PoS\",\"PoW/PoS\",\"PoW\",\"PoW\",\"PoW\",\"PoW/PoS\",\"PoW/PoS\",\"PoW/PoS\",\"PoW/PoS\",\"PoW\",\"PoW/PoS\",\"PoW\",\"PoS\",\"PoW/PoS \",\"PoW\",\"PoS\",\"PoW\",\"PoW\",\"PoW/PoS\",\"PoW\",\"PoW\",\"PoS\",\"PoW\",\"PoW/PoS\",\"PoW/PoS\",\"PoW/PoS\",\"PoW\",\"PoS\",\"PoW/PoS\",\"PoW\",\"PoS\",\"PoW/PoS\",\"PoW/PoS\",\"PoW/PoS\",\"PoW/PoS\",\"PoS\",\"PoW/PoS\",\"PoW\",\"PoS\",\"PoW\",\"PoS\",\"PoW/PoS\",\"PoW/PoS\",\"PoS\",\"PoW\",\"PoS\",\"PoW\",\"PoW/PoS\",\"PoW\",\"PoW\",\"PoW\",\"PoW\",\"PoW/PoS\",\"PoW\",\"PoW/PoS\",\"PoW/PoS\",\"PoW\",\"PoW/PoS\",\"PoW\",\"PoW\",\"PoW\",\"PoW/PoS\",\"PoW\",\"PoW/PoS\",\"PoW\",\"PoW\",\"PoW\",\"PoS\",\"PoW\",\"PoW/PoS\",\"PoW\",\"PoW/PoS\",\"PoS\",\"Proof of Authority\",\"PoW\",\"PoS\",\"PoW\",\"PoW\",\"PoW\",\"PoW\",\"PoW\",\"PoW/PoS\",\"PoW/PoS\",\"PoW\",\"PoS\",\"PoS\",\"PoW/PoS\",\"PoW\",\"PoW/PoS\",\"PoW\",\"PoW/PoS\",\"PoW\",\"PoS\",\"PoW\",\"PoW/PoS\",\"PoW/PoS\",\"PoW/PoS\",\"PoW/PoS\",\"PoW\",\"PoW/PoS\",\"PoW/PoS\",\"PoW\",\"PoS\",\"PoW/PoS\",\"PoS\",\"PoW\",\"PoW\",\"PoW\",\"PoW\",\"PoW/PoS\",\"DPoS\",\"PoW/PoS\",\"PoW/PoS\",\"PoW\",\"PoW/PoS\",\"PoW\",\"PoW\",\"PoW\",\"PoS\",\"PoS\",\"PoW\",\"PoW\",\"PoW/PoS\",\"PoW/PoS\",\"PoW\",\"PoW/PoS\",\"PoW\",\"PoW\",\"PoW\",\"PoS\",\"PoW\",\"PoW\",\"PoW/PoS\",\"PoW/PoS\",\"PoS\",\"PoW\",\"PoW\",\"PoW\",\"PoS\",\"PoS\",\"PoW and PoS\",\"PoW\",\"PoW\",\"PoW/PoS\",\"PoW\",\"PoW\",\"PoW\",\"PoW\",\"PoS\",\"POBh\",\"PoW + Hive\",\"PoW\",\"PoW\",\"PoW\",\"PoW/PoS\",\"PoA\",\"PoW/PoS\",\"PoW/PoS\",\"PoS\",\"PoS\",\"PoW\",\"PoW\",\"PoW\",\"PoW\",\"PoW/PoS\",\"PoW/PoS\",\"PoW/PoS\",\"PoW\",\"PoS\",\"PoW\",\"PoS\",\"PoS\",\"PoW/PoS\",\"DPoS\",\"PoW\",\"PoW/PoS\",\"PoS\",\"PoW\",\"PoS\",\"PoW/PoS\",\"PoW\",\"PoW\",\"PoS/PoW\",\"PoW\",\"PoS\",\"PoW\",\"PoW\",\"PoW\",\"PoW\",\"PoW/PoS\",\"PoS\",\"PoW\",\"PoW/PoS\",\"PoW\",\"PoW/PoS\",\"PoS\",\"HPoW\",\"PoS\",\"PoS\",\"PoS\",\"PoW\",\"PoW\",\"PoW\",\"PoW/PoS\",\"PoS\",\"PoW/PoS\",\"PoS\",\"PoW/PoS\",\"PoS\",\"PoW\",\"PoW/PoS\",\"PoW\",\"PoW\",\"PoW\",\"PoW\",\"PoS\",\"PoW/PoS\",\"PoS\",\"PoS\",\"PoW\",\"PoW/PoS\",\"PoS\",\"PoW\",\"PoW/PoS\",\"Zero-Knowledge Proof\",\"PoW\",\"DPOS\",\"PoW\",\"PoS\",\"PoW\",\"PoW\",\"Pos\",\"PoS\",\"PoW\",\"PoW/PoS\",\"PoW\",\"PoW\",\"PoS\",\"PoW\",\"PoW\",\"PoW/PoS\",\"PoW\",\"PoW/PoS\",\"PoW\",\"PoS\",\"PoW/PoS\",\"PoW\",\"PoS\",\"PoW/PoS\",\"PoW/PoS\",\"PoW/PoS\",\"PoW/PoS\",\"PoW\",\"PoW\",\"PoW\",\"PoW/PoS\",\"DPoS\",\"PoW/PoS\",\"PoW\",\"PoW/PoS\",\"PoW\",\"PoW/PoS\",\"PoW\",\"PoW/PoS\",\"PoS\",\"PoW/PoS\",\"PoW/PoS\",\"PoW\",\"PoW/PoS\",\"PoW/PoS\",\"PoW/PoS\",\"PoW\",\"PoW/PoS\",\"PoW\",\"PoW/PoS\",\"PoW\",\"PoW/PoS\",\"PoW/PoS\",\"PoS\",\"PoW\",\"PoW\",\"Proof of Trust\",\"PoW/PoS\",\"DPoS\",\"PoS\",\"PoW/PoS\",\"PoW/PoS\",\"PoW\",\"PoW/PoS\",\"PoW\",\"DPoS\",\"PoW\",\"DPoS\",\"PoS\",\"LPoS\",\"PoS\",\"DPoS\",\"PoS/LPoS\",\"DPoS\",\"PoW/PoS\",\"PoW\",\"PoW\",\"PoS\"],\"TotalCoinSupply\":[\"42\",\"532000000\",\"314159265359\",\"21000000\",\"0\",\"84000000\",\"22000000\",\"0\",\"210000000\",\"21000000\",\"3600570502\",\"21000000000\",\"22000000\",\"12500000\",\"21000000\",\"350000000\",\"20000000\",\"64000000\",\"16768584\",\"0\",\"2000000000\",\"384000000000\",\"169795588\",\"250000000\",\"100000000\",\"0\",\"247000000\",\"84000000\",\"48166000\",\"500000\",\"21000000 \",\"1000000\",\"13140000\",\"18000000\",\"40000000000\",\"4380000\",\"16555000000\",\"21000000000\",\"13500000000\",\"21000000 \",\"299792458\",\"32000000\",\"0\",\"0\",\"11235813\",\"336000000\",\"1420609614\",\"70000000\",\"72245700\",\"120000000\",\"0\",\"90600000000\",\"22000000\",\"21000000\",\"265420800\",\"20000000\",\"1350000\",\"100000000\",\"42000000\",\"200000000\",\"0\",\"10000000\",\"2419200000\",\"16180000\",\"0\",\"15000000000\",\"21000000\",\"337000000\",\"0\",\"3770000\",\"420000000\",\"98000000\",\"0\",\"21000000\",\"250000000\",\"51200000\",\"0\",\"1000\",\"888000000\",\"100000000\",\"47011968\",\"2300000000\",\"10000000\",\"42000000\",\"80000000\",\"250000\",\"0\",\"1600000000\",\"100000000\",\"23000000\",\"0\",\"84000000\",\"265420800\",\"5500000\",\"0\",\"45000000\",\"0\",\"1000000000\",\"184467440735\",\"10000000000\",\"2158812800\",\"500000000\",\"105120000\",\"68000000\",\"0\",\"1680000000\",\"0\",\"166386000\",\"12000000\",\"2628000\",\"500000000\",\"160000000\",\"0\",\"10000000\",\"1000000000\",\"1000000000\",\"20000000\",\"0\",\"0\",\"3371337\",\"20000000\",\"10000000000\",\"1840000000\",\"619478\",\"21000000\",\"92000000000\",\"0\",\"78000000\",\"33000000\",\"65789100\",\"53760000\",\"5060000\",\"21000000\",\"0\",\"210240000\",\"250000000\",\"100000000\",\"16906397\",\"50000000\",\"0\",\"1000000000\",\"26298000\",\"16000000\",\"21000000\",\"21000000\",\"210000000\",\"81962100\",\"22000000\",\"26550000000\",\"84000000\",\"10500000\",\"21626280000 \",\"0\",\"42000000\",\"221052632\",\"84000000\",\"30000000\",\"168351300\",\"24000000\",\"384000000\",\" 99000000000\",\"40000000\",\"2147483647\",\"20000000\",\"20000000\",\"25000000\",\"75000000\",\"222725000\",\"525000000\",\"90000000\",\"139000000\",\"616448\",\"33500000\",\"2000000000\",\"44333333\",\"100000000\",\"200000000\",\"25000000\",\"657000000\",\"200000000\",\"50000000\",\"90000000\",\"10000000\",\"21000000\",\"9736000\",\"3000000\",\"21000000\",\"1200000000\",\"0\",\"200000000\",\"0\",\"10638298\",\"3100000000\",\"30000000\",\"20000000000\",\"74000000\",\"0\",\"1500000000\",\"21400000\",\"39999898\",\"2500124\",\"100000000\",\"301000000\",\"7506000000\",\"26205539\",\"21000000\",\"125000000\",\"30000000\",\"10000000000\",\"500000000\",\"850000000\",\"3853326.77707314\",\"50000000\",\"38540000 \",\"42000000\",\"228000000\",\"20000000\",\"60000000\",\"20000000\",\"33000000\",\"76500000\",\"28000000\",\"650659833\",\"5000000\",\"21000000\",\"144000000\",\"32514916898\",\"13000000\",\"3315789\",\"15000000\",\"78835200\",\"2714286\",\"25000000\",\"9999999\",\"500000000\",\"21000000\",\"9354000\",\"20000000\",\"100000000000\",\"21933333\",\"185000000\",\"55000000\",\"110000000\",\"3360000\",\"14524851.4827\",\"1000000000\",\"17000000\",\"1000000000\",\"100000000 \",\"21000000\",\"34426423\",\"2232901\",\"100000000\",\"36900000\",\"110000000\",\"4000000000\",\"110290030\",\"100000000\",\"48252000\",\"400000000\",\"500000000\",\"21212121\",\"28600000\",\"1000000000\",\"75000000000\",\"40000000\",\"35520400\",\"2000000000\",\"2500000000\",\"30000000\",\"105000000\",\"90000000000\",\"200084200\",\"72000000\",\"100000000\",\"105000000\",\"50000000000\",\"0\",\"340282367\",\"30000000\",\"2000000000\",\"10000000\",\"100000000\",\"120000000\",\"100000000\",\"19276800\",\"30000000\",\" 75000000\",\"60000000\",\"18900000\",\"50000000000\",\"54000000\",\"18898187.6216583\",\"21000000\",\"200000000000\",\"5000000000\",\"137500000\",\"1100000000\",\"100000000\",\"21000000\",\"9507271\",\"17405891.19707116\",\"86712634466\",\"10500000000\",\"61599965\",\"0\",\"20000000\",\"84000000\",\"100000000\",\"100000000\",\"48252000\",\"4200000\",\"88888888\",\"91388946\",\"45000000000\",\"27000000\",\"21000000000\",\"400000000\",\"1800000000\",\"15733333\",\"27000000\",\"24000000\",\"21000000\",\"25000000000\",\"100000000\",\"1200000000\",\"60000000\",\"156306732.71\",\"21000000\",\"200000000\",\"100000000\",\"21000000\",\"14788275.991\",\"9000000000\",\"350000000\",\"45000000\",\"280000000\",\"31800000\",\"144000000\",\"500000000\",\"30000000000\",\"210000000\",\"660000000\",\"210000000\",\"85000000000\",\"12500000\",\"10000000000\",\"27716121\",\"20000000\",\"550000000\",\"999481516\",\"50000000000\",\"150000000\",\"4999999999\",\"50000000\",\" 90000000000\",\"19800000\",\"21000000\",\"120000000\",\"500000000\",\"64000000\",\"900000000\",\"4000000\",\"21000000\",\"23000000\",\"20166000\",\"23000000\",\"25000000\",\"1618033\",\"30000000\",\"1000000000000\",\"16600000\",\"232000000\",\"336000000\",\"10000000000\",\"100000000\",\"1100000000\",\"800000000\",\"5200000000\",\"840000000\",\"40000000\",\"18406979840\",\"500000000\",\"19340594\",\"252460800\",\"25000000\",\"60000000\",\"124000000\",\"1000000000\",\"6500000000\",\"1000000000\",\"21000000\",\"25000000\",\"50000000\",\"3000000\",\"5000000\",\"70000000\",\"500000000\",\"300000000\",\"21000000\",\"88000000\",\"30000000\",\"100000000\",\"100000000\",\"200000000\",\"80000000\",\"18400000\",\"45000000\",\"5121951220\",\"21000000\",\"26280000\",\"21000000\",\"18000000\",\"26000000\",\"10500000\",\"600000518\",\"150000000\",\"184000000000\",\"10200000000\",\"44000000\",\"168000000\",\"100000000\",\"1000000000\",\"84000000\",\"90000000\",\"92000000000\",\"650000000 \",\"100262205\",\"18081806 \",\"22075700\",\"21000000\",\"21000000\",\"82546564\",\"21000000\",\"5151000\",\"16880000000\",\"52500000\",\"100000000\",\"22105263\",\"1000000000\",\"1750000000\",\"88188888\",\"210000000\",\"184470000000\",\"55000000\",\"50000000\",\"260000000\",\"210000000\",\"2100000000\",\"366000000\",\"100000000\",\"25000000\",\"18000000000\",\"1000000000\",\"100000000\",\"1000000000\",\"7600000000\",\"50000000\",\"84000000\",\"21000000\",\"70000000000\",\"0\",\"8080000000\",\"54000000\",\"105120001.44\",\"25228800\",\"105000000\",\"21000000\",\"120000000\",\"21000000\",\"262800000\",\"19035999\",\"30886000\",\"13370000\",\"74800000000\",\"100000000\",\"19700000\",\"84000000\",\"500000000\",\"5000000000\",\"420000000\",\"64000000\",\"2100000\",\"168000000\",\"30000000\",\"1000000000\",\"35000000000\",\"98100000000\",\"0\",\"4000000000\",\"200000000\",\"7000000000\",\"54256119\",\"21000000\",\"0\",\"500000000\",\"1000000000\",\"10500000000\",\"190000000\",\"1000000000\",\"42000000\",\"15000000\",\"50000000000\",\"400000000\",\"105000000\",\"208000000\",\"160000000\",\"9000000\",\"5000000\",\"182000000\",\"16504333\",\"105000000\",\"159918400\",\"10008835635\",\"300000000\",\"60168145\",\"2800000\",\"120000\",\"2100000000\",\"0\",\"24487944\",\"0\",\"1000000000\",\"100000000\",\"8634140\",\"990000000000\",\"1000000000\",\"2000000000\",\"250000000\",\"1400222610\",\"21000000\",\"1000000\"],\"TotalCoinsMined\":{\"__ndarray__\":\"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\",\"dtype\":\"float64\",\"order\":\"little\",\"shape\":[532]},\"class\":{\"__ndarray__\":\"AAAAAAAAAAAAAAAAAQAAAAEAAAABAAAAAAAAAAEAAAABAAAAAQAAAAAAAAABAAAAAAAAAAAAAAABAAAAAAAAAAEAAAABAAAAAAAAAAAAAAABAAAAAQAAAAEAAAABAAAAAQAAAAAAAAABAAAAAQAAAAEAAAAAAAAAAQAAAAAAAAABAAAAAQAAAAAAAAAAAAAAAQAAAAEAAAABAAAAAQAAAAEAAAABAAAAAAAAAAAAAAABAAAAAQAAAAEAAAABAAAAAQAAAAAAAAAAAAAAAQAAAAAAAAABAAAAAQAAAAEAAAABAAAAAAAAAAEAAAABAAAAAAAAAAEAAAAAAAAAAAAAAAAAAAABAAAAAQAAAAEAAAAAAAAAAAAAAAAAAAAAAAAAAAAAAAEAAAABAAAAAQAAAAAAAAAAAAAAAQAAAAAAAAABAAAAAAAAAAAAAAABAAAAAQAAAAEAAAABAAAAAAAAAAAAAAABAAAAAAAAAAEAAAABAAAAAAAAAAAAAAABAAAAAAAAAAAAAAABAAAAAQAAAAAAAAAAAAAAAQAAAAAAAAAAAAAAAQAAAAAAAAABAAAAAAAAAAEAAAAAAAAAAQAAAAAAAAAAAAAAAQAAAAEAAAAAAAAAAQAAAAEAAAABAAAAAAAAAAEAAAABAAAAAQAAAAEAAAABAAAAAAAAAAAAAAABAAAAAQAAAAEAAAAAAAAAAQAAAAAAAAABAAAAAQAAAAAAAAABAAAAAAAAAAEAAAAAAAAAAAAAAAEAAAABAAAAAAAAAAEAAAABAAAAAAAAAAAAAAABAAAAAAAAAAEAAAAAAAAAAAAAAAAAAAABAAAAAQAAAAEAAAABAAAAAAAAAAAAAAAAAAAAAAAAAAAAAAABAAAAAQAAAAAAAAAAAAAAAAAAAAAAAAAAAAAAAQAAAAAAAAAAAAAAAAAAAAAAAAAAAAAAAQAAAAAAAAABAAAAAAAAAAAAAAABAAAAAAAAAAEAAAAAAAAAAAAAAAEAAAAAAAAAAQAAAAAAAAABAAAAAAAAAAEAAAAAAAAAAAAAAAAAAAAAAAAAAQAAAAAAAAAAAAAAAAAAAAAAAAAAAAAAAQAAAAEAAAAAAAAAAAAAAAEAAAABAAAAAAAAAAAAAAAAAAAAAAAAAAAAAAABAAAAAAAAAAAAAAAAAAAAAAAAAAAAAAAAAAAAAAAAAAAAAAABAAAAAAAAAAAAAAAAAAAAAAAAAAAAAAAAAAAAAQAAAAEAAAABAAAAAAAAAAAAAAAAAAAAAAAAAAEAAAAAAAAAAQAAAAAAAAAAAAAAAQAAAAAAAAABAAAAAQAAAAAAAAABAAAAAQAAAAAAAAABAAAAAAAAAAAAAAAAAAAAAQAAAAAAAAAAAAAAAQAAAAAAAAAAAAAAAAAAAAAAAAAAAAAAAAAAAAAAAAABAAAAAAAAAAEAAAAAAAAAAAAAAAAAAAAAAAAAAQAAAAAAAAABAAAAAAAAAAEAAAABAAAAAQAAAAEAAAAAAAAAAQAAAAAAAAAAAAAAAQAAAAAAAAABAAAAAQAAAAEAAAAAAAAAAQAAAAAAAAABAAAAAQAAAAEAAAAAAAAAAQAAAAAAAAABAAAAAAAAAAAAAAADAAAAAQAAAAAAAAABAAAAAQAAAAEAAAABAAAAAQAAAAAAAAAAAAAAAQAAAAAAAAAAAAAAAAAAAAEAAAAAAAAAAQAAAAAAAAABAAAAAAAAAAEAAAAAAAAAAAAAAAAAAAAAAAAAAQAAAAAAAAAAAAAAAQAAAAAAAAAAAAAAAAAAAAEAAAABAAAAAQAAAAEAAAAAAAAAAAAAAAAAAAAAAAAAAQAAAAAAAAABAAAAAQAAAAEAAAAAAAAAAAAAAAEAAAABAAAAAAAAAAAAAAABAAAAAAAAAAEAAAABAAAAAQAAAAAAAAABAAAAAQAAAAAAAAAAAAAAAAAAAAEAAAABAAAAAQAAAAAAAAAAAAAAAAAAAAEAAAABAAAAAAAAAAEAAAABAAAAAQAAAAEAAAAAAAAAAwAAAAMAAAABAAAAAQAAAAEAAAAAAAAAAwAAAAAAAAAAAAAAAAAAAAAAAAABAAAAAQAAAAEAAAABAAAAAAAAAAAAAAAAAAAAAQAAAAAAAAABAAAAAAAAAAAAAAAAAAAAAAAAAAEAAAAAAAAAAAAAAAEAAAAAAAAAAAAAAAEAAAABAAAAAAAAAAEAAAAAAAAAAQAAAAEAAAABAAAAAQAAAAAAAAAAAAAAAQAAAAAAAAABAAAAAAAAAAAAAAAAAAAAAAAAAAAAAAAAAAAAAQAAAAEAAAABAAAAAAAAAAAAAAAAAAAAAAAAAAAAAAAAAAAAAQAAAAAAAAABAAAAAQAAAAEAAAABAAAAAAAAAAAAAAAAAAAAAAAAAAEAAAAAAAAAAAAAAAEAAAAAAAAAAAAAAAEAAAADAAAAAQAAAAAAAAABAAAAAQAAAAAAAAAAAAAAAQAAAAAAAAABAAAAAQAAAAAAAAABAAAAAQAAAAAAAAABAAAAAAAAAAEAAAAAAAAAAAAAAAEAAAAAAAAAAAAAAAAAAAAAAAAAAAAAAAEAAAABAAAAAQAAAAAAAAAAAAAAAAAAAAEAAAAAAAAAAQAAAAAAAAABAAAAAAAAAAAAAAAAAAAAAAAAAAEAAAAAAAAAAAAAAAAAAAABAAAAAAAAAAEAAAAAAAAAAQAAAAAAAAAAAAAAAAAAAAEAAAABAAAAAAAAAAAAAAAAAAAAAAAAAAAAAAAAAAAAAQAAAAAAAAABAAAAAAAAAAEAAAAAAAAAAAAAAAMAAAAAAAAAAgAAAAAAAAAAAAAAAAAAAAEAAAABAAAAAAAAAA==\",\"dtype\":\"int32\",\"order\":\"little\",\"shape\":[532]}},\"selected\":{\"id\":\"1105\"},\"selection_policy\":{\"id\":\"1138\"}},\"id\":\"1104\",\"type\":\"ColumnDataSource\"},{\"attributes\":{},\"id\":\"1122\",\"type\":\"StringEditor\"},{\"attributes\":{\"columns\":[{\"id\":\"1108\"},{\"id\":\"1113\"},{\"id\":\"1118\"},{\"id\":\"1123\"},{\"id\":\"1128\"},{\"id\":\"1133\"}],\"height\":300,\"reorderable\":false,\"source\":{\"id\":\"1104\"},\"view\":{\"id\":\"1137\"},\"width\":700},\"id\":\"1136\",\"type\":\"DataTable\"},{\"attributes\":{\"editor\":{\"id\":\"1122\"},\"field\":\"TotalCoinSupply\",\"formatter\":{\"id\":\"1121\"},\"title\":\"TotalCoinSupply\"},\"id\":\"1123\",\"type\":\"TableColumn\"},{\"attributes\":{\"margin\":[5,5,5,5],\"name\":\"HSpacer01707\",\"sizing_mode\":\"stretch_width\"},\"id\":\"1103\",\"type\":\"Spacer\"},{\"attributes\":{},\"id\":\"1111\",\"type\":\"StringFormatter\"}],\"root_ids\":[\"1102\"]},\"title\":\"Bokeh Application\",\"version\":\"2.2.3\"}};\n",
       "    var render_items = [{\"docid\":\"68a1eadd-d10c-4fdd-9282-bce9e01de8c4\",\"root_ids\":[\"1102\"],\"roots\":{\"1102\":\"c5af0628-4cc4-40d1-9e7d-2f73d9f323ed\"}}];\n",
       "    root.Bokeh.embed.embed_items_notebook(docs_json, render_items);\n",
       "  }\n",
       "  if (root.Bokeh !== undefined && root.Bokeh.Panel !== undefined) {\n",
       "    embed_document(root);\n",
       "  } else {\n",
       "    var attempts = 0;\n",
       "    var timer = setInterval(function(root) {\n",
       "      if (root.Bokeh !== undefined && root.Bokeh.Panel !== undefined) {\n",
       "        clearInterval(timer);\n",
       "        embed_document(root);\n",
       "      } else if (document.readyState == \"complete\") {\n",
       "        attempts++;\n",
       "        if (attempts > 100) {\n",
       "          clearInterval(timer);\n",
       "          console.log(\"Bokeh: ERROR: Unable to run BokehJS code because BokehJS library is missing\");\n",
       "        }\n",
       "      }\n",
       "    }, 10, root)\n",
       "  }\n",
       "})(window);</script>"
      ],
      "text/plain": [
       ":Table   [CoinName,Algorithm,ProofType,TotalCoinSupply,TotalCoinsMined,class]"
      ]
     },
     "execution_count": 106,
     "metadata": {
      "application/vnd.holoviews_exec.v0+json": {
       "id": "1102"
      }
     },
     "output_type": "execute_result"
    }
   ],
   "source": [
    "# Create a table with tradable cryptocurrencies.\n",
    "clustered_df.hvplot.table(columns=['CoinName', 'Algorithm', 'ProofType', 'TotalCoinSupply', 'TotalCoinsMined', 'class'], sortable=True, selectable=True)"
   ]
  },
  {
   "cell_type": "code",
   "execution_count": 109,
   "metadata": {},
   "outputs": [
    {
     "name": "stdout",
     "output_type": "stream",
     "text": [
      "There are 532 tradable cryptocurrencies\n"
     ]
    }
   ],
   "source": [
    "# Print the total number of tradable cryptocurrencies.\n",
    "print(f'There are {clustered_df[\"CoinName\"].count()} tradable cryptocurrencies')"
   ]
  },
  {
   "cell_type": "code",
   "execution_count": 122,
   "metadata": {},
   "outputs": [],
   "source": [
    "# Scaling data to create the scatter plot with tradable cryptocurrencies.\n",
    "scaler = MinMaxScaler()\n",
    "data = clustered_df[['TotalCoinSupply', 'TotalCoinsMined']]\n",
    "scaled_data =scaler.fit_transform(data)"
   ]
  },
  {
   "cell_type": "code",
   "execution_count": 123,
   "metadata": {},
   "outputs": [
    {
     "data": {
      "text/html": [
       "<div>\n",
       "<style scoped>\n",
       "    .dataframe tbody tr th:only-of-type {\n",
       "        vertical-align: middle;\n",
       "    }\n",
       "\n",
       "    .dataframe tbody tr th {\n",
       "        vertical-align: top;\n",
       "    }\n",
       "\n",
       "    .dataframe thead th {\n",
       "        text-align: right;\n",
       "    }\n",
       "</style>\n",
       "<table border=\"1\" class=\"dataframe\">\n",
       "  <thead>\n",
       "    <tr style=\"text-align: right;\">\n",
       "      <th></th>\n",
       "      <th>TotalCoinSupply</th>\n",
       "      <th>TotalCoinsMined</th>\n",
       "      <th>CoinName</th>\n",
       "      <th>class</th>\n",
       "    </tr>\n",
       "  </thead>\n",
       "  <tbody>\n",
       "    <tr>\n",
       "      <th>42</th>\n",
       "      <td>4.200000e-11</td>\n",
       "      <td>0.000000</td>\n",
       "      <td>42 Coin</td>\n",
       "      <td>0</td>\n",
       "    </tr>\n",
       "    <tr>\n",
       "      <th>404</th>\n",
       "      <td>5.320000e-04</td>\n",
       "      <td>0.001066</td>\n",
       "      <td>404Coin</td>\n",
       "      <td>0</td>\n",
       "    </tr>\n",
       "    <tr>\n",
       "      <th>1337</th>\n",
       "      <td>3.141593e-01</td>\n",
       "      <td>0.029576</td>\n",
       "      <td>EliteCoin</td>\n",
       "      <td>0</td>\n",
       "    </tr>\n",
       "    <tr>\n",
       "      <th>BTC</th>\n",
       "      <td>2.100000e-05</td>\n",
       "      <td>0.000018</td>\n",
       "      <td>Bitcoin</td>\n",
       "      <td>1</td>\n",
       "    </tr>\n",
       "    <tr>\n",
       "      <th>ETH</th>\n",
       "      <td>0.000000e+00</td>\n",
       "      <td>0.000109</td>\n",
       "      <td>Ethereum</td>\n",
       "      <td>1</td>\n",
       "    </tr>\n",
       "    <tr>\n",
       "      <th>LTC</th>\n",
       "      <td>8.400000e-05</td>\n",
       "      <td>0.000064</td>\n",
       "      <td>Litecoin</td>\n",
       "      <td>1</td>\n",
       "    </tr>\n",
       "    <tr>\n",
       "      <th>DASH</th>\n",
       "      <td>2.200000e-05</td>\n",
       "      <td>0.000009</td>\n",
       "      <td>Dash</td>\n",
       "      <td>0</td>\n",
       "    </tr>\n",
       "    <tr>\n",
       "      <th>XMR</th>\n",
       "      <td>0.000000e+00</td>\n",
       "      <td>0.000017</td>\n",
       "      <td>Monero</td>\n",
       "      <td>1</td>\n",
       "    </tr>\n",
       "    <tr>\n",
       "      <th>ETC</th>\n",
       "      <td>2.100000e-04</td>\n",
       "      <td>0.000115</td>\n",
       "      <td>Ethereum Classic</td>\n",
       "      <td>1</td>\n",
       "    </tr>\n",
       "    <tr>\n",
       "      <th>ZEC</th>\n",
       "      <td>2.100000e-05</td>\n",
       "      <td>0.000007</td>\n",
       "      <td>ZCash</td>\n",
       "      <td>1</td>\n",
       "    </tr>\n",
       "  </tbody>\n",
       "</table>\n",
       "</div>"
      ],
      "text/plain": [
       "      TotalCoinSupply  TotalCoinsMined          CoinName  class\n",
       "42       4.200000e-11         0.000000           42 Coin      0\n",
       "404      5.320000e-04         0.001066           404Coin      0\n",
       "1337     3.141593e-01         0.029576         EliteCoin      0\n",
       "BTC      2.100000e-05         0.000018           Bitcoin      1\n",
       "ETH      0.000000e+00         0.000109          Ethereum      1\n",
       "LTC      8.400000e-05         0.000064          Litecoin      1\n",
       "DASH     2.200000e-05         0.000009              Dash      0\n",
       "XMR      0.000000e+00         0.000017            Monero      1\n",
       "ETC      2.100000e-04         0.000115  Ethereum Classic      1\n",
       "ZEC      2.100000e-05         0.000007             ZCash      1"
      ]
     },
     "execution_count": 123,
     "metadata": {},
     "output_type": "execute_result"
    }
   ],
   "source": [
    "# Create a new DataFrame that has the scaled data with the clustered_df DataFrame index.\n",
    "plot_df = pd.DataFrame(data = scaled_data, columns = ['TotalCoinSupply', 'TotalCoinsMined'], index = clustered_df.index)\n",
    "\n",
    "# Add the \"CoinName\" column from the clustered_df DataFrame to the new DataFrame.\n",
    "plot_df['CoinName'] = clustered_df['CoinName']\n",
    "\n",
    "# Add the \"Class\" column from the clustered_df DataFrame to the new DataFrame. \n",
    "plot_df['class'] = clustered_df['class']\n",
    "\n",
    "plot_df.head(10)"
   ]
  },
  {
   "cell_type": "code",
   "execution_count": 130,
   "metadata": {},
   "outputs": [
    {
     "data": {},
     "metadata": {},
     "output_type": "display_data"
    },
    {
     "data": {
      "application/vnd.holoviews_exec.v0+json": "",
      "text/html": [
       "<div id='2763'>\n",
       "\n",
       "\n",
       "\n",
       "\n",
       "\n",
       "  <div class=\"bk-root\" id=\"3a0ef66f-3f10-4cc2-8155-58fbd270191f\" data-root-id=\"2763\"></div>\n",
       "</div>\n",
       "<script type=\"application/javascript\">(function(root) {\n",
       "  function embed_document(root) {\n",
       "    var docs_json = {\"88511274-1cd9-4076-a9f2-11cfcb045a0c\":{\"roots\":{\"references\":[{\"attributes\":{\"data\":{\"CoinName\":[\"BitTorrent\"],\"TotalCoinSupply\":{\"__ndarray__\":\"rkfhehSu7z8=\",\"dtype\":\"float64\",\"order\":\"little\",\"shape\":[1]},\"TotalCoinsMined\":{\"__ndarray__\":\"AAAAAAAA8D8=\",\"dtype\":\"float64\",\"order\":\"little\",\"shape\":[1]},\"class\":[2]},\"selected\":{\"id\":\"2843\"},\"selection_policy\":{\"id\":\"2859\"}},\"id\":\"2842\",\"type\":\"ColumnDataSource\"},{\"attributes\":{\"source\":{\"id\":\"2863\"}},\"id\":\"2870\",\"type\":\"CDSView\"},{\"attributes\":{},\"id\":\"2806\",\"type\":\"Selection\"},{\"attributes\":{\"fill_alpha\":{\"value\":0.1},\"fill_color\":{\"value\":\"#1f77b3\"},\"line_alpha\":{\"value\":0.1},\"line_color\":{\"value\":\"#1f77b3\"},\"size\":{\"units\":\"screen\",\"value\":5.477225575051661},\"x\":{\"field\":\"TotalCoinsMined\"},\"y\":{\"field\":\"TotalCoinSupply\"}},\"id\":\"2809\",\"type\":\"Scatter\"},{\"attributes\":{\"label\":{\"value\":\"0\"},\"renderers\":[{\"id\":\"2811\"}]},\"id\":\"2822\",\"type\":\"LegendItem\"},{\"attributes\":{},\"id\":\"2838\",\"type\":\"UnionRenderers\"},{\"attributes\":{\"children\":[{\"id\":\"2764\"},{\"id\":\"2771\"},{\"id\":\"3012\"}],\"margin\":[0,0,0,0],\"name\":\"Row05784\",\"tags\":[\"embedded\"]},\"id\":\"2763\",\"type\":\"Row\"},{\"attributes\":{\"data_source\":{\"id\":\"2823\"},\"glyph\":{\"id\":\"2826\"},\"hover_glyph\":null,\"muted_glyph\":{\"id\":\"2828\"},\"nonselection_glyph\":{\"id\":\"2827\"},\"selection_glyph\":null,\"view\":{\"id\":\"2830\"}},\"id\":\"2829\",\"type\":\"GlyphRenderer\"},{\"attributes\":{},\"id\":\"2781\",\"type\":\"BasicTicker\"},{\"attributes\":{\"axis\":{\"id\":\"2784\"},\"dimension\":1,\"grid_line_color\":null,\"ticker\":null},\"id\":\"2787\",\"type\":\"Grid\"},{\"attributes\":{\"source\":{\"id\":\"2805\"}},\"id\":\"2812\",\"type\":\"CDSView\"},{\"attributes\":{\"fill_alpha\":{\"value\":0.2},\"fill_color\":{\"value\":\"#d62628\"},\"line_alpha\":{\"value\":0.2},\"line_color\":{\"value\":\"#d62628\"},\"size\":{\"units\":\"screen\",\"value\":5.477225575051661},\"x\":{\"field\":\"TotalCoinsMined\"},\"y\":{\"field\":\"TotalCoinSupply\"}},\"id\":\"2868\",\"type\":\"Scatter\"},{\"attributes\":{\"axis\":{\"id\":\"2780\"},\"grid_line_color\":null,\"ticker\":null},\"id\":\"2783\",\"type\":\"Grid\"},{\"attributes\":{\"data_source\":{\"id\":\"2842\"},\"glyph\":{\"id\":\"2845\"},\"hover_glyph\":null,\"muted_glyph\":{\"id\":\"2847\"},\"nonselection_glyph\":{\"id\":\"2846\"},\"selection_glyph\":null,\"view\":{\"id\":\"2849\"}},\"id\":\"2848\",\"type\":\"GlyphRenderer\"},{\"attributes\":{},\"id\":\"2824\",\"type\":\"Selection\"},{\"attributes\":{},\"id\":\"2864\",\"type\":\"Selection\"},{\"attributes\":{\"click_policy\":\"mute\",\"items\":[{\"id\":\"2822\"},{\"id\":\"2841\"},{\"id\":\"2862\"},{\"id\":\"2885\"}],\"location\":[0,0],\"title\":\"class\"},\"id\":\"2821\",\"type\":\"Legend\"},{\"attributes\":{\"margin\":[5,5,5,5],\"name\":\"HSpacer05788\",\"sizing_mode\":\"stretch_width\"},\"id\":\"2764\",\"type\":\"Spacer\"},{\"attributes\":{\"source\":{\"id\":\"2842\"}},\"id\":\"2849\",\"type\":\"CDSView\"},{\"attributes\":{\"fill_alpha\":{\"value\":0.1},\"fill_color\":{\"value\":\"#d62628\"},\"line_alpha\":{\"value\":0.1},\"line_color\":{\"value\":\"#d62628\"},\"size\":{\"units\":\"screen\",\"value\":5.477225575051661},\"x\":{\"field\":\"TotalCoinsMined\"},\"y\":{\"field\":\"TotalCoinSupply\"}},\"id\":\"2867\",\"type\":\"Scatter\"},{\"attributes\":{},\"id\":\"2776\",\"type\":\"LinearScale\"},{\"attributes\":{\"fill_alpha\":{\"value\":0.2},\"fill_color\":{\"value\":\"#2ba02b\"},\"line_alpha\":{\"value\":0.2},\"line_color\":{\"value\":\"#2ba02b\"},\"size\":{\"units\":\"screen\",\"value\":5.477225575051661},\"x\":{\"field\":\"TotalCoinsMined\"},\"y\":{\"field\":\"TotalCoinSupply\"}},\"id\":\"2847\",\"type\":\"Scatter\"},{\"attributes\":{},\"id\":\"2802\",\"type\":\"BasicTickFormatter\"},{\"attributes\":{},\"id\":\"2785\",\"type\":\"BasicTicker\"},{\"attributes\":{\"axis_label\":\"TotalCoinSupply\",\"bounds\":\"auto\",\"formatter\":{\"id\":\"2804\"},\"major_label_orientation\":\"horizontal\",\"ticker\":{\"id\":\"2785\"}},\"id\":\"2784\",\"type\":\"LinearAxis\"},{\"attributes\":{},\"id\":\"2882\",\"type\":\"UnionRenderers\"},{\"attributes\":{\"fill_color\":{\"value\":\"#2ba02b\"},\"line_color\":{\"value\":\"#2ba02b\"},\"size\":{\"units\":\"screen\",\"value\":5.477225575051661},\"x\":{\"field\":\"TotalCoinsMined\"},\"y\":{\"field\":\"TotalCoinSupply\"}},\"id\":\"2845\",\"type\":\"Scatter\"},{\"attributes\":{\"data_source\":{\"id\":\"2805\"},\"glyph\":{\"id\":\"2808\"},\"hover_glyph\":null,\"muted_glyph\":{\"id\":\"2810\"},\"nonselection_glyph\":{\"id\":\"2809\"},\"selection_glyph\":null,\"view\":{\"id\":\"2812\"}},\"id\":\"2811\",\"type\":\"GlyphRenderer\"},{\"attributes\":{\"fill_alpha\":{\"value\":0.2},\"fill_color\":{\"value\":\"#1f77b3\"},\"line_alpha\":{\"value\":0.2},\"line_color\":{\"value\":\"#1f77b3\"},\"size\":{\"units\":\"screen\",\"value\":5.477225575051661},\"x\":{\"field\":\"TotalCoinsMined\"},\"y\":{\"field\":\"TotalCoinSupply\"}},\"id\":\"2810\",\"type\":\"Scatter\"},{\"attributes\":{},\"id\":\"2843\",\"type\":\"Selection\"},{\"attributes\":{\"end\":1.042857142857143,\"reset_end\":1.042857142857143,\"reset_start\":-0.04285714285714286,\"start\":-0.04285714285714286,\"tags\":[[[\"TotalCoinsMined\",\"TotalCoinsMined\",null]]]},\"id\":\"2765\",\"type\":\"Range1d\"},{\"attributes\":{\"label\":{\"value\":\"1\"},\"renderers\":[{\"id\":\"2829\"}]},\"id\":\"2841\",\"type\":\"LegendItem\"},{\"attributes\":{\"data\":{\"CoinName\":[\"Vechain\",\"BiblePay\",\"LitecoinCash\",\"Poa Network\",\"Acute Angle Cloud\",\"Waves\"],\"TotalCoinSupply\":{\"__ndarray__\":\"+nQumcwytj+U9gZfmEx1P7x5qkNuhks/hFoo4ZaLMD/8qfHSTWJQPyxDHOviNho/\",\"dtype\":\"float64\",\"order\":\"little\",\"shape\":[6]},\"TotalCoinsMined\":{\"__ndarray__\":\"zaDgBxGurD+PWA2R2lNdP5CkxfJKIUU/nBkleI8SKz96Q0MFuIxQP/tFfmC/eho/\",\"dtype\":\"float64\",\"order\":\"little\",\"shape\":[6]},\"class\":[3,3,3,3,3,3]},\"selected\":{\"id\":\"2864\"},\"selection_policy\":{\"id\":\"2882\"}},\"id\":\"2863\",\"type\":\"ColumnDataSource\"},{\"attributes\":{\"source\":{\"id\":\"2823\"}},\"id\":\"2830\",\"type\":\"CDSView\"},{\"attributes\":{\"active_drag\":\"auto\",\"active_inspect\":\"auto\",\"active_multi\":null,\"active_scroll\":\"auto\",\"active_tap\":\"auto\",\"tools\":[{\"id\":\"2767\"},{\"id\":\"2788\"},{\"id\":\"2789\"},{\"id\":\"2790\"},{\"id\":\"2791\"},{\"id\":\"2792\"}]},\"id\":\"2794\",\"type\":\"Toolbar\"},{\"attributes\":{\"end\":1.1,\"reset_end\":1.1,\"reset_start\":-0.1,\"start\":-0.1,\"tags\":[[[\"TotalCoinSupply\",\"TotalCoinSupply\",null]]]},\"id\":\"2766\",\"type\":\"Range1d\"},{\"attributes\":{\"fill_color\":{\"value\":\"#1f77b3\"},\"line_color\":{\"value\":\"#1f77b3\"},\"size\":{\"units\":\"screen\",\"value\":5.477225575051661},\"x\":{\"field\":\"TotalCoinsMined\"},\"y\":{\"field\":\"TotalCoinSupply\"}},\"id\":\"2808\",\"type\":\"Scatter\"},{\"attributes\":{\"fill_color\":{\"value\":\"#ff7e0e\"},\"line_color\":{\"value\":\"#ff7e0e\"},\"size\":{\"units\":\"screen\",\"value\":5.477225575051661},\"x\":{\"field\":\"TotalCoinsMined\"},\"y\":{\"field\":\"TotalCoinSupply\"}},\"id\":\"2826\",\"type\":\"Scatter\"},{\"attributes\":{\"callback\":null,\"renderers\":[{\"id\":\"2811\"},{\"id\":\"2829\"},{\"id\":\"2848\"},{\"id\":\"2869\"}],\"tags\":[\"hv_created\"],\"tooltips\":[[\"class\",\"@{class}\"],[\"TotalCoinsMined\",\"@{TotalCoinsMined}\"],[\"TotalCoinSupply\",\"@{TotalCoinSupply}\"],[\"CoinName\",\"@{CoinName}\"]]},\"id\":\"2767\",\"type\":\"HoverTool\"},{\"attributes\":{},\"id\":\"2788\",\"type\":\"SaveTool\"},{\"attributes\":{\"bottom_units\":\"screen\",\"fill_alpha\":0.5,\"fill_color\":\"lightgrey\",\"left_units\":\"screen\",\"level\":\"overlay\",\"line_alpha\":1.0,\"line_color\":\"black\",\"line_dash\":[4,4],\"line_width\":2,\"right_units\":\"screen\",\"top_units\":\"screen\"},\"id\":\"2793\",\"type\":\"BoxAnnotation\"},{\"attributes\":{\"data\":{\"CoinName\":[\"Bitcoin\",\"Ethereum\",\"Litecoin\",\"Monero\",\"Ethereum Classic\",\"ZCash\",\"DigiByte\",\"ProsperCoin\",\"Spreadcoin\",\"Argentum\",\"MyriadCoin\",\"MoonCoin\",\"ZetaCoin\",\"SexCoin\",\"Quatloo\",\"QuarkCoin\",\"Riecoin\",\"Digitalcoin \",\"Catcoin\",\"CannaCoin\",\"CryptCoin\",\"Verge\",\"DevCoin\",\"EarthCoin\",\"E-Gulden\",\"Einsteinium\",\"Emerald\",\"Franko\",\"FeatherCoin\",\"GrandCoin\",\"GlobalCoin\",\"GoldCoin\",\"Infinite Coin\",\"IXcoin\",\"KrugerCoin\",\"LuckyCoin\",\"Litebar \",\"MegaCoin\",\"MediterraneanCoin\",\"MinCoin\",\"NobleCoin\",\"Namecoin\",\"NyanCoin\",\"RonPaulCoin\",\"StableCoin\",\"SmartCoin\",\"SysCoin\",\"TigerCoin\",\"TerraCoin\",\"UnbreakableCoin\",\"Unobtanium\",\"UroCoin\",\"ViaCoin\",\"Vertcoin\",\"WorldCoin\",\"JouleCoin\",\"ByteCoin\",\"DigitalNote \",\"MonaCoin\",\"Gulden\",\"PesetaCoin\",\"Wild Beast Coin\",\"Flo\",\"ArtByte\",\"Folding Coin\",\"Unitus\",\"CypherPunkCoin\",\"OmniCron\",\"GreenCoin\",\"Cryptonite\",\"MasterCoin\",\"SoonCoin\",\"1Credit\",\"MarsCoin \",\"Crypto\",\"Anarchists Prime\",\"BowsCoin\",\"Song Coin\",\"BitZeny\",\"Expanse\",\"Siacoin\",\"MindCoin\",\"I0coin\",\"Revolution VR\",\"HOdlcoin\",\"Gamecredits\",\"CarpeDiemCoin\",\"Adzcoin\",\"SoilCoin\",\"YoCoin\",\"SibCoin\",\"Francs\",\"BolivarCoin\",\"Omni\",\"PizzaCoin\",\"Komodo\",\"Karbo\",\"ZayedCoin\",\"Circuits of Value\",\"DopeCoin\",\"DollarCoin\",\"Shilling\",\"ZCoin\",\"Elementrem\",\"ZClassic\",\"KiloCoin\",\"ArtexCoin\",\"Kurrent\",\"Cannabis Industry Coin\",\"OsmiumCoin\",\"Bikercoins\",\"HexxCoin\",\"PacCoin\",\"Citadel\",\"BeaverCoin\",\"VaultCoin\",\"Zero\",\"Canada eCoin\",\"Zoin\",\"DubaiCoin\",\"EB3coin\",\"Coinonat\",\"BenjiRolls\",\"ILCoin\",\"EquiTrader\",\"Quantum Resistant Ledger\",\"Dynamic\",\"Nano\",\"ChanCoin\",\"Dinastycoin\",\"DigitalPrice\",\"Unify\",\"SocialCoin\",\"ArcticCoin\",\"DAS\",\"LeviarCoin\",\"Bitcore\",\"gCn Coin\",\"SmartCash\",\"Onix\",\"Bitcoin Cash\",\"Sojourn Coin\",\"NewYorkCoin\",\"FrazCoin\",\"Kronecoin\",\"AdCoin\",\"Linx\",\"Sumokoin\",\"BitcoinZ\",\"Elements\",\"VIVO Coin\",\"Bitcoin Gold\",\"Pirl\",\"eBoost\",\"Pura\",\"Innova\",\"Ellaism\",\"GoByte\",\"SHIELD\",\"UltraNote\",\"BitCoal\",\"DaxxCoin\",\"AC3\",\"Lethean\",\"PopularCoin\",\"Photon\",\"Sucre\",\"SparksPay\",\"GunCoin\",\"IrishCoin\",\"Pioneer Coin\",\"UnitedBitcoin\",\"Interzone\",\"TurtleCoin\",\"MUNcoin\",\"Niobio Cash\",\"ShareChain\",\"Travelflex\",\"KREDS\",\"BitFlip\",\"LottoCoin\",\"Crypto Improvement Fund\",\"Callisto Network\",\"BitTube\",\"Poseidon\",\"Aidos Kuneen\",\"Bitrolium\",\"Alpenschillling\",\"FuturoCoin\",\"Monero Classic\",\"Jumpcoin\",\"Infinex\",\"KEYCO\",\"GINcoin\",\"PlatinCoin\",\"Loki\",\"Newton Coin\",\"MassGrid\",\"PluraCoin\",\"Motion\",\"PlusOneCoin\",\"Axe\",\"HexCoin\",\"Webchain\",\"Ryo\",\"Urals Coin\",\"Qwertycoin\",\"Project Pai\",\"Azart\",\"Xchange\",\"CrypticCoin\",\"Actinium\",\"Bitcoin SV\",\"FREDEnergy\",\"Universal Molecule\",\"Lithium\",\"Exosis\",\"Block-Logic\",\"Beam\",\"Bithereum\",\"SLICE\",\"BLAST\",\"Bitcoin Rhodium\",\"GlobalToken\",\"SolarCoin\",\"UFO Coin\",\"BlakeCoin\",\"Crypto Escudo\",\"Crown Coin\",\"SmileyCoin\",\"Groestlcoin\",\"Bata\",\"Pakcoin\",\"JoinCoin\",\"Vollar\",\"Reality Clash\",\"Beldex\",\"Horizen\"],\"TotalCoinSupply\":{\"__ndarray__\":\"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\",\"dtype\":\"float64\",\"order\":\"little\",\"shape\":[238]},\"TotalCoinsMined\":{\"__ndarray__\":\"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\",\"dtype\":\"float64\",\"order\":\"little\",\"shape\":[238]},\"class\":[1,1,1,1,1,1,1,1,1,1,1,1,1,1,1,1,1,1,1,1,1,1,1,1,1,1,1,1,1,1,1,1,1,1,1,1,1,1,1,1,1,1,1,1,1,1,1,1,1,1,1,1,1,1,1,1,1,1,1,1,1,1,1,1,1,1,1,1,1,1,1,1,1,1,1,1,1,1,1,1,1,1,1,1,1,1,1,1,1,1,1,1,1,1,1,1,1,1,1,1,1,1,1,1,1,1,1,1,1,1,1,1,1,1,1,1,1,1,1,1,1,1,1,1,1,1,1,1,1,1,1,1,1,1,1,1,1,1,1,1,1,1,1,1,1,1,1,1,1,1,1,1,1,1,1,1,1,1,1,1,1,1,1,1,1,1,1,1,1,1,1,1,1,1,1,1,1,1,1,1,1,1,1,1,1,1,1,1,1,1,1,1,1,1,1,1,1,1,1,1,1,1,1,1,1,1,1,1,1,1,1,1,1,1,1,1,1,1,1,1,1,1,1,1,1,1,1,1,1,1,1,1,1,1,1,1,1,1]},\"selected\":{\"id\":\"2824\"},\"selection_policy\":{\"id\":\"2838\"}},\"id\":\"2823\",\"type\":\"ColumnDataSource\"},{\"attributes\":{\"fill_alpha\":{\"value\":0.1},\"fill_color\":{\"value\":\"#2ba02b\"},\"line_alpha\":{\"value\":0.1},\"line_color\":{\"value\":\"#2ba02b\"},\"size\":{\"units\":\"screen\",\"value\":5.477225575051661},\"x\":{\"field\":\"TotalCoinsMined\"},\"y\":{\"field\":\"TotalCoinSupply\"}},\"id\":\"2846\",\"type\":\"Scatter\"},{\"attributes\":{},\"id\":\"2789\",\"type\":\"PanTool\"},{\"attributes\":{},\"id\":\"2859\",\"type\":\"UnionRenderers\"},{\"attributes\":{\"margin\":[5,5,5,5],\"name\":\"HSpacer05789\",\"sizing_mode\":\"stretch_width\"},\"id\":\"3012\",\"type\":\"Spacer\"},{\"attributes\":{},\"id\":\"2790\",\"type\":\"WheelZoomTool\"},{\"attributes\":{},\"id\":\"2804\",\"type\":\"BasicTickFormatter\"},{\"attributes\":{\"axis_label\":\"TotalCoinsMined\",\"bounds\":\"auto\",\"formatter\":{\"id\":\"2802\"},\"major_label_orientation\":\"horizontal\",\"ticker\":{\"id\":\"2781\"}},\"id\":\"2780\",\"type\":\"LinearAxis\"},{\"attributes\":{\"data\":{\"CoinName\":[\"42 Coin\",\"404Coin\",\"EliteCoin\",\"Dash\",\"Bitshares\",\"BitcoinDark\",\"PayCoin\",\"KoboCoin\",\"Aurora Coin\",\"BlueCoin\",\"EnergyCoin\",\"BitBar\",\"CryptoBullion\",\"CasinoCoin\",\"Diamond\",\"Exclusive Coin\",\"FlutterCoin\",\"HoboNickels\",\"HyperStake\",\"IOCoin\",\"MaxCoin\",\"MintCoin\",\"MazaCoin\",\"Nautilus Coin\",\"NavCoin\",\"OpalCoin\",\"Orbitcoin\",\"PotCoin\",\"PhoenixCoin\",\"Reddcoin\",\"SuperCoin\",\"SyncCoin\",\"TeslaCoin\",\"TittieCoin\",\"TorCoin\",\"UnitaryStatus Dollar\",\"UltraCoin\",\"VeriCoin\",\"X11 Coin\",\"Crypti\",\"StealthCoin\",\"ZCC Coin\",\"BurstCoin\",\"StorjCoin\",\"Neutron\",\"FairCoin\",\"RubyCoin\",\"Kore\",\"Dnotes\",\"8BIT Coin\",\"Sativa Coin\",\"Ucoin\",\"Vtorrent\",\"IslaCoin\",\"Nexus\",\"Droidz\",\"Squall Coin\",\"Diggits\",\"Paycon\",\"Emercoin\",\"EverGreenCoin\",\"Decred\",\"EDRCoin\",\"Hitcoin\",\"DubaiCoin\",\"PWR Coin\",\"BillaryCoin\",\"GPU Coin\",\"EuropeCoin\",\"ZeitCoin\",\"SwingCoin\",\"SafeExchangeCoin\",\"Nebuchadnezzar\",\"Ratecoin\",\"Revenu\",\"Clockcoin\",\"VIP Tokens\",\"BitSend\",\"Let it Ride\",\"PutinCoin\",\"iBankCoin\",\"Frankywillcoin\",\"MudraCoin\",\"Lutetium Coin\",\"GoldBlocks\",\"CarterCoin\",\"BitTokens\",\"MustangCoin\",\"ZoneCoin\",\"RootCoin\",\"BitCurrency\",\"Swiscoin\",\"BuzzCoin\",\"Opair\",\"PesoBit\",\"Halloween Coin\",\"CoffeeCoin\",\"RoyalCoin\",\"GanjaCoin V2\",\"TeamUP\",\"LanaCoin\",\"ARK\",\"InsaneCoin\",\"EmberCoin\",\"XenixCoin\",\"FreeCoin\",\"PLNCoin\",\"AquariusCoin\",\"Creatio\",\"Eternity\",\"Eurocoin\",\"BitcoinFast\",\"Stakenet\",\"BitConnect Coin\",\"MoneyCoin\",\"Enigma\",\"Russiacoin\",\"PandaCoin\",\"GameUnits\",\"GAKHcoin\",\"Allsafe\",\"LiteCreed\",\"Klingon Empire Darsek\",\"Internet of People\",\"KushCoin\",\"Printerium\",\"Impeach\",\"Zilbercoin\",\"FirstCoin\",\"FindCoin\",\"OpenChat\",\"RenosCoin\",\"VirtacoinPlus\",\"TajCoin\",\"Impact\",\"Atmos\",\"HappyCoin\",\"MacronCoin\",\"Condensate\",\"Independent Money System\",\"ArgusCoin\",\"LomoCoin\",\"ProCurrency\",\"GoldReserve\",\"GrowthCoin\",\"Phreak\",\"Degas Coin\",\"HTML5 Coin\",\"Ultimate Secure Cash\",\"QTUM\",\"Espers\",\"Denarius\",\"Virta Unique Coin\",\"Bitcoin Planet\",\"BritCoin\",\"Linda\",\"DeepOnion\",\"Signatum\",\"Cream\",\"Monoeci\",\"Draftcoin\",\"Stakecoin\",\"CoinonatX\",\"Ethereum Dark\",\"Obsidian\",\"Cardano\",\"Regalcoin\",\"TrezarCoin\",\"TerraNovaCoin\",\"Rupee\",\"WomenCoin\",\"Theresa May Coin\",\"NamoCoin\",\"LUXCoin\",\"Xios\",\"Bitcloud 2.0\",\"KekCoin\",\"BlackholeCoin\",\"Infinity Economics\",\"Magnet\",\"Lamden Tau\",\"Electra\",\"Bitcoin Diamond\",\"Cash & Back Coin\",\"Bulwark\",\"Kalkulus\",\"GermanCoin\",\"LiteCoin Ultra\",\"PhantomX\",\"Digiwage\",\"Trollcoin\",\"Litecoin Plus\",\"Monkey Project\",\"TokenPay\",\"1717 Masonic Commemorative Token\",\"My Big Coin\",\"Unified Society USDEX\",\"Tokyo Coin\",\"Stipend\",\"Pushi\",\"Ellerium\",\"Velox\",\"Ontology\",\"Bitspace\",\"Briacoin\",\"Ignition\",\"MedicCoin\",\"Bitcoin Green\",\"Deviant Coin\",\"Abjcoin\",\"Semux\",\"Carebit\",\"Zealium\",\"Proton\",\"iDealCash\",\"Bitcoin Incognito\",\"HollyWoodCoin\",\"Swisscoin\",\"Xt3ch\",\"TheVig\",\"EmaratCoin\",\"Dekado\",\"Lynx\",\"Poseidon Quark\",\"BitcoinWSpectrum\",\"Muse\",\"Trivechain\",\"Dystem\",\"Giant\",\"Peony Coin\",\"Absolute Coin\",\"Vitae\",\"TPCash\",\"ARENON\",\"EUNO\",\"MMOCoin\",\"Ketan\",\"XDNA\",\"PAXEX\",\"ThunderStake\",\"Kcash\",\"Bettex coin\",\"BitMoney\",\"Junson Ming Chan Coin\",\"HerbCoin\",\"PirateCash\",\"Oduwa\",\"Galilel\",\"Crypto Sports\",\"Credit\",\"Dash Platinum\",\"Nasdacoin\",\"Beetle Coin\",\"Titan Coin\",\"Award\",\"Insane Coin\",\"ALAX\",\"LiteDoge\",\"TruckCoin\",\"OrangeCoin\",\"BitstarCoin\",\"NeosCoin\",\"HyperCoin\",\"PinkCoin\",\"AudioCoin\",\"IncaKoin\",\"Piggy Coin\",\"Genstake\",\"XiaoMiCoin\",\"CapriCoin\",\" ClubCoin\",\"Radium\",\"Creditbit \",\"OKCash\",\"Lisk\",\"HiCoin\",\"WhiteCoin\",\"FriendshipCoin\",\"Triangles Coin\",\"EOS\",\"Oxycoin\",\"TigerCash\",\"Particl\",\"Nxt\",\"ZEPHYR\",\"Gapcoin\",\"BitcoinPlus\"],\"TotalCoinSupply\":{\"__ndarray__\":\"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\",\"dtype\":\"float64\",\"order\":\"little\",\"shape\":[287]},\"TotalCoinsMined\":{\"__ndarray__\":\"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\",\"dtype\":\"float64\",\"order\":\"little\",\"shape\":[287]},\"class\":[0,0,0,0,0,0,0,0,0,0,0,0,0,0,0,0,0,0,0,0,0,0,0,0,0,0,0,0,0,0,0,0,0,0,0,0,0,0,0,0,0,0,0,0,0,0,0,0,0,0,0,0,0,0,0,0,0,0,0,0,0,0,0,0,0,0,0,0,0,0,0,0,0,0,0,0,0,0,0,0,0,0,0,0,0,0,0,0,0,0,0,0,0,0,0,0,0,0,0,0,0,0,0,0,0,0,0,0,0,0,0,0,0,0,0,0,0,0,0,0,0,0,0,0,0,0,0,0,0,0,0,0,0,0,0,0,0,0,0,0,0,0,0,0,0,0,0,0,0,0,0,0,0,0,0,0,0,0,0,0,0,0,0,0,0,0,0,0,0,0,0,0,0,0,0,0,0,0,0,0,0,0,0,0,0,0,0,0,0,0,0,0,0,0,0,0,0,0,0,0,0,0,0,0,0,0,0,0,0,0,0,0,0,0,0,0,0,0,0,0,0,0,0,0,0,0,0,0,0,0,0,0,0,0,0,0,0,0,0,0,0,0,0,0,0,0,0,0,0,0,0,0,0,0,0,0,0,0,0,0,0,0,0,0,0,0,0,0,0,0,0,0,0,0,0,0,0,0,0,0,0,0,0,0,0,0,0]},\"selected\":{\"id\":\"2806\"},\"selection_policy\":{\"id\":\"2818\"}},\"id\":\"2805\",\"type\":\"ColumnDataSource\"},{\"attributes\":{\"overlay\":{\"id\":\"2793\"}},\"id\":\"2791\",\"type\":\"BoxZoomTool\"},{\"attributes\":{\"label\":{\"value\":\"3\"},\"renderers\":[{\"id\":\"2869\"}]},\"id\":\"2885\",\"type\":\"LegendItem\"},{\"attributes\":{},\"id\":\"2778\",\"type\":\"LinearScale\"},{\"attributes\":{\"fill_alpha\":{\"value\":0.2},\"fill_color\":{\"value\":\"#ff7e0e\"},\"line_alpha\":{\"value\":0.2},\"line_color\":{\"value\":\"#ff7e0e\"},\"size\":{\"units\":\"screen\",\"value\":5.477225575051661},\"x\":{\"field\":\"TotalCoinsMined\"},\"y\":{\"field\":\"TotalCoinSupply\"}},\"id\":\"2828\",\"type\":\"Scatter\"},{\"attributes\":{\"fill_color\":{\"value\":\"#d62628\"},\"line_color\":{\"value\":\"#d62628\"},\"size\":{\"units\":\"screen\",\"value\":5.477225575051661},\"x\":{\"field\":\"TotalCoinsMined\"},\"y\":{\"field\":\"TotalCoinSupply\"}},\"id\":\"2866\",\"type\":\"Scatter\"},{\"attributes\":{\"below\":[{\"id\":\"2780\"}],\"center\":[{\"id\":\"2783\"},{\"id\":\"2787\"}],\"left\":[{\"id\":\"2784\"}],\"margin\":[5,5,5,5],\"min_border_bottom\":10,\"min_border_left\":10,\"min_border_right\":10,\"min_border_top\":10,\"plot_height\":300,\"plot_width\":700,\"renderers\":[{\"id\":\"2811\"},{\"id\":\"2829\"},{\"id\":\"2848\"},{\"id\":\"2869\"}],\"right\":[{\"id\":\"2821\"}],\"sizing_mode\":\"fixed\",\"title\":{\"id\":\"2772\"},\"toolbar\":{\"id\":\"2794\"},\"x_range\":{\"id\":\"2765\"},\"x_scale\":{\"id\":\"2776\"},\"y_range\":{\"id\":\"2766\"},\"y_scale\":{\"id\":\"2778\"}},\"id\":\"2771\",\"subtype\":\"Figure\",\"type\":\"Plot\"},{\"attributes\":{\"label\":{\"value\":\"2\"},\"renderers\":[{\"id\":\"2848\"}]},\"id\":\"2862\",\"type\":\"LegendItem\"},{\"attributes\":{\"text\":\"\",\"text_color\":{\"value\":\"black\"},\"text_font_size\":{\"value\":\"12pt\"}},\"id\":\"2772\",\"type\":\"Title\"},{\"attributes\":{\"fill_alpha\":{\"value\":0.1},\"fill_color\":{\"value\":\"#ff7e0e\"},\"line_alpha\":{\"value\":0.1},\"line_color\":{\"value\":\"#ff7e0e\"},\"size\":{\"units\":\"screen\",\"value\":5.477225575051661},\"x\":{\"field\":\"TotalCoinsMined\"},\"y\":{\"field\":\"TotalCoinSupply\"}},\"id\":\"2827\",\"type\":\"Scatter\"},{\"attributes\":{},\"id\":\"2792\",\"type\":\"ResetTool\"},{\"attributes\":{\"data_source\":{\"id\":\"2863\"},\"glyph\":{\"id\":\"2866\"},\"hover_glyph\":null,\"muted_glyph\":{\"id\":\"2868\"},\"nonselection_glyph\":{\"id\":\"2867\"},\"selection_glyph\":null,\"view\":{\"id\":\"2870\"}},\"id\":\"2869\",\"type\":\"GlyphRenderer\"},{\"attributes\":{},\"id\":\"2818\",\"type\":\"UnionRenderers\"}],\"root_ids\":[\"2763\"]},\"title\":\"Bokeh Application\",\"version\":\"2.2.3\"}};\n",
       "    var render_items = [{\"docid\":\"88511274-1cd9-4076-a9f2-11cfcb045a0c\",\"root_ids\":[\"2763\"],\"roots\":{\"2763\":\"3a0ef66f-3f10-4cc2-8155-58fbd270191f\"}}];\n",
       "    root.Bokeh.embed.embed_items_notebook(docs_json, render_items);\n",
       "  }\n",
       "  if (root.Bokeh !== undefined && root.Bokeh.Panel !== undefined) {\n",
       "    embed_document(root);\n",
       "  } else {\n",
       "    var attempts = 0;\n",
       "    var timer = setInterval(function(root) {\n",
       "      if (root.Bokeh !== undefined && root.Bokeh.Panel !== undefined) {\n",
       "        clearInterval(timer);\n",
       "        embed_document(root);\n",
       "      } else if (document.readyState == \"complete\") {\n",
       "        attempts++;\n",
       "        if (attempts > 100) {\n",
       "          clearInterval(timer);\n",
       "          console.log(\"Bokeh: ERROR: Unable to run BokehJS code because BokehJS library is missing\");\n",
       "        }\n",
       "      }\n",
       "    }, 10, root)\n",
       "  }\n",
       "})(window);</script>"
      ],
      "text/plain": [
       ":NdOverlay   [class]\n",
       "   :Scatter   [TotalCoinsMined]   (TotalCoinSupply,CoinName)"
      ]
     },
     "execution_count": 130,
     "metadata": {
      "application/vnd.holoviews_exec.v0+json": {
       "id": "2763"
      }
     },
     "output_type": "execute_result"
    }
   ],
   "source": [
    "# Create a hvplot.scatter plot using x=\"TotalCoinsMined\" and y=\"TotalCoinSupply\".\n",
    "plot_df.hvplot.scatter(x=\"TotalCoinsMined\", y=\"TotalCoinSupply\",by=\"class\", hover_cols=\"CoinName\")\n"
   ]
  },
  {
   "cell_type": "code",
   "execution_count": null,
   "metadata": {},
   "outputs": [],
   "source": []
  }
 ],
 "metadata": {
  "file_extension": ".py",
  "kernelspec": {
   "display_name": "mlenv",
   "language": "python",
   "name": "mlenv"
  },
  "language_info": {
   "codemirror_mode": {
    "name": "ipython",
    "version": 3
   },
   "file_extension": ".py",
   "mimetype": "text/x-python",
   "name": "python",
   "nbconvert_exporter": "python",
   "pygments_lexer": "ipython3",
   "version": "3.7.9"
  },
  "latex_envs": {
   "LaTeX_envs_menu_present": true,
   "autoclose": false,
   "autocomplete": true,
   "bibliofile": "biblio.bib",
   "cite_by": "apalike",
   "current_citInitial": 1,
   "eqLabelWithNumbers": true,
   "eqNumInitial": 1,
   "hotkeys": {
    "equation": "Ctrl-E",
    "itemize": "Ctrl-I"
   },
   "labels_anchors": false,
   "latex_user_defs": false,
   "report_style_numbering": false,
   "user_envs_cfg": false
  },
  "mimetype": "text/x-python",
  "name": "python",
  "npconvert_exporter": "python",
  "pygments_lexer": "ipython3",
  "version": 3
 },
 "nbformat": 4,
 "nbformat_minor": 2
}
